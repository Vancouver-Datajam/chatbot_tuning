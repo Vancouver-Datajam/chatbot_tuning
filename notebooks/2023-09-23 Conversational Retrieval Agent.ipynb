{
 "cells": [
  {
   "attachments": {},
   "cell_type": "markdown",
   "metadata": {},
   "source": [
    "# Title\n",
    "[]()"
   ]
  },
  {
   "cell_type": "code",
   "execution_count": 23,
   "metadata": {},
   "outputs": [],
   "source": [
    "import os\n",
    "\n",
    "# documents\n",
    "from langchain.document_loaders import DirectoryLoader\n",
    "from langchain.document_loaders import TextLoader\n",
    "from langchain.document_loaders.csv_loader import CSVLoader\n",
    "\n",
    "from langchain.embeddings.openai import OpenAIEmbeddings\n",
    "# from langchain.vectorstores import Chroma\n",
    "from langchain.text_splitter import CharacterTextSplitter\n",
    "from langchain.llms import OpenAI\n",
    "from langchain.chains import ConversationalRetrievalChain\n",
    "from langchain.vectorstores import FAISS\n",
    "from langchain.agents.agent_toolkits import create_retriever_tool\n",
    "\n",
    "# Creating the Agent\n",
    "from langchain.agents.agent_toolkits import create_conversational_retrieval_agent\n",
    "from langchain.chat_models import ChatOpenAI\n",
    "\n",
    "# Create memory \n",
    "from langchain.memory import ConversationBufferMemory\n",
    "\n",
    "# from langchain.prompts import PromptTemplate\n",
    "from langchain.agents.openai_functions_agent.base import OpenAIFunctionsAgent\n",
    "from langchain.schema.messages import SystemMessage\n",
    "from langchain.prompts import MessagesPlaceholder\n",
    "\n",
    "from langchain.agents import AgentExecutor\n",
    "from langchain.agents.openai_functions_agent.agent_token_buffer_memory import AgentTokenBufferMemory"
   ]
  },
  {
   "cell_type": "code",
   "execution_count": 8,
   "metadata": {},
   "outputs": [],
   "source": [
    "# UPDATE THESE PARAMETERS AS NEEDED\n",
    "directory='../data/' # This is the directory containing the CSV/text files.\n",
    "\n",
    "# Initialize Dictionaries\n",
    "tool_dict = dict()\n",
    "embeddings_dict = dict()\n",
    "db_dict = dict()\n",
    "retriever_dict = dict()\n",
    "vector_dict = dict()\n",
    "description_dict = dict()\n",
    "answer_dict=dict()\n",
    "conversation_dict = dict()\n",
    "doc_dict = dict()\n",
    "queries_dict = dict()\n",
    "\n",
    "def create_documents(directory='../data/', glob='**/[!.]*', show_progress=True, loader_cls=CSVLoader):\n",
    "    loader = DirectoryLoader(\n",
    "        directory, glob=glob, show_progress=show_progress,\n",
    "        loader_cls=loader_cls)\n",
    "\n",
    "    documents = loader.load()\n",
    "    print(f'Number of files: {len(documents)}')\n",
    "    return documents\n",
    "\n",
    "def create_retriever(documents, site_key, vector_dict=vector_dict, text_splitter=None):\n",
    "    \"\"\"\n",
    "    Parameters:\n",
    "        - text_splitter (optional): a text splitter object. If None, the documents are not split. \n",
    "    \"\"\"\n",
    "    embeddings_dict[site_key] = OpenAIEmbeddings()\n",
    "    if text_splitter is None: # object type is the same (class 'langchain.schema.document.Document') whether or not the documents are split\n",
    "        texts = documents\n",
    "    else:\n",
    "        texts = text_splitter.split_documents(documents)\n",
    "\n",
    "    vector_dict[site_key] = FAISS.from_documents(texts, embeddings_dict[site_key])\n",
    "    retriever_dict[site_key] = vector_dict[site_key].as_retriever()\n",
    "    return retriever_dict\n",
    "\n",
    "def create_tools_list(retriever_dict, description_dict):\n",
    "    \"\"\"\n",
    "    https://api.python.langchain.com/en/latest/agents/langchain.agents.agent_toolkits.conversational_retrieval.tool.create_retriever_tool.html?highlight=create_retriever_tool#langchain.agents.agent_toolkits.conversational_retrieval.tool.create_retriever_tool\n",
    "    \"\"\"\n",
    "    tools_list = []\n",
    "    for site_key, retriever in retriever_dict.items():\n",
    "        tool_name = f'search_{site_key}'\n",
    "        tool = create_retriever_tool(retriever_dict[site_key], tool_name, description_dict[site_key])\n",
    "        tools_list.append(tool)\n",
    "    return tools_list"
   ]
  },
  {
   "cell_type": "code",
   "execution_count": 16,
   "metadata": {},
   "outputs": [
    {
     "name": "stderr",
     "output_type": "stream",
     "text": [
      "100%|██████████| 1/1 [00:00<?, ?it/s]"
     ]
    },
    {
     "name": "stderr",
     "output_type": "stream",
     "text": [
      "\n"
     ]
    },
    {
     "name": "stdout",
     "output_type": "stream",
     "text": [
      "Number of files: 162\n"
     ]
    },
    {
     "data": {
      "text/plain": [
       "[Document(page_content='Conclusion: Accepted\\nLocation: Curbside collection, Multi-family collection, Recycle BC depots\\nCategory: Paper\\nItem: Newspapers, inserts and flyers\\nSource: https://recyclebc.ca/what-can-i-recycle-2/', metadata={'source': '..\\\\data\\\\Datajam_2023___Fine_Tuning_ChatBot_CSV_-_Recycle_BC_1.csv', 'row': 0}),\n",
       " Document(page_content='Conclusion: Accepted\\nLocation: Curbside collection, Multi-family collection, Recycle BC depots\\nCategory: Paper\\nItem: Magazines and catalogues\\nSource: https://recyclebc.ca/what-can-i-recycle-2/', metadata={'source': '..\\\\data\\\\Datajam_2023___Fine_Tuning_ChatBot_CSV_-_Recycle_BC_1.csv', 'row': 1}),\n",
       " Document(page_content='Conclusion: Accepted\\nLocation: Curbside collection, Multi-family collection, Recycle BC depots\\nCategory: Paper\\nItem: Telephone books and other directories\\nSource: https://recyclebc.ca/what-can-i-recycle-2/', metadata={'source': '..\\\\data\\\\Datajam_2023___Fine_Tuning_ChatBot_CSV_-_Recycle_BC_1.csv', 'row': 2}),\n",
       " Document(page_content='Conclusion: Accepted\\nLocation: Curbside collection, Multi-family collection, Recycle BC depots\\nCategory: Paper\\nItem: Writing and home office paper, paper envelopes, and notepads\\nSource: https://recyclebc.ca/what-can-i-recycle-2/', metadata={'source': '..\\\\data\\\\Datajam_2023___Fine_Tuning_ChatBot_CSV_-_Recycle_BC_1.csv', 'row': 3}),\n",
       " Document(page_content='Conclusion: Accepted\\nLocation: Curbside collection, Multi-family collection, Recycle BC depots\\nCategory: Paper\\nItem: Paper gift wrap and greeting cards\\nSource: https://recyclebc.ca/what-can-i-recycle-2/', metadata={'source': '..\\\\data\\\\Datajam_2023___Fine_Tuning_ChatBot_CSV_-_Recycle_BC_1.csv', 'row': 4}),\n",
       " Document(page_content='Conclusion: Accepted\\nLocation: Curbside collection, Multi-family collection, Recycle BC depots\\nCategory: Paper\\nItem: Single-use paper party décor (e.g., paper pennants, paper globes and ornaments, etc.)\\nSource: https://recyclebc.ca/what-can-i-recycle-2/', metadata={'source': '..\\\\data\\\\Datajam_2023___Fine_Tuning_ChatBot_CSV_-_Recycle_BC_1.csv', 'row': 5}),\n",
       " Document(page_content='Conclusion: Accepted\\nLocation: Curbside collection, Multi-family collection, Recycle BC depots\\nCategory: Paper\\nItem: Shredded paper (set shredded paper out for collection in a paper bag or small box and place in your paper collection container)\\nSource: https://recyclebc.ca/what-can-i-recycle-2/', metadata={'source': '..\\\\data\\\\Datajam_2023___Fine_Tuning_ChatBot_CSV_-_Recycle_BC_1.csv', 'row': 6}),\n",
       " Document(page_content='Conclusion: Not Accepted\\nLocation: \\nCategory: Paper\\nItem: Hardcover or paperback books (donate or sell)\\nSource: https://recyclebc.ca/what-can-i-recycle-2/', metadata={'source': '..\\\\data\\\\Datajam_2023___Fine_Tuning_ChatBot_CSV_-_Recycle_BC_1.csv', 'row': 7}),\n",
       " Document(page_content='Conclusion: Not Accepted\\nLocation: \\nCategory: Paper\\nItem: Paper towels, napkins, tissues\\nSource: https://recyclebc.ca/what-can-i-recycle-2/', metadata={'source': '..\\\\data\\\\Datajam_2023___Fine_Tuning_ChatBot_CSV_-_Recycle_BC_1.csv', 'row': 8}),\n",
       " Document(page_content='Conclusion: Not Accepted\\nLocation: \\nCategory: Paper\\nItem: Non-paper gift wrap and foil gift wrap\\nSource: https://recyclebc.ca/what-can-i-recycle-2/', metadata={'source': '..\\\\data\\\\Datajam_2023___Fine_Tuning_ChatBot_CSV_-_Recycle_BC_1.csv', 'row': 9}),\n",
       " Document(page_content='Conclusion: Not Accepted\\nLocation: \\nCategory: Paper\\nItem: Padded envelopes\\nSource: https://recyclebc.ca/what-can-i-recycle-2/', metadata={'source': '..\\\\data\\\\Datajam_2023___Fine_Tuning_ChatBot_CSV_-_Recycle_BC_1.csv', 'row': 10}),\n",
       " Document(page_content='Conclusion: Not Accepted\\nLocation: \\nCategory: Paper\\nItem: Ribbons or bows\\nSource: https://recyclebc.ca/what-can-i-recycle-2/', metadata={'source': '..\\\\data\\\\Datajam_2023___Fine_Tuning_ChatBot_CSV_-_Recycle_BC_1.csv', 'row': 11}),\n",
       " Document(page_content='Conclusion: Not Accepted\\nLocation: \\nCategory: Paper\\nItem: Musical greeting cards with batteries (contact the Recycling Council of BC for battery and e-waste recycling options)\\nSource: https://recyclebc.ca/what-can-i-recycle-2/', metadata={'source': '..\\\\data\\\\Datajam_2023___Fine_Tuning_ChatBot_CSV_-_Recycle_BC_1.csv', 'row': 12}),\n",
       " Document(page_content='Conclusion: Not Accepted\\nLocation: \\nCategory: Paper\\nItem: Rubber bands\\nSource: https://recyclebc.ca/what-can-i-recycle-2/', metadata={'source': '..\\\\data\\\\Datajam_2023___Fine_Tuning_ChatBot_CSV_-_Recycle_BC_1.csv', 'row': 13}),\n",
       " Document(page_content='Conclusion: Not Accepted\\nLocation: \\nCategory: Paper\\nItem: Plastic bags used to cover newspapers/flyers (recycle at a Recycle BC depot)\\nSource: https://recyclebc.ca/what-can-i-recycle-2/', metadata={'source': '..\\\\data\\\\Datajam_2023___Fine_Tuning_ChatBot_CSV_-_Recycle_BC_1.csv', 'row': 14}),\n",
       " Document(page_content='Conclusion: Accepted\\nLocation: Curbside collection, Multi-family collection, Recycle BC depots\\nCategory: Paper Packaging and Cardboard\\nItem: Corrugated cardboard boxes used for shipping, grocery and liquor store boxes, pizza boxes, moving boxes and Banker’s boxes\\nSource: https://recyclebc.ca/what-can-i-recycle-2/', metadata={'source': '..\\\\data\\\\Datajam_2023___Fine_Tuning_ChatBot_CSV_-_Recycle_BC_1.csv', 'row': 15}),\n",
       " Document(page_content='Conclusion: Accepted\\nLocation: Curbside collection, Multi-family collection, Recycle BC depots\\nCategory: Paper Packaging and Cardboard\\nItem: Cardboard and boxboard boxes used for cereal, shoes, tissues, pizza, frozen entrees, desserts, detergent, etc.\\nSource: https://recyclebc.ca/what-can-i-recycle-2/', metadata={'source': '..\\\\data\\\\Datajam_2023___Fine_Tuning_ChatBot_CSV_-_Recycle_BC_1.csv', 'row': 16}),\n",
       " Document(page_content='Conclusion: Accepted\\nLocation: Curbside collection, Multi-family collection, Recycle BC depots\\nCategory: Paper Packaging and Cardboard\\nItem: Cardboard packaging for cannabis product\\nSource: https://recyclebc.ca/what-can-i-recycle-2/', metadata={'source': '..\\\\data\\\\Datajam_2023___Fine_Tuning_ChatBot_CSV_-_Recycle_BC_1.csv', 'row': 17}),\n",
       " Document(page_content='Conclusion: Accepted\\nLocation: Curbside collection, Multi-family collection, Recycle BC depots\\nCategory: Paper Packaging and Cardboard\\nItem: Carrier trays for bulk bottled water, soft drinks, cans, food, etc.\\nSource: https://recyclebc.ca/what-can-i-recycle-2/', metadata={'source': '..\\\\data\\\\Datajam_2023___Fine_Tuning_ChatBot_CSV_-_Recycle_BC_1.csv', 'row': 18}),\n",
       " Document(page_content='Conclusion: Accepted\\nLocation: Curbside collection, Multi-family collection, Recycle BC depots\\nCategory: Paper Packaging and Cardboard\\nItem: Cores for paper towels and toilet tissue\\nSource: https://recyclebc.ca/what-can-i-recycle-2/', metadata={'source': '..\\\\data\\\\Datajam_2023___Fine_Tuning_ChatBot_CSV_-_Recycle_BC_1.csv', 'row': 19}),\n",
       " Document(page_content='Conclusion: Accepted\\nLocation: Curbside collection, Multi-family collection, Recycle BC depots\\nCategory: Paper Packaging and Cardboard\\nItem: Molded boxboard packaging for egg cartons, take-out beverage trays, paper-based plant pots\\nSource: https://recyclebc.ca/what-can-i-recycle-2/', metadata={'source': '..\\\\data\\\\Datajam_2023___Fine_Tuning_ChatBot_CSV_-_Recycle_BC_1.csv', 'row': 20}),\n",
       " Document(page_content='Conclusion: Accepted\\nLocation: Curbside collection, Multi-family collection, Recycle BC depots\\nCategory: Paper Packaging and Cardboard\\nItem: Paper gift bags and boxes\\nSource: https://recyclebc.ca/what-can-i-recycle-2/', metadata={'source': '..\\\\data\\\\Datajam_2023___Fine_Tuning_ChatBot_CSV_-_Recycle_BC_1.csv', 'row': 21}),\n",
       " Document(page_content='Conclusion: Accepted\\nLocation: Curbside collection, Multi-family collection, Recycle BC depots\\nCategory: Paper Packaging and Cardboard\\nItem: Paper bags (also called Kraft paper) and envelopes\\nSource: https://recyclebc.ca/what-can-i-recycle-2/', metadata={'source': '..\\\\data\\\\Datajam_2023___Fine_Tuning_ChatBot_CSV_-_Recycle_BC_1.csv', 'row': 22}),\n",
       " Document(page_content='Conclusion: Accepted\\nLocation: Curbside collection, Multi-family collection, Recycle BC depots\\nCategory: Paper Packaging and Cardboard\\nItem: Multi-layered paper bags for flour, sugar, etc.\\nSource: https://recyclebc.ca/what-can-i-recycle-2/', metadata={'source': '..\\\\data\\\\Datajam_2023___Fine_Tuning_ChatBot_CSV_-_Recycle_BC_1.csv', 'row': 23}),\n",
       " Document(page_content='Conclusion: Accepted\\nLocation: Curbside collection, Multi-family collection, Recycle BC depots\\nCategory: Paper Packaging and Cardboard\\nItem: Compressed paper hangers included with clothing\\nSource: https://recyclebc.ca/what-can-i-recycle-2/', metadata={'source': '..\\\\data\\\\Datajam_2023___Fine_Tuning_ChatBot_CSV_-_Recycle_BC_1.csv', 'row': 24}),\n",
       " Document(page_content='Conclusion: Not Accepted\\nLocation: \\nCategory: Paper Packaging and Cardboard\\nItem: Cardboard boxes with wax coating, such as empty boxes, made available for residents to transport their groceries home\\nSource: https://recyclebc.ca/what-can-i-recycle-2/', metadata={'source': '..\\\\data\\\\Datajam_2023___Fine_Tuning_ChatBot_CSV_-_Recycle_BC_1.csv', 'row': 25}),\n",
       " Document(page_content='Conclusion: Not Accepted\\nLocation: \\nCategory: Paper Packaging and Cardboard\\nItem: Paper bags with multiple layers that include a foil layer\\nSource: https://recyclebc.ca/what-can-i-recycle-2/', metadata={'source': '..\\\\data\\\\Datajam_2023___Fine_Tuning_ChatBot_CSV_-_Recycle_BC_1.csv', 'row': 26}),\n",
       " Document(page_content='Conclusion: Not Accepted\\nLocation: \\nCategory: Paper Packaging and Cardboard\\nItem: Paper bags with a plastic layer\\nSource: https://recyclebc.ca/what-can-i-recycle-2/', metadata={'source': '..\\\\data\\\\Datajam_2023___Fine_Tuning_ChatBot_CSV_-_Recycle_BC_1.csv', 'row': 27}),\n",
       " Document(page_content='Conclusion: Not Accepted\\nLocation: \\nCategory: Paper Packaging and Cardboard\\nItem: Paper towels, napkins (include with green waste, if applicable)\\nSource: https://recyclebc.ca/what-can-i-recycle-2/', metadata={'source': '..\\\\data\\\\Datajam_2023___Fine_Tuning_ChatBot_CSV_-_Recycle_BC_1.csv', 'row': 28}),\n",
       " Document(page_content='Conclusion: Not Accepted\\nLocation: \\nCategory: Paper Packaging and Cardboard\\nItem: Tissues\\nSource: https://recyclebc.ca/what-can-i-recycle-2/', metadata={'source': '..\\\\data\\\\Datajam_2023___Fine_Tuning_ChatBot_CSV_-_Recycle_BC_1.csv', 'row': 29}),\n",
       " Document(page_content='Conclusion: Not Accepted\\nLocation: \\nCategory: Paper Packaging and Cardboard\\nItem: Padded envelopes with plastic or bubble layer\\nSource: https://recyclebc.ca/what-can-i-recycle-2/', metadata={'source': '..\\\\data\\\\Datajam_2023___Fine_Tuning_ChatBot_CSV_-_Recycle_BC_1.csv', 'row': 30}),\n",
       " Document(page_content='Conclusion: Accepted\\nLocation: Curbside collection, Multi-family collection, Recycle BC depots\\nCategory: Plastic Containers\\nItem: Plastic jugs with screw tops used for cooking oil, laundry detergent and fabric softener, cleaning solutions, cleaning products, body care products, windshield washer fluid, etc.\\nSource: https://recyclebc.ca/what-can-i-recycle-2/', metadata={'source': '..\\\\data\\\\Datajam_2023___Fine_Tuning_ChatBot_CSV_-_Recycle_BC_1.csv', 'row': 31}),\n",
       " Document(page_content='Conclusion: Accepted\\nLocation: Curbside collection, Multi-family collection, Recycle BC depots\\nCategory: Plastic Containers\\nItem: Plastic bottles with screw caps, spray pump, or pull-up tops for food, dish soap, mouthwash, shampoos, conditioners and other personal care products, pills and vitamins, laundry products, etc.\\nSource: https://recyclebc.ca/what-can-i-recycle-2/', metadata={'source': '..\\\\data\\\\Datajam_2023___Fine_Tuning_ChatBot_CSV_-_Recycle_BC_1.csv', 'row': 32}),\n",
       " Document(page_content='Conclusion: Accepted\\nLocation: Curbside collection, Multi-family collection, Recycle BC depots\\nCategory: Plastic Containers\\nItem: Plastic jars with wide mouths and screw-top lids for peanut butter, jam, nuts, condiments, vitamins and supplements, personal care products, etc.\\nSource: https://recyclebc.ca/what-can-i-recycle-2/', metadata={'source': '..\\\\data\\\\Datajam_2023___Fine_Tuning_ChatBot_CSV_-_Recycle_BC_1.csv', 'row': 33}),\n",
       " Document(page_content='Conclusion: Accepted\\nLocation: Curbside collection, Multi-family collection, Recycle BC depots\\nCategory: Plastic Containers\\nItem: Plastic packaging for cannabis product\\nSource: https://recyclebc.ca/what-can-i-recycle-2/', metadata={'source': '..\\\\data\\\\Datajam_2023___Fine_Tuning_ChatBot_CSV_-_Recycle_BC_1.csv', 'row': 34}),\n",
       " Document(page_content='Conclusion: Accepted\\nLocation: Curbside collection, Multi-family collection, Recycle BC depots\\nCategory: Plastic Containers\\nItem: Plastic clamshells with hinged or click-closed tops for baked goods, fruit, produce, eggs, etc.\\nSource: https://recyclebc.ca/what-can-i-recycle-2/', metadata={'source': '..\\\\data\\\\Datajam_2023___Fine_Tuning_ChatBot_CSV_-_Recycle_BC_1.csv', 'row': 35}),\n",
       " Document(page_content='Conclusion: Accepted\\nLocation: Curbside collection, Multi-family collection, Recycle BC depots\\nCategory: Plastic Containers\\nItem: Plastic black-bottom trays and clear tops for deli chicken, single-serve meals, prepared foods, baked goods\\nSource: https://recyclebc.ca/what-can-i-recycle-2/', metadata={'source': '..\\\\data\\\\Datajam_2023___Fine_Tuning_ChatBot_CSV_-_Recycle_BC_1.csv', 'row': 36}),\n",
       " Document(page_content='Conclusion: Accepted\\nLocation: Curbside collection, Multi-family collection, Recycle BC depots\\nCategory: Plastic Containers\\nItem: Plastic tubs and lids for food such as margarine and spreads, dairy products such as yogurt, cottage cheese, sour cream, ice cream, etc.\\nSource: https://recyclebc.ca/what-can-i-recycle-2/', metadata={'source': '..\\\\data\\\\Datajam_2023___Fine_Tuning_ChatBot_CSV_-_Recycle_BC_1.csv', 'row': 37}),\n",
       " Document(page_content='Conclusion: Accepted\\nLocation: Curbside collection, Multi-family collection, Recycle BC depots\\nCategory: Plastic Containers\\nItem: Plastic cold drink cups with lids for take-out beverages\\nSource: https://recyclebc.ca/what-can-i-recycle-2/', metadata={'source': '..\\\\data\\\\Datajam_2023___Fine_Tuning_ChatBot_CSV_-_Recycle_BC_1.csv', 'row': 38}),\n",
       " Document(page_content='Conclusion: Accepted\\nLocation: Curbside collection, Multi-family collection, Recycle BC depots\\nCategory: Plastic Containers\\nItem: Plastic garden pots and trays for bedding plants, seedlings, vegetable plants, etc.\\nSource: https://recyclebc.ca/what-can-i-recycle-2/', metadata={'source': '..\\\\data\\\\Datajam_2023___Fine_Tuning_ChatBot_CSV_-_Recycle_BC_1.csv', 'row': 39}),\n",
       " Document(page_content='Conclusion: Accepted\\nLocation: Curbside collection, Multi-family collection, Recycle BC depots\\nCategory: Plastic Containers\\nItem: Plastic pails less than 25L for laundry detergent, ice cream, pet food, etc.\\nSource: https://recyclebc.ca/what-can-i-recycle-2/', metadata={'source': '..\\\\data\\\\Datajam_2023___Fine_Tuning_ChatBot_CSV_-_Recycle_BC_1.csv', 'row': 40}),\n",
       " Document(page_content='Conclusion: Accepted\\nLocation: Curbside collection, Multi-family collection, Recycle BC depots\\nCategory: Plastic Containers\\nItem: Microwavable bowls and cups\\nSource: https://recyclebc.ca/what-can-i-recycle-2/', metadata={'source': '..\\\\data\\\\Datajam_2023___Fine_Tuning_ChatBot_CSV_-_Recycle_BC_1.csv', 'row': 41}),\n",
       " Document(page_content='Conclusion: Accepted\\nLocation: Curbside collection, Multi-family collection, Recycle BC depots\\nCategory: Plastic Containers\\nItem: Empty single-use coffee and tea pods; remove lids and do not include lids with recycling\\nSource: https://recyclebc.ca/what-can-i-recycle-2/', metadata={'source': '..\\\\data\\\\Datajam_2023___Fine_Tuning_ChatBot_CSV_-_Recycle_BC_1.csv', 'row': 42}),\n",
       " Document(page_content='Conclusion: Accepted\\nLocation: Curbside collection, Multi-family collection, Recycle BC depots\\nCategory: Plastic Containers\\nItem: Rigid plastic packaging for toys, toothbrushes, batteries, etc.; remove paper backing and recycle separately\\nSource: https://recyclebc.ca/what-can-i-recycle-2/', metadata={'source': '..\\\\data\\\\Datajam_2023___Fine_Tuning_ChatBot_CSV_-_Recycle_BC_1.csv', 'row': 43}),\n",
       " Document(page_content='Conclusion: Accepted\\nLocation: Curbside collection, Multi-family collection, Recycle BC depots\\nCategory: Plastic Containers\\nItem: Plastic straws\\nSource: https://recyclebc.ca/what-can-i-recycle-2/', metadata={'source': '..\\\\data\\\\Datajam_2023___Fine_Tuning_ChatBot_CSV_-_Recycle_BC_1.csv', 'row': 44}),\n",
       " Document(page_content='Conclusion: Accepted\\nLocation: Curbside collection, Multi-family collection, Recycle BC depots\\nCategory: Plastic Containers\\nItem: Plastic stir sticks\\nSource: https://recyclebc.ca/what-can-i-recycle-2/', metadata={'source': '..\\\\data\\\\Datajam_2023___Fine_Tuning_ChatBot_CSV_-_Recycle_BC_1.csv', 'row': 45}),\n",
       " Document(page_content='Conclusion: Accepted\\nLocation: Curbside collection, Multi-family collection, Recycle BC depots\\nCategory: Plastic Containers\\nItem: Plastic utensils\\nSource: https://recyclebc.ca/what-can-i-recycle-2/', metadata={'source': '..\\\\data\\\\Datajam_2023___Fine_Tuning_ChatBot_CSV_-_Recycle_BC_1.csv', 'row': 46}),\n",
       " Document(page_content='Conclusion: Accepted\\nLocation: Curbside collection, Multi-family collection, Recycle BC depots\\nCategory: Plastic Containers\\nItem: Plastic plates, cups, and bowls\\nSource: https://recyclebc.ca/what-can-i-recycle-2/', metadata={'source': '..\\\\data\\\\Datajam_2023___Fine_Tuning_ChatBot_CSV_-_Recycle_BC_1.csv', 'row': 47}),\n",
       " Document(page_content='Conclusion: Accepted\\nLocation: Curbside collection, Multi-family collection, Recycle BC depots\\nCategory: Plastic Containers\\nItem: Non-durable plastic food containers\\nSource: https://recyclebc.ca/what-can-i-recycle-2/', metadata={'source': '..\\\\data\\\\Datajam_2023___Fine_Tuning_ChatBot_CSV_-_Recycle_BC_1.csv', 'row': 48}),\n",
       " Document(page_content='Conclusion: Accepted\\nLocation: Curbside collection, Multi-family collection, Recycle BC depots\\nCategory: Plastic Containers\\nItem: Rigid plastic gift bags or boxes\\nSource: https://recyclebc.ca/what-can-i-recycle-2/', metadata={'source': '..\\\\data\\\\Datajam_2023___Fine_Tuning_ChatBot_CSV_-_Recycle_BC_1.csv', 'row': 49}),\n",
       " Document(page_content='Conclusion: Accepted\\nLocation: Curbside collection, Multi-family collection, Recycle BC depots\\nCategory: Plastic Containers\\nItem: Disposable plastic hangers included with clothing\\nSource: https://recyclebc.ca/what-can-i-recycle-2/', metadata={'source': '..\\\\data\\\\Datajam_2023___Fine_Tuning_ChatBot_CSV_-_Recycle_BC_1.csv', 'row': 50}),\n",
       " Document(page_content='Conclusion: Accepted\\nLocation: Curbside collection, Multi-family collection, Recycle BC depots\\nCategory: Plastic Containers\\nItem: Plastic tape dispensers\\nSource: https://recyclebc.ca/what-can-i-recycle-2/', metadata={'source': '..\\\\data\\\\Datajam_2023___Fine_Tuning_ChatBot_CSV_-_Recycle_BC_1.csv', 'row': 51}),\n",
       " Document(page_content='Conclusion: Accepted\\nLocation: Curbside collection, Multi-family collection, Recycle BC depots\\nCategory: Plastic Containers\\nItem: Plastic dental floss containers\\nSource: https://recyclebc.ca/what-can-i-recycle-2/', metadata={'source': '..\\\\data\\\\Datajam_2023___Fine_Tuning_ChatBot_CSV_-_Recycle_BC_1.csv', 'row': 52}),\n",
       " Document(page_content='Conclusion: Not Accepted\\nLocation: \\nCategory: Plastic Containers\\nItem: Containers for motor oil, vehicle lubricant or antifreeze products (call the RCBC Hotline 1-800-667-4321 or check Recyclepedia)\\nSource: https://recyclebc.ca/what-can-i-recycle-2/', metadata={'source': '..\\\\data\\\\Datajam_2023___Fine_Tuning_ChatBot_CSV_-_Recycle_BC_1.csv', 'row': 53}),\n",
       " Document(page_content='Conclusion: Not Accepted\\nLocation: \\nCategory: Plastic Containers\\nItem: Packaging labelled biodegradable or compostable, or oxo-degradable\\nSource: https://recyclebc.ca/what-can-i-recycle-2/', metadata={'source': '..\\\\data\\\\Datajam_2023___Fine_Tuning_ChatBot_CSV_-_Recycle_BC_1.csv', 'row': 54}),\n",
       " Document(page_content='Conclusion: Not Accepted\\nLocation: \\nCategory: Plastic Containers\\nItem: Items that are not packaging like\\nSource: https://recyclebc.ca/what-can-i-recycle-2/', metadata={'source': '..\\\\data\\\\Datajam_2023___Fine_Tuning_ChatBot_CSV_-_Recycle_BC_1.csv', 'row': 55}),\n",
       " Document(page_content='Conclusion: Not Accepted\\nLocation: \\nCategory: Plastic Containers\\nItem: Long-term storage containers such as heavy-duty plastic boxes or totes\\nSource: https://recyclebc.ca/what-can-i-recycle-2/', metadata={'source': '..\\\\data\\\\Datajam_2023___Fine_Tuning_ChatBot_CSV_-_Recycle_BC_1.csv', 'row': 56}),\n",
       " Document(page_content='Conclusion: Not Accepted\\nLocation: \\nCategory: Plastic Containers\\nItem: Durable hangers: wire, sturdy plastic, metal, wood\\nSource: https://recyclebc.ca/what-can-i-recycle-2/', metadata={'source': '..\\\\data\\\\Datajam_2023___Fine_Tuning_ChatBot_CSV_-_Recycle_BC_1.csv', 'row': 57}),\n",
       " Document(page_content='Conclusion: Not Accepted\\nLocation: \\nCategory: Plastic Containers\\nItem: Tool boxes or power tool cases\\nSource: https://recyclebc.ca/what-can-i-recycle-2/', metadata={'source': '..\\\\data\\\\Datajam_2023___Fine_Tuning_ChatBot_CSV_-_Recycle_BC_1.csv', 'row': 58}),\n",
       " Document(page_content='Conclusion: Not Accepted\\nLocation: \\nCategory: Plastic Containers\\nItem: Liquid-absorbing pads, e.g., in trays of meat, poultry, fish, etc.\\nSource: https://recyclebc.ca/what-can-i-recycle-2/', metadata={'source': '..\\\\data\\\\Datajam_2023___Fine_Tuning_ChatBot_CSV_-_Recycle_BC_1.csv', 'row': 59}),\n",
       " Document(page_content='Conclusion: Not Accepted\\nLocation: \\nCategory: Plastic Containers\\nItem: Plastic wrap\\nSource: https://recyclebc.ca/what-can-i-recycle-2/', metadata={'source': '..\\\\data\\\\Datajam_2023___Fine_Tuning_ChatBot_CSV_-_Recycle_BC_1.csv', 'row': 60}),\n",
       " Document(page_content='Conclusion: Not Accepted\\nLocation: \\nCategory: Plastic Containers\\nItem: Plastic blister packs e.g. plastic/foil protective packaging for chewing gum and pills\\nSource: https://recyclebc.ca/what-can-i-recycle-2/', metadata={'source': '..\\\\data\\\\Datajam_2023___Fine_Tuning_ChatBot_CSV_-_Recycle_BC_1.csv', 'row': 61}),\n",
       " Document(page_content='Conclusion: Not Accepted\\nLocation: \\nCategory: Plastic Containers\\nItem: Ceramic plant pots\\nSource: https://recyclebc.ca/what-can-i-recycle-2/', metadata={'source': '..\\\\data\\\\Datajam_2023___Fine_Tuning_ChatBot_CSV_-_Recycle_BC_1.csv', 'row': 62}),\n",
       " Document(page_content='Conclusion: Not Accepted\\nLocation: \\nCategory: Plastic Containers\\nItem: Lawn edging, tarps, plastic furniture or toys\\nSource: https://recyclebc.ca/what-can-i-recycle-2/', metadata={'source': '..\\\\data\\\\Datajam_2023___Fine_Tuning_ChatBot_CSV_-_Recycle_BC_1.csv', 'row': 63}),\n",
       " Document(page_content='Conclusion: Not Accepted\\nLocation: \\nCategory: Plastic Containers\\nItem: Garden hoses\\nSource: https://recyclebc.ca/what-can-i-recycle-2/', metadata={'source': '..\\\\data\\\\Datajam_2023___Fine_Tuning_ChatBot_CSV_-_Recycle_BC_1.csv', 'row': 64}),\n",
       " Document(page_content='Conclusion: Not Accepted\\nLocation: \\nCategory: Plastic Containers\\nItem: Plastic string or rope\\nSource: https://recyclebc.ca/what-can-i-recycle-2/', metadata={'source': '..\\\\data\\\\Datajam_2023___Fine_Tuning_ChatBot_CSV_-_Recycle_BC_1.csv', 'row': 65}),\n",
       " Document(page_content='Conclusion: Not Accepted\\nLocation: \\nCategory: Plastic Containers\\nItem: Plastic paint cans (call the RCBC Hotline 1-800-667-4321 or check Recyclepedia)\\nSource: https://recyclebc.ca/what-can-i-recycle-2/', metadata={'source': '..\\\\data\\\\Datajam_2023___Fine_Tuning_ChatBot_CSV_-_Recycle_BC_1.csv', 'row': 66}),\n",
       " Document(page_content='Conclusion: Not Accepted\\nLocation: \\nCategory: Plastic Containers\\nItem: Pails larger than 25L\\nSource: https://recyclebc.ca/what-can-i-recycle-2/', metadata={'source': '..\\\\data\\\\Datajam_2023___Fine_Tuning_ChatBot_CSV_-_Recycle_BC_1.csv', 'row': 67}),\n",
       " Document(page_content='Conclusion: Not Accepted\\nLocation: \\nCategory: Plastic Containers\\nItem: Pails for lubricants and oils (call the RCBC Hotline 1-800-667-4321 or check Recyclepedia)\\nSource: https://recyclebc.ca/what-can-i-recycle-2/', metadata={'source': '..\\\\data\\\\Datajam_2023___Fine_Tuning_ChatBot_CSV_-_Recycle_BC_1.csv', 'row': 68}),\n",
       " Document(page_content='Conclusion: Not Accepted\\nLocation: \\nCategory: Plastic Containers\\nItem: Microwavable bowls with metal rims\\nSource: https://recyclebc.ca/what-can-i-recycle-2/', metadata={'source': '..\\\\data\\\\Datajam_2023___Fine_Tuning_ChatBot_CSV_-_Recycle_BC_1.csv', 'row': 69}),\n",
       " Document(page_content='Conclusion: Not Accepted\\nLocation: \\nCategory: Plastic Containers\\nItem: Plastic or foil lids from coffee and tea pods\\nSource: https://recyclebc.ca/what-can-i-recycle-2/', metadata={'source': '..\\\\data\\\\Datajam_2023___Fine_Tuning_ChatBot_CSV_-_Recycle_BC_1.csv', 'row': 70}),\n",
       " Document(page_content='Conclusion: Accepted\\nLocation: Curbside collection, Multi-family collection, Recycle BC depots\\nCategory: Cartons and Paper Cups\\nItem: Paper cups for hot and cold beverages\\nSource: https://recyclebc.ca/what-can-i-recycle-2/', metadata={'source': '..\\\\data\\\\Datajam_2023___Fine_Tuning_ChatBot_CSV_-_Recycle_BC_1.csv', 'row': 71}),\n",
       " Document(page_content='Conclusion: Accepted\\nLocation: Curbside collection, Multi-family collection, Recycle BC depots\\nCategory: Cartons and Paper Cups\\nItem: Cartons and boxes for dairy, cream, substitute eggs, broth, sauces, etc.\\nSource: https://recyclebc.ca/what-can-i-recycle-2/', metadata={'source': '..\\\\data\\\\Datajam_2023___Fine_Tuning_ChatBot_CSV_-_Recycle_BC_1.csv', 'row': 72}),\n",
       " Document(page_content='Conclusion: Accepted\\nLocation: Curbside collection, Multi-family collection, Recycle BC depots\\nCategory: Cartons and Paper Cups\\nItem: Frozen dessert boxes for ice cream, frozen yogurt, etc.\\nSource: https://recyclebc.ca/what-can-i-recycle-2/', metadata={'source': '..\\\\data\\\\Datajam_2023___Fine_Tuning_ChatBot_CSV_-_Recycle_BC_1.csv', 'row': 73}),\n",
       " Document(page_content='Conclusion: Accepted\\nLocation: \\nCategory: Cartons and Paper Cups\\nItem: Coated paper plates and bowls\\nSource: https://recyclebc.ca/what-can-i-recycle-2/', metadata={'source': '..\\\\data\\\\Datajam_2023___Fine_Tuning_ChatBot_CSV_-_Recycle_BC_1.csv', 'row': 74}),\n",
       " Document(page_content='Conclusion: Not Accepted\\nLocation: \\nCategory: Cartons and Paper Cups\\nItem: Paper straws or stir sticks\\nSource: https://recyclebc.ca/what-can-i-recycle-2/', metadata={'source': '..\\\\data\\\\Datajam_2023___Fine_Tuning_ChatBot_CSV_-_Recycle_BC_1.csv', 'row': 75}),\n",
       " Document(page_content='Conclusion: Not Accepted\\nLocation: \\nCategory: Cartons and Paper Cups\\nItem: Cartons and boxes with a deposit can be returned to depot in BC’s deposit program for a refund or included in container recycling\\nSource: https://recyclebc.ca/what-can-i-recycle-2/', metadata={'source': '..\\\\data\\\\Datajam_2023___Fine_Tuning_ChatBot_CSV_-_Recycle_BC_1.csv', 'row': 76}),\n",
       " Document(page_content='Conclusion: Accepted\\nLocation: Curbside collection, Multi-family collection, Recycle BC depots\\nCategory: Aluminum Containers\\nItem: Aluminum cans and lids used for food\\nSource: https://recyclebc.ca/what-can-i-recycle-2/', metadata={'source': '..\\\\data\\\\Datajam_2023___Fine_Tuning_ChatBot_CSV_-_Recycle_BC_1.csv', 'row': 77}),\n",
       " Document(page_content='Conclusion: Accepted\\nLocation: Curbside collection, Multi-family collection, Recycle BC depots\\nCategory: Aluminum Containers\\nItem: Aluminum foil\\nSource: https://recyclebc.ca/what-can-i-recycle-2/', metadata={'source': '..\\\\data\\\\Datajam_2023___Fine_Tuning_ChatBot_CSV_-_Recycle_BC_1.csv', 'row': 78}),\n",
       " Document(page_content='Conclusion: Accepted\\nLocation: Curbside collection, Multi-family collection, Recycle BC depots\\nCategory: Aluminum Containers\\nItem: Aluminum foil pie plates and baking trays\\nSource: https://recyclebc.ca/what-can-i-recycle-2/', metadata={'source': '..\\\\data\\\\Datajam_2023___Fine_Tuning_ChatBot_CSV_-_Recycle_BC_1.csv', 'row': 79}),\n",
       " Document(page_content='Conclusion: Accepted\\nLocation: Curbside collection, Multi-family collection, Recycle BC depots\\nCategory: Aluminum Containers\\nItem: Aluminum take-out containers\\nSource: https://recyclebc.ca/what-can-i-recycle-2/', metadata={'source': '..\\\\data\\\\Datajam_2023___Fine_Tuning_ChatBot_CSV_-_Recycle_BC_1.csv', 'row': 80}),\n",
       " Document(page_content='Conclusion: Accepted\\nLocation: Curbside collection, Multi-family collection, Recycle BC depots\\nCategory: Aluminum Containers\\nItem: Empty aluminum spray containers\\nSource: https://recyclebc.ca/what-can-i-recycle-2/', metadata={'source': '..\\\\data\\\\Datajam_2023___Fine_Tuning_ChatBot_CSV_-_Recycle_BC_1.csv', 'row': 81}),\n",
       " Document(page_content='Conclusion: Not Accepted\\nLocation: \\nCategory: Aluminum Containers\\nItem: Spray paint cans (call the RCBC Hotline 1-800-667-4321 or check Recyclepedia)\\nSource: https://recyclebc.ca/what-can-i-recycle-2/', metadata={'source': '..\\\\data\\\\Datajam_2023___Fine_Tuning_ChatBot_CSV_-_Recycle_BC_1.csv', 'row': 82}),\n",
       " Document(page_content='Conclusion: Not Accepted\\nLocation: \\nCategory: Aluminum Containers\\nItem: Propane cylinders (call the RCBC Hotline 1-800-667-4321 or check Recyclepedia)\\nSource: https://recyclebc.ca/what-can-i-recycle-2/', metadata={'source': '..\\\\data\\\\Datajam_2023___Fine_Tuning_ChatBot_CSV_-_Recycle_BC_1.csv', 'row': 83}),\n",
       " Document(page_content='Conclusion: Not Accepted\\nLocation: \\nCategory: Aluminum Containers\\nItem: Aerosol cans with any contents remaining\\nSource: https://recyclebc.ca/what-can-i-recycle-2/', metadata={'source': '..\\\\data\\\\Datajam_2023___Fine_Tuning_ChatBot_CSV_-_Recycle_BC_1.csv', 'row': 84}),\n",
       " Document(page_content='Conclusion: Not Accepted\\nLocation: \\nCategory: Aluminum Containers\\nItem: Foil-lined cardboard take-out containers and lids\\nSource: https://recyclebc.ca/what-can-i-recycle-2/', metadata={'source': '..\\\\data\\\\Datajam_2023___Fine_Tuning_ChatBot_CSV_-_Recycle_BC_1.csv', 'row': 85}),\n",
       " Document(page_content='Conclusion: Not Accepted\\nLocation: \\nCategory: Aluminum Containers\\nItem: Aluminum beverage containers can be returned to depot for deposit refund or included in container recycling\\nSource: https://recyclebc.ca/what-can-i-recycle-2/', metadata={'source': '..\\\\data\\\\Datajam_2023___Fine_Tuning_ChatBot_CSV_-_Recycle_BC_1.csv', 'row': 86}),\n",
       " Document(page_content='Conclusion: Not Accepted\\nLocation: \\nCategory: Aluminum Containers\\nItem: Electronics and appliances\\nSource: https://recyclebc.ca/what-can-i-recycle-2/', metadata={'source': '..\\\\data\\\\Datajam_2023___Fine_Tuning_ChatBot_CSV_-_Recycle_BC_1.csv', 'row': 87}),\n",
       " Document(page_content='Conclusion: Not Accepted\\nLocation: \\nCategory: Aluminum Containers\\nItem: Pots, pans, and other scrap metal\\nSource: https://recyclebc.ca/what-can-i-recycle-2/', metadata={'source': '..\\\\data\\\\Datajam_2023___Fine_Tuning_ChatBot_CSV_-_Recycle_BC_1.csv', 'row': 88}),\n",
       " Document(page_content='Conclusion: Not Accepted\\nLocation: \\nCategory: Aluminum Containers\\nItem: Durable storage containers (e.g., metal food storage containers)\\nSource: https://recyclebc.ca/what-can-i-recycle-2/', metadata={'source': '..\\\\data\\\\Datajam_2023___Fine_Tuning_ChatBot_CSV_-_Recycle_BC_1.csv', 'row': 89}),\n",
       " Document(page_content='Conclusion: Accepted\\nLocation: Curbside collection, Multi-family collection, Recycle BC depots\\nCategory: Steel Containers\\nItem: Cans and lids for food, pet food, etc.\\nSource: https://recyclebc.ca/what-can-i-recycle-2/', metadata={'source': '..\\\\data\\\\Datajam_2023___Fine_Tuning_ChatBot_CSV_-_Recycle_BC_1.csv', 'row': 90}),\n",
       " Document(page_content='Conclusion: Accepted\\nLocation: Curbside collection, Multi-family collection, Recycle BC depots\\nCategory: Steel Containers\\nItem: Metal spray containers\\nSource: https://recyclebc.ca/what-can-i-recycle-2/', metadata={'source': '..\\\\data\\\\Datajam_2023___Fine_Tuning_ChatBot_CSV_-_Recycle_BC_1.csv', 'row': 91}),\n",
       " Document(page_content='Conclusion: Accepted\\nLocation: Curbside collection, Multi-family collection, Recycle BC depots\\nCategory: Steel Containers\\nItem: Thing-gauge metal tins (e.g. cookie tins)\\nSource: https://recyclebc.ca/what-can-i-recycle-2/', metadata={'source': '..\\\\data\\\\Datajam_2023___Fine_Tuning_ChatBot_CSV_-_Recycle_BC_1.csv', 'row': 92}),\n",
       " Document(page_content='Conclusion: Not Accepted\\nLocation: \\nCategory: Steel Containers\\nItem: Steel paint cans\\nSource: https://recyclebc.ca/what-can-i-recycle-2/', metadata={'source': '..\\\\data\\\\Datajam_2023___Fine_Tuning_ChatBot_CSV_-_Recycle_BC_1.csv', 'row': 93}),\n",
       " Document(page_content='Conclusion: Not Accepted\\nLocation: \\nCategory: Steel Containers\\nItem: Durable hangers: wire, sturdy plastic, metal, wood\\nSource: https://recyclebc.ca/what-can-i-recycle-2/', metadata={'source': '..\\\\data\\\\Datajam_2023___Fine_Tuning_ChatBot_CSV_-_Recycle_BC_1.csv', 'row': 94}),\n",
       " Document(page_content='Conclusion: Not Accepted\\nLocation: \\nCategory: Steel Containers\\nItem: Pots, pans and other scrap metal\\nSource: https://recyclebc.ca/what-can-i-recycle-2/', metadata={'source': '..\\\\data\\\\Datajam_2023___Fine_Tuning_ChatBot_CSV_-_Recycle_BC_1.csv', 'row': 95}),\n",
       " Document(page_content='Conclusion: Not Accepted\\nLocation: \\nCategory: Steel Containers\\nItem: Propane cylinders\\nSource: https://recyclebc.ca/what-can-i-recycle-2/', metadata={'source': '..\\\\data\\\\Datajam_2023___Fine_Tuning_ChatBot_CSV_-_Recycle_BC_1.csv', 'row': 96}),\n",
       " Document(page_content='Conclusion: Not Accepted\\nLocation: \\nCategory: Steel Containers\\nItem: Metal toys\\nSource: https://recyclebc.ca/what-can-i-recycle-2/', metadata={'source': '..\\\\data\\\\Datajam_2023___Fine_Tuning_ChatBot_CSV_-_Recycle_BC_1.csv', 'row': 97}),\n",
       " Document(page_content='Conclusion: Not Accepted\\nLocation: \\nCategory: Steel Containers\\nItem: Appliances and electronics\\nSource: https://recyclebc.ca/what-can-i-recycle-2/', metadata={'source': '..\\\\data\\\\Datajam_2023___Fine_Tuning_ChatBot_CSV_-_Recycle_BC_1.csv', 'row': 98}),\n",
       " Document(page_content='Conclusion: Not Accepted\\nLocation: \\nCategory: Steel Containers\\nItem: Long term, heavy-duty metal storage\\nSource: https://recyclebc.ca/what-can-i-recycle-2/', metadata={'source': '..\\\\data\\\\Datajam_2023___Fine_Tuning_ChatBot_CSV_-_Recycle_BC_1.csv', 'row': 99}),\n",
       " Document(page_content='Conclusion: Not Accepted\\nLocation: \\nCategory: Steel Containers\\nItem: Metal hardware or other scrap metal\\nSource: https://recyclebc.ca/what-can-i-recycle-2/', metadata={'source': '..\\\\data\\\\Datajam_2023___Fine_Tuning_ChatBot_CSV_-_Recycle_BC_1.csv', 'row': 100}),\n",
       " Document(page_content='Conclusion: Not Accepted\\nLocation: \\nCategory: Steel Containers\\nItem: Wiring or metal cords, extension cords\\nSource: https://recyclebc.ca/what-can-i-recycle-2/', metadata={'source': '..\\\\data\\\\Datajam_2023___Fine_Tuning_ChatBot_CSV_-_Recycle_BC_1.csv', 'row': 101}),\n",
       " Document(page_content='Conclusion: Not Accepted\\nLocation: \\nCategory: Steel Containers\\nItem: Steel beverage cans can be returned for deposit refund or included in container recycling\\nSource: https://recyclebc.ca/what-can-i-recycle-2/', metadata={'source': '..\\\\data\\\\Datajam_2023___Fine_Tuning_ChatBot_CSV_-_Recycle_BC_1.csv', 'row': 102}),\n",
       " Document(page_content='Conclusion: Accepted\\nLocation: Separately in curbside collection — confirm with your recycling collector\\nSeparately in multi-family collection — confirm with your recycling collector\\nRecycle BC depots\\nCategory: Glass Bottles and Jars\\nItem: Clear or coloured non-deposit glass bottles and jars. Check with your recycling collector for instructions.\\nSource: https://recyclebc.ca/what-can-i-recycle-2/', metadata={'source': '..\\\\data\\\\Datajam_2023___Fine_Tuning_ChatBot_CSV_-_Recycle_BC_1.csv', 'row': 103}),\n",
       " Document(page_content='Conclusion: Not Accepted\\nLocation: \\nCategory: Glass Bottles and Jars\\nItem: Drinking glasses or dishes, cookware\\nSource: https://recyclebc.ca/what-can-i-recycle-2/', metadata={'source': '..\\\\data\\\\Datajam_2023___Fine_Tuning_ChatBot_CSV_-_Recycle_BC_1.csv', 'row': 104}),\n",
       " Document(page_content='Conclusion: Not Accepted\\nLocation: \\nCategory: Glass Bottles and Jars\\nItem: Whole or broken window glass or mirrors\\nSource: https://recyclebc.ca/what-can-i-recycle-2/', metadata={'source': '..\\\\data\\\\Datajam_2023___Fine_Tuning_ChatBot_CSV_-_Recycle_BC_1.csv', 'row': 105}),\n",
       " Document(page_content='Conclusion: Not Accepted\\nLocation: \\nCategory: Glass Bottles and Jars\\nItem: Ceramic products\\nSource: https://recyclebc.ca/what-can-i-recycle-2/', metadata={'source': '..\\\\data\\\\Datajam_2023___Fine_Tuning_ChatBot_CSV_-_Recycle_BC_1.csv', 'row': 106}),\n",
       " Document(page_content='Conclusion: Not Accepted\\nLocation: \\nCategory: Glass Bottles and Jars\\nItem: Dishes and cookware\\nSource: https://recyclebc.ca/what-can-i-recycle-2/', metadata={'source': '..\\\\data\\\\Datajam_2023___Fine_Tuning_ChatBot_CSV_-_Recycle_BC_1.csv', 'row': 107}),\n",
       " Document(page_content='Conclusion: Not Accepted\\nLocation: \\nCategory: Glass Bottles and Jars\\nItem: Light bulbs and light fixtures\\nSource: https://recyclebc.ca/what-can-i-recycle-2/', metadata={'source': '..\\\\data\\\\Datajam_2023___Fine_Tuning_ChatBot_CSV_-_Recycle_BC_1.csv', 'row': 108}),\n",
       " Document(page_content='Conclusion: Not Accepted\\nLocation: \\nCategory: Glass Bottles and Jars\\nItem: Deposit glass can be returned to depot for deposit refund or included in segregated glass recycling\\nSource: https://recyclebc.ca/what-can-i-recycle-2/', metadata={'source': '..\\\\data\\\\Datajam_2023___Fine_Tuning_ChatBot_CSV_-_Recycle_BC_1.csv', 'row': 109}),\n",
       " Document(page_content='Conclusion: Accepted\\nLocation: Recycle BC depots\\nCategory: Flexible Plastics\\nItem: Plastic shopping bags\\nSource: https://recyclebc.ca/what-can-i-recycle-2/', metadata={'source': '..\\\\data\\\\Datajam_2023___Fine_Tuning_ChatBot_CSV_-_Recycle_BC_1.csv', 'row': 110}),\n",
       " Document(page_content='Conclusion: Accepted\\nLocation: Recycle BC depots\\nCategory: Flexible Plastics\\nItem: Plastic bags for bread, produce, dry cleaning, newspapers/flyers\\nSource: https://recyclebc.ca/what-can-i-recycle-2/', metadata={'source': '..\\\\data\\\\Datajam_2023___Fine_Tuning_ChatBot_CSV_-_Recycle_BC_1.csv', 'row': 111}),\n",
       " Document(page_content='Conclusion: Accepted\\nLocation: Recycle BC depots\\nCategory: Flexible Plastics\\nItem: Bags for water softener, salt, garden products, etc.\\nSource: https://recyclebc.ca/what-can-i-recycle-2/', metadata={'source': '..\\\\data\\\\Datajam_2023___Fine_Tuning_ChatBot_CSV_-_Recycle_BC_1.csv', 'row': 112}),\n",
       " Document(page_content='Conclusion: Accepted\\nLocation: Recycle BC depots\\nCategory: Flexible Plastics\\nItem: Plastic overwrap on diapers, paper towel, feminine hygiene products, flats of canned beverages\\nSource: https://recyclebc.ca/what-can-i-recycle-2/', metadata={'source': '..\\\\data\\\\Datajam_2023___Fine_Tuning_ChatBot_CSV_-_Recycle_BC_1.csv', 'row': 113}),\n",
       " Document(page_content='Conclusion: Accepted\\nLocation: Recycle BC depots\\nCategory: Flexible Plastics\\nItem: Plastic overwrap on mattresses and electronics\\nSource: https://recyclebc.ca/what-can-i-recycle-2/', metadata={'source': '..\\\\data\\\\Datajam_2023___Fine_Tuning_ChatBot_CSV_-_Recycle_BC_1.csv', 'row': 114}),\n",
       " Document(page_content='Conclusion: Accepted\\nLocation: Recycle BC depots\\nCategory: Flexible Plastics\\nItem: Plastic food storage, sandwich, freezer, and vacuum seal bags\\nSource: https://recyclebc.ca/what-can-i-recycle-2/', metadata={'source': '..\\\\data\\\\Datajam_2023___Fine_Tuning_ChatBot_CSV_-_Recycle_BC_1.csv', 'row': 115}),\n",
       " Document(page_content='Conclusion: Accepted\\nLocation: Recycle BC depots\\nCategory: Flexible Plastics\\nItem: Plastic shrink wrap\\nSource: https://recyclebc.ca/what-can-i-recycle-2/', metadata={'source': '..\\\\data\\\\Datajam_2023___Fine_Tuning_ChatBot_CSV_-_Recycle_BC_1.csv', 'row': 116}),\n",
       " Document(page_content='Conclusion: Accepted\\nLocation: Recycle BC depots\\nCategory: Flexible Plastics\\nItem: Flexible plastic gift bags and boxes\\nSource: https://recyclebc.ca/what-can-i-recycle-2/', metadata={'source': '..\\\\data\\\\Datajam_2023___Fine_Tuning_ChatBot_CSV_-_Recycle_BC_1.csv', 'row': 117}),\n",
       " Document(page_content='Conclusion: Accepted\\nLocation: Recycle BC depots\\nCategory: Flexible Plastics\\nItem: Transparent single-use recycling bags\\nSource: https://recyclebc.ca/what-can-i-recycle-2/', metadata={'source': '..\\\\data\\\\Datajam_2023___Fine_Tuning_ChatBot_CSV_-_Recycle_BC_1.csv', 'row': 118}),\n",
       " Document(page_content='Conclusion: Accepted\\nLocation: Recycle BC depots\\nCategory: Flexible Plastics\\nItem: Reusable plastic curbside recycling bags (e.g. yellow bags for Paper)\\nSource: https://recyclebc.ca/what-can-i-recycle-2/', metadata={'source': '..\\\\data\\\\Datajam_2023___Fine_Tuning_ChatBot_CSV_-_Recycle_BC_1.csv', 'row': 119}),\n",
       " Document(page_content='Conclusion: Accepted\\nLocation: Recycle BC depots\\nCategory: Flexible Plastics\\nItem: Reusable plastic-only carry-out bags (provided with purchase or purchased)\\nSource: https://recyclebc.ca/what-can-i-recycle-2/', metadata={'source': '..\\\\data\\\\Datajam_2023___Fine_Tuning_ChatBot_CSV_-_Recycle_BC_1.csv', 'row': 120}),\n",
       " Document(page_content='Conclusion: Accepted\\nLocation: Recycle BC depots\\nCategory: Flexible Plastics\\nItem: Plastic drop sheet or covering\\nSource: https://recyclebc.ca/what-can-i-recycle-2/', metadata={'source': '..\\\\data\\\\Datajam_2023___Fine_Tuning_ChatBot_CSV_-_Recycle_BC_1.csv', 'row': 121}),\n",
       " Document(page_content='Conclusion: Accepted\\nLocation: Recycle BC depots\\nCategory: Flexible Plastics\\nItem: Squishy cushion packaging (polyethylene foam)\\nSource: https://recyclebc.ca/what-can-i-recycle-2/', metadata={'source': '..\\\\data\\\\Datajam_2023___Fine_Tuning_ChatBot_CSV_-_Recycle_BC_1.csv', 'row': 122}),\n",
       " Document(page_content='Conclusion: Accepted\\nLocation: Recycle BC depots\\nCategory: Flexible Plastics\\nItem: Plastic bubble wrap\\nSource: https://recyclebc.ca/what-can-i-recycle-2/', metadata={'source': '..\\\\data\\\\Datajam_2023___Fine_Tuning_ChatBot_CSV_-_Recycle_BC_1.csv', 'row': 123}),\n",
       " Document(page_content='Conclusion: Accepted\\nLocation: Recycle BC depots\\nCategory: Flexible Plastics\\nItem: Zipper lock pouches for frozen foods (e.g. berries, vegetables, prawns)\\nSource: https://recyclebc.ca/what-can-i-recycle-2/', metadata={'source': '..\\\\data\\\\Datajam_2023___Fine_Tuning_ChatBot_CSV_-_Recycle_BC_1.csv', 'row': 124}),\n",
       " Document(page_content='Conclusion: Accepted\\nLocation: Recycle BC depots\\nCategory: Flexible Plastics\\nItem: Zipper lock and tear-open pouches for cannabis product\\nSource: https://recyclebc.ca/what-can-i-recycle-2/', metadata={'source': '..\\\\data\\\\Datajam_2023___Fine_Tuning_ChatBot_CSV_-_Recycle_BC_1.csv', 'row': 125}),\n",
       " Document(page_content='Conclusion: Accepted\\nLocation: Recycle BC depots\\nCategory: Flexible Plastics\\nItem: Stand-up pouches for dried fruit and nuts, quinoa, grated cheese, etc.\\nSource: https://recyclebc.ca/what-can-i-recycle-2/', metadata={'source': '..\\\\data\\\\Datajam_2023___Fine_Tuning_ChatBot_CSV_-_Recycle_BC_1.csv', 'row': 126}),\n",
       " Document(page_content='Conclusion: Accepted\\nLocation: Recycle BC depots\\nCategory: Flexible Plastics\\nItem: Potato chip bags\\nSource: https://recyclebc.ca/what-can-i-recycle-2/', metadata={'source': '..\\\\data\\\\Datajam_2023___Fine_Tuning_ChatBot_CSV_-_Recycle_BC_1.csv', 'row': 127}),\n",
       " Document(page_content='Conclusion: Accepted\\nLocation: Recycle BC depots\\nCategory: Flexible Plastics\\nItem: Crinkly plastic bags for candy, cereal\\nSource: https://recyclebc.ca/what-can-i-recycle-2/', metadata={'source': '..\\\\data\\\\Datajam_2023___Fine_Tuning_ChatBot_CSV_-_Recycle_BC_1.csv', 'row': 128}),\n",
       " Document(page_content='Conclusion: Accepted\\nLocation: Recycle BC depots\\nCategory: Flexible Plastics\\nItem: Plastic wrappers for candy, cheese slices, granola bars, etc.\\nSource: https://recyclebc.ca/what-can-i-recycle-2/', metadata={'source': '..\\\\data\\\\Datajam_2023___Fine_Tuning_ChatBot_CSV_-_Recycle_BC_1.csv', 'row': 129}),\n",
       " Document(page_content='Conclusion: Accepted\\nLocation: Recycle BC depots\\nCategory: Flexible Plastics\\nItem: Crinkly plastic packaging for dry pasta, pre-packaged deli meats, etc.\\nSource: https://recyclebc.ca/what-can-i-recycle-2/', metadata={'source': '..\\\\data\\\\Datajam_2023___Fine_Tuning_ChatBot_CSV_-_Recycle_BC_1.csv', 'row': 130}),\n",
       " Document(page_content='Conclusion: Accepted\\nLocation: Recycle BC depots\\nCategory: Flexible Plastics\\nItem: Flexible plastic packaging with plastic seal (e.g. deli and cheese packaging)\\nSource: https://recyclebc.ca/what-can-i-recycle-2/', metadata={'source': '..\\\\data\\\\Datajam_2023___Fine_Tuning_ChatBot_CSV_-_Recycle_BC_1.csv', 'row': 131}),\n",
       " Document(page_content='Conclusion: Accepted\\nLocation: Recycle BC depots\\nCategory: Flexible Plastics\\nItem: Plastic net bags for fruit, onions, avocados, etc.\\nSource: https://recyclebc.ca/what-can-i-recycle-2/', metadata={'source': '..\\\\data\\\\Datajam_2023___Fine_Tuning_ChatBot_CSV_-_Recycle_BC_1.csv', 'row': 132}),\n",
       " Document(page_content='Conclusion: Accepted\\nLocation: Recycle BC depots\\nCategory: Flexible Plastics\\nItem: Woven plastic bags for rice\\nSource: https://recyclebc.ca/what-can-i-recycle-2/', metadata={'source': '..\\\\data\\\\Datajam_2023___Fine_Tuning_ChatBot_CSV_-_Recycle_BC_1.csv', 'row': 133}),\n",
       " Document(page_content='Conclusion: Accepted\\nLocation: Recycle BC depots\\nCategory: Flexible Plastics\\nItem: Non-food protective packaging (e.g. all-plastic shipping envelopes, air packets, etc.)\\nSource: https://recyclebc.ca/what-can-i-recycle-2/', metadata={'source': '..\\\\data\\\\Datajam_2023___Fine_Tuning_ChatBot_CSV_-_Recycle_BC_1.csv', 'row': 134}),\n",
       " Document(page_content='Conclusion: Not Accepted\\nLocation: \\nCategory: Flexible Plastics\\nItem: Items that are not packaging like\\nSource: https://recyclebc.ca/what-can-i-recycle-2/', metadata={'source': '..\\\\data\\\\Datajam_2023___Fine_Tuning_ChatBot_CSV_-_Recycle_BC_1.csv', 'row': 135}),\n",
       " Document(page_content='Conclusion: Not Accepted\\nLocation: \\nCategory: Flexible Plastics\\nItem: Long term heavy-duty storage containers like plastic totes\\nSource: https://recyclebc.ca/what-can-i-recycle-2/', metadata={'source': '..\\\\data\\\\Datajam_2023___Fine_Tuning_ChatBot_CSV_-_Recycle_BC_1.csv', 'row': 136}),\n",
       " Document(page_content='Conclusion: Not Accepted\\nLocation: \\nCategory: Flexible Plastics\\nItem: Plastic bags with cloth, rope, or ribbon handles\\nSource: https://recyclebc.ca/what-can-i-recycle-2/', metadata={'source': '..\\\\data\\\\Datajam_2023___Fine_Tuning_ChatBot_CSV_-_Recycle_BC_1.csv', 'row': 137}),\n",
       " Document(page_content='Conclusion: Not Accepted\\nLocation: \\nCategory: Flexible Plastics\\nItem: Carry-out bags with PVC/vinyl\\nSource: https://recyclebc.ca/what-can-i-recycle-2/', metadata={'source': '..\\\\data\\\\Datajam_2023___Fine_Tuning_ChatBot_CSV_-_Recycle_BC_1.csv', 'row': 138}),\n",
       " Document(page_content='Conclusion: Not Accepted\\nLocation: \\nCategory: Flexible Plastics\\nItem: Packaging labelled biodegradable, compostable, or oxo-degradable\\nSource: https://recyclebc.ca/what-can-i-recycle-2/', metadata={'source': '..\\\\data\\\\Datajam_2023___Fine_Tuning_ChatBot_CSV_-_Recycle_BC_1.csv', 'row': 139}),\n",
       " Document(page_content='Conclusion: Not Accepted\\nLocation: \\nCategory: Flexible Plastics\\nItem: Lumber or construction wrap\\nSource: https://recyclebc.ca/what-can-i-recycle-2/', metadata={'source': '..\\\\data\\\\Datajam_2023___Fine_Tuning_ChatBot_CSV_-_Recycle_BC_1.csv', 'row': 140}),\n",
       " Document(page_content='Conclusion: Not Accepted\\nLocation: \\nCategory: Flexible Plastics\\nItem: Items designed for disposal (e.g., garbage bags, compost/leaf bags)\\nSource: https://recyclebc.ca/what-can-i-recycle-2/', metadata={'source': '..\\\\data\\\\Datajam_2023___Fine_Tuning_ChatBot_CSV_-_Recycle_BC_1.csv', 'row': 141}),\n",
       " Document(page_content='Conclusion: Not Accepted\\nLocation: \\nCategory: Flexible Plastics\\nItem: Flexible 6-pack rings\\nSource: https://recyclebc.ca/what-can-i-recycle-2/', metadata={'source': '..\\\\data\\\\Datajam_2023___Fine_Tuning_ChatBot_CSV_-_Recycle_BC_1.csv', 'row': 142}),\n",
       " Document(page_content='Conclusion: Not Accepted\\nLocation: \\nCategory: Flexible Plastics\\nItem: Plastic squeeze tubes\\nSource: https://recyclebc.ca/what-can-i-recycle-2/', metadata={'source': '..\\\\data\\\\Datajam_2023___Fine_Tuning_ChatBot_CSV_-_Recycle_BC_1.csv', 'row': 143}),\n",
       " Document(page_content='Conclusion: Not Accepted\\nLocation: \\nCategory: Flexible Plastics\\nItem: Plastic-lined paper\\nSource: https://recyclebc.ca/what-can-i-recycle-2/', metadata={'source': '..\\\\data\\\\Datajam_2023___Fine_Tuning_ChatBot_CSV_-_Recycle_BC_1.csv', 'row': 144}),\n",
       " Document(page_content='Conclusion: Not Accepted\\nLocation: \\nCategory: Flexible Plastics\\nItem: Crinkly cellophane wrap for tea, floral arrangements, etc.\\nSource: https://recyclebc.ca/what-can-i-recycle-2/', metadata={'source': '..\\\\data\\\\Datajam_2023___Fine_Tuning_ChatBot_CSV_-_Recycle_BC_1.csv', 'row': 145}),\n",
       " Document(page_content='Conclusion: Accepted\\nLocation: Recycle BC depots\\nCategory: Foam Packaging\\nItem: Plastic foam containers and trays used for meat and produce\\nSource: https://recyclebc.ca/what-can-i-recycle-2/', metadata={'source': '..\\\\data\\\\Datajam_2023___Fine_Tuning_ChatBot_CSV_-_Recycle_BC_1.csv', 'row': 146}),\n",
       " Document(page_content='Conclusion: Accepted\\nLocation: Recycle BC depots\\nCategory: Foam Packaging\\nItem: Foam egg cartons\\nSource: https://recyclebc.ca/what-can-i-recycle-2/', metadata={'source': '..\\\\data\\\\Datajam_2023___Fine_Tuning_ChatBot_CSV_-_Recycle_BC_1.csv', 'row': 147}),\n",
       " Document(page_content='Conclusion: Accepted\\nLocation: Recycle BC depots\\nCategory: Foam Packaging\\nItem: Foam clamshells, cups and bowls for take-out food\\nSource: https://recyclebc.ca/what-can-i-recycle-2/', metadata={'source': '..\\\\data\\\\Datajam_2023___Fine_Tuning_ChatBot_CSV_-_Recycle_BC_1.csv', 'row': 148}),\n",
       " Document(page_content='Conclusion: Accepted\\nLocation: Recycle BC depots\\nCategory: Foam Packaging\\nItem: Firm foam cushion packaging to protect electronics, small appliances, etc.\\nSource: https://recyclebc.ca/what-can-i-recycle-2/', metadata={'source': '..\\\\data\\\\Datajam_2023___Fine_Tuning_ChatBot_CSV_-_Recycle_BC_1.csv', 'row': 149}),\n",
       " Document(page_content='Conclusion: Not Accepted\\nLocation: \\nCategory: Foam Packaging\\nItem: Liquid-absorbing pads used in trays for meat, poultry, fish, etc.\\nSource: https://recyclebc.ca/what-can-i-recycle-2/', metadata={'source': '..\\\\data\\\\Datajam_2023___Fine_Tuning_ChatBot_CSV_-_Recycle_BC_1.csv', 'row': 150}),\n",
       " Document(page_content='Conclusion: Not Accepted\\nLocation: \\nCategory: Foam Packaging\\nItem: Labels, tape, paper and cardboard on foam packaging\\nSource: https://recyclebc.ca/what-can-i-recycle-2/', metadata={'source': '..\\\\data\\\\Datajam_2023___Fine_Tuning_ChatBot_CSV_-_Recycle_BC_1.csv', 'row': 151}),\n",
       " Document(page_content='Conclusion: Not Accepted\\nLocation: \\nCategory: Foam Packaging\\nItem: Foam peanuts and packing chips\\nSource: https://recyclebc.ca/what-can-i-recycle-2/', metadata={'source': '..\\\\data\\\\Datajam_2023___Fine_Tuning_ChatBot_CSV_-_Recycle_BC_1.csv', 'row': 152}),\n",
       " Document(page_content='Conclusion: Not Accepted\\nLocation: \\nCategory: Foam Packaging\\nItem: Blue or pink foam board insulation\\nSource: https://recyclebc.ca/what-can-i-recycle-2/', metadata={'source': '..\\\\data\\\\Datajam_2023___Fine_Tuning_ChatBot_CSV_-_Recycle_BC_1.csv', 'row': 153}),\n",
       " Document(page_content='Conclusion: Not Accepted\\nLocation: \\nCategory: Foam Packaging\\nItem: Napkins, cutlery\\nSource: https://recyclebc.ca/what-can-i-recycle-2/', metadata={'source': '..\\\\data\\\\Datajam_2023___Fine_Tuning_ChatBot_CSV_-_Recycle_BC_1.csv', 'row': 154}),\n",
       " Document(page_content='Conclusion: Not Accepted\\nLocation: \\nCategory: Foam Packaging\\nItem: Protective and squishy cushion packaging\\nSource: https://recyclebc.ca/what-can-i-recycle-2/', metadata={'source': '..\\\\data\\\\Datajam_2023___Fine_Tuning_ChatBot_CSV_-_Recycle_BC_1.csv', 'row': 155}),\n",
       " Document(page_content='Conclusion: Not Accepted\\nLocation: \\nCategory: Foam Packaging\\nItem: Foam noodles\\nSource: https://recyclebc.ca/what-can-i-recycle-2/', metadata={'source': '..\\\\data\\\\Datajam_2023___Fine_Tuning_ChatBot_CSV_-_Recycle_BC_1.csv', 'row': 156}),\n",
       " Document(page_content='Conclusion: Not Accepted\\nLocation: \\nCategory: Foam Packaging\\nItem: Furniture cushions\\nSource: https://recyclebc.ca/what-can-i-recycle-2/', metadata={'source': '..\\\\data\\\\Datajam_2023___Fine_Tuning_ChatBot_CSV_-_Recycle_BC_1.csv', 'row': 157}),\n",
       " Document(page_content='Conclusion: Accepted\\nLocation: There are 520 depots to drop off “do-it-yourself” used oil and 339 depots for used antifreeze across B.C. To find a location near you, visit: Used oil recycling at http://www.usedoilrecycling.com/en/bc\\nCategory: Oil & Antifreeze\\nItem: Used Oil and Antifreeze\\nSource: https://www2.gov.bc.ca/gov/content/environment/waste-management/recycling/extended-producer-responsibility/used-oil-and-antifreeze', metadata={'source': '..\\\\data\\\\Datajam_2023___Fine_Tuning_ChatBot_CSV_-_Recycle_BC_1.csv', 'row': 158}),\n",
       " Document(page_content='Conclusion: Accepted\\nLocation: There are 520 depots to drop off “do-it-yourself” used oil and 339 depots for used antifreeze across B.C. To find a location near you, visit: Used oil recycling at http://www.usedoilrecycling.com/en/bc\\nCategory: Oil & Antifreeze\\nItem: Oil Filters\\nSource: https://www2.gov.bc.ca/gov/content/environment/waste-management/recycling/extended-producer-responsibility/used-oil-and-antifreeze', metadata={'source': '..\\\\data\\\\Datajam_2023___Fine_Tuning_ChatBot_CSV_-_Recycle_BC_1.csv', 'row': 159}),\n",
       " Document(page_content='Conclusion: Accepted\\nLocation: There are 520 depots to drop off “do-it-yourself” used oil and 339 depots for used antifreeze across B.C. To find a location near you, visit: Used oil recycling at http://www.usedoilrecycling.com/en/bc\\nCategory: Oil & Antifreeze\\nItem: Oil and Antifreeze Containers\\nSource: https://www2.gov.bc.ca/gov/content/environment/waste-management/recycling/extended-producer-responsibility/used-oil-and-antifreeze', metadata={'source': '..\\\\data\\\\Datajam_2023___Fine_Tuning_ChatBot_CSV_-_Recycle_BC_1.csv', 'row': 160}),\n",
       " Document(page_content='Conclusion: Accepted\\nLocation: Most motorists exchange their old tires for new ones at the time of purchase.\\n\\nTSBC’s Return to Retailer program provides consumers a free option to return tires to participating retailers. This is a year round program for consumers who can drop off up to four passenger/light truck tires, clean and off rim during the retailer’s business hours. In addition, TSBC holds tire roundups around the province as another disposal option for consumers.\\n\\nVisit https://tsbc.ca/scrap-tire-pickup/ to find a Pick Up/Drop Off location.\\nCategory: Tires\\nItem: Tires\\nSource: https://www2.gov.bc.ca/gov/content/environment/waste-management/recycling/extended-producer-responsibility/tires', metadata={'source': '..\\\\data\\\\Datajam_2023___Fine_Tuning_ChatBot_CSV_-_Recycle_BC_1.csv', 'row': 161})]"
      ]
     },
     "execution_count": 16,
     "metadata": {},
     "output_type": "execute_result"
    }
   ],
   "source": [
    "# Prepare the documents\n",
    "doc_id = 1\n",
    "doc_dict[doc_id] = create_documents(directory=directory, glob='*.csv')\n",
    "retriever_dict = create_retriever(doc_dict[doc_id], 'recycle')\n",
    "description_dict['recycle'] = \"\"\"\n",
    "From the Recycle BC website, this document provides the most specific information \n",
    "about whether or not an item is accepted for recycling and where to recycle it.\n",
    "This should be the main resource for recycling information for residents of British Columbia.\n",
    "\"\"\"\n",
    "doc_dict[doc_id]"
   ]
  },
  {
   "cell_type": "code",
   "execution_count": 17,
   "metadata": {},
   "outputs": [
    {
     "name": "stderr",
     "output_type": "stream",
     "text": [
      "100%|██████████| 1/1 [00:00<00:00, 476.73it/s]\n"
     ]
    },
    {
     "name": "stdout",
     "output_type": "stream",
     "text": [
      "Number of files: 1\n"
     ]
    }
   ],
   "source": [
    "\n",
    "doc_id = 2\n",
    "doc_dict[doc_id] = create_documents(directory=directory, glob='*.txt', loader_cls=TextLoader)\n",
    "retriever_dict = create_retriever(doc_dict[doc_id], 'mattress')\n",
    "description_dict['mattress'] = \"\"\"\n",
    "Information from the City of Vancouver website about how to recycle mattresses.\n",
    "\"\"\""
   ]
  },
  {
   "cell_type": "code",
   "execution_count": 19,
   "metadata": {},
   "outputs": [
    {
     "data": {
      "text/plain": [
       "[Tool(name='search_recycle', description='\\nFrom the Recycle BC website, this document provides the most specific information \\nabout whether or not an item is accepted for recycling and where to recycle it.\\nThis should be the main resource for recycling information for residents of British Columbia.\\n', args_schema=None, return_direct=False, verbose=False, callbacks=None, callback_manager=None, tags=None, metadata=None, handle_tool_error=False, func=<bound method BaseRetriever.get_relevant_documents of VectorStoreRetriever(tags=['FAISS'], metadata=None, vectorstore=<langchain.vectorstores.faiss.FAISS object at 0x00000223B1079FD0>, search_type='similarity', search_kwargs={})>, coroutine=<bound method BaseRetriever.aget_relevant_documents of VectorStoreRetriever(tags=['FAISS'], metadata=None, vectorstore=<langchain.vectorstores.faiss.FAISS object at 0x00000223B1079FD0>, search_type='similarity', search_kwargs={})>),\n",
       " Tool(name='search_mattress', description='\\nInformation from the City of Vancouver website about how to recycle mattresses.\\n', args_schema=None, return_direct=False, verbose=False, callbacks=None, callback_manager=None, tags=None, metadata=None, handle_tool_error=False, func=<bound method BaseRetriever.get_relevant_documents of VectorStoreRetriever(tags=['FAISS'], metadata=None, vectorstore=<langchain.vectorstores.faiss.FAISS object at 0x00000223F38902D0>, search_type='similarity', search_kwargs={})>, coroutine=<bound method BaseRetriever.aget_relevant_documents of VectorStoreRetriever(tags=['FAISS'], metadata=None, vectorstore=<langchain.vectorstores.faiss.FAISS object at 0x00000223F38902D0>, search_type='similarity', search_kwargs={})>)]"
      ]
     },
     "execution_count": 19,
     "metadata": {},
     "output_type": "execute_result"
    }
   ],
   "source": [
    "retriever_dict = create_retriever(doc_dict[1], 'recycle')\n",
    "\n",
    "tool_id = 1\n",
    "tool_dict[tool_id] = create_tools_list(retriever_dict, description_dict)\n",
    "tool_dict[tool_id]"
   ]
  },
  {
   "cell_type": "code",
   "execution_count": 25,
   "metadata": {},
   "outputs": [
    {
     "name": "stdout",
     "output_type": "stream",
     "text": [
      "Chat history length: 0\n",
      "\n",
      "\n",
      "\u001b[1m> Entering new AgentExecutor chain...\u001b[0m\n",
      "\u001b[32;1m\u001b[1;3m\n",
      "Invoking: `search_recycle` with `coffee cups`\n",
      "\n",
      "\n",
      "\u001b[0m\u001b[36;1m\u001b[1;3m[Document(page_content='Conclusion: Accepted\\nLocation: Curbside collection, Multi-family collection, Recycle BC depots\\nCategory: Cartons and Paper Cups\\nItem: Paper cups for hot and cold beverages\\nSource: https://recyclebc.ca/what-can-i-recycle-2/', metadata={'source': '..\\\\data\\\\Datajam_2023___Fine_Tuning_ChatBot_CSV_-_Recycle_BC_1.csv', 'row': 71}), Document(page_content='Conclusion: Accepted\\nLocation: Curbside collection, Multi-family collection, Recycle BC depots\\nCategory: Plastic Containers\\nItem: Empty single-use coffee and tea pods; remove lids and do not include lids with recycling\\nSource: https://recyclebc.ca/what-can-i-recycle-2/', metadata={'source': '..\\\\data\\\\Datajam_2023___Fine_Tuning_ChatBot_CSV_-_Recycle_BC_1.csv', 'row': 42}), Document(page_content='Conclusion: Not Accepted\\nLocation: \\nCategory: Plastic Containers\\nItem: Plastic or foil lids from coffee and tea pods\\nSource: https://recyclebc.ca/what-can-i-recycle-2/', metadata={'source': '..\\\\data\\\\Datajam_2023___Fine_Tuning_ChatBot_CSV_-_Recycle_BC_1.csv', 'row': 70}), Document(page_content='Conclusion: Accepted\\nLocation: Curbside collection, Multi-family collection, Recycle BC depots\\nCategory: Plastic Containers\\nItem: Plastic cold drink cups with lids for take-out beverages\\nSource: https://recyclebc.ca/what-can-i-recycle-2/', metadata={'source': '..\\\\data\\\\Datajam_2023___Fine_Tuning_ChatBot_CSV_-_Recycle_BC_1.csv', 'row': 38})]\u001b[0m\u001b[32;1m\u001b[1;3mYou have a few options for recycling coffee cups in Metro Vancouver. \n",
      "\n",
      "Paper cups for hot and cold beverages can be recycled through curbside collection, multi-family collection, and Recycle BC depots. You can include these cups in your regular recycling bin. [Source](https://recyclebc.ca/what-can-i-recycle-2/)\n",
      "\n",
      "Empty single-use coffee and tea pods can also be recycled. Remember to remove the lids and do not include them with the recycling. These pods can be recycled through curbside collection, multi-family collection, and Recycle BC depots. [Source](https://recyclebc.ca/what-can-i-recycle-2/)\n",
      "\n",
      "However, plastic or foil lids from coffee and tea pods are not accepted for recycling. Please dispose of them in the regular garbage. [Source](https://recyclebc.ca/what-can-i-recycle-2/)\n",
      "\n",
      "Plastic cold drink cups with lids for take-out beverages can be recycled as well. You can include these cups in your regular recycling bin. [Source](https://recyclebc.ca/what-can-i-recycle-2/)\n",
      "\n",
      "I hope this information helps! Let me know if you have any other questions.\u001b[0m\n",
      "\n",
      "\u001b[1m> Finished chain.\u001b[0m\n",
      "Chat history length: 1\n",
      "\n",
      "\n",
      "\u001b[1m> Entering new AgentExecutor chain...\u001b[0m\n",
      "\u001b[32;1m\u001b[1;3mIf you live in an apartment, you can still recycle coffee cups. \n",
      "\n",
      "For paper cups for hot and cold beverages, you can check if your apartment building has a separate recycling bin for paper products. If not, you can take these cups to a nearby Recycle BC depot. You can find the closest depot by using the Recycle BC website or contacting your local recycling center. \n",
      "\n",
      "For plastic cold drink cups with lids for take-out beverages, you can also check if your apartment building has a separate recycling bin for plastic containers. If not, you can take these cups to a nearby Recycle BC depot as well.\n",
      "\n",
      "Remember to empty and rinse the cups before recycling them. If you have any other specific recycling questions, feel free to ask!\u001b[0m\n",
      "\n",
      "\u001b[1m> Finished chain.\u001b[0m\n",
      "Chat history length: 2\n",
      "\n",
      "\n",
      "\u001b[1m> Entering new AgentExecutor chain...\u001b[0m\n",
      "\u001b[32;1m\u001b[1;3mYou're welcome! I'm glad I could help. If you have any more questions in the future, don't hesitate to ask. Have a great day!\u001b[0m\n",
      "\n",
      "\u001b[1m> Finished chain.\u001b[0m\n",
      "content='What are my options for recycling coffee cups?' additional_kwargs={} example=False\n",
      "content='' additional_kwargs={'function_call': {'name': 'search_recycle', 'arguments': '{\\n  \"__arg1\": \"coffee cups\"\\n}'}} example=False\n",
      "content=\"[Document(page_content='Conclusion: Accepted\\\\nLocation: Curbside collection, Multi-family collection, Recycle BC depots\\\\nCategory: Cartons and Paper Cups\\\\nItem: Paper cups for hot and cold beverages\\\\nSource: https://recyclebc.ca/what-can-i-recycle-2/', metadata={'source': '..\\\\\\\\data\\\\\\\\Datajam_2023___Fine_Tuning_ChatBot_CSV_-_Recycle_BC_1.csv', 'row': 71}), Document(page_content='Conclusion: Accepted\\\\nLocation: Curbside collection, Multi-family collection, Recycle BC depots\\\\nCategory: Plastic Containers\\\\nItem: Empty single-use coffee and tea pods; remove lids and do not include lids with recycling\\\\nSource: https://recyclebc.ca/what-can-i-recycle-2/', metadata={'source': '..\\\\\\\\data\\\\\\\\Datajam_2023___Fine_Tuning_ChatBot_CSV_-_Recycle_BC_1.csv', 'row': 42}), Document(page_content='Conclusion: Not Accepted\\\\nLocation: \\\\nCategory: Plastic Containers\\\\nItem: Plastic or foil lids from coffee and tea pods\\\\nSource: https://recyclebc.ca/what-can-i-recycle-2/', metadata={'source': '..\\\\\\\\data\\\\\\\\Datajam_2023___Fine_Tuning_ChatBot_CSV_-_Recycle_BC_1.csv', 'row': 70}), Document(page_content='Conclusion: Accepted\\\\nLocation: Curbside collection, Multi-family collection, Recycle BC depots\\\\nCategory: Plastic Containers\\\\nItem: Plastic cold drink cups with lids for take-out beverages\\\\nSource: https://recyclebc.ca/what-can-i-recycle-2/', metadata={'source': '..\\\\\\\\data\\\\\\\\Datajam_2023___Fine_Tuning_ChatBot_CSV_-_Recycle_BC_1.csv', 'row': 38})]\" additional_kwargs={} name='search_recycle'\n",
      "content='You have a few options for recycling coffee cups in Metro Vancouver. \\n\\nPaper cups for hot and cold beverages can be recycled through curbside collection, multi-family collection, and Recycle BC depots. You can include these cups in your regular recycling bin. [Source](https://recyclebc.ca/what-can-i-recycle-2/)\\n\\nEmpty single-use coffee and tea pods can also be recycled. Remember to remove the lids and do not include them with the recycling. These pods can be recycled through curbside collection, multi-family collection, and Recycle BC depots. [Source](https://recyclebc.ca/what-can-i-recycle-2/)\\n\\nHowever, plastic or foil lids from coffee and tea pods are not accepted for recycling. Please dispose of them in the regular garbage. [Source](https://recyclebc.ca/what-can-i-recycle-2/)\\n\\nPlastic cold drink cups with lids for take-out beverages can be recycled as well. You can include these cups in your regular recycling bin. [Source](https://recyclebc.ca/what-can-i-recycle-2/)\\n\\nI hope this information helps! Let me know if you have any other questions.' additional_kwargs={} example=False\n",
      "content='I live in an apartment.' additional_kwargs={} example=False\n",
      "content='If you live in an apartment, you can still recycle coffee cups. \\n\\nFor paper cups for hot and cold beverages, you can check if your apartment building has a separate recycling bin for paper products. If not, you can take these cups to a nearby Recycle BC depot. You can find the closest depot by using the Recycle BC website or contacting your local recycling center. \\n\\nFor plastic cold drink cups with lids for take-out beverages, you can also check if your apartment building has a separate recycling bin for plastic containers. If not, you can take these cups to a nearby Recycle BC depot as well.\\n\\nRemember to empty and rinse the cups before recycling them. If you have any other specific recycling questions, feel free to ask!' additional_kwargs={} example=False\n",
      "content='Thank you so much!' additional_kwargs={} example=False\n",
      "content=\"You're welcome! I'm glad I could help. If you have any more questions in the future, don't hesitate to ask. Have a great day!\" additional_kwargs={} example=False\n"
     ]
    }
   ],
   "source": [
    "\n",
    "def create_chatbot(tools, verbose=True):\n",
    "\n",
    "    llm = ChatOpenAI(\n",
    "        temperature = 0,\n",
    "        openai_organization=os.environ['openai_organization'],\n",
    "        openai_api_key=os.environ['openai_api_key'],\n",
    "        )\n",
    "\n",
    "    memory = AgentTokenBufferMemory(memory_key='chat_history', llm=llm)\n",
    "    system_message = SystemMessage(\n",
    "        content=(\"\"\"\n",
    "            You are a helpful assistant who provides concise answers to residents in Metro Vancouver, Canada.\n",
    "            You ask enough follow up questions as needed to provide the most relevant answer. \n",
    "            Where relevant, you retrieve the relevant information from your documents to answer the resident's question.\n",
    "            Recycle BC is the main resource for recycling information. \n",
    "            Respond to the resident's query, which are delimited by triple backticks: ```{question}```\n",
    "            \"\"\"\n",
    "        ),\n",
    "        input_variables=['question']\n",
    "    )\n",
    "    \n",
    "    prompt = OpenAIFunctionsAgent.create_prompt(\n",
    "        system_message=system_message,\n",
    "        extra_prompt_messages=[\n",
    "            MessagesPlaceholder(variable_name='chat_history')\n",
    "            ]\n",
    "    )\n",
    "\n",
    "    agent = OpenAIFunctionsAgent(llm=llm, tools=tools, prompt=prompt)\n",
    "    agent_executor = AgentExecutor(\n",
    "        agent=agent, tools=tools, memory=memory, verbose=verbose, return_intermediate_steps=True\n",
    "        )\n",
    "    agent_info = {\n",
    "        'agent': agent,\n",
    "        'agent_executor': agent_executor,\n",
    "        'memory': memory,\n",
    "        'chat_history': []\n",
    "    }\n",
    "    return agent_info\n",
    "\n",
    "def chat_with_chatbot(user_input, agent_info):\n",
    "\n",
    "    print(f'Chat history length: {len(agent_info[\"chat_history\"])}')\n",
    "\n",
    "    result = agent_info['agent_executor']({\n",
    "        \"input\": user_input,\n",
    "        \"chat_history\": agent_info['chat_history']\n",
    "        })\n",
    "    agent_info['chat_history'].append(result['chat_history'])\n",
    "    \n",
    "    return result\n",
    "\n",
    "conversation_id = 1\n",
    "input_id = 1\n",
    "query1 = \"What are my options for recycling coffee cups?\"\n",
    "query2 = \"I live in an apartment.\"\n",
    "query3 = \"Thank you so much!\"\n",
    "queries_dict[conversation_id] = [query1, query2, query3]\n",
    "\n",
    "conversation_dict[conversation_id] = create_chatbot(tool_dict[tool_id])\n",
    "for query in queries_dict[conversation_id]:\n",
    "    answer_dict[conversation_id] = chat_with_chatbot(query, conversation_dict[conversation_id])\n",
    "for message in conversation_dict[conversation_id]['chat_history'][-1]:\n",
    "    print(message)"
   ]
  },
  {
   "cell_type": "markdown",
   "metadata": {},
   "source": [
    "## Create a function to run queries "
   ]
  },
  {
   "cell_type": "code",
   "execution_count": 12,
   "metadata": {},
   "outputs": [
    {
     "data": {
      "text/plain": [
       "{}"
      ]
     },
     "execution_count": 12,
     "metadata": {},
     "output_type": "execute_result"
    }
   ],
   "source": [
    "conversation_id = 1\n",
    "input_id = 1\n",
    "query1 = \"What are my options for recycling coffee cups?\"\n",
    "query2 = \"I live in an apartment.\"\n",
    "query3 = \"Thank you so much!\"\n",
    "queries_dict[conversation_id] = [query1, query2, query3]\n",
    "\n",
    "conversation_dict[conversation_id] = create_chatbot(tool_dict[tool_id])\n",
    "for query in queries_dict[conversation_id]:\n",
    "    answer_dict[conversation_id] = chat_with_chatbot(query, conversation_dict[conversation_id])\n",
    "for message in conversation_dict[conversation_id]['chat_history'][-1]:\n",
    "    print(message)"
   ]
  },
  {
   "cell_type": "code",
   "execution_count": null,
   "metadata": {},
   "outputs": [],
   "source": []
  },
  {
   "cell_type": "code",
   "execution_count": null,
   "metadata": {},
   "outputs": [],
   "source": []
  },
  {
   "cell_type": "code",
   "execution_count": null,
   "metadata": {},
   "outputs": [],
   "source": []
  },
  {
   "cell_type": "code",
   "execution_count": null,
   "metadata": {},
   "outputs": [],
   "source": []
  },
  {
   "cell_type": "code",
   "execution_count": null,
   "metadata": {},
   "outputs": [],
   "source": []
  },
  {
   "cell_type": "code",
   "execution_count": null,
   "metadata": {},
   "outputs": [],
   "source": []
  },
  {
   "cell_type": "code",
   "execution_count": null,
   "metadata": {},
   "outputs": [],
   "source": []
  },
  {
   "cell_type": "code",
   "execution_count": null,
   "metadata": {},
   "outputs": [],
   "source": []
  },
  {
   "cell_type": "code",
   "execution_count": null,
   "metadata": {},
   "outputs": [],
   "source": []
  },
  {
   "cell_type": "code",
   "execution_count": null,
   "metadata": {},
   "outputs": [],
   "source": []
  },
  {
   "cell_type": "code",
   "execution_count": null,
   "metadata": {},
   "outputs": [],
   "source": []
  },
  {
   "cell_type": "code",
   "execution_count": null,
   "metadata": {},
   "outputs": [],
   "source": []
  },
  {
   "cell_type": "code",
   "execution_count": null,
   "metadata": {},
   "outputs": [],
   "source": []
  },
  {
   "cell_type": "code",
   "execution_count": null,
   "metadata": {},
   "outputs": [],
   "source": []
  },
  {
   "attachments": {},
   "cell_type": "markdown",
   "metadata": {},
   "source": [
    "# *End of Page*"
   ]
  }
 ],
 "metadata": {
  "kernelspec": {
   "display_name": "Python 3.9.13 64-bit",
   "language": "python",
   "name": "python3"
  },
  "language_info": {
   "codemirror_mode": {
    "name": "ipython",
    "version": 3
   },
   "file_extension": ".py",
   "mimetype": "text/x-python",
   "name": "python",
   "nbconvert_exporter": "python",
   "pygments_lexer": "ipython3",
   "version": "3.11.5"
  },
  "orig_nbformat": 4,
  "vscode": {
   "interpreter": {
    "hash": "11938c6bc6919ae2720b4d5011047913343b08a43b18698fd82dedb0d4417594"
   }
  }
 },
 "nbformat": 4,
 "nbformat_minor": 2
}
