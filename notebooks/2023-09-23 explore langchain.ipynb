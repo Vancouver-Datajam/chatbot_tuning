{
 "cells": [
  {
   "attachments": {},
   "cell_type": "markdown",
   "metadata": {},
   "source": [
    "# Title\n",
    "[]()"
   ]
  },
  {
   "cell_type": "code",
   "execution_count": 2,
   "metadata": {},
   "outputs": [],
   "source": [
    "\n",
    "import pandas as pd\n",
    "import sys\n",
    "sys.path.append(r\"C:\\Users\\silvh\\OneDrive\\lighthouse\\custom_python\")\n",
    "from silvhua import *\n",
    "# from datetime import datetime\n",
    "# sys.path.append(r\"C:\\Users\\silvh\\OneDrive\\lighthouse\\portfolio-projects\\online-PT-social-media-NLP\\src\")"
   ]
  },
  {
   "cell_type": "markdown",
   "metadata": {},
   "source": [
    "# Initialize Dictionaries"
   ]
  },
  {
   "cell_type": "code",
   "execution_count": 9,
   "metadata": {},
   "outputs": [],
   "source": [
    "tool_dict = dict()\n",
    "embeddings_dict = dict()\n",
    "db_dict = dict()\n",
    "retriever_dict = dict()\n"
   ]
  },
  {
   "cell_type": "markdown",
   "metadata": {},
   "source": [
    "# Loading documents"
   ]
  },
  {
   "cell_type": "code",
   "execution_count": 19,
   "metadata": {},
   "outputs": [],
   "source": [
    "import os\n",
    "from langchain.embeddings.openai import OpenAIEmbeddings\n",
    "from langchain.vectorstores import Chroma\n",
    "from langchain.text_splitter import CharacterTextSplitter\n",
    "from langchain.llms import OpenAI\n",
    "from langchain.chains import ConversationalRetrievalChain\n",
    "from langchain.vectorstores import FAISS\n",
    "from langchain.agents.agent_toolkits import create_retriever_tool\n",
    "\n",
    "# Creating the Agent\n",
    "from langchain.agents.agent_toolkits import create_conversational_retrieval_agent\n",
    "from langchain.chat_models import ChatOpenAI\n",
    "\n",
    "# Create memory \n",
    "from langchain.memory import ConversationBufferMemory"
   ]
  },
  {
   "cell_type": "code",
   "execution_count": 3,
   "metadata": {},
   "outputs": [
    {
     "data": {
      "text/plain": [
       "[Document(page_content='City of Vancouver\\nhttps://vancouver.ca/home-property-development/apartments-condos-and-townhomes.aspx\\n\\nApartments, condos, and townhomes\\n\\nWe do not provide waste collection services to most multi-unit buildings.\\n\\nHowever, we do provide information and resources to building owners and managers to manage waste at apartments, condos, and townhomes.\\n\\nWaste Management Canada collects your recycling on behalf of Recycle BC External website, opens in new tab\\nPhone Waste Management Canada at 604-282-7961 for questions and issues about your recycling service.', metadata={'source': '../data/Vancouver apartments condos townhomes.txt'})]"
      ]
     },
     "execution_count": 3,
     "metadata": {},
     "output_type": "execute_result"
    }
   ],
   "source": [
    "from langchain.document_loaders import TextLoader\n",
    "loader = TextLoader(\"../data/Vancouver apartments condos townhomes.txt\")\n",
    "documents = loader.load()\n",
    "documents"
   ]
  },
  {
   "cell_type": "code",
   "execution_count": 4,
   "metadata": {},
   "outputs": [
    {
     "data": {
      "text/plain": [
       "[Document(page_content='City of Vancouver\\nhttps://vancouver.ca/home-property-development/apartments-condos-and-townhomes.aspx\\n\\nApartments, condos, and townhomes\\n\\nWe do not provide waste collection services to most multi-unit buildings.\\n\\nHowever, we do provide information and resources to building owners and managers to manage waste at apartments, condos, and townhomes.\\n\\nWaste Management Canada collects your recycling on behalf of Recycle BC External website, opens in new tab\\nPhone Waste Management Canada at 604-282-7961 for questions and issues about your recycling service.', metadata={'source': '../data/Vancouver apartments condos townhomes.txt'}),\n",
       " Document(page_content='City of Vancouver\\nhttps://vancouver.ca/home-property-development/single-family-homes-and-duplexes.aspx\\n\\nSingle family homes and duplexes\\nWe collect residential garbage, food scraps, and yard waste for single family homes and duplexes.\\n\\nYour household waste collection schedule is based on your location.\\n\\nRecycling: service is provided by GFL Environmental (formerly Smithrite Disposal Ltd) on behalf of Recycle BC External website, opens in new tab\\nPhone 604-282-7966 or email srrecycle@gflenv.com about your recycling service, including:\\n\\nCollection questions or issues\\nReplacing blue bins and recycling bags', metadata={'source': '../data/Vancouver single family homes and duplexes.txt'})]"
      ]
     },
     "execution_count": 4,
     "metadata": {},
     "output_type": "execute_result"
    }
   ],
   "source": [
    "from langchain.document_loaders import TextLoader\n",
    "loaders = [\n",
    "    TextLoader(\"../data/Vancouver apartments condos townhomes.txt\"),\n",
    "    TextLoader(\"../data/Vancouver single family homes and duplexes.txt\")\n",
    "]\n",
    "\n",
    "documents = []\n",
    "for loader in loaders:\n",
    "    documents.extend(loader.load())\n",
    "\n",
    "documents"
   ]
  },
  {
   "cell_type": "code",
   "execution_count": 15,
   "metadata": {},
   "outputs": [
    {
     "ename": "ImportError",
     "evalue": "Could not import tiktoken python package. This is needed in order to for OpenAIEmbeddings. Please install it with `pip install tiktoken`.",
     "output_type": "error",
     "traceback": [
      "\u001b[1;31m---------------------------------------------------------------------------\u001b[0m",
      "\u001b[1;31mModuleNotFoundError\u001b[0m                       Traceback (most recent call last)",
      "File \u001b[1;32mc:\\Users\\silvh\\.conda\\envs\\datajam\\Lib\\site-packages\\langchain\\embeddings\\openai.py:329\u001b[0m, in \u001b[0;36mOpenAIEmbeddings._get_len_safe_embeddings\u001b[1;34m(self, texts, engine, chunk_size)\u001b[0m\n\u001b[0;32m    328\u001b[0m \u001b[39mtry\u001b[39;00m:\n\u001b[1;32m--> 329\u001b[0m     \u001b[39mimport\u001b[39;00m \u001b[39mtiktoken\u001b[39;00m\n\u001b[0;32m    330\u001b[0m \u001b[39mexcept\u001b[39;00m \u001b[39mImportError\u001b[39;00m:\n",
      "\u001b[1;31mModuleNotFoundError\u001b[0m: No module named 'tiktoken'",
      "\nDuring handling of the above exception, another exception occurred:\n",
      "\u001b[1;31mImportError\u001b[0m                               Traceback (most recent call last)",
      "\u001b[1;32mc:\\Users\\silvh\\OneDrive\\lighthouse\\portfolio-projects\\datajam-chatbot\\chatbot_tuning\\notebooks\\2023-09-23 explore langchain.ipynb Cell 10\u001b[0m line \u001b[0;36m5\n\u001b[0;32m      <a href='vscode-notebook-cell:/c%3A/Users/silvh/OneDrive/lighthouse/portfolio-projects/datajam-chatbot/chatbot_tuning/notebooks/2023-09-23%20explore%20langchain.ipynb#X12sZmlsZQ%3D%3D?line=2'>3</a>\u001b[0m texts \u001b[39m=\u001b[39m text_splitter\u001b[39m.\u001b[39msplit_documents(documents)\n\u001b[0;32m      <a href='vscode-notebook-cell:/c%3A/Users/silvh/OneDrive/lighthouse/portfolio-projects/datajam-chatbot/chatbot_tuning/notebooks/2023-09-23%20explore%20langchain.ipynb#X12sZmlsZQ%3D%3D?line=3'>4</a>\u001b[0m embeddings_dict[site_key] \u001b[39m=\u001b[39m OpenAIEmbeddings()\n\u001b[1;32m----> <a href='vscode-notebook-cell:/c%3A/Users/silvh/OneDrive/lighthouse/portfolio-projects/datajam-chatbot/chatbot_tuning/notebooks/2023-09-23%20explore%20langchain.ipynb#X12sZmlsZQ%3D%3D?line=4'>5</a>\u001b[0m db_dict[site_key] \u001b[39m=\u001b[39m FAISS\u001b[39m.\u001b[39mfrom_documents(texts, embeddings_dict[site_key])\n\u001b[0;32m      <a href='vscode-notebook-cell:/c%3A/Users/silvh/OneDrive/lighthouse/portfolio-projects/datajam-chatbot/chatbot_tuning/notebooks/2023-09-23%20explore%20langchain.ipynb#X12sZmlsZQ%3D%3D?line=5'>6</a>\u001b[0m retriever_dict[site_key] \u001b[39m=\u001b[39m db_dict[site_key]\u001b[39m.\u001b[39mas_retriever()\n\u001b[0;32m      <a href='vscode-notebook-cell:/c%3A/Users/silvh/OneDrive/lighthouse/portfolio-projects/datajam-chatbot/chatbot_tuning/notebooks/2023-09-23%20explore%20langchain.ipynb#X12sZmlsZQ%3D%3D?line=6'>7</a>\u001b[0m tools_dict[\u001b[39m'\u001b[39m\u001b[39mCoV\u001b[39m\u001b[39m'\u001b[39m] \u001b[39m=\u001b[39m create_retriever_tool(\n\u001b[0;32m      <a href='vscode-notebook-cell:/c%3A/Users/silvh/OneDrive/lighthouse/portfolio-projects/datajam-chatbot/chatbot_tuning/notebooks/2023-09-23%20explore%20langchain.ipynb#X12sZmlsZQ%3D%3D?line=7'>8</a>\u001b[0m     retriever, \n\u001b[0;32m      <a href='vscode-notebook-cell:/c%3A/Users/silvh/OneDrive/lighthouse/portfolio-projects/datajam-chatbot/chatbot_tuning/notebooks/2023-09-23%20explore%20langchain.ipynb#X12sZmlsZQ%3D%3D?line=8'>9</a>\u001b[0m     \u001b[39m\"\u001b[39m\u001b[39msearch_CoV\u001b[39m\u001b[39m\"\u001b[39m,\n\u001b[0;32m     <a href='vscode-notebook-cell:/c%3A/Users/silvh/OneDrive/lighthouse/portfolio-projects/datajam-chatbot/chatbot_tuning/notebooks/2023-09-23%20explore%20langchain.ipynb#X12sZmlsZQ%3D%3D?line=9'>10</a>\u001b[0m     \u001b[39m\"\u001b[39m\u001b[39mSearches and returns documents regarding waste and recycling in the City of Vancouver.\u001b[39m\u001b[39m\"\u001b[39m\n\u001b[0;32m     <a href='vscode-notebook-cell:/c%3A/Users/silvh/OneDrive/lighthouse/portfolio-projects/datajam-chatbot/chatbot_tuning/notebooks/2023-09-23%20explore%20langchain.ipynb#X12sZmlsZQ%3D%3D?line=10'>11</a>\u001b[0m )\n",
      "File \u001b[1;32mc:\\Users\\silvh\\.conda\\envs\\datajam\\Lib\\site-packages\\langchain\\vectorstores\\base.py:417\u001b[0m, in \u001b[0;36mVectorStore.from_documents\u001b[1;34m(cls, documents, embedding, **kwargs)\u001b[0m\n\u001b[0;32m    415\u001b[0m texts \u001b[39m=\u001b[39m [d\u001b[39m.\u001b[39mpage_content \u001b[39mfor\u001b[39;00m d \u001b[39min\u001b[39;00m documents]\n\u001b[0;32m    416\u001b[0m metadatas \u001b[39m=\u001b[39m [d\u001b[39m.\u001b[39mmetadata \u001b[39mfor\u001b[39;00m d \u001b[39min\u001b[39;00m documents]\n\u001b[1;32m--> 417\u001b[0m \u001b[39mreturn\u001b[39;00m \u001b[39mcls\u001b[39m\u001b[39m.\u001b[39mfrom_texts(texts, embedding, metadatas\u001b[39m=\u001b[39mmetadatas, \u001b[39m*\u001b[39m\u001b[39m*\u001b[39mkwargs)\n",
      "File \u001b[1;32mc:\\Users\\silvh\\.conda\\envs\\datajam\\Lib\\site-packages\\langchain\\vectorstores\\faiss.py:602\u001b[0m, in \u001b[0;36mFAISS.from_texts\u001b[1;34m(cls, texts, embedding, metadatas, ids, **kwargs)\u001b[0m\n\u001b[0;32m    575\u001b[0m \u001b[39m@classmethod\u001b[39m\n\u001b[0;32m    576\u001b[0m \u001b[39mdef\u001b[39;00m \u001b[39mfrom_texts\u001b[39m(\n\u001b[0;32m    577\u001b[0m     \u001b[39mcls\u001b[39m,\n\u001b[1;32m   (...)\u001b[0m\n\u001b[0;32m    582\u001b[0m     \u001b[39m*\u001b[39m\u001b[39m*\u001b[39mkwargs: Any,\n\u001b[0;32m    583\u001b[0m ) \u001b[39m-\u001b[39m\u001b[39m>\u001b[39m FAISS:\n\u001b[0;32m    584\u001b[0m \u001b[39m    \u001b[39m\u001b[39m\"\"\"Construct FAISS wrapper from raw documents.\u001b[39;00m\n\u001b[0;32m    585\u001b[0m \n\u001b[0;32m    586\u001b[0m \u001b[39m    This is a user friendly interface that:\u001b[39;00m\n\u001b[1;32m   (...)\u001b[0m\n\u001b[0;32m    600\u001b[0m \u001b[39m            faiss = FAISS.from_texts(texts, embeddings)\u001b[39;00m\n\u001b[0;32m    601\u001b[0m \u001b[39m    \"\"\"\u001b[39;00m\n\u001b[1;32m--> 602\u001b[0m     embeddings \u001b[39m=\u001b[39m embedding\u001b[39m.\u001b[39membed_documents(texts)\n\u001b[0;32m    603\u001b[0m     \u001b[39mreturn\u001b[39;00m \u001b[39mcls\u001b[39m\u001b[39m.\u001b[39m__from(\n\u001b[0;32m    604\u001b[0m         texts,\n\u001b[0;32m    605\u001b[0m         embeddings,\n\u001b[1;32m   (...)\u001b[0m\n\u001b[0;32m    609\u001b[0m         \u001b[39m*\u001b[39m\u001b[39m*\u001b[39mkwargs,\n\u001b[0;32m    610\u001b[0m     )\n",
      "File \u001b[1;32mc:\\Users\\silvh\\.conda\\envs\\datajam\\Lib\\site-packages\\langchain\\embeddings\\openai.py:490\u001b[0m, in \u001b[0;36mOpenAIEmbeddings.embed_documents\u001b[1;34m(self, texts, chunk_size)\u001b[0m\n\u001b[0;32m    478\u001b[0m \u001b[39m\u001b[39m\u001b[39m\"\"\"Call out to OpenAI's embedding endpoint for embedding search docs.\u001b[39;00m\n\u001b[0;32m    479\u001b[0m \n\u001b[0;32m    480\u001b[0m \u001b[39mArgs:\u001b[39;00m\n\u001b[1;32m   (...)\u001b[0m\n\u001b[0;32m    486\u001b[0m \u001b[39m    List of embeddings, one for each text.\u001b[39;00m\n\u001b[0;32m    487\u001b[0m \u001b[39m\"\"\"\u001b[39;00m\n\u001b[0;32m    488\u001b[0m \u001b[39m# NOTE: to keep things simple, we assume the list may contain texts longer\u001b[39;00m\n\u001b[0;32m    489\u001b[0m \u001b[39m#       than the maximum context and use length-safe embedding function.\u001b[39;00m\n\u001b[1;32m--> 490\u001b[0m \u001b[39mreturn\u001b[39;00m \u001b[39mself\u001b[39m\u001b[39m.\u001b[39m_get_len_safe_embeddings(texts, engine\u001b[39m=\u001b[39m\u001b[39mself\u001b[39m\u001b[39m.\u001b[39mdeployment)\n",
      "File \u001b[1;32mc:\\Users\\silvh\\.conda\\envs\\datajam\\Lib\\site-packages\\langchain\\embeddings\\openai.py:331\u001b[0m, in \u001b[0;36mOpenAIEmbeddings._get_len_safe_embeddings\u001b[1;34m(self, texts, engine, chunk_size)\u001b[0m\n\u001b[0;32m    329\u001b[0m     \u001b[39mimport\u001b[39;00m \u001b[39mtiktoken\u001b[39;00m\n\u001b[0;32m    330\u001b[0m \u001b[39mexcept\u001b[39;00m \u001b[39mImportError\u001b[39;00m:\n\u001b[1;32m--> 331\u001b[0m     \u001b[39mraise\u001b[39;00m \u001b[39mImportError\u001b[39;00m(\n\u001b[0;32m    332\u001b[0m         \u001b[39m\"\u001b[39m\u001b[39mCould not import tiktoken python package. \u001b[39m\u001b[39m\"\u001b[39m\n\u001b[0;32m    333\u001b[0m         \u001b[39m\"\u001b[39m\u001b[39mThis is needed in order to for OpenAIEmbeddings. \u001b[39m\u001b[39m\"\u001b[39m\n\u001b[0;32m    334\u001b[0m         \u001b[39m\"\u001b[39m\u001b[39mPlease install it with `pip install tiktoken`.\u001b[39m\u001b[39m\"\u001b[39m\n\u001b[0;32m    335\u001b[0m     )\n\u001b[0;32m    337\u001b[0m tokens \u001b[39m=\u001b[39m []\n\u001b[0;32m    338\u001b[0m indices \u001b[39m=\u001b[39m []\n",
      "\u001b[1;31mImportError\u001b[0m: Could not import tiktoken python package. This is needed in order to for OpenAIEmbeddings. Please install it with `pip install tiktoken`."
     ]
    }
   ],
   "source": [
    "site_key = 1 # City of Vancouver Website\n",
    "text_splitter = CharacterTextSplitter(chunk_size=1000, chunk_overlap=0)\n",
    "texts = text_splitter.split_documents(documents)\n",
    "embeddings_dict[site_key] = OpenAIEmbeddings()\n",
    "db_dict[site_key] = FAISS.from_documents(texts, embeddings_dict[site_key])\n",
    "retriever_dict[site_key] = db_dict[site_key].as_retriever()\n",
    "tools_dict['CoV'] = create_retriever_tool(\n",
    "    retriever, \n",
    "    \"search_CoV\",\n",
    "    \"Searches and returns documents regarding waste and recycling in the City of Vancouver.\"\n",
    ")\n",
    "tools = [tools_dict['CoV']]\n",
    "tools"
   ]
  },
  {
   "cell_type": "markdown",
   "metadata": {},
   "source": [
    "## installed tiktoken, then refreshed kernel"
   ]
  },
  {
   "cell_type": "code",
   "execution_count": 5,
   "metadata": {},
   "outputs": [
    {
     "ename": "ImportError",
     "evalue": "Could not import faiss python package. Please install it with `pip install faiss-gpu` (for CUDA supported GPU) or `pip install faiss-cpu` (depending on Python version).",
     "output_type": "error",
     "traceback": [
      "\u001b[1;31m---------------------------------------------------------------------------\u001b[0m",
      "\u001b[1;31mModuleNotFoundError\u001b[0m                       Traceback (most recent call last)",
      "File \u001b[1;32mc:\\Users\\silvh\\.conda\\envs\\datajam\\Lib\\site-packages\\langchain\\vectorstores\\faiss.py:47\u001b[0m, in \u001b[0;36mdependable_faiss_import\u001b[1;34m(no_avx2)\u001b[0m\n\u001b[0;32m     46\u001b[0m     \u001b[39melse\u001b[39;00m:\n\u001b[1;32m---> 47\u001b[0m         \u001b[39mimport\u001b[39;00m \u001b[39mfaiss\u001b[39;00m\n\u001b[0;32m     48\u001b[0m \u001b[39mexcept\u001b[39;00m \u001b[39mImportError\u001b[39;00m:\n",
      "\u001b[1;31mModuleNotFoundError\u001b[0m: No module named 'faiss'",
      "\nDuring handling of the above exception, another exception occurred:\n",
      "\u001b[1;31mImportError\u001b[0m                               Traceback (most recent call last)",
      "\u001b[1;32mc:\\Users\\silvh\\OneDrive\\lighthouse\\portfolio-projects\\datajam-chatbot\\chatbot_tuning\\notebooks\\2023-09-23 explore langchain.ipynb Cell 11\u001b[0m line \u001b[0;36m5\n\u001b[0;32m      <a href='vscode-notebook-cell:/c%3A/Users/silvh/OneDrive/lighthouse/portfolio-projects/datajam-chatbot/chatbot_tuning/notebooks/2023-09-23%20explore%20langchain.ipynb#X36sZmlsZQ%3D%3D?line=2'>3</a>\u001b[0m texts \u001b[39m=\u001b[39m text_splitter\u001b[39m.\u001b[39msplit_documents(documents)\n\u001b[0;32m      <a href='vscode-notebook-cell:/c%3A/Users/silvh/OneDrive/lighthouse/portfolio-projects/datajam-chatbot/chatbot_tuning/notebooks/2023-09-23%20explore%20langchain.ipynb#X36sZmlsZQ%3D%3D?line=3'>4</a>\u001b[0m embeddings_dict[site_key] \u001b[39m=\u001b[39m OpenAIEmbeddings()\n\u001b[1;32m----> <a href='vscode-notebook-cell:/c%3A/Users/silvh/OneDrive/lighthouse/portfolio-projects/datajam-chatbot/chatbot_tuning/notebooks/2023-09-23%20explore%20langchain.ipynb#X36sZmlsZQ%3D%3D?line=4'>5</a>\u001b[0m db_dict[site_key] \u001b[39m=\u001b[39m FAISS\u001b[39m.\u001b[39mfrom_documents(texts, embeddings_dict[site_key])\n\u001b[0;32m      <a href='vscode-notebook-cell:/c%3A/Users/silvh/OneDrive/lighthouse/portfolio-projects/datajam-chatbot/chatbot_tuning/notebooks/2023-09-23%20explore%20langchain.ipynb#X36sZmlsZQ%3D%3D?line=5'>6</a>\u001b[0m retriever_dict[site_key] \u001b[39m=\u001b[39m db_dict[site_key]\u001b[39m.\u001b[39mas_retriever()\n\u001b[0;32m      <a href='vscode-notebook-cell:/c%3A/Users/silvh/OneDrive/lighthouse/portfolio-projects/datajam-chatbot/chatbot_tuning/notebooks/2023-09-23%20explore%20langchain.ipynb#X36sZmlsZQ%3D%3D?line=6'>7</a>\u001b[0m tools_dict[\u001b[39m'\u001b[39m\u001b[39mCoV\u001b[39m\u001b[39m'\u001b[39m] \u001b[39m=\u001b[39m create_retriever_tool(\n\u001b[0;32m      <a href='vscode-notebook-cell:/c%3A/Users/silvh/OneDrive/lighthouse/portfolio-projects/datajam-chatbot/chatbot_tuning/notebooks/2023-09-23%20explore%20langchain.ipynb#X36sZmlsZQ%3D%3D?line=7'>8</a>\u001b[0m     retriever, \n\u001b[0;32m      <a href='vscode-notebook-cell:/c%3A/Users/silvh/OneDrive/lighthouse/portfolio-projects/datajam-chatbot/chatbot_tuning/notebooks/2023-09-23%20explore%20langchain.ipynb#X36sZmlsZQ%3D%3D?line=8'>9</a>\u001b[0m     \u001b[39m\"\u001b[39m\u001b[39msearch_CoV\u001b[39m\u001b[39m\"\u001b[39m,\n\u001b[0;32m     <a href='vscode-notebook-cell:/c%3A/Users/silvh/OneDrive/lighthouse/portfolio-projects/datajam-chatbot/chatbot_tuning/notebooks/2023-09-23%20explore%20langchain.ipynb#X36sZmlsZQ%3D%3D?line=9'>10</a>\u001b[0m     \u001b[39m\"\u001b[39m\u001b[39mSearches and returns documents regarding waste and recycling in the City of Vancouver.\u001b[39m\u001b[39m\"\u001b[39m\n\u001b[0;32m     <a href='vscode-notebook-cell:/c%3A/Users/silvh/OneDrive/lighthouse/portfolio-projects/datajam-chatbot/chatbot_tuning/notebooks/2023-09-23%20explore%20langchain.ipynb#X36sZmlsZQ%3D%3D?line=10'>11</a>\u001b[0m )\n",
      "File \u001b[1;32mc:\\Users\\silvh\\.conda\\envs\\datajam\\Lib\\site-packages\\langchain\\vectorstores\\base.py:417\u001b[0m, in \u001b[0;36mVectorStore.from_documents\u001b[1;34m(cls, documents, embedding, **kwargs)\u001b[0m\n\u001b[0;32m    415\u001b[0m texts \u001b[39m=\u001b[39m [d\u001b[39m.\u001b[39mpage_content \u001b[39mfor\u001b[39;00m d \u001b[39min\u001b[39;00m documents]\n\u001b[0;32m    416\u001b[0m metadatas \u001b[39m=\u001b[39m [d\u001b[39m.\u001b[39mmetadata \u001b[39mfor\u001b[39;00m d \u001b[39min\u001b[39;00m documents]\n\u001b[1;32m--> 417\u001b[0m \u001b[39mreturn\u001b[39;00m \u001b[39mcls\u001b[39m\u001b[39m.\u001b[39mfrom_texts(texts, embedding, metadatas\u001b[39m=\u001b[39mmetadatas, \u001b[39m*\u001b[39m\u001b[39m*\u001b[39mkwargs)\n",
      "File \u001b[1;32mc:\\Users\\silvh\\.conda\\envs\\datajam\\Lib\\site-packages\\langchain\\vectorstores\\faiss.py:603\u001b[0m, in \u001b[0;36mFAISS.from_texts\u001b[1;34m(cls, texts, embedding, metadatas, ids, **kwargs)\u001b[0m\n\u001b[0;32m    584\u001b[0m \u001b[39m\u001b[39m\u001b[39m\"\"\"Construct FAISS wrapper from raw documents.\u001b[39;00m\n\u001b[0;32m    585\u001b[0m \n\u001b[0;32m    586\u001b[0m \u001b[39mThis is a user friendly interface that:\u001b[39;00m\n\u001b[1;32m   (...)\u001b[0m\n\u001b[0;32m    600\u001b[0m \u001b[39m        faiss = FAISS.from_texts(texts, embeddings)\u001b[39;00m\n\u001b[0;32m    601\u001b[0m \u001b[39m\"\"\"\u001b[39;00m\n\u001b[0;32m    602\u001b[0m embeddings \u001b[39m=\u001b[39m embedding\u001b[39m.\u001b[39membed_documents(texts)\n\u001b[1;32m--> 603\u001b[0m \u001b[39mreturn\u001b[39;00m \u001b[39mcls\u001b[39m\u001b[39m.\u001b[39m__from(\n\u001b[0;32m    604\u001b[0m     texts,\n\u001b[0;32m    605\u001b[0m     embeddings,\n\u001b[0;32m    606\u001b[0m     embedding,\n\u001b[0;32m    607\u001b[0m     metadatas\u001b[39m=\u001b[39mmetadatas,\n\u001b[0;32m    608\u001b[0m     ids\u001b[39m=\u001b[39mids,\n\u001b[0;32m    609\u001b[0m     \u001b[39m*\u001b[39m\u001b[39m*\u001b[39mkwargs,\n\u001b[0;32m    610\u001b[0m )\n",
      "File \u001b[1;32mc:\\Users\\silvh\\.conda\\envs\\datajam\\Lib\\site-packages\\langchain\\vectorstores\\faiss.py:557\u001b[0m, in \u001b[0;36mFAISS.__from\u001b[1;34m(cls, texts, embeddings, embedding, metadatas, ids, normalize_L2, distance_strategy, **kwargs)\u001b[0m\n\u001b[0;32m    545\u001b[0m \u001b[39m@classmethod\u001b[39m\n\u001b[0;32m    546\u001b[0m \u001b[39mdef\u001b[39;00m \u001b[39m__from\u001b[39m(\n\u001b[0;32m    547\u001b[0m     \u001b[39mcls\u001b[39m,\n\u001b[1;32m   (...)\u001b[0m\n\u001b[0;32m    555\u001b[0m     \u001b[39m*\u001b[39m\u001b[39m*\u001b[39mkwargs: Any,\n\u001b[0;32m    556\u001b[0m ) \u001b[39m-\u001b[39m\u001b[39m>\u001b[39m FAISS:\n\u001b[1;32m--> 557\u001b[0m     faiss \u001b[39m=\u001b[39m dependable_faiss_import()\n\u001b[0;32m    558\u001b[0m     \u001b[39mif\u001b[39;00m distance_strategy \u001b[39m==\u001b[39m DistanceStrategy\u001b[39m.\u001b[39mMAX_INNER_PRODUCT:\n\u001b[0;32m    559\u001b[0m         index \u001b[39m=\u001b[39m faiss\u001b[39m.\u001b[39mIndexFlatIP(\u001b[39mlen\u001b[39m(embeddings[\u001b[39m0\u001b[39m]))\n",
      "File \u001b[1;32mc:\\Users\\silvh\\.conda\\envs\\datajam\\Lib\\site-packages\\langchain\\vectorstores\\faiss.py:49\u001b[0m, in \u001b[0;36mdependable_faiss_import\u001b[1;34m(no_avx2)\u001b[0m\n\u001b[0;32m     47\u001b[0m         \u001b[39mimport\u001b[39;00m \u001b[39mfaiss\u001b[39;00m\n\u001b[0;32m     48\u001b[0m \u001b[39mexcept\u001b[39;00m \u001b[39mImportError\u001b[39;00m:\n\u001b[1;32m---> 49\u001b[0m     \u001b[39mraise\u001b[39;00m \u001b[39mImportError\u001b[39;00m(\n\u001b[0;32m     50\u001b[0m         \u001b[39m\"\u001b[39m\u001b[39mCould not import faiss python package. \u001b[39m\u001b[39m\"\u001b[39m\n\u001b[0;32m     51\u001b[0m         \u001b[39m\"\u001b[39m\u001b[39mPlease install it with `pip install faiss-gpu` (for CUDA supported GPU) \u001b[39m\u001b[39m\"\u001b[39m\n\u001b[0;32m     52\u001b[0m         \u001b[39m\"\u001b[39m\u001b[39mor `pip install faiss-cpu` (depending on Python version).\u001b[39m\u001b[39m\"\u001b[39m\n\u001b[0;32m     53\u001b[0m     )\n\u001b[0;32m     54\u001b[0m \u001b[39mreturn\u001b[39;00m faiss\n",
      "\u001b[1;31mImportError\u001b[0m: Could not import faiss python package. Please install it with `pip install faiss-gpu` (for CUDA supported GPU) or `pip install faiss-cpu` (depending on Python version)."
     ]
    }
   ],
   "source": [
    "site_key = 1 # City of Vancouver Website\n",
    "text_splitter = CharacterTextSplitter(chunk_size=1000, chunk_overlap=0)\n",
    "texts = text_splitter.split_documents(documents)\n",
    "embeddings_dict[site_key] = OpenAIEmbeddings()\n",
    "db_dict[site_key] = FAISS.from_documents(texts, embeddings_dict[site_key])\n",
    "retriever_dict[site_key] = db_dict[site_key].as_retriever()\n",
    "tools_dict['CoV'] = create_retriever_tool(\n",
    "    retriever, \n",
    "    \"search_CoV\",\n",
    "    \"Searches and returns documents regarding waste and recycling in the City of Vancouver.\"\n",
    ")\n",
    "tools = [tools_dict['CoV']]\n",
    "tools"
   ]
  },
  {
   "cell_type": "markdown",
   "metadata": {},
   "source": [
    "## `pip install faiss-cpu` then refreshed kernel"
   ]
  },
  {
   "cell_type": "code",
   "execution_count": 13,
   "metadata": {},
   "outputs": [
    {
     "data": {
      "text/plain": [
       "[Tool(name='search_CoV', description='Searches and returns documents regarding waste and recycling in the City of Vancouver.', args_schema=None, return_direct=False, verbose=False, callbacks=None, callback_manager=None, tags=None, metadata=None, handle_tool_error=False, func=<bound method BaseRetriever.get_relevant_documents of VectorStoreRetriever(tags=['FAISS'], metadata=None, vectorstore=<langchain.vectorstores.faiss.FAISS object at 0x0000016D4E517ED0>, search_type='similarity', search_kwargs={})>, coroutine=<bound method BaseRetriever.aget_relevant_documents of VectorStoreRetriever(tags=['FAISS'], metadata=None, vectorstore=<langchain.vectorstores.faiss.FAISS object at 0x0000016D4E517ED0>, search_type='similarity', search_kwargs={})>)]"
      ]
     },
     "execution_count": 13,
     "metadata": {},
     "output_type": "execute_result"
    }
   ],
   "source": [
    "site_key = 'CoV' # City of Vancouver Website\n",
    "iteration = 1\n",
    "text_splitter = CharacterTextSplitter(chunk_size=1000, chunk_overlap=0)\n",
    "texts = text_splitter.split_documents(documents)\n",
    "embeddings_dict[site_key] = OpenAIEmbeddings()\n",
    "db_dict[site_key] = FAISS.from_documents(texts, embeddings_dict[site_key])\n",
    "retriever_dict[site_key] = db_dict[site_key].as_retriever()\n",
    "tool_dict[iteration] = create_retriever_tool(\n",
    "    retriever_dict['CoV'], \n",
    "    \"search_CoV\",\n",
    "    \"Searches and returns documents regarding waste and recycling in the City of Vancouver.\"\n",
    ")\n",
    "tools = [tool_dict[1]]\n",
    "tools"
   ]
  },
  {
   "cell_type": "code",
   "execution_count": 27,
   "metadata": {},
   "outputs": [
    {
     "data": {
      "text/plain": [
       "VectorStoreRetriever(tags=['FAISS'], metadata=None, vectorstore=<langchain.vectorstores.faiss.FAISS object at 0x0000016D4E517ED0>, search_type='similarity', search_kwargs={})"
      ]
     },
     "execution_count": 27,
     "metadata": {},
     "output_type": "execute_result"
    }
   ],
   "source": [
    "retriever_dict['CoV']"
   ]
  },
  {
   "cell_type": "markdown",
   "metadata": {},
   "source": [
    "# Build agent w/ memory\n",
    "It looks like since the `tools` variable already can contain multiple retrievers, I don't need to [Dynamically select from multiple retrievers](https://python.langchain.com/docs/use_cases/question_answering/how_to/multi_retrieval_qa_router)"
   ]
  },
  {
   "cell_type": "code",
   "execution_count": null,
   "metadata": {},
   "outputs": [],
   "source": [
    "retriever_infos = [\n",
    "    {\n",
    "        \"name\": \"state of the union\", \n",
    "        \"description\": \"Good for answering questions about the 2023 State of the Union address\", \n",
    "        \"retriever\": sou_retriever\n",
    "    }\n",
    "]"
   ]
  },
  {
   "cell_type": "code",
   "execution_count": 21,
   "metadata": {},
   "outputs": [
    {
     "data": {
      "text/plain": [
       "{'question': 'I live in a house in Vancouver. How do I separate my waste?',\n",
       " 'chat_history': [HumanMessage(content='I live in a house in Vancouver. How do I separate my waste?', additional_kwargs={}, example=False),\n",
       "  AIMessage(content=\"As a resident of a single-family home or duplex in Vancouver, you can separate your waste into different categories. Here's how you can do it:\\n\\n1. Garbage: Place non-recyclable and non-compostable waste in your regular garbage bin. Make sure to tie the garbage bags securely.\\n\\n2. Recycling: GFL Environmental (formerly Smithrite Disposal Ltd) handles recycling collection on behalf of Recycle BC. You can contact them at 604-282-7966 or email srrecycle@gflenv.com for any questions or issues regarding your recycling service. They provide blue bins and recycling bags for your recyclable materials like paper, cardboard, plastic containers, metal cans, and glass bottles.\\n\\n3. Food Scraps: Vancouver collects food scraps for composting. You can use a separate green bin or a compostable bag to collect your food scraps, including fruit and vegetable peels, coffee grounds, and eggshells. Place the green bin or compostable bag in your yard waste bin for collection.\\n\\n4. Yard Waste: Vancouver also collects yard waste, such as leaves, grass clippings, and small branches. You can place these materials in a separate yard waste bin or use compostable bags. Make sure to tie the bags securely or place them in the yard waste bin.\\n\\nRemember to check your household waste collection schedule based on your location to know the specific collection days for each category.\", additional_kwargs={}, example=False)],\n",
       " 'answer': \"As a resident of a single-family home or duplex in Vancouver, you can separate your waste into different categories. Here's how you can do it:\\n\\n1. Garbage: Place non-recyclable and non-compostable waste in your regular garbage bin. Make sure to tie the garbage bags securely.\\n\\n2. Recycling: GFL Environmental (formerly Smithrite Disposal Ltd) handles recycling collection on behalf of Recycle BC. You can contact them at 604-282-7966 or email srrecycle@gflenv.com for any questions or issues regarding your recycling service. They provide blue bins and recycling bags for your recyclable materials like paper, cardboard, plastic containers, metal cans, and glass bottles.\\n\\n3. Food Scraps: Vancouver collects food scraps for composting. You can use a separate green bin or a compostable bag to collect your food scraps, including fruit and vegetable peels, coffee grounds, and eggshells. Place the green bin or compostable bag in your yard waste bin for collection.\\n\\n4. Yard Waste: Vancouver also collects yard waste, such as leaves, grass clippings, and small branches. You can place these materials in a separate yard waste bin or use compostable bags. Make sure to tie the bags securely or place them in the yard waste bin.\\n\\nRemember to check your household waste collection schedule based on your location to know the specific collection days for each category.\"}"
      ]
     },
     "execution_count": 21,
     "metadata": {},
     "output_type": "execute_result"
    }
   ],
   "source": [
    "llm = ChatOpenAI(\n",
    "    temperature = 0,\n",
    "    openai_organization=os.environ['openai_organization'],\n",
    "    openai_api_key=os.environ['openai_api_key'],\n",
    "    )\n",
    "agent_executor = create_conversational_retrieval_agent(llm, tools, verbose=True)\n",
    "memory = ConversationBufferMemory(memory_key=\"chat_history\", return_messages=True)\n",
    "qa = ConversationalRetrievalChain.from_llm(llm, db_dict[site_key].as_retriever(), memory=memory)\n",
    "# chain = MultiRetrievalQAChain.from_retrievers(llm, retriever_infos, verbose=True, memory=memory)\n",
    "query = \"I live in a house in Vancouver. How do I separate my waste?\"\n",
    "result = qa({\"question\": query})\n",
    "result"
   ]
  },
  {
   "cell_type": "code",
   "execution_count": 26,
   "metadata": {},
   "outputs": [
    {
     "name": "stdout",
     "output_type": "stream",
     "text": [
      "{'question': 'I live in a house in Vancouver. How do I separate my waste?', 'chat_history': [HumanMessage(content='I live in a house in Vancouver. How do I separate my waste?', additional_kwargs={}, example=False), AIMessage(content=\"As a resident of a single-family home or duplex in Vancouver, you can separate your waste into different categories. Here's how you can do it:\\n\\n1. Garbage: Place non-recyclable and non-compostable waste in your regular garbage bin. Make sure to tie the garbage bags securely.\\n\\n2. Recycling: GFL Environmental (formerly Smithrite Disposal Ltd) handles recycling collection on behalf of Recycle BC. You can contact them at 604-282-7966 or email srrecycle@gflenv.com for any questions or issues regarding your recycling service. They provide blue bins and recycling bags for your recyclable materials like paper, cardboard, plastic containers, metal cans, and glass bottles.\\n\\n3. Food Scraps: Vancouver collects food scraps for composting. You can use a separate green bin or a compostable bag to collect your food scraps, including fruit and vegetable peels, coffee grounds, and eggshells. Place the green bin or compostable bag in your yard waste bin for collection.\\n\\n4. Yard Waste: Vancouver also collects yard waste, such as leaves, grass clippings, and small branches. You can place these materials in a separate yard waste bin or use compostable bags. Make sure to tie the bags securely or place them in the yard waste bin.\\n\\nRemember to check your household waste collection schedule based on your location to know the specific collection days for each category.\", additional_kwargs={}, example=False)], 'answer': \"As a resident of a single-family home or duplex in Vancouver, you can separate your waste into different categories. Here's how you can do it:\\n\\n1. Garbage: Place non-recyclable and non-compostable waste in your regular garbage bin. Make sure to tie the garbage bags securely.\\n\\n2. Recycling: GFL Environmental (formerly Smithrite Disposal Ltd) handles recycling collection on behalf of Recycle BC. You can contact them at 604-282-7966 or email srrecycle@gflenv.com for any questions or issues regarding your recycling service. They provide blue bins and recycling bags for your recyclable materials like paper, cardboard, plastic containers, metal cans, and glass bottles.\\n\\n3. Food Scraps: Vancouver collects food scraps for composting. You can use a separate green bin or a compostable bag to collect your food scraps, including fruit and vegetable peels, coffee grounds, and eggshells. Place the green bin or compostable bag in your yard waste bin for collection.\\n\\n4. Yard Waste: Vancouver also collects yard waste, such as leaves, grass clippings, and small branches. You can place these materials in a separate yard waste bin or use compostable bags. Make sure to tie the bags securely or place them in the yard waste bin.\\n\\nRemember to check your household waste collection schedule based on your location to know the specific collection days for each category.\"}\n"
     ]
    }
   ],
   "source": [
    "print(result)"
   ]
  },
  {
   "cell_type": "code",
   "execution_count": null,
   "metadata": {},
   "outputs": [],
   "source": []
  },
  {
   "cell_type": "code",
   "execution_count": null,
   "metadata": {},
   "outputs": [],
   "source": []
  },
  {
   "cell_type": "code",
   "execution_count": null,
   "metadata": {},
   "outputs": [],
   "source": []
  },
  {
   "cell_type": "code",
   "execution_count": null,
   "metadata": {},
   "outputs": [],
   "source": []
  },
  {
   "cell_type": "code",
   "execution_count": null,
   "metadata": {},
   "outputs": [],
   "source": []
  },
  {
   "cell_type": "code",
   "execution_count": null,
   "metadata": {},
   "outputs": [],
   "source": []
  },
  {
   "cell_type": "code",
   "execution_count": null,
   "metadata": {},
   "outputs": [],
   "source": []
  },
  {
   "cell_type": "code",
   "execution_count": null,
   "metadata": {},
   "outputs": [],
   "source": []
  },
  {
   "cell_type": "code",
   "execution_count": null,
   "metadata": {},
   "outputs": [],
   "source": []
  },
  {
   "cell_type": "code",
   "execution_count": null,
   "metadata": {},
   "outputs": [],
   "source": []
  },
  {
   "cell_type": "code",
   "execution_count": null,
   "metadata": {},
   "outputs": [],
   "source": []
  },
  {
   "attachments": {},
   "cell_type": "markdown",
   "metadata": {},
   "source": [
    "# *End of Page*"
   ]
  }
 ],
 "metadata": {
  "kernelspec": {
   "display_name": "Python 3.9.13 64-bit",
   "language": "python",
   "name": "python3"
  },
  "language_info": {
   "codemirror_mode": {
    "name": "ipython",
    "version": 3
   },
   "file_extension": ".py",
   "mimetype": "text/x-python",
   "name": "python",
   "nbconvert_exporter": "python",
   "pygments_lexer": "ipython3",
   "version": "3.11.5"
  },
  "orig_nbformat": 4,
  "vscode": {
   "interpreter": {
    "hash": "11938c6bc6919ae2720b4d5011047913343b08a43b18698fd82dedb0d4417594"
   }
  }
 },
 "nbformat": 4,
 "nbformat_minor": 2
}
