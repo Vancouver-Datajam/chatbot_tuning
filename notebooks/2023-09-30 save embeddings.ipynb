{
 "cells": [
  {
   "attachments": {},
   "cell_type": "markdown",
   "metadata": {},
   "source": [
    "# Set up"
   ]
  },
  {
   "cell_type": "code",
   "execution_count": 1,
   "metadata": {},
   "outputs": [],
   "source": [
    "\n",
    "directory='../data/' # This is the directory containing the CSV/text files.\n",
    "\n",
    "# Initialize Dictionaries\n",
    "tool_dict = dict()\n",
    "embeddings_dict = dict()\n",
    "db_dict = dict()\n",
    "retriever_dict = dict()\n",
    "vector_dict = dict()\n",
    "description_dict = dict()\n",
    "answer_dict=dict()\n",
    "conversation_dict = dict()\n",
    "doc_dict = dict()\n",
    "queries_dict = dict()"
   ]
  },
  {
   "cell_type": "code",
   "execution_count": 10,
   "metadata": {},
   "outputs": [],
   "source": [
    "doc_dict2 = dict()"
   ]
  },
  {
   "cell_type": "markdown",
   "metadata": {},
   "source": [
    "# Original scripts from `chat_functions.py`"
   ]
  },
  {
   "cell_type": "code",
   "execution_count": null,
   "metadata": {},
   "outputs": [],
   "source": [
    "import os\n",
    "\n",
    "# documents\n",
    "from langchain.document_loaders import DirectoryLoader\n",
    "from langchain.document_loaders import TextLoader\n",
    "from langchain.document_loaders.csv_loader import CSVLoader\n",
    "\n",
    "from langchain.embeddings.openai import OpenAIEmbeddings\n",
    "# from langchain.vectorstores import Chroma\n",
    "from langchain.text_splitter import CharacterTextSplitter\n",
    "from langchain.llms import OpenAI\n",
    "from langchain.chains import ConversationalRetrievalChain\n",
    "from langchain.vectorstores import FAISS\n",
    "from langchain.agents.agent_toolkits import create_retriever_tool\n",
    "\n",
    "# Creating the Agent\n",
    "from langchain.agents.agent_toolkits import create_conversational_retrieval_agent\n",
    "from langchain.chat_models import ChatOpenAI\n",
    "\n",
    "# Create memory \n",
    "from langchain.memory import ConversationBufferMemory\n",
    "from langchain.memory import StreamlitChatMessageHistory # for Streamlit\n",
    "\n",
    "from langchain.agents.openai_functions_agent.base import OpenAIFunctionsAgent\n",
    "from langchain.schema.messages import SystemMessage\n",
    "from langchain.prompts import MessagesPlaceholder\n",
    "\n",
    "from langchain.agents import AgentExecutor\n",
    "from langchain.agents.openai_functions_agent.agent_token_buffer_memory import AgentTokenBufferMemory\n",
    "\n",
    "import streamlit as st\n",
    "\n",
    "directory='../data/' # This is the directory containing the CSV/text files.\n",
    "\n",
    "# Initialize Dictionaries\n",
    "tool_dict = dict()\n",
    "embeddings_dict = dict()\n",
    "db_dict = dict()\n",
    "retriever_dict = dict()\n",
    "vector_dict = dict()\n",
    "description_dict = dict()\n",
    "answer_dict=dict()\n",
    "conversation_dict = dict()\n",
    "doc_dict = dict()\n",
    "queries_dict = dict()\n",
    "\n",
    "def create_documents(directory='../data', glob='**/[!.]*', show_progress=True, loader_cls=CSVLoader):\n",
    "    loader = DirectoryLoader(\n",
    "        directory, glob=glob, show_progress=show_progress,\n",
    "        loader_cls=loader_cls)\n",
    "\n",
    "    documents = loader.load()\n",
    "    print(f'Number of files: {len(documents)}')\n",
    "    return documents\n",
    "    \n",
    "def create_documents_from_csv(file_path='../data/Datajam_2023___Fine_Tuning_ChatBot_CSV_-_Recycle_BC_1.csv'):\n",
    "    loader = CSVLoader(file_path, encoding='utf-8')\n",
    "    documents = loader.load()\n",
    "    return documents\n",
    "\n",
    "def create_retriever(documents, site_key, vector_dict=vector_dict, text_splitter=None):\n",
    "    \"\"\"\n",
    "    Parameters:\n",
    "        - text_splitter (optional): a text splitter object. If None, the documents are not split. \n",
    "    \"\"\"\n",
    "    embeddings_dict[site_key] = OpenAIEmbeddings(\n",
    "        openai_organization=os.environ['openai_organization'],\n",
    "        openai_api_key=os.environ['openai_api_key']\n",
    "        )\n",
    "    if text_splitter is None: # object type is the same (class 'langchain.schema.document.Document') whether or not the documents are split\n",
    "        texts = documents\n",
    "    else:\n",
    "        texts = text_splitter.split_documents(documents)\n",
    "\n",
    "    vector_dict[site_key] = FAISS.from_documents(texts, embeddings_dict[site_key])\n",
    "    retriever_dict[site_key] = vector_dict[site_key].as_retriever()\n",
    "    return retriever_dict\n"
   ]
  },
  {
   "cell_type": "markdown",
   "metadata": {},
   "source": [
    "# Iteration 1: `create_retriever_and_description_dicts` function"
   ]
  },
  {
   "cell_type": "code",
   "execution_count": 6,
   "metadata": {},
   "outputs": [
    {
     "name": "stdout",
     "output_type": "stream",
     "text": [
      "hello\n"
     ]
    }
   ],
   "source": [
    "import os\n",
    "\n",
    "# documents\n",
    "from langchain.document_loaders import DirectoryLoader\n",
    "from langchain.document_loaders import TextLoader\n",
    "from langchain.document_loaders.csv_loader import CSVLoader\n",
    "\n",
    "from langchain.embeddings.openai import OpenAIEmbeddings\n",
    "# from langchain.vectorstores import Chroma\n",
    "from langchain.text_splitter import CharacterTextSplitter\n",
    "from langchain.llms import OpenAI\n",
    "from langchain.chains import ConversationalRetrievalChain\n",
    "from langchain.vectorstores import FAISS\n",
    "from langchain.agents.agent_toolkits import create_retriever_tool\n",
    "\n",
    "# Creating the Agent\n",
    "from langchain.agents.agent_toolkits import create_conversational_retrieval_agent\n",
    "from langchain.chat_models import ChatOpenAI\n",
    "\n",
    "# Create memory \n",
    "from langchain.memory import ConversationBufferMemory\n",
    "from langchain.memory import StreamlitChatMessageHistory # for Streamlit\n",
    "\n",
    "from langchain.agents.openai_functions_agent.base import OpenAIFunctionsAgent\n",
    "from langchain.schema.messages import SystemMessage\n",
    "from langchain.prompts import MessagesPlaceholder\n",
    "\n",
    "from langchain.agents import AgentExecutor\n",
    "from langchain.agents.openai_functions_agent.agent_token_buffer_memory import AgentTokenBufferMemory\n",
    "\n",
    "import streamlit as st\n",
    "\n",
    "directory='../data/' # This is the directory containing the CSV/text files.\n",
    "\n",
    "# Initialize Dictionaries\n",
    "tool_dict = dict()\n",
    "embeddings_dict = dict()\n",
    "db_dict = dict()\n",
    "retriever_dict = dict()\n",
    "vector_dict = dict()\n",
    "description_dict = dict()\n",
    "answer_dict=dict()\n",
    "conversation_dict = dict()\n",
    "doc_dict = dict()\n",
    "queries_dict = dict()\n",
    "\n",
    "def create_documents(directory='../data', glob='**/[!.]*', show_progress=True, loader_cls=CSVLoader):\n",
    "    loader = DirectoryLoader(\n",
    "        directory, glob=glob, show_progress=show_progress,\n",
    "        loader_cls=loader_cls)\n",
    "\n",
    "    documents = loader.load()\n",
    "    print(f'Number of files: {len(documents)}')\n",
    "    return documents\n",
    "    \n",
    "def create_documents_from_csv(file_path='../data/Datajam_2023___Fine_Tuning_ChatBot_CSV_-_Recycle_BC_1.csv'):\n",
    "    loader = CSVLoader(file_path, encoding='utf-8')\n",
    "    documents = loader.load()\n",
    "    return documents\n",
    "\n",
    "def create_retriever(documents, site_key, vector_dict=vector_dict, text_splitter=None):\n",
    "    \"\"\"\n",
    "    Parameters:\n",
    "        - text_splitter (optional): a text splitter object. If None, the documents are not split. \n",
    "    \"\"\"\n",
    "    embeddings_dict[site_key] = OpenAIEmbeddings(\n",
    "        openai_organization=os.environ['openai_organization'],\n",
    "        openai_api_key=os.environ['openai_api_key']\n",
    "        )\n",
    "    if text_splitter is None: # object type is the same (class 'langchain.schema.document.Document') whether or not the documents are split\n",
    "        texts = documents\n",
    "    else:\n",
    "        texts = text_splitter.split_documents(documents)\n",
    "\n",
    "    vector_dict[site_key] = FAISS.from_documents(texts, embeddings_dict[site_key])\n",
    "    retriever_dict[site_key] = vector_dict[site_key].as_retriever()\n",
    "    return retriever_dict\n",
    "\n",
    "\n",
    "def create_retriever_and_description_dicts(params_dict, doc_dict=doc_dict, vector_dict=vector_dict):\n",
    "    retriever_dict = dict()\n",
    "    description_dict = dict()\n",
    "    for doc_id in doc_dict:\n",
    "        retriever_dict[doc_id] = create_retriever(\n",
    "            doc_dict[doc_id], parms_dict[doc_id]['site_key'], \n",
    "            vector_dict=vector_dict, \n",
    "            text_splitter=parms_dict[doc_id].get('text_splitter', None)\n",
    "            )\n",
    "        description_dict[parms_dict[doc_id]['site_key']] = parms_dict['doc_description']\n",
    "\n",
    "    return retriever_dict, description_dict\n",
    "\n",
    "def create_tools_list(retriever_dict, description_dict):\n",
    "    \"\"\"\n",
    "    https://api.python.langchain.com/en/latest/agents/langchain.agents.agent_toolkits.conversational_retrieval.tool.create_retriever_tool.html?highlight=create_retriever_tool#langchain.agents.agent_toolkits.conversational_retrieval.tool.create_retriever_tool\n",
    "    \"\"\"\n",
    "    tools_list = []\n",
    "    for site_key, retriever in retriever_dict.items():\n",
    "        tool_name = f'search_{site_key}'\n",
    "        tool = create_retriever_tool(retriever_dict[site_key], tool_name, description_dict[site_key])\n",
    "        tools_list.append(tool)\n",
    "    return tools_list\n",
    "\n",
    "\n",
    "recylebc = \"\"\"\n",
    "This document provides information from the Recycle BC website or BC government \n",
    "website. It has the most specific information \n",
    "about whether or not an item is accepted for recycling and where to recycle it.\n",
    "This should be the main resource for recycling information for residents of British Columbia.\n",
    "\"\"\"\n",
    "\n",
    "CoV_mattress = \"\"\"\n",
    "Information from the City of Vancouver website about how to recycle mattresses.\n",
    "\"\"\"\n",
    "\n",
    "params_dict = {\n",
    "    1: {\n",
    "        'site_key': 'recycle',\n",
    "        'doc_description': recylebc,\n",
    "        'text_splitter': None\n",
    "    },\n",
    "    2: {\n",
    "        'site_key': 'matttress',\n",
    "        'doc_description': CoV_mattress,\n",
    "        'text_splitter': None\n",
    "    }\n",
    "}\n",
    "\n",
    "print(params_dict[1].get('text_splitter', 'hello'))"
   ]
  },
  {
   "cell_type": "markdown",
   "metadata": {},
   "source": [
    "# Iteration 2 [Cache the embeddings](https://python.langchain.com/docs/modules/data_connection/text_embedding/caching_embeddings#:~:text=Embeddings%20can%20be%20stored%20or%20temporarily%20cached%20to,is%20used%20as%20the%20key%20in%20the%20cache.)"
   ]
  },
  {
   "cell_type": "code",
   "execution_count": 13,
   "metadata": {},
   "outputs": [
    {
     "name": "stderr",
     "output_type": "stream",
     "text": [
      "100%|██████████| 1/1 [00:00<00:00, 246.56it/s]"
     ]
    },
    {
     "name": "stderr",
     "output_type": "stream",
     "text": [
      "\n"
     ]
    },
    {
     "name": "stdout",
     "output_type": "stream",
     "text": [
      "Number of files: 1\n"
     ]
    },
    {
     "ename": "AttributeError",
     "evalue": "'str' object has no attribute 'mget'",
     "output_type": "error",
     "traceback": [
      "\u001b[1;31m---------------------------------------------------------------------------\u001b[0m",
      "\u001b[1;31mKeyError\u001b[0m                                  Traceback (most recent call last)",
      "\u001b[1;32mc:\\Users\\silvh\\OneDrive\\lighthouse\\portfolio-projects\\datajam-chatbot\\chatbot_tuning\\notebooks\\2023-09-30 save embeddings.ipynb Cell 7\u001b[0m line \u001b[0;36m7\n\u001b[0;32m     <a href='vscode-notebook-cell:/c%3A/Users/silvh/OneDrive/lighthouse/portfolio-projects/datajam-chatbot/chatbot_tuning/notebooks/2023-09-30%20save%20embeddings.ipynb#W4sZmlsZQ%3D%3D?line=76'>77</a>\u001b[0m \u001b[39mtry\u001b[39;00m:    \n\u001b[1;32m---> <a href='vscode-notebook-cell:/c%3A/Users/silvh/OneDrive/lighthouse/portfolio-projects/datajam-chatbot/chatbot_tuning/notebooks/2023-09-30%20save%20embeddings.ipynb#W4sZmlsZQ%3D%3D?line=77'>78</a>\u001b[0m     vector_dict[site_key] \u001b[39m=\u001b[39m FAISS\u001b[39m.\u001b[39mfrom_documents(texts, embeddings_dict[site_key])\n\u001b[0;32m     <a href='vscode-notebook-cell:/c%3A/Users/silvh/OneDrive/lighthouse/portfolio-projects/datajam-chatbot/chatbot_tuning/notebooks/2023-09-30%20save%20embeddings.ipynb#W4sZmlsZQ%3D%3D?line=78'>79</a>\u001b[0m \u001b[39mexcept\u001b[39;00m \u001b[39mKeyError\u001b[39;00m:        \n",
      "\u001b[1;31mKeyError\u001b[0m: 'mattress'",
      "\nDuring handling of the above exception, another exception occurred:\n",
      "\u001b[1;31mAttributeError\u001b[0m                            Traceback (most recent call last)",
      "\u001b[1;32mc:\\Users\\silvh\\OneDrive\\lighthouse\\portfolio-projects\\datajam-chatbot\\chatbot_tuning\\notebooks\\2023-09-30 save embeddings.ipynb Cell 7\u001b[0m line \u001b[0;36m1\n\u001b[0;32m    <a href='vscode-notebook-cell:/c%3A/Users/silvh/OneDrive/lighthouse/portfolio-projects/datajam-chatbot/chatbot_tuning/notebooks/2023-09-30%20save%20embeddings.ipynb#W4sZmlsZQ%3D%3D?line=147'>148</a>\u001b[0m     directory \u001b[39m=\u001b[39m \u001b[39m'\u001b[39m\u001b[39m../data\u001b[39m\u001b[39m'\u001b[39m\n\u001b[0;32m    <a href='vscode-notebook-cell:/c%3A/Users/silvh/OneDrive/lighthouse/portfolio-projects/datajam-chatbot/chatbot_tuning/notebooks/2023-09-30%20save%20embeddings.ipynb#W4sZmlsZQ%3D%3D?line=148'>149</a>\u001b[0m     doc_dict[doc_id] \u001b[39m=\u001b[39m create_documents(directory\u001b[39m=\u001b[39mdirectory, glob\u001b[39m=\u001b[39m\u001b[39m'\u001b[39m\u001b[39m*.txt\u001b[39m\u001b[39m'\u001b[39m, loader_cls\u001b[39m=\u001b[39mTextLoader)\n\u001b[1;32m--> <a href='vscode-notebook-cell:/c%3A/Users/silvh/OneDrive/lighthouse/portfolio-projects/datajam-chatbot/chatbot_tuning/notebooks/2023-09-30%20save%20embeddings.ipynb#W4sZmlsZQ%3D%3D?line=151'>152</a>\u001b[0m retriever_dict, description_dict \u001b[39m=\u001b[39m create_retriever_and_description_dicts(params_dict, filestore)\n",
      "\u001b[1;32mc:\\Users\\silvh\\OneDrive\\lighthouse\\portfolio-projects\\datajam-chatbot\\chatbot_tuning\\notebooks\\2023-09-30 save embeddings.ipynb Cell 7\u001b[0m line \u001b[0;36m9\n\u001b[0;32m     <a href='vscode-notebook-cell:/c%3A/Users/silvh/OneDrive/lighthouse/portfolio-projects/datajam-chatbot/chatbot_tuning/notebooks/2023-09-30%20save%20embeddings.ipynb#W4sZmlsZQ%3D%3D?line=93'>94</a>\u001b[0m description_dict \u001b[39m=\u001b[39m \u001b[39mdict\u001b[39m()\n\u001b[0;32m     <a href='vscode-notebook-cell:/c%3A/Users/silvh/OneDrive/lighthouse/portfolio-projects/datajam-chatbot/chatbot_tuning/notebooks/2023-09-30%20save%20embeddings.ipynb#W4sZmlsZQ%3D%3D?line=94'>95</a>\u001b[0m \u001b[39mfor\u001b[39;00m doc_id \u001b[39min\u001b[39;00m doc_dict:\n\u001b[1;32m---> <a href='vscode-notebook-cell:/c%3A/Users/silvh/OneDrive/lighthouse/portfolio-projects/datajam-chatbot/chatbot_tuning/notebooks/2023-09-30%20save%20embeddings.ipynb#W4sZmlsZQ%3D%3D?line=95'>96</a>\u001b[0m     retriever_dict[doc_id] \u001b[39m=\u001b[39m create_retriever(\n\u001b[0;32m     <a href='vscode-notebook-cell:/c%3A/Users/silvh/OneDrive/lighthouse/portfolio-projects/datajam-chatbot/chatbot_tuning/notebooks/2023-09-30%20save%20embeddings.ipynb#W4sZmlsZQ%3D%3D?line=96'>97</a>\u001b[0m         doc_dict[doc_id], params_dict[doc_id][\u001b[39m'\u001b[39m\u001b[39msite_key\u001b[39m\u001b[39m'\u001b[39m], \n\u001b[0;32m     <a href='vscode-notebook-cell:/c%3A/Users/silvh/OneDrive/lighthouse/portfolio-projects/datajam-chatbot/chatbot_tuning/notebooks/2023-09-30%20save%20embeddings.ipynb#W4sZmlsZQ%3D%3D?line=97'>98</a>\u001b[0m         filestore,\n\u001b[0;32m     <a href='vscode-notebook-cell:/c%3A/Users/silvh/OneDrive/lighthouse/portfolio-projects/datajam-chatbot/chatbot_tuning/notebooks/2023-09-30%20save%20embeddings.ipynb#W4sZmlsZQ%3D%3D?line=98'>99</a>\u001b[0m         vector_dict\u001b[39m=\u001b[39mvector_dict, \n\u001b[0;32m    <a href='vscode-notebook-cell:/c%3A/Users/silvh/OneDrive/lighthouse/portfolio-projects/datajam-chatbot/chatbot_tuning/notebooks/2023-09-30%20save%20embeddings.ipynb#W4sZmlsZQ%3D%3D?line=99'>100</a>\u001b[0m         text_splitter\u001b[39m=\u001b[39mparams_dict[doc_id]\u001b[39m.\u001b[39mget(\u001b[39m'\u001b[39m\u001b[39mtext_splitter\u001b[39m\u001b[39m'\u001b[39m, \u001b[39mNone\u001b[39;00m)\n\u001b[0;32m    <a href='vscode-notebook-cell:/c%3A/Users/silvh/OneDrive/lighthouse/portfolio-projects/datajam-chatbot/chatbot_tuning/notebooks/2023-09-30%20save%20embeddings.ipynb#W4sZmlsZQ%3D%3D?line=100'>101</a>\u001b[0m         )\n\u001b[0;32m    <a href='vscode-notebook-cell:/c%3A/Users/silvh/OneDrive/lighthouse/portfolio-projects/datajam-chatbot/chatbot_tuning/notebooks/2023-09-30%20save%20embeddings.ipynb#W4sZmlsZQ%3D%3D?line=101'>102</a>\u001b[0m     description_dict[parms_dict[doc_id][\u001b[39m'\u001b[39m\u001b[39msite_key\u001b[39m\u001b[39m'\u001b[39m]] \u001b[39m=\u001b[39m parms_dict[\u001b[39m'\u001b[39m\u001b[39mdoc_description\u001b[39m\u001b[39m'\u001b[39m]\n\u001b[0;32m    <a href='vscode-notebook-cell:/c%3A/Users/silvh/OneDrive/lighthouse/portfolio-projects/datajam-chatbot/chatbot_tuning/notebooks/2023-09-30%20save%20embeddings.ipynb#W4sZmlsZQ%3D%3D?line=103'>104</a>\u001b[0m \u001b[39mreturn\u001b[39;00m retriever_dict, description_dict\n",
      "\u001b[1;32mc:\\Users\\silvh\\OneDrive\\lighthouse\\portfolio-projects\\datajam-chatbot\\chatbot_tuning\\notebooks\\2023-09-30 save embeddings.ipynb Cell 7\u001b[0m line \u001b[0;36m8\n\u001b[0;32m     <a href='vscode-notebook-cell:/c%3A/Users/silvh/OneDrive/lighthouse/portfolio-projects/datajam-chatbot/chatbot_tuning/notebooks/2023-09-30%20save%20embeddings.ipynb#W4sZmlsZQ%3D%3D?line=79'>80</a>\u001b[0m     underlying_embeddings \u001b[39m=\u001b[39m OpenAIEmbeddings(\n\u001b[0;32m     <a href='vscode-notebook-cell:/c%3A/Users/silvh/OneDrive/lighthouse/portfolio-projects/datajam-chatbot/chatbot_tuning/notebooks/2023-09-30%20save%20embeddings.ipynb#W4sZmlsZQ%3D%3D?line=80'>81</a>\u001b[0m         openai_organization\u001b[39m=\u001b[39mos\u001b[39m.\u001b[39menviron[\u001b[39m'\u001b[39m\u001b[39mopenai_organization\u001b[39m\u001b[39m'\u001b[39m],\n\u001b[0;32m     <a href='vscode-notebook-cell:/c%3A/Users/silvh/OneDrive/lighthouse/portfolio-projects/datajam-chatbot/chatbot_tuning/notebooks/2023-09-30%20save%20embeddings.ipynb#W4sZmlsZQ%3D%3D?line=81'>82</a>\u001b[0m         openai_api_key\u001b[39m=\u001b[39mos\u001b[39m.\u001b[39menviron[\u001b[39m'\u001b[39m\u001b[39mopenai_api_key\u001b[39m\u001b[39m'\u001b[39m]\n\u001b[0;32m     <a href='vscode-notebook-cell:/c%3A/Users/silvh/OneDrive/lighthouse/portfolio-projects/datajam-chatbot/chatbot_tuning/notebooks/2023-09-30%20save%20embeddings.ipynb#W4sZmlsZQ%3D%3D?line=82'>83</a>\u001b[0m         )\n\u001b[0;32m     <a href='vscode-notebook-cell:/c%3A/Users/silvh/OneDrive/lighthouse/portfolio-projects/datajam-chatbot/chatbot_tuning/notebooks/2023-09-30%20save%20embeddings.ipynb#W4sZmlsZQ%3D%3D?line=83'>84</a>\u001b[0m     embeddings_dict[site_key] \u001b[39m=\u001b[39m CacheBackedEmbeddings\u001b[39m.\u001b[39mfrom_bytes_store(\n\u001b[0;32m     <a href='vscode-notebook-cell:/c%3A/Users/silvh/OneDrive/lighthouse/portfolio-projects/datajam-chatbot/chatbot_tuning/notebooks/2023-09-30%20save%20embeddings.ipynb#W4sZmlsZQ%3D%3D?line=84'>85</a>\u001b[0m         underlying_embeddings, filestore, namespace\u001b[39m=\u001b[39munderlying_embeddings\u001b[39m.\u001b[39mmodel\n\u001b[0;32m     <a href='vscode-notebook-cell:/c%3A/Users/silvh/OneDrive/lighthouse/portfolio-projects/datajam-chatbot/chatbot_tuning/notebooks/2023-09-30%20save%20embeddings.ipynb#W4sZmlsZQ%3D%3D?line=85'>86</a>\u001b[0m         )\n\u001b[1;32m---> <a href='vscode-notebook-cell:/c%3A/Users/silvh/OneDrive/lighthouse/portfolio-projects/datajam-chatbot/chatbot_tuning/notebooks/2023-09-30%20save%20embeddings.ipynb#W4sZmlsZQ%3D%3D?line=86'>87</a>\u001b[0m     vector_dict[site_key] \u001b[39m=\u001b[39m FAISS\u001b[39m.\u001b[39mfrom_documents(texts, embeddings_dict[site_key])\n\u001b[0;32m     <a href='vscode-notebook-cell:/c%3A/Users/silvh/OneDrive/lighthouse/portfolio-projects/datajam-chatbot/chatbot_tuning/notebooks/2023-09-30%20save%20embeddings.ipynb#W4sZmlsZQ%3D%3D?line=87'>88</a>\u001b[0m retriever_dict[site_key] \u001b[39m=\u001b[39m vector_dict[site_key]\u001b[39m.\u001b[39mas_retriever()\n\u001b[0;32m     <a href='vscode-notebook-cell:/c%3A/Users/silvh/OneDrive/lighthouse/portfolio-projects/datajam-chatbot/chatbot_tuning/notebooks/2023-09-30%20save%20embeddings.ipynb#W4sZmlsZQ%3D%3D?line=88'>89</a>\u001b[0m \u001b[39mreturn\u001b[39;00m retriever_dict\n",
      "File \u001b[1;32mc:\\Users\\silvh\\.conda\\envs\\datajam\\Lib\\site-packages\\langchain\\vectorstores\\base.py:417\u001b[0m, in \u001b[0;36mVectorStore.from_documents\u001b[1;34m(cls, documents, embedding, **kwargs)\u001b[0m\n\u001b[0;32m    415\u001b[0m texts \u001b[39m=\u001b[39m [d\u001b[39m.\u001b[39mpage_content \u001b[39mfor\u001b[39;00m d \u001b[39min\u001b[39;00m documents]\n\u001b[0;32m    416\u001b[0m metadatas \u001b[39m=\u001b[39m [d\u001b[39m.\u001b[39mmetadata \u001b[39mfor\u001b[39;00m d \u001b[39min\u001b[39;00m documents]\n\u001b[1;32m--> 417\u001b[0m \u001b[39mreturn\u001b[39;00m \u001b[39mcls\u001b[39m\u001b[39m.\u001b[39mfrom_texts(texts, embedding, metadatas\u001b[39m=\u001b[39mmetadatas, \u001b[39m*\u001b[39m\u001b[39m*\u001b[39mkwargs)\n",
      "File \u001b[1;32mc:\\Users\\silvh\\.conda\\envs\\datajam\\Lib\\site-packages\\langchain\\vectorstores\\faiss.py:602\u001b[0m, in \u001b[0;36mFAISS.from_texts\u001b[1;34m(cls, texts, embedding, metadatas, ids, **kwargs)\u001b[0m\n\u001b[0;32m    575\u001b[0m \u001b[39m@classmethod\u001b[39m\n\u001b[0;32m    576\u001b[0m \u001b[39mdef\u001b[39;00m \u001b[39mfrom_texts\u001b[39m(\n\u001b[0;32m    577\u001b[0m     \u001b[39mcls\u001b[39m,\n\u001b[1;32m   (...)\u001b[0m\n\u001b[0;32m    582\u001b[0m     \u001b[39m*\u001b[39m\u001b[39m*\u001b[39mkwargs: Any,\n\u001b[0;32m    583\u001b[0m ) \u001b[39m-\u001b[39m\u001b[39m>\u001b[39m FAISS:\n\u001b[0;32m    584\u001b[0m \u001b[39m    \u001b[39m\u001b[39m\"\"\"Construct FAISS wrapper from raw documents.\u001b[39;00m\n\u001b[0;32m    585\u001b[0m \n\u001b[0;32m    586\u001b[0m \u001b[39m    This is a user friendly interface that:\u001b[39;00m\n\u001b[1;32m   (...)\u001b[0m\n\u001b[0;32m    600\u001b[0m \u001b[39m            faiss = FAISS.from_texts(texts, embeddings)\u001b[39;00m\n\u001b[0;32m    601\u001b[0m \u001b[39m    \"\"\"\u001b[39;00m\n\u001b[1;32m--> 602\u001b[0m     embeddings \u001b[39m=\u001b[39m embedding\u001b[39m.\u001b[39membed_documents(texts)\n\u001b[0;32m    603\u001b[0m     \u001b[39mreturn\u001b[39;00m \u001b[39mcls\u001b[39m\u001b[39m.\u001b[39m__from(\n\u001b[0;32m    604\u001b[0m         texts,\n\u001b[0;32m    605\u001b[0m         embeddings,\n\u001b[1;32m   (...)\u001b[0m\n\u001b[0;32m    609\u001b[0m         \u001b[39m*\u001b[39m\u001b[39m*\u001b[39mkwargs,\n\u001b[0;32m    610\u001b[0m     )\n",
      "File \u001b[1;32mc:\\Users\\silvh\\.conda\\envs\\datajam\\Lib\\site-packages\\langchain\\embeddings\\cache.py:109\u001b[0m, in \u001b[0;36mCacheBackedEmbeddings.embed_documents\u001b[1;34m(self, texts)\u001b[0m\n\u001b[0;32m     96\u001b[0m \u001b[39mdef\u001b[39;00m \u001b[39membed_documents\u001b[39m(\u001b[39mself\u001b[39m, texts: List[\u001b[39mstr\u001b[39m]) \u001b[39m-\u001b[39m\u001b[39m>\u001b[39m List[List[\u001b[39mfloat\u001b[39m]]:\n\u001b[0;32m     97\u001b[0m \u001b[39m    \u001b[39m\u001b[39m\"\"\"Embed a list of texts.\u001b[39;00m\n\u001b[0;32m     98\u001b[0m \n\u001b[0;32m     99\u001b[0m \u001b[39m    The method first checks the cache for the embeddings.\u001b[39;00m\n\u001b[1;32m   (...)\u001b[0m\n\u001b[0;32m    107\u001b[0m \u001b[39m        A list of embeddings for the given texts.\u001b[39;00m\n\u001b[0;32m    108\u001b[0m \u001b[39m    \"\"\"\u001b[39;00m\n\u001b[1;32m--> 109\u001b[0m     vectors: List[Union[List[\u001b[39mfloat\u001b[39m], \u001b[39mNone\u001b[39;00m]] \u001b[39m=\u001b[39m \u001b[39mself\u001b[39m\u001b[39m.\u001b[39mdocument_embedding_store\u001b[39m.\u001b[39mmget(\n\u001b[0;32m    110\u001b[0m         texts\n\u001b[0;32m    111\u001b[0m     )\n\u001b[0;32m    112\u001b[0m     missing_indices: List[\u001b[39mint\u001b[39m] \u001b[39m=\u001b[39m [\n\u001b[0;32m    113\u001b[0m         i \u001b[39mfor\u001b[39;00m i, vector \u001b[39min\u001b[39;00m \u001b[39menumerate\u001b[39m(vectors) \u001b[39mif\u001b[39;00m vector \u001b[39mis\u001b[39;00m \u001b[39mNone\u001b[39;00m\n\u001b[0;32m    114\u001b[0m     ]\n\u001b[0;32m    115\u001b[0m     missing_texts \u001b[39m=\u001b[39m [texts[i] \u001b[39mfor\u001b[39;00m i \u001b[39min\u001b[39;00m missing_indices]\n",
      "File \u001b[1;32mc:\\Users\\silvh\\.conda\\envs\\datajam\\Lib\\site-packages\\langchain\\storage\\encoder_backed.py:70\u001b[0m, in \u001b[0;36mEncoderBackedStore.mget\u001b[1;34m(self, keys)\u001b[0m\n\u001b[0;32m     68\u001b[0m \u001b[39m\u001b[39m\u001b[39m\"\"\"Get the values associated with the given keys.\"\"\"\u001b[39;00m\n\u001b[0;32m     69\u001b[0m encoded_keys: List[\u001b[39mstr\u001b[39m] \u001b[39m=\u001b[39m [\u001b[39mself\u001b[39m\u001b[39m.\u001b[39mkey_encoder(key) \u001b[39mfor\u001b[39;00m key \u001b[39min\u001b[39;00m keys]\n\u001b[1;32m---> 70\u001b[0m values \u001b[39m=\u001b[39m \u001b[39mself\u001b[39m\u001b[39m.\u001b[39mstore\u001b[39m.\u001b[39mmget(encoded_keys)\n\u001b[0;32m     71\u001b[0m \u001b[39mreturn\u001b[39;00m [\n\u001b[0;32m     72\u001b[0m     \u001b[39mself\u001b[39m\u001b[39m.\u001b[39mvalue_deserializer(value) \u001b[39mif\u001b[39;00m value \u001b[39mis\u001b[39;00m \u001b[39mnot\u001b[39;00m \u001b[39mNone\u001b[39;00m \u001b[39melse\u001b[39;00m value\n\u001b[0;32m     73\u001b[0m     \u001b[39mfor\u001b[39;00m value \u001b[39min\u001b[39;00m values\n\u001b[0;32m     74\u001b[0m ]\n",
      "\u001b[1;31mAttributeError\u001b[0m: 'str' object has no attribute 'mget'"
     ]
    }
   ],
   "source": [
    "import os\n",
    "\n",
    "# documents\n",
    "from langchain.document_loaders import DirectoryLoader\n",
    "from langchain.document_loaders import TextLoader\n",
    "from langchain.document_loaders.csv_loader import CSVLoader\n",
    "\n",
    "from langchain.embeddings.openai import OpenAIEmbeddings\n",
    "from langchain.embeddings import CacheBackedEmbeddings\n",
    "\n",
    "# from langchain.vectorstores import Chroma\n",
    "from langchain.text_splitter import CharacterTextSplitter\n",
    "from langchain.llms import OpenAI\n",
    "from langchain.chains import ConversationalRetrievalChain\n",
    "from langchain.vectorstores import FAISS\n",
    "from langchain.agents.agent_toolkits import create_retriever_tool\n",
    "\n",
    "# Creating the Agent\n",
    "from langchain.agents.agent_toolkits import create_conversational_retrieval_agent\n",
    "from langchain.chat_models import ChatOpenAI\n",
    "\n",
    "# Create memory \n",
    "from langchain.memory import ConversationBufferMemory\n",
    "from langchain.memory import StreamlitChatMessageHistory # for Streamlit\n",
    "\n",
    "from langchain.agents.openai_functions_agent.base import OpenAIFunctionsAgent\n",
    "from langchain.schema.messages import SystemMessage\n",
    "from langchain.prompts import MessagesPlaceholder\n",
    "\n",
    "from langchain.agents import AgentExecutor\n",
    "from langchain.agents.openai_functions_agent.agent_token_buffer_memory import AgentTokenBufferMemory\n",
    "\n",
    "import streamlit as st\n",
    "\n",
    "directory='../data/' # This is the directory containing the CSV/text files.\n",
    "\n",
    "# Initialize Dictionaries\n",
    "tool_dict = dict()\n",
    "embeddings_dict = dict()\n",
    "db_dict = dict()\n",
    "retriever_dict = dict()\n",
    "vector_dict = dict()\n",
    "description_dict = dict()\n",
    "answer_dict=dict()\n",
    "conversation_dict = dict()\n",
    "doc_dict = dict()\n",
    "queries_dict = dict()\n",
    "\n",
    "def create_documents(directory='../data', glob='**/[!.]*', show_progress=True, loader_cls=CSVLoader):\n",
    "    loader = DirectoryLoader(\n",
    "        directory, glob=glob, show_progress=show_progress,\n",
    "        loader_cls=loader_cls)\n",
    "\n",
    "    documents = loader.load()\n",
    "    print(f'Number of files: {len(documents)}')\n",
    "    return documents\n",
    "    \n",
    "def create_documents_from_csv(file_path='../data/Datajam_2023___Fine_Tuning_ChatBot_CSV_-_Recycle_BC_1.csv'):\n",
    "    loader = CSVLoader(file_path, encoding='utf-8')\n",
    "    documents = loader.load()\n",
    "    return documents\n",
    "\n",
    "def create_retriever(\n",
    "    documents, site_key, filestore, \n",
    "    embeddings_dict=embeddings_dict, \n",
    "    vector_dict=vector_dict, text_splitter=None\n",
    "    ):\n",
    "    \"\"\"\n",
    "    Parameters:\n",
    "        - text_splitter (optional): a text splitter object. If None, the documents are not split. \n",
    "    \"\"\"\n",
    "    if text_splitter is None: # object type is the same (class 'langchain.schema.document.Document') whether or not the documents are split\n",
    "        texts = documents\n",
    "    else:\n",
    "        texts = text_splitter.split_documents(documents)\n",
    "\n",
    "    try:    \n",
    "        vector_dict[site_key] = FAISS.from_documents(texts, embeddings_dict[site_key])\n",
    "    except KeyError:        \n",
    "        underlying_embeddings = OpenAIEmbeddings(\n",
    "            openai_organization=os.environ['openai_organization'],\n",
    "            openai_api_key=os.environ['openai_api_key']\n",
    "            )\n",
    "        embeddings_dict[site_key] = CacheBackedEmbeddings.from_bytes_store(\n",
    "            underlying_embeddings, filestore, namespace=underlying_embeddings.model\n",
    "            )\n",
    "        vector_dict[site_key] = FAISS.from_documents(texts, embeddings_dict[site_key])\n",
    "    retriever_dict[site_key] = vector_dict[site_key].as_retriever()\n",
    "    return retriever_dict\n",
    "\n",
    "\n",
    "def create_retriever_and_description_dicts(params_dict, filestore, doc_dict=doc_dict, vector_dict=vector_dict):\n",
    "    retriever_dict = dict()\n",
    "    description_dict = dict()\n",
    "    for doc_id in doc_dict:\n",
    "        retriever_dict[doc_id] = create_retriever(\n",
    "            doc_dict[doc_id], params_dict[doc_id]['site_key'], \n",
    "            filestore,\n",
    "            vector_dict=vector_dict, \n",
    "            text_splitter=params_dict[doc_id].get('text_splitter', None)\n",
    "            )\n",
    "        description_dict[parms_dict[doc_id]['site_key']] = parms_dict['doc_description']\n",
    "\n",
    "    return retriever_dict, description_dict\n",
    "\n",
    "def create_tools_list(retriever_dict, description_dict):\n",
    "    \"\"\"\n",
    "    https://api.python.langchain.com/en/latest/agents/langchain.agents.agent_toolkits.conversational_retrieval.tool.create_retriever_tool.html?highlight=create_retriever_tool#langchain.agents.agent_toolkits.conversational_retrieval.tool.create_retriever_tool\n",
    "    \"\"\"\n",
    "    tools_list = []\n",
    "    for site_key, retriever in retriever_dict.items():\n",
    "        tool_name = f'search_{site_key}'\n",
    "        tool = create_retriever_tool(retriever_dict[site_key], tool_name, description_dict[site_key])\n",
    "        tools_list.append(tool)\n",
    "    return tools_list\n",
    "\n",
    "\n",
    "recylebc = \"\"\"\n",
    "This document provides information from the Recycle BC website or BC government \n",
    "website. It has the most specific information \n",
    "about whether or not an item is accepted for recycling and where to recycle it.\n",
    "This should be the main resource for recycling information for residents of British Columbia.\n",
    "\"\"\"\n",
    "\n",
    "CoV_mattress = \"\"\"\n",
    "Information from the City of Vancouver website about how to recycle mattresses.\n",
    "\"\"\"\n",
    "\n",
    "params_dict = {\n",
    "    # 1: {\n",
    "    #     'site_key': 'recycle',\n",
    "    #     'doc_description': recylebc,\n",
    "    #     'text_splitter': None\n",
    "    # },\n",
    "    2: {\n",
    "        'site_key': 'mattress',\n",
    "        'doc_description': CoV_mattress,\n",
    "        'text_splitter': None\n",
    "    }\n",
    "}\n",
    "filestore = '../embeddings/'\n",
    "\n",
    "doc_id = 2\n",
    "try:\n",
    "    directory = 'data'\n",
    "    doc_dict[doc_id] = create_documents(directory=directory, glob='*.txt', loader_cls=TextLoader)\n",
    "except:\n",
    "    directory = '../data'\n",
    "    doc_dict[doc_id] = create_documents(directory=directory, glob='*.txt', loader_cls=TextLoader)\n",
    "\n",
    "\n",
    "retriever_dict, description_dict = create_retriever_and_description_dicts(params_dict, filestore)"
   ]
  },
  {
   "cell_type": "code",
   "execution_count": 15,
   "metadata": {},
   "outputs": [
    {
     "data": {
      "text/plain": [
       "[Document(page_content=\"\\nWhen you recycle your mattress (foam or futon) and box spring, you reduce the amount of waste going to our landfill.\\nTo recycle your mattress and box spring, you can:\\n\\nBring it to the \\xa0transfer station or landfill\\xa0for a fee\\nHire\\xa0a mattress recycling company or junk removal company\\n\\nImportant note Don't dump your mattress in an alley or on the street.\\xa0It's illegal and you could be fined for illegal dumping.\\nView the fee, limits, and locations to recycle a\\xa0mattress, futon, and box spring\\nhttps://vancouver.ca/home-property-development/how-to-dispose-of-mattresses.aspx\", metadata={'source': '..\\\\data\\\\mattress.txt'})]"
      ]
     },
     "execution_count": 15,
     "metadata": {},
     "output_type": "execute_result"
    }
   ],
   "source": [
    "doc_dict[2]"
   ]
  },
  {
   "cell_type": "markdown",
   "metadata": {},
   "source": [
    "# 2.1"
   ]
  },
  {
   "cell_type": "code",
   "execution_count": 26,
   "metadata": {},
   "outputs": [
    {
     "name": "stderr",
     "output_type": "stream",
     "text": [
      "100%|██████████| 1/1 [00:00<00:00, 901.03it/s]"
     ]
    },
    {
     "name": "stdout",
     "output_type": "stream",
     "text": [
      "Number of files: 1\n"
     ]
    },
    {
     "name": "stderr",
     "output_type": "stream",
     "text": [
      "\n"
     ]
    }
   ],
   "source": [
    "import os\n",
    "\n",
    "# documents\n",
    "from langchain.document_loaders import DirectoryLoader\n",
    "from langchain.document_loaders import TextLoader\n",
    "from langchain.document_loaders.csv_loader import CSVLoader\n",
    "\n",
    "from langchain.embeddings.openai import OpenAIEmbeddings\n",
    "from langchain.embeddings import CacheBackedEmbeddings\n",
    "\n",
    "# from langchain.vectorstores import Chroma\n",
    "from langchain.text_splitter import CharacterTextSplitter\n",
    "from langchain.llms import OpenAI\n",
    "from langchain.chains import ConversationalRetrievalChain\n",
    "from langchain.vectorstores import FAISS\n",
    "from langchain.agents.agent_toolkits import create_retriever_tool\n",
    "\n",
    "# Creating the Agent\n",
    "from langchain.agents.agent_toolkits import create_conversational_retrieval_agent\n",
    "from langchain.chat_models import ChatOpenAI\n",
    "\n",
    "# Create memory \n",
    "from langchain.memory import ConversationBufferMemory\n",
    "from langchain.memory import StreamlitChatMessageHistory # for Streamlit\n",
    "\n",
    "from langchain.agents.openai_functions_agent.base import OpenAIFunctionsAgent\n",
    "from langchain.schema.messages import SystemMessage\n",
    "from langchain.prompts import MessagesPlaceholder\n",
    "\n",
    "from langchain.agents import AgentExecutor\n",
    "from langchain.agents.openai_functions_agent.agent_token_buffer_memory import AgentTokenBufferMemory\n",
    "\n",
    "import streamlit as st\n",
    "\n",
    "directory='../data/' # This is the directory containing the CSV/text files.\n",
    "\n",
    "# Initialize Dictionaries\n",
    "tool_dict = dict()\n",
    "embeddings_dict = dict()\n",
    "db_dict = dict()\n",
    "retriever_dict = dict()\n",
    "vector_dict = dict()\n",
    "description_dict = dict()\n",
    "answer_dict=dict()\n",
    "conversation_dict = dict()\n",
    "doc_dict = dict()\n",
    "queries_dict = dict()\n",
    "\n",
    "def create_documents(directory='../data', glob='**/[!.]*', show_progress=True, loader_cls=CSVLoader):\n",
    "    loader = DirectoryLoader(\n",
    "        directory, glob=glob, show_progress=show_progress,\n",
    "        loader_cls=loader_cls)\n",
    "\n",
    "    documents = loader.load()\n",
    "    print(f'Number of files: {len(documents)}')\n",
    "    return documents\n",
    "    \n",
    "def create_documents_from_csv(file_path='../data/Datajam_2023___Fine_Tuning_ChatBot_CSV_-_Recycle_BC_1.csv'):\n",
    "    loader = CSVLoader(file_path, encoding='utf-8')\n",
    "    documents = loader.load()\n",
    "    return documents\n",
    "\n",
    "def create_retriever(\n",
    "    documents, site_key, filestore, \n",
    "    embeddings_dict=embeddings_dict, \n",
    "    vector_dict=vector_dict, text_splitter=None\n",
    "    ):\n",
    "    \"\"\"\n",
    "    Parameters:\n",
    "        - text_splitter (optional): a text splitter object. If None, the documents are not split. \n",
    "    \"\"\"\n",
    "    if text_splitter is None: # object type is the same (class 'langchain.schema.document.Document') whether or not the documents are split\n",
    "        texts = documents\n",
    "    else:\n",
    "        texts = text_splitter.split_documents(documents)\n",
    "   \n",
    "    underlying_embeddings = OpenAIEmbeddings(\n",
    "        openai_organization=os.environ['openai_organization'],\n",
    "        openai_api_key=os.environ['openai_api_key']\n",
    "        )\n",
    "    embeddings_dict[site_key] = CacheBackedEmbeddings.from_bytes_store(\n",
    "        underlying_embeddings, filestore, namespace=underlying_embeddings.model\n",
    "        )\n",
    "    # vector_dict[site_key] = FAISS.from_documents(texts, embeddings_dict[site_key])\n",
    "    # retriever_dict[site_key] = vector_dict[site_key].as_retriever()\n",
    "    return retriever_dict\n",
    "\n",
    "\n",
    "def create_retriever_and_description_dicts(params_dict, filestore, doc_dict=doc_dict, vector_dict=vector_dict):\n",
    "    retriever_dict = dict()\n",
    "    description_dict = dict()\n",
    "    for doc_id in doc_dict:\n",
    "        retriever_dict[doc_id] = create_retriever(\n",
    "            doc_dict[doc_id], params_dict[doc_id]['site_key'], \n",
    "            filestore,\n",
    "            vector_dict=vector_dict, \n",
    "            text_splitter=params_dict[doc_id].get('text_splitter', None)\n",
    "            )\n",
    "        description_dict[params_dict[doc_id]['site_key']] = params_dict[doc_id]['doc_description']\n",
    "\n",
    "    return retriever_dict, description_dict\n",
    "\n",
    "def create_tools_list(retriever_dict, description_dict):\n",
    "    \"\"\"\n",
    "    https://api.python.langchain.com/en/latest/agents/langchain.agents.agent_toolkits.conversational_retrieval.tool.create_retriever_tool.html?highlight=create_retriever_tool#langchain.agents.agent_toolkits.conversational_retrieval.tool.create_retriever_tool\n",
    "    \"\"\"\n",
    "    tools_list = []\n",
    "    for site_key, retriever in retriever_dict.items():\n",
    "        tool_name = f'search_{site_key}'\n",
    "        tool = create_retriever_tool(retriever_dict[site_key], tool_name, description_dict[site_key])\n",
    "        tools_list.append(tool)\n",
    "    return tools_list\n",
    "\n",
    "\n",
    "recylebc = \"\"\"\n",
    "This document provides information from the Recycle BC website or BC government \n",
    "website. It has the most specific information \n",
    "about whether or not an item is accepted for recycling and where to recycle it.\n",
    "This should be the main resource for recycling information for residents of British Columbia.\n",
    "\"\"\"\n",
    "\n",
    "CoV_mattress = \"\"\"\n",
    "Information from the City of Vancouver website about how to recycle mattresses.\n",
    "\"\"\"\n",
    "\n",
    "params_dict = {\n",
    "    # 1: {\n",
    "    #     'site_key': 'recycle',\n",
    "    #     'doc_description': recylebc,\n",
    "    #     'text_splitter': None\n",
    "    # },\n",
    "    2: {\n",
    "        'site_key': 'mattress',\n",
    "        'doc_description': CoV_mattress,\n",
    "        'text_splitter': None\n",
    "    }\n",
    "}\n",
    "filestore = '../embeddings/'\n",
    "\n",
    "doc_id = 2\n",
    "try:\n",
    "    directory = 'data'\n",
    "    doc_dict[doc_id] = create_documents(directory=directory, glob='*.txt', loader_cls=TextLoader)\n",
    "except:\n",
    "    directory = '../data'\n",
    "    doc_dict[doc_id] = create_documents(directory=directory, glob='*.txt', loader_cls=TextLoader)\n",
    "\n",
    "\n",
    "retriever_dict, description_dict = create_retriever_and_description_dicts(params_dict, filestore)"
   ]
  },
  {
   "cell_type": "code",
   "execution_count": 19,
   "metadata": {},
   "outputs": [
    {
     "name": "stdout",
     "output_type": "stream",
     "text": [
      "None\n"
     ]
    }
   ],
   "source": [
    "print(params_dict[doc_id].get('text_splitter', None))"
   ]
  },
  {
   "cell_type": "markdown",
   "metadata": {},
   "source": [
    "## 2.2"
   ]
  },
  {
   "cell_type": "code",
   "execution_count": 27,
   "metadata": {},
   "outputs": [
    {
     "name": "stderr",
     "output_type": "stream",
     "text": [
      "100%|██████████| 1/1 [00:00<00:00, 497.43it/s]"
     ]
    },
    {
     "name": "stdout",
     "output_type": "stream",
     "text": [
      "Number of files: 1\n"
     ]
    },
    {
     "name": "stderr",
     "output_type": "stream",
     "text": [
      "\n"
     ]
    }
   ],
   "source": [
    "import os\n",
    "\n",
    "# documents\n",
    "from langchain.document_loaders import DirectoryLoader\n",
    "from langchain.document_loaders import TextLoader\n",
    "from langchain.document_loaders.csv_loader import CSVLoader\n",
    "\n",
    "from langchain.embeddings.openai import OpenAIEmbeddings\n",
    "from langchain.embeddings import CacheBackedEmbeddings\n",
    "\n",
    "# from langchain.vectorstores import Chroma\n",
    "from langchain.text_splitter import CharacterTextSplitter\n",
    "from langchain.llms import OpenAI\n",
    "from langchain.chains import ConversationalRetrievalChain\n",
    "from langchain.vectorstores import FAISS\n",
    "from langchain.agents.agent_toolkits import create_retriever_tool\n",
    "\n",
    "# Creating the Agent\n",
    "from langchain.agents.agent_toolkits import create_conversational_retrieval_agent\n",
    "from langchain.chat_models import ChatOpenAI\n",
    "\n",
    "# Create memory \n",
    "from langchain.memory import ConversationBufferMemory\n",
    "from langchain.memory import StreamlitChatMessageHistory # for Streamlit\n",
    "\n",
    "from langchain.agents.openai_functions_agent.base import OpenAIFunctionsAgent\n",
    "from langchain.schema.messages import SystemMessage\n",
    "from langchain.prompts import MessagesPlaceholder\n",
    "\n",
    "from langchain.agents import AgentExecutor\n",
    "from langchain.agents.openai_functions_agent.agent_token_buffer_memory import AgentTokenBufferMemory\n",
    "\n",
    "import streamlit as st\n",
    "\n",
    "directory='../data/' # This is the directory containing the CSV/text files.\n",
    "\n",
    "# Initialize Dictionaries\n",
    "tool_dict = dict()\n",
    "embeddings_dict = dict()\n",
    "db_dict = dict()\n",
    "retriever_dict = dict()\n",
    "vector_dict = dict()\n",
    "description_dict = dict()\n",
    "answer_dict=dict()\n",
    "conversation_dict = dict()\n",
    "doc_dict = dict()\n",
    "queries_dict = dict()\n",
    "\n",
    "def create_documents(directory='../data', glob='**/[!.]*', show_progress=True, loader_cls=CSVLoader):\n",
    "    loader = DirectoryLoader(\n",
    "        directory, glob=glob, show_progress=show_progress,\n",
    "        loader_cls=loader_cls)\n",
    "\n",
    "    documents = loader.load()\n",
    "    print(f'Number of files: {len(documents)}')\n",
    "    return documents\n",
    "    \n",
    "def create_documents_from_csv(file_path='../data/Datajam_2023___Fine_Tuning_ChatBot_CSV_-_Recycle_BC_1.csv'):\n",
    "    loader = CSVLoader(file_path, encoding='utf-8')\n",
    "    documents = loader.load()\n",
    "    return documents\n",
    "\n",
    "def create_retriever(\n",
    "    documents, site_key, filestore, \n",
    "    embeddings_dict=embeddings_dict, \n",
    "    vector_dict=vector_dict, text_splitter=None\n",
    "    ):\n",
    "    \"\"\"\n",
    "    Parameters:\n",
    "        - text_splitter (optional): a text splitter object. If None, the documents are not split. \n",
    "    \"\"\"\n",
    "    if text_splitter is None: # object type is the same (class 'langchain.schema.document.Document') whether or not the documents are split\n",
    "        texts = documents\n",
    "    else:\n",
    "        texts = text_splitter.split_documents(documents)\n",
    "   \n",
    "    underlying_embeddings = OpenAIEmbeddings(\n",
    "        openai_organization=os.environ['openai_organization'],\n",
    "        openai_api_key=os.environ['openai_api_key']\n",
    "        )\n",
    "    embeddings_dict[site_key] = CacheBackedEmbeddings.from_bytes_store(\n",
    "        underlying_embeddings, filestore, namespace=underlying_embeddings.model\n",
    "        )\n",
    "    # vector_dict[site_key] = FAISS.from_documents(texts, embeddings_dict[site_key])\n",
    "    # retriever_dict[site_key] = vector_dict[site_key].as_retriever()\n",
    "    # return retriever_dict\n",
    "    return embeddings_dict\n",
    "\n",
    "\n",
    "def create_retriever_and_description_dicts(params_dict, filestore, doc_dict=doc_dict, vector_dict=vector_dict):\n",
    "    retriever_dict = dict()\n",
    "    description_dict = dict()\n",
    "    for doc_id in doc_dict:\n",
    "        retriever_dict[doc_id] = create_retriever(\n",
    "            doc_dict[doc_id], params_dict[doc_id]['site_key'], \n",
    "            filestore,\n",
    "            vector_dict=vector_dict, \n",
    "            text_splitter=params_dict[doc_id].get('text_splitter', None)\n",
    "            )\n",
    "        description_dict[params_dict[doc_id]['site_key']] = params_dict[doc_id]['doc_description']\n",
    "\n",
    "    return retriever_dict, description_dict\n",
    "\n",
    "def create_tools_list(retriever_dict, description_dict):\n",
    "    \"\"\"\n",
    "    https://api.python.langchain.com/en/latest/agents/langchain.agents.agent_toolkits.conversational_retrieval.tool.create_retriever_tool.html?highlight=create_retriever_tool#langchain.agents.agent_toolkits.conversational_retrieval.tool.create_retriever_tool\n",
    "    \"\"\"\n",
    "    tools_list = []\n",
    "    for site_key, retriever in retriever_dict.items():\n",
    "        tool_name = f'search_{site_key}'\n",
    "        tool = create_retriever_tool(retriever_dict[site_key], tool_name, description_dict[site_key])\n",
    "        tools_list.append(tool)\n",
    "    return tools_list\n",
    "\n",
    "\n",
    "recylebc = \"\"\"\n",
    "This document provides information from the Recycle BC website or BC government \n",
    "website. It has the most specific information \n",
    "about whether or not an item is accepted for recycling and where to recycle it.\n",
    "This should be the main resource for recycling information for residents of British Columbia.\n",
    "\"\"\"\n",
    "\n",
    "CoV_mattress = \"\"\"\n",
    "Information from the City of Vancouver website about how to recycle mattresses.\n",
    "\"\"\"\n",
    "\n",
    "params_dict = {\n",
    "    # 1: {\n",
    "    #     'site_key': 'recycle',\n",
    "    #     'doc_description': recylebc,\n",
    "    #     'text_splitter': None\n",
    "    # },\n",
    "    2: {\n",
    "        'site_key': 'mattress',\n",
    "        'doc_description': CoV_mattress,\n",
    "        'text_splitter': None\n",
    "    }\n",
    "}\n",
    "filestore = '../embeddings/'\n",
    "\n",
    "doc_id = 2\n",
    "try:\n",
    "    directory = 'data'\n",
    "    doc_dict[doc_id] = create_documents(directory=directory, glob='*.txt', loader_cls=TextLoader)\n",
    "except:\n",
    "    directory = '../data'\n",
    "    doc_dict[doc_id] = create_documents(directory=directory, glob='*.txt', loader_cls=TextLoader)\n",
    "\n",
    "\n",
    "retriever_dict, description_dict = create_retriever_and_description_dicts(params_dict, filestore)"
   ]
  },
  {
   "cell_type": "code",
   "execution_count": 30,
   "metadata": {},
   "outputs": [
    {
     "data": {
      "text/plain": [
       "<langchain.embeddings.cache.CacheBackedEmbeddings at 0x250d67353d0>"
      ]
     },
     "execution_count": 30,
     "metadata": {},
     "output_type": "execute_result"
    }
   ],
   "source": [
    "retriever_dict[2]['mattress']"
   ]
  },
  {
   "cell_type": "code",
   "execution_count": 46,
   "metadata": {},
   "outputs": [
    {
     "data": {
      "text/plain": [
       "dict_keys(['document_embedding_store', 'underlying_embeddings'])"
      ]
     },
     "execution_count": 46,
     "metadata": {},
     "output_type": "execute_result"
    }
   ],
   "source": [
    "vars(retriever_dict[2]['mattress']).keys()"
   ]
  },
  {
   "cell_type": "code",
   "execution_count": 42,
   "metadata": {},
   "outputs": [
    {
     "ename": "AttributeError",
     "evalue": "'CacheBackedEmbeddings' object has no attribute 'model'",
     "output_type": "error",
     "traceback": [
      "\u001b[1;31m---------------------------------------------------------------------------\u001b[0m",
      "\u001b[1;31mAttributeError\u001b[0m                            Traceback (most recent call last)",
      "\u001b[1;32mc:\\Users\\silvh\\OneDrive\\lighthouse\\portfolio-projects\\datajam-chatbot\\chatbot_tuning\\notebooks\\2023-09-30 save embeddings.ipynb Cell 16\u001b[0m line \u001b[0;36m1\n\u001b[1;32m----> <a href='vscode-notebook-cell:/c%3A/Users/silvh/OneDrive/lighthouse/portfolio-projects/datajam-chatbot/chatbot_tuning/notebooks/2023-09-30%20save%20embeddings.ipynb#X46sZmlsZQ%3D%3D?line=0'>1</a>\u001b[0m \u001b[39mgetattr\u001b[39m(retriever_dict[\u001b[39m2\u001b[39m][\u001b[39m'\u001b[39m\u001b[39mmattress\u001b[39m\u001b[39m'\u001b[39m], \u001b[39m'\u001b[39m\u001b[39mmodel\u001b[39m\u001b[39m'\u001b[39m)\n",
      "\u001b[1;31mAttributeError\u001b[0m: 'CacheBackedEmbeddings' object has no attribute 'model'"
     ]
    }
   ],
   "source": [
    "getattr(retriever_dict[2]['mattress'], 'model')"
   ]
  },
  {
   "cell_type": "code",
   "execution_count": 44,
   "metadata": {},
   "outputs": [
    {
     "data": {
      "text/plain": [
       "<langchain.storage.encoder_backed.EncoderBackedStore at 0x250d67de090>"
      ]
     },
     "execution_count": 44,
     "metadata": {},
     "output_type": "execute_result"
    }
   ],
   "source": [
    "getattr(retriever_dict[2]['mattress'], 'document_embedding_store')"
   ]
  },
  {
   "cell_type": "code",
   "execution_count": 49,
   "metadata": {},
   "outputs": [
    {
     "data": {
      "text/plain": [
       "langchain.storage.encoder_backed.EncoderBackedStore"
      ]
     },
     "execution_count": 49,
     "metadata": {},
     "output_type": "execute_result"
    }
   ],
   "source": [
    "type(getattr(retriever_dict[2]['mattress'], 'document_embedding_store'))"
   ]
  },
  {
   "cell_type": "code",
   "execution_count": 50,
   "metadata": {},
   "outputs": [
    {
     "data": {
      "text/plain": [
       "{'mattress': <langchain.embeddings.cache.CacheBackedEmbeddings at 0x250d67353d0>}"
      ]
     },
     "execution_count": 50,
     "metadata": {},
     "output_type": "execute_result"
    }
   ],
   "source": [
    "retriever_dict[2]"
   ]
  },
  {
   "cell_type": "code",
   "execution_count": 33,
   "metadata": {},
   "outputs": [
    {
     "ename": "AttributeError",
     "evalue": "'str' object has no attribute 'mget'",
     "output_type": "error",
     "traceback": [
      "\u001b[1;31m---------------------------------------------------------------------------\u001b[0m",
      "\u001b[1;31mAttributeError\u001b[0m                            Traceback (most recent call last)",
      "\u001b[1;32mc:\\Users\\silvh\\OneDrive\\lighthouse\\portfolio-projects\\datajam-chatbot\\chatbot_tuning\\notebooks\\2023-09-30 save embeddings.ipynb Cell 15\u001b[0m line \u001b[0;36m2\n\u001b[0;32m      <a href='vscode-notebook-cell:/c%3A/Users/silvh/OneDrive/lighthouse/portfolio-projects/datajam-chatbot/chatbot_tuning/notebooks/2023-09-30%20save%20embeddings.ipynb#X10sZmlsZQ%3D%3D?line=0'>1</a>\u001b[0m site_key \u001b[39m=\u001b[39m \u001b[39m'\u001b[39m\u001b[39mmattress\u001b[39m\u001b[39m'\u001b[39m\n\u001b[1;32m----> <a href='vscode-notebook-cell:/c%3A/Users/silvh/OneDrive/lighthouse/portfolio-projects/datajam-chatbot/chatbot_tuning/notebooks/2023-09-30%20save%20embeddings.ipynb#X10sZmlsZQ%3D%3D?line=1'>2</a>\u001b[0m vector_dict[site_key] \u001b[39m=\u001b[39m FAISS\u001b[39m.\u001b[39mfrom_documents(doc_dict[doc_id], retriever_dict[\u001b[39m2\u001b[39m][site_key])\n",
      "File \u001b[1;32mc:\\Users\\silvh\\.conda\\envs\\datajam\\Lib\\site-packages\\langchain\\vectorstores\\base.py:417\u001b[0m, in \u001b[0;36mVectorStore.from_documents\u001b[1;34m(cls, documents, embedding, **kwargs)\u001b[0m\n\u001b[0;32m    415\u001b[0m texts \u001b[39m=\u001b[39m [d\u001b[39m.\u001b[39mpage_content \u001b[39mfor\u001b[39;00m d \u001b[39min\u001b[39;00m documents]\n\u001b[0;32m    416\u001b[0m metadatas \u001b[39m=\u001b[39m [d\u001b[39m.\u001b[39mmetadata \u001b[39mfor\u001b[39;00m d \u001b[39min\u001b[39;00m documents]\n\u001b[1;32m--> 417\u001b[0m \u001b[39mreturn\u001b[39;00m \u001b[39mcls\u001b[39m\u001b[39m.\u001b[39mfrom_texts(texts, embedding, metadatas\u001b[39m=\u001b[39mmetadatas, \u001b[39m*\u001b[39m\u001b[39m*\u001b[39mkwargs)\n",
      "File \u001b[1;32mc:\\Users\\silvh\\.conda\\envs\\datajam\\Lib\\site-packages\\langchain\\vectorstores\\faiss.py:602\u001b[0m, in \u001b[0;36mFAISS.from_texts\u001b[1;34m(cls, texts, embedding, metadatas, ids, **kwargs)\u001b[0m\n\u001b[0;32m    575\u001b[0m \u001b[39m@classmethod\u001b[39m\n\u001b[0;32m    576\u001b[0m \u001b[39mdef\u001b[39;00m \u001b[39mfrom_texts\u001b[39m(\n\u001b[0;32m    577\u001b[0m     \u001b[39mcls\u001b[39m,\n\u001b[1;32m   (...)\u001b[0m\n\u001b[0;32m    582\u001b[0m     \u001b[39m*\u001b[39m\u001b[39m*\u001b[39mkwargs: Any,\n\u001b[0;32m    583\u001b[0m ) \u001b[39m-\u001b[39m\u001b[39m>\u001b[39m FAISS:\n\u001b[0;32m    584\u001b[0m \u001b[39m    \u001b[39m\u001b[39m\"\"\"Construct FAISS wrapper from raw documents.\u001b[39;00m\n\u001b[0;32m    585\u001b[0m \n\u001b[0;32m    586\u001b[0m \u001b[39m    This is a user friendly interface that:\u001b[39;00m\n\u001b[1;32m   (...)\u001b[0m\n\u001b[0;32m    600\u001b[0m \u001b[39m            faiss = FAISS.from_texts(texts, embeddings)\u001b[39;00m\n\u001b[0;32m    601\u001b[0m \u001b[39m    \"\"\"\u001b[39;00m\n\u001b[1;32m--> 602\u001b[0m     embeddings \u001b[39m=\u001b[39m embedding\u001b[39m.\u001b[39membed_documents(texts)\n\u001b[0;32m    603\u001b[0m     \u001b[39mreturn\u001b[39;00m \u001b[39mcls\u001b[39m\u001b[39m.\u001b[39m__from(\n\u001b[0;32m    604\u001b[0m         texts,\n\u001b[0;32m    605\u001b[0m         embeddings,\n\u001b[1;32m   (...)\u001b[0m\n\u001b[0;32m    609\u001b[0m         \u001b[39m*\u001b[39m\u001b[39m*\u001b[39mkwargs,\n\u001b[0;32m    610\u001b[0m     )\n",
      "File \u001b[1;32mc:\\Users\\silvh\\.conda\\envs\\datajam\\Lib\\site-packages\\langchain\\embeddings\\cache.py:109\u001b[0m, in \u001b[0;36mCacheBackedEmbeddings.embed_documents\u001b[1;34m(self, texts)\u001b[0m\n\u001b[0;32m     96\u001b[0m \u001b[39mdef\u001b[39;00m \u001b[39membed_documents\u001b[39m(\u001b[39mself\u001b[39m, texts: List[\u001b[39mstr\u001b[39m]) \u001b[39m-\u001b[39m\u001b[39m>\u001b[39m List[List[\u001b[39mfloat\u001b[39m]]:\n\u001b[0;32m     97\u001b[0m \u001b[39m    \u001b[39m\u001b[39m\"\"\"Embed a list of texts.\u001b[39;00m\n\u001b[0;32m     98\u001b[0m \n\u001b[0;32m     99\u001b[0m \u001b[39m    The method first checks the cache for the embeddings.\u001b[39;00m\n\u001b[1;32m   (...)\u001b[0m\n\u001b[0;32m    107\u001b[0m \u001b[39m        A list of embeddings for the given texts.\u001b[39;00m\n\u001b[0;32m    108\u001b[0m \u001b[39m    \"\"\"\u001b[39;00m\n\u001b[1;32m--> 109\u001b[0m     vectors: List[Union[List[\u001b[39mfloat\u001b[39m], \u001b[39mNone\u001b[39;00m]] \u001b[39m=\u001b[39m \u001b[39mself\u001b[39m\u001b[39m.\u001b[39mdocument_embedding_store\u001b[39m.\u001b[39mmget(\n\u001b[0;32m    110\u001b[0m         texts\n\u001b[0;32m    111\u001b[0m     )\n\u001b[0;32m    112\u001b[0m     missing_indices: List[\u001b[39mint\u001b[39m] \u001b[39m=\u001b[39m [\n\u001b[0;32m    113\u001b[0m         i \u001b[39mfor\u001b[39;00m i, vector \u001b[39min\u001b[39;00m \u001b[39menumerate\u001b[39m(vectors) \u001b[39mif\u001b[39;00m vector \u001b[39mis\u001b[39;00m \u001b[39mNone\u001b[39;00m\n\u001b[0;32m    114\u001b[0m     ]\n\u001b[0;32m    115\u001b[0m     missing_texts \u001b[39m=\u001b[39m [texts[i] \u001b[39mfor\u001b[39;00m i \u001b[39min\u001b[39;00m missing_indices]\n",
      "File \u001b[1;32mc:\\Users\\silvh\\.conda\\envs\\datajam\\Lib\\site-packages\\langchain\\storage\\encoder_backed.py:70\u001b[0m, in \u001b[0;36mEncoderBackedStore.mget\u001b[1;34m(self, keys)\u001b[0m\n\u001b[0;32m     68\u001b[0m \u001b[39m\u001b[39m\u001b[39m\"\"\"Get the values associated with the given keys.\"\"\"\u001b[39;00m\n\u001b[0;32m     69\u001b[0m encoded_keys: List[\u001b[39mstr\u001b[39m] \u001b[39m=\u001b[39m [\u001b[39mself\u001b[39m\u001b[39m.\u001b[39mkey_encoder(key) \u001b[39mfor\u001b[39;00m key \u001b[39min\u001b[39;00m keys]\n\u001b[1;32m---> 70\u001b[0m values \u001b[39m=\u001b[39m \u001b[39mself\u001b[39m\u001b[39m.\u001b[39mstore\u001b[39m.\u001b[39mmget(encoded_keys)\n\u001b[0;32m     71\u001b[0m \u001b[39mreturn\u001b[39;00m [\n\u001b[0;32m     72\u001b[0m     \u001b[39mself\u001b[39m\u001b[39m.\u001b[39mvalue_deserializer(value) \u001b[39mif\u001b[39;00m value \u001b[39mis\u001b[39;00m \u001b[39mnot\u001b[39;00m \u001b[39mNone\u001b[39;00m \u001b[39melse\u001b[39;00m value\n\u001b[0;32m     73\u001b[0m     \u001b[39mfor\u001b[39;00m value \u001b[39min\u001b[39;00m values\n\u001b[0;32m     74\u001b[0m ]\n",
      "\u001b[1;31mAttributeError\u001b[0m: 'str' object has no attribute 'mget'"
     ]
    }
   ],
   "source": [
    "site_key = 'mattress'\n",
    "vector_dict[site_key] = FAISS.from_documents(doc_dict[doc_id], retriever_dict[2][site_key])"
   ]
  },
  {
   "cell_type": "markdown",
   "metadata": {},
   "source": [
    "## 2.21 Successfully saved embedding"
   ]
  },
  {
   "cell_type": "code",
   "execution_count": 2,
   "metadata": {},
   "outputs": [
    {
     "name": "stderr",
     "output_type": "stream",
     "text": [
      "100%|██████████| 1/1 [00:00<00:00, 116.90it/s]\n"
     ]
    },
    {
     "name": "stdout",
     "output_type": "stream",
     "text": [
      "Number of files: 1\n"
     ]
    }
   ],
   "source": [
    "import os\n",
    "\n",
    "# documents\n",
    "from langchain.document_loaders import DirectoryLoader\n",
    "from langchain.document_loaders import TextLoader\n",
    "from langchain.document_loaders.csv_loader import CSVLoader\n",
    "\n",
    "from langchain.storage import LocalFileStore\n",
    "from langchain.embeddings.openai import OpenAIEmbeddings\n",
    "from langchain.embeddings import CacheBackedEmbeddings\n",
    "\n",
    "# from langchain.vectorstores import Chroma\n",
    "from langchain.text_splitter import CharacterTextSplitter\n",
    "from langchain.llms import OpenAI\n",
    "from langchain.chains import ConversationalRetrievalChain\n",
    "from langchain.vectorstores import FAISS\n",
    "from langchain.agents.agent_toolkits import create_retriever_tool\n",
    "\n",
    "# Creating the Agent\n",
    "from langchain.agents.agent_toolkits import create_conversational_retrieval_agent\n",
    "from langchain.chat_models import ChatOpenAI\n",
    "\n",
    "# Create memory \n",
    "from langchain.memory import ConversationBufferMemory\n",
    "from langchain.memory import StreamlitChatMessageHistory # for Streamlit\n",
    "\n",
    "from langchain.agents.openai_functions_agent.base import OpenAIFunctionsAgent\n",
    "from langchain.schema.messages import SystemMessage\n",
    "from langchain.prompts import MessagesPlaceholder\n",
    "\n",
    "from langchain.agents import AgentExecutor\n",
    "from langchain.agents.openai_functions_agent.agent_token_buffer_memory import AgentTokenBufferMemory\n",
    "\n",
    "import streamlit as st\n",
    "\n",
    "\n",
    "def create_documents(directory='../data', glob='**/[!.]*', show_progress=True, loader_cls=CSVLoader):\n",
    "    loader = DirectoryLoader(\n",
    "        directory, glob=glob, show_progress=show_progress,\n",
    "        loader_cls=loader_cls)\n",
    "\n",
    "    documents = loader.load()\n",
    "    print(f'Number of files: {len(documents)}')\n",
    "    return documents\n",
    "    \n",
    "def create_documents_from_csv(file_path='../data/Datajam_2023___Fine_Tuning_ChatBot_CSV_-_Recycle_BC_1.csv'):\n",
    "    loader = CSVLoader(file_path, encoding='utf-8')\n",
    "    documents = loader.load()\n",
    "    return documents\n",
    "\n",
    "def create_retriever(\n",
    "    documents, site_key, filestore, \n",
    "    embeddings_dict=embeddings_dict, \n",
    "    vector_dict=vector_dict, text_splitter=None\n",
    "    ):\n",
    "    \"\"\"\n",
    "    Parameters:\n",
    "        - text_splitter (optional): a text splitter object. If None, the documents are not split. \n",
    "    \"\"\"\n",
    "    if text_splitter is None: # object type is the same (class 'langchain.schema.document.Document') whether or not the documents are split\n",
    "        texts = documents\n",
    "    else:\n",
    "        texts = text_splitter.split_documents(documents)\n",
    "   \n",
    "    underlying_embeddings = OpenAIEmbeddings(\n",
    "        openai_organization=os.environ['openai_organization'],\n",
    "        openai_api_key=os.environ['openai_api_key']\n",
    "        )\n",
    "    embeddings_dict[site_key] = CacheBackedEmbeddings.from_bytes_store(\n",
    "        underlying_embeddings, filestore, \n",
    "        namespace=f'{site_key}_{underlying_embeddings.model}'\n",
    "        )\n",
    "    vector_dict[site_key] = FAISS.from_documents(texts, embeddings_dict[site_key])\n",
    "    retriever_dict[site_key] = vector_dict[site_key].as_retriever()\n",
    "    return retriever_dict\n",
    "    # return embeddings_dict\n",
    "\n",
    "\n",
    "def create_retriever_and_description_dicts(params_dict, filepath, doc_dict=doc_dict, vector_dict=vector_dict):\n",
    "    retriever_dict = dict()\n",
    "    description_dict = dict()\n",
    "    for doc_id in doc_dict:\n",
    "        retriever_dict[doc_id] = create_retriever(\n",
    "            doc_dict[doc_id], params_dict[doc_id]['site_key'], \n",
    "            LocalFileStore(filepath),\n",
    "            vector_dict=vector_dict, \n",
    "            text_splitter=params_dict[doc_id].get('text_splitter', None)\n",
    "            )\n",
    "        description_dict[params_dict[doc_id]['site_key']] = params_dict[doc_id]['doc_description']\n",
    "\n",
    "    return retriever_dict, description_dict\n",
    "\n",
    "def create_tools_list(retriever_dict, description_dict):\n",
    "    \"\"\"\n",
    "    https://api.python.langchain.com/en/latest/agents/langchain.agents.agent_toolkits.conversational_retrieval.tool.create_retriever_tool.html?highlight=create_retriever_tool#langchain.agents.agent_toolkits.conversational_retrieval.tool.create_retriever_tool\n",
    "    \"\"\"\n",
    "    tools_list = []\n",
    "    for site_key, retriever in retriever_dict.items():\n",
    "        tool_name = f'search_{site_key}'\n",
    "        tool = create_retriever_tool(retriever_dict[site_key], tool_name, description_dict[site_key])\n",
    "        tools_list.append(tool)\n",
    "    return tools_list\n",
    "\n",
    "\n",
    "recylebc = \"\"\"\n",
    "This document provides information from the Recycle BC website or BC government \n",
    "website. It has the most specific information \n",
    "about whether or not an item is accepted for recycling and where to recycle it.\n",
    "This should be the main resource for recycling information for residents of British Columbia.\n",
    "\"\"\"\n",
    "\n",
    "CoV_mattress = \"\"\"\n",
    "Information from the City of Vancouver website about how to recycle mattresses.\n",
    "\"\"\"\n",
    "\n",
    "params_dict = {\n",
    "    # 1: {\n",
    "    #     'site_key': 'recycle',\n",
    "    #     'doc_description': recylebc,\n",
    "    #     'text_splitter': None\n",
    "    # },\n",
    "    2: {\n",
    "        'site_key': 'mattress',\n",
    "        'doc_description': CoV_mattress,\n",
    "        'text_splitter': None\n",
    "    }\n",
    "}\n",
    "filestore = '../embeddings/'\n",
    "# doc_id = 1\n",
    "# try:\n",
    "#     directory = 'data'\n",
    "#     doc_dict[doc_id] = create_documents(directory=directory, glob='*.csv')\n",
    "# except:\n",
    "#     doc_dict[doc_id] = create_documents_from_csv()\n",
    "#     print('Done creating doc from CSV')\n",
    "\n",
    "doc_id = 2\n",
    "try:\n",
    "    directory = 'data'\n",
    "    doc_dict[doc_id] = create_documents(directory=directory, glob='*.txt', loader_cls=TextLoader)\n",
    "except:\n",
    "    directory = '../data'\n",
    "    doc_dict[doc_id] = create_documents(directory=directory, glob='*.txt', loader_cls=TextLoader)\n",
    "\n",
    "\n",
    "\n",
    "retriever_dict, description_dict = create_retriever_and_description_dicts(params_dict, filestore)"
   ]
  },
  {
   "cell_type": "code",
   "execution_count": 3,
   "metadata": {},
   "outputs": [
    {
     "data": {
      "text/plain": [
       "{'mattress': <langchain.embeddings.cache.CacheBackedEmbeddings at 0x20fe9689150>}"
      ]
     },
     "execution_count": 3,
     "metadata": {},
     "output_type": "execute_result"
    }
   ],
   "source": [
    "embeddings_dict"
   ]
  },
  {
   "cell_type": "code",
   "execution_count": 6,
   "metadata": {},
   "outputs": [
    {
     "data": {
      "text/plain": [
       "['mattress_text-embedding-ada-0024d698914-67ab-531b-a43a-655989f5061e']"
      ]
     },
     "execution_count": 6,
     "metadata": {},
     "output_type": "execute_result"
    }
   ],
   "source": [
    "filepath = '../embeddings/'\n",
    "list(LocalFileStore(filepath).yield_keys())"
   ]
  },
  {
   "cell_type": "markdown",
   "metadata": {},
   "source": [
    "### Repeat with Recycle BC doc"
   ]
  },
  {
   "cell_type": "code",
   "execution_count": 17,
   "metadata": {},
   "outputs": [
    {
     "name": "stdout",
     "output_type": "stream",
     "text": [
      "Done creating doc from CSV\n"
     ]
    }
   ],
   "source": [
    "params_dict = {\n",
    "    1: {\n",
    "        'site_key': 'recycle',\n",
    "        'doc_description': recylebc,\n",
    "        'text_splitter': None\n",
    "    },\n",
    "    # 2: {\n",
    "    #     'site_key': 'mattress',\n",
    "    #     'doc_description': CoV_mattress,\n",
    "    #     'text_splitter': None\n",
    "    # }\n",
    "}\n",
    "filestore = '../embeddings/'\n",
    "doc_id = 1\n",
    "try:\n",
    "    directory = 'data'\n",
    "    doc_dict2[doc_id] = create_documents(directory=directory, glob='*.csv')\n",
    "except:\n",
    "    doc_dict2[doc_id] = create_documents_from_csv()\n",
    "    print('Done creating doc from CSV')\n",
    "\n",
    "retriever_dict, description_dict = create_retriever_and_description_dicts(params_dict, filestore, doc_dict=doc_dict2)"
   ]
  },
  {
   "cell_type": "code",
   "execution_count": 18,
   "metadata": {},
   "outputs": [
    {
     "data": {
      "text/plain": [
       "{1: [Document(page_content='Conclusion: Accepted\\nLocation: Curbside collection, Multi-family collection, Recycle BC depots\\nCategory: Paper\\nItem: Newspapers, inserts and flyers\\nSource: https://recyclebc.ca/what-can-i-recycle-2/', metadata={'source': '../data/Datajam_2023___Fine_Tuning_ChatBot_CSV_-_Recycle_BC_1.csv', 'row': 0}),\n",
       "  Document(page_content='Conclusion: Accepted\\nLocation: Curbside collection, Multi-family collection, Recycle BC depots\\nCategory: Paper\\nItem: Magazines and catalogues\\nSource: https://recyclebc.ca/what-can-i-recycle-2/', metadata={'source': '../data/Datajam_2023___Fine_Tuning_ChatBot_CSV_-_Recycle_BC_1.csv', 'row': 1}),\n",
       "  Document(page_content='Conclusion: Accepted\\nLocation: Curbside collection, Multi-family collection, Recycle BC depots\\nCategory: Paper\\nItem: Telephone books and other directories\\nSource: https://recyclebc.ca/what-can-i-recycle-2/', metadata={'source': '../data/Datajam_2023___Fine_Tuning_ChatBot_CSV_-_Recycle_BC_1.csv', 'row': 2}),\n",
       "  Document(page_content='Conclusion: Accepted\\nLocation: Curbside collection, Multi-family collection, Recycle BC depots\\nCategory: Paper\\nItem: Writing and home office paper, paper envelopes, and notepads\\nSource: https://recyclebc.ca/what-can-i-recycle-2/', metadata={'source': '../data/Datajam_2023___Fine_Tuning_ChatBot_CSV_-_Recycle_BC_1.csv', 'row': 3}),\n",
       "  Document(page_content='Conclusion: Accepted\\nLocation: Curbside collection, Multi-family collection, Recycle BC depots\\nCategory: Paper\\nItem: Paper gift wrap and greeting cards\\nSource: https://recyclebc.ca/what-can-i-recycle-2/', metadata={'source': '../data/Datajam_2023___Fine_Tuning_ChatBot_CSV_-_Recycle_BC_1.csv', 'row': 4}),\n",
       "  Document(page_content='Conclusion: Accepted\\nLocation: Curbside collection, Multi-family collection, Recycle BC depots\\nCategory: Paper\\nItem: Single-use paper party décor (e.g., paper pennants, paper globes and ornaments, etc.)\\nSource: https://recyclebc.ca/what-can-i-recycle-2/', metadata={'source': '../data/Datajam_2023___Fine_Tuning_ChatBot_CSV_-_Recycle_BC_1.csv', 'row': 5}),\n",
       "  Document(page_content='Conclusion: Accepted\\nLocation: Curbside collection, Multi-family collection, Recycle BC depots\\nCategory: Paper\\nItem: Shredded paper (set shredded paper out for collection in a paper bag or small box and place in your paper collection container)\\nSource: https://recyclebc.ca/what-can-i-recycle-2/', metadata={'source': '../data/Datajam_2023___Fine_Tuning_ChatBot_CSV_-_Recycle_BC_1.csv', 'row': 6}),\n",
       "  Document(page_content='Conclusion: Not Accepted\\nLocation: \\nCategory: Paper\\nItem: Hardcover or paperback books (donate or sell)\\nSource: https://recyclebc.ca/what-can-i-recycle-2/', metadata={'source': '../data/Datajam_2023___Fine_Tuning_ChatBot_CSV_-_Recycle_BC_1.csv', 'row': 7}),\n",
       "  Document(page_content='Conclusion: Not Accepted\\nLocation: \\nCategory: Paper\\nItem: Paper towels, napkins, tissues\\nSource: https://recyclebc.ca/what-can-i-recycle-2/', metadata={'source': '../data/Datajam_2023___Fine_Tuning_ChatBot_CSV_-_Recycle_BC_1.csv', 'row': 8}),\n",
       "  Document(page_content='Conclusion: Not Accepted\\nLocation: \\nCategory: Paper\\nItem: Non-paper gift wrap and foil gift wrap\\nSource: https://recyclebc.ca/what-can-i-recycle-2/', metadata={'source': '../data/Datajam_2023___Fine_Tuning_ChatBot_CSV_-_Recycle_BC_1.csv', 'row': 9}),\n",
       "  Document(page_content='Conclusion: Not Accepted\\nLocation: \\nCategory: Paper\\nItem: Padded envelopes\\nSource: https://recyclebc.ca/what-can-i-recycle-2/', metadata={'source': '../data/Datajam_2023___Fine_Tuning_ChatBot_CSV_-_Recycle_BC_1.csv', 'row': 10}),\n",
       "  Document(page_content='Conclusion: Not Accepted\\nLocation: \\nCategory: Paper\\nItem: Ribbons or bows\\nSource: https://recyclebc.ca/what-can-i-recycle-2/', metadata={'source': '../data/Datajam_2023___Fine_Tuning_ChatBot_CSV_-_Recycle_BC_1.csv', 'row': 11}),\n",
       "  Document(page_content='Conclusion: Not Accepted\\nLocation: \\nCategory: Paper\\nItem: Musical greeting cards with batteries (contact the Recycling Council of BC for battery and e-waste recycling options)\\nSource: https://recyclebc.ca/what-can-i-recycle-2/', metadata={'source': '../data/Datajam_2023___Fine_Tuning_ChatBot_CSV_-_Recycle_BC_1.csv', 'row': 12}),\n",
       "  Document(page_content='Conclusion: Not Accepted\\nLocation: \\nCategory: Paper\\nItem: Rubber bands\\nSource: https://recyclebc.ca/what-can-i-recycle-2/', metadata={'source': '../data/Datajam_2023___Fine_Tuning_ChatBot_CSV_-_Recycle_BC_1.csv', 'row': 13}),\n",
       "  Document(page_content='Conclusion: Not Accepted\\nLocation: \\nCategory: Paper\\nItem: Plastic bags used to cover newspapers/flyers (recycle at a Recycle BC depot)\\nSource: https://recyclebc.ca/what-can-i-recycle-2/', metadata={'source': '../data/Datajam_2023___Fine_Tuning_ChatBot_CSV_-_Recycle_BC_1.csv', 'row': 14}),\n",
       "  Document(page_content='Conclusion: Accepted\\nLocation: Curbside collection, Multi-family collection, Recycle BC depots\\nCategory: Paper Packaging and Cardboard\\nItem: Corrugated cardboard boxes used for shipping, grocery and liquor store boxes, pizza boxes, moving boxes and Banker’s boxes\\nSource: https://recyclebc.ca/what-can-i-recycle-2/', metadata={'source': '../data/Datajam_2023___Fine_Tuning_ChatBot_CSV_-_Recycle_BC_1.csv', 'row': 15}),\n",
       "  Document(page_content='Conclusion: Accepted\\nLocation: Curbside collection, Multi-family collection, Recycle BC depots\\nCategory: Paper Packaging and Cardboard\\nItem: Cardboard and boxboard boxes used for cereal, shoes, tissues, pizza, frozen entrees, desserts, detergent, etc.\\nSource: https://recyclebc.ca/what-can-i-recycle-2/', metadata={'source': '../data/Datajam_2023___Fine_Tuning_ChatBot_CSV_-_Recycle_BC_1.csv', 'row': 16}),\n",
       "  Document(page_content='Conclusion: Accepted\\nLocation: Curbside collection, Multi-family collection, Recycle BC depots\\nCategory: Paper Packaging and Cardboard\\nItem: Cardboard packaging for cannabis product\\nSource: https://recyclebc.ca/what-can-i-recycle-2/', metadata={'source': '../data/Datajam_2023___Fine_Tuning_ChatBot_CSV_-_Recycle_BC_1.csv', 'row': 17}),\n",
       "  Document(page_content='Conclusion: Accepted\\nLocation: Curbside collection, Multi-family collection, Recycle BC depots\\nCategory: Paper Packaging and Cardboard\\nItem: Carrier trays for bulk bottled water, soft drinks, cans, food, etc.\\nSource: https://recyclebc.ca/what-can-i-recycle-2/', metadata={'source': '../data/Datajam_2023___Fine_Tuning_ChatBot_CSV_-_Recycle_BC_1.csv', 'row': 18}),\n",
       "  Document(page_content='Conclusion: Accepted\\nLocation: Curbside collection, Multi-family collection, Recycle BC depots\\nCategory: Paper Packaging and Cardboard\\nItem: Cores for paper towels and toilet tissue\\nSource: https://recyclebc.ca/what-can-i-recycle-2/', metadata={'source': '../data/Datajam_2023___Fine_Tuning_ChatBot_CSV_-_Recycle_BC_1.csv', 'row': 19}),\n",
       "  Document(page_content='Conclusion: Accepted\\nLocation: Curbside collection, Multi-family collection, Recycle BC depots\\nCategory: Paper Packaging and Cardboard\\nItem: Molded boxboard packaging for egg cartons, take-out beverage trays, paper-based plant pots\\nSource: https://recyclebc.ca/what-can-i-recycle-2/', metadata={'source': '../data/Datajam_2023___Fine_Tuning_ChatBot_CSV_-_Recycle_BC_1.csv', 'row': 20}),\n",
       "  Document(page_content='Conclusion: Accepted\\nLocation: Curbside collection, Multi-family collection, Recycle BC depots\\nCategory: Paper Packaging and Cardboard\\nItem: Paper gift bags and boxes\\nSource: https://recyclebc.ca/what-can-i-recycle-2/', metadata={'source': '../data/Datajam_2023___Fine_Tuning_ChatBot_CSV_-_Recycle_BC_1.csv', 'row': 21}),\n",
       "  Document(page_content='Conclusion: Accepted\\nLocation: Curbside collection, Multi-family collection, Recycle BC depots\\nCategory: Paper Packaging and Cardboard\\nItem: Paper bags (also called Kraft paper) and envelopes\\nSource: https://recyclebc.ca/what-can-i-recycle-2/', metadata={'source': '../data/Datajam_2023___Fine_Tuning_ChatBot_CSV_-_Recycle_BC_1.csv', 'row': 22}),\n",
       "  Document(page_content='Conclusion: Accepted\\nLocation: Curbside collection, Multi-family collection, Recycle BC depots\\nCategory: Paper Packaging and Cardboard\\nItem: Multi-layered paper bags for flour, sugar, etc.\\nSource: https://recyclebc.ca/what-can-i-recycle-2/', metadata={'source': '../data/Datajam_2023___Fine_Tuning_ChatBot_CSV_-_Recycle_BC_1.csv', 'row': 23}),\n",
       "  Document(page_content='Conclusion: Accepted\\nLocation: Curbside collection, Multi-family collection, Recycle BC depots\\nCategory: Paper Packaging and Cardboard\\nItem: Compressed paper hangers included with clothing\\nSource: https://recyclebc.ca/what-can-i-recycle-2/', metadata={'source': '../data/Datajam_2023___Fine_Tuning_ChatBot_CSV_-_Recycle_BC_1.csv', 'row': 24}),\n",
       "  Document(page_content='Conclusion: Not Accepted\\nLocation: \\nCategory: Paper Packaging and Cardboard\\nItem: Cardboard boxes with wax coating, such as empty boxes, made available for residents to transport their groceries home\\nSource: https://recyclebc.ca/what-can-i-recycle-2/', metadata={'source': '../data/Datajam_2023___Fine_Tuning_ChatBot_CSV_-_Recycle_BC_1.csv', 'row': 25}),\n",
       "  Document(page_content='Conclusion: Not Accepted\\nLocation: \\nCategory: Paper Packaging and Cardboard\\nItem: Paper bags with multiple layers that include a foil layer\\nSource: https://recyclebc.ca/what-can-i-recycle-2/', metadata={'source': '../data/Datajam_2023___Fine_Tuning_ChatBot_CSV_-_Recycle_BC_1.csv', 'row': 26}),\n",
       "  Document(page_content='Conclusion: Not Accepted\\nLocation: \\nCategory: Paper Packaging and Cardboard\\nItem: Paper bags with a plastic layer\\nSource: https://recyclebc.ca/what-can-i-recycle-2/', metadata={'source': '../data/Datajam_2023___Fine_Tuning_ChatBot_CSV_-_Recycle_BC_1.csv', 'row': 27}),\n",
       "  Document(page_content='Conclusion: Not Accepted\\nLocation: \\nCategory: Paper Packaging and Cardboard\\nItem: Paper towels, napkins (include with green waste, if applicable)\\nSource: https://recyclebc.ca/what-can-i-recycle-2/', metadata={'source': '../data/Datajam_2023___Fine_Tuning_ChatBot_CSV_-_Recycle_BC_1.csv', 'row': 28}),\n",
       "  Document(page_content='Conclusion: Not Accepted\\nLocation: \\nCategory: Paper Packaging and Cardboard\\nItem: Tissues\\nSource: https://recyclebc.ca/what-can-i-recycle-2/', metadata={'source': '../data/Datajam_2023___Fine_Tuning_ChatBot_CSV_-_Recycle_BC_1.csv', 'row': 29}),\n",
       "  Document(page_content='Conclusion: Not Accepted\\nLocation: \\nCategory: Paper Packaging and Cardboard\\nItem: Padded envelopes with plastic or bubble layer\\nSource: https://recyclebc.ca/what-can-i-recycle-2/', metadata={'source': '../data/Datajam_2023___Fine_Tuning_ChatBot_CSV_-_Recycle_BC_1.csv', 'row': 30}),\n",
       "  Document(page_content='Conclusion: Accepted\\nLocation: Curbside collection, Multi-family collection, Recycle BC depots\\nCategory: Plastic Containers\\nItem: Plastic jugs with screw tops used for cooking oil, laundry detergent and fabric softener, cleaning solutions, cleaning products, body care products, windshield washer fluid, etc.\\nSource: https://recyclebc.ca/what-can-i-recycle-2/', metadata={'source': '../data/Datajam_2023___Fine_Tuning_ChatBot_CSV_-_Recycle_BC_1.csv', 'row': 31}),\n",
       "  Document(page_content='Conclusion: Accepted\\nLocation: Curbside collection, Multi-family collection, Recycle BC depots\\nCategory: Plastic Containers\\nItem: Plastic bottles with screw caps, spray pump, or pull-up tops for food, dish soap, mouthwash, shampoos, conditioners and other personal care products, pills and vitamins, laundry products, etc.\\nSource: https://recyclebc.ca/what-can-i-recycle-2/', metadata={'source': '../data/Datajam_2023___Fine_Tuning_ChatBot_CSV_-_Recycle_BC_1.csv', 'row': 32}),\n",
       "  Document(page_content='Conclusion: Accepted\\nLocation: Curbside collection, Multi-family collection, Recycle BC depots\\nCategory: Plastic Containers\\nItem: Plastic jars with wide mouths and screw-top lids for peanut butter, jam, nuts, condiments, vitamins and supplements, personal care products, etc.\\nSource: https://recyclebc.ca/what-can-i-recycle-2/', metadata={'source': '../data/Datajam_2023___Fine_Tuning_ChatBot_CSV_-_Recycle_BC_1.csv', 'row': 33}),\n",
       "  Document(page_content='Conclusion: Accepted\\nLocation: Curbside collection, Multi-family collection, Recycle BC depots\\nCategory: Plastic Containers\\nItem: Plastic packaging for cannabis product\\nSource: https://recyclebc.ca/what-can-i-recycle-2/', metadata={'source': '../data/Datajam_2023___Fine_Tuning_ChatBot_CSV_-_Recycle_BC_1.csv', 'row': 34}),\n",
       "  Document(page_content='Conclusion: Accepted\\nLocation: Curbside collection, Multi-family collection, Recycle BC depots\\nCategory: Plastic Containers\\nItem: Plastic clamshells with hinged or click-closed tops for baked goods, fruit, produce, eggs, etc.\\nSource: https://recyclebc.ca/what-can-i-recycle-2/', metadata={'source': '../data/Datajam_2023___Fine_Tuning_ChatBot_CSV_-_Recycle_BC_1.csv', 'row': 35}),\n",
       "  Document(page_content='Conclusion: Accepted\\nLocation: Curbside collection, Multi-family collection, Recycle BC depots\\nCategory: Plastic Containers\\nItem: Plastic black-bottom trays and clear tops for deli chicken, single-serve meals, prepared foods, baked goods\\nSource: https://recyclebc.ca/what-can-i-recycle-2/', metadata={'source': '../data/Datajam_2023___Fine_Tuning_ChatBot_CSV_-_Recycle_BC_1.csv', 'row': 36}),\n",
       "  Document(page_content='Conclusion: Accepted\\nLocation: Curbside collection, Multi-family collection, Recycle BC depots\\nCategory: Plastic Containers\\nItem: Plastic tubs and lids for food such as margarine and spreads, dairy products such as yogurt, cottage cheese, sour cream, ice cream, etc.\\nSource: https://recyclebc.ca/what-can-i-recycle-2/', metadata={'source': '../data/Datajam_2023___Fine_Tuning_ChatBot_CSV_-_Recycle_BC_1.csv', 'row': 37}),\n",
       "  Document(page_content='Conclusion: Accepted\\nLocation: Curbside collection, Multi-family collection, Recycle BC depots\\nCategory: Plastic Containers\\nItem: Plastic cold drink cups with lids for take-out beverages\\nSource: https://recyclebc.ca/what-can-i-recycle-2/', metadata={'source': '../data/Datajam_2023___Fine_Tuning_ChatBot_CSV_-_Recycle_BC_1.csv', 'row': 38}),\n",
       "  Document(page_content='Conclusion: Accepted\\nLocation: Curbside collection, Multi-family collection, Recycle BC depots\\nCategory: Plastic Containers\\nItem: Plastic garden pots and trays for bedding plants, seedlings, vegetable plants, etc.\\nSource: https://recyclebc.ca/what-can-i-recycle-2/', metadata={'source': '../data/Datajam_2023___Fine_Tuning_ChatBot_CSV_-_Recycle_BC_1.csv', 'row': 39}),\n",
       "  Document(page_content='Conclusion: Accepted\\nLocation: Curbside collection, Multi-family collection, Recycle BC depots\\nCategory: Plastic Containers\\nItem: Plastic pails less than 25L for laundry detergent, ice cream, pet food, etc.\\nSource: https://recyclebc.ca/what-can-i-recycle-2/', metadata={'source': '../data/Datajam_2023___Fine_Tuning_ChatBot_CSV_-_Recycle_BC_1.csv', 'row': 40}),\n",
       "  Document(page_content='Conclusion: Accepted\\nLocation: Curbside collection, Multi-family collection, Recycle BC depots\\nCategory: Plastic Containers\\nItem: Microwavable bowls and cups\\nSource: https://recyclebc.ca/what-can-i-recycle-2/', metadata={'source': '../data/Datajam_2023___Fine_Tuning_ChatBot_CSV_-_Recycle_BC_1.csv', 'row': 41}),\n",
       "  Document(page_content='Conclusion: Accepted\\nLocation: Curbside collection, Multi-family collection, Recycle BC depots\\nCategory: Plastic Containers\\nItem: Empty single-use coffee and tea pods; remove lids and do not include lids with recycling\\nSource: https://recyclebc.ca/what-can-i-recycle-2/', metadata={'source': '../data/Datajam_2023___Fine_Tuning_ChatBot_CSV_-_Recycle_BC_1.csv', 'row': 42}),\n",
       "  Document(page_content='Conclusion: Accepted\\nLocation: Curbside collection, Multi-family collection, Recycle BC depots\\nCategory: Plastic Containers\\nItem: Rigid plastic packaging for toys, toothbrushes, batteries, etc.; remove paper backing and recycle separately\\nSource: https://recyclebc.ca/what-can-i-recycle-2/', metadata={'source': '../data/Datajam_2023___Fine_Tuning_ChatBot_CSV_-_Recycle_BC_1.csv', 'row': 43}),\n",
       "  Document(page_content='Conclusion: Accepted\\nLocation: Curbside collection, Multi-family collection, Recycle BC depots\\nCategory: Plastic Containers\\nItem: Plastic straws\\nSource: https://recyclebc.ca/what-can-i-recycle-2/', metadata={'source': '../data/Datajam_2023___Fine_Tuning_ChatBot_CSV_-_Recycle_BC_1.csv', 'row': 44}),\n",
       "  Document(page_content='Conclusion: Accepted\\nLocation: Curbside collection, Multi-family collection, Recycle BC depots\\nCategory: Plastic Containers\\nItem: Plastic stir sticks\\nSource: https://recyclebc.ca/what-can-i-recycle-2/', metadata={'source': '../data/Datajam_2023___Fine_Tuning_ChatBot_CSV_-_Recycle_BC_1.csv', 'row': 45}),\n",
       "  Document(page_content='Conclusion: Accepted\\nLocation: Curbside collection, Multi-family collection, Recycle BC depots\\nCategory: Plastic Containers\\nItem: Plastic utensils\\nSource: https://recyclebc.ca/what-can-i-recycle-2/', metadata={'source': '../data/Datajam_2023___Fine_Tuning_ChatBot_CSV_-_Recycle_BC_1.csv', 'row': 46}),\n",
       "  Document(page_content='Conclusion: Accepted\\nLocation: Curbside collection, Multi-family collection, Recycle BC depots\\nCategory: Plastic Containers\\nItem: Plastic plates, cups, and bowls\\nSource: https://recyclebc.ca/what-can-i-recycle-2/', metadata={'source': '../data/Datajam_2023___Fine_Tuning_ChatBot_CSV_-_Recycle_BC_1.csv', 'row': 47}),\n",
       "  Document(page_content='Conclusion: Accepted\\nLocation: Curbside collection, Multi-family collection, Recycle BC depots\\nCategory: Plastic Containers\\nItem: Non-durable plastic food containers\\nSource: https://recyclebc.ca/what-can-i-recycle-2/', metadata={'source': '../data/Datajam_2023___Fine_Tuning_ChatBot_CSV_-_Recycle_BC_1.csv', 'row': 48}),\n",
       "  Document(page_content='Conclusion: Accepted\\nLocation: Curbside collection, Multi-family collection, Recycle BC depots\\nCategory: Plastic Containers\\nItem: Rigid plastic gift bags or boxes\\nSource: https://recyclebc.ca/what-can-i-recycle-2/', metadata={'source': '../data/Datajam_2023___Fine_Tuning_ChatBot_CSV_-_Recycle_BC_1.csv', 'row': 49}),\n",
       "  Document(page_content='Conclusion: Accepted\\nLocation: Curbside collection, Multi-family collection, Recycle BC depots\\nCategory: Plastic Containers\\nItem: Disposable plastic hangers included with clothing\\nSource: https://recyclebc.ca/what-can-i-recycle-2/', metadata={'source': '../data/Datajam_2023___Fine_Tuning_ChatBot_CSV_-_Recycle_BC_1.csv', 'row': 50}),\n",
       "  Document(page_content='Conclusion: Accepted\\nLocation: Curbside collection, Multi-family collection, Recycle BC depots\\nCategory: Plastic Containers\\nItem: Plastic tape dispensers\\nSource: https://recyclebc.ca/what-can-i-recycle-2/', metadata={'source': '../data/Datajam_2023___Fine_Tuning_ChatBot_CSV_-_Recycle_BC_1.csv', 'row': 51}),\n",
       "  Document(page_content='Conclusion: Accepted\\nLocation: Curbside collection, Multi-family collection, Recycle BC depots\\nCategory: Plastic Containers\\nItem: Plastic dental floss containers\\nSource: https://recyclebc.ca/what-can-i-recycle-2/', metadata={'source': '../data/Datajam_2023___Fine_Tuning_ChatBot_CSV_-_Recycle_BC_1.csv', 'row': 52}),\n",
       "  Document(page_content='Conclusion: Not Accepted\\nLocation: \\nCategory: Plastic Containers\\nItem: Containers for motor oil, vehicle lubricant or antifreeze products (call the RCBC Hotline 1-800-667-4321 or check Recyclepedia)\\nSource: https://recyclebc.ca/what-can-i-recycle-2/', metadata={'source': '../data/Datajam_2023___Fine_Tuning_ChatBot_CSV_-_Recycle_BC_1.csv', 'row': 53}),\n",
       "  Document(page_content='Conclusion: Not Accepted\\nLocation: \\nCategory: Plastic Containers\\nItem: Packaging labelled biodegradable or compostable, or oxo-degradable\\nSource: https://recyclebc.ca/what-can-i-recycle-2/', metadata={'source': '../data/Datajam_2023___Fine_Tuning_ChatBot_CSV_-_Recycle_BC_1.csv', 'row': 54}),\n",
       "  Document(page_content='Conclusion: Not Accepted\\nLocation: \\nCategory: Plastic Containers\\nItem: Items that are not packaging like\\nSource: https://recyclebc.ca/what-can-i-recycle-2/', metadata={'source': '../data/Datajam_2023___Fine_Tuning_ChatBot_CSV_-_Recycle_BC_1.csv', 'row': 55}),\n",
       "  Document(page_content='Conclusion: Not Accepted\\nLocation: \\nCategory: Plastic Containers\\nItem: Long-term storage containers such as heavy-duty plastic boxes or totes\\nSource: https://recyclebc.ca/what-can-i-recycle-2/', metadata={'source': '../data/Datajam_2023___Fine_Tuning_ChatBot_CSV_-_Recycle_BC_1.csv', 'row': 56}),\n",
       "  Document(page_content='Conclusion: Not Accepted\\nLocation: \\nCategory: Plastic Containers\\nItem: Durable hangers: wire, sturdy plastic, metal, wood\\nSource: https://recyclebc.ca/what-can-i-recycle-2/', metadata={'source': '../data/Datajam_2023___Fine_Tuning_ChatBot_CSV_-_Recycle_BC_1.csv', 'row': 57}),\n",
       "  Document(page_content='Conclusion: Not Accepted\\nLocation: \\nCategory: Plastic Containers\\nItem: Tool boxes or power tool cases\\nSource: https://recyclebc.ca/what-can-i-recycle-2/', metadata={'source': '../data/Datajam_2023___Fine_Tuning_ChatBot_CSV_-_Recycle_BC_1.csv', 'row': 58}),\n",
       "  Document(page_content='Conclusion: Not Accepted\\nLocation: \\nCategory: Plastic Containers\\nItem: Liquid-absorbing pads, e.g., in trays of meat, poultry, fish, etc.\\nSource: https://recyclebc.ca/what-can-i-recycle-2/', metadata={'source': '../data/Datajam_2023___Fine_Tuning_ChatBot_CSV_-_Recycle_BC_1.csv', 'row': 59}),\n",
       "  Document(page_content='Conclusion: Not Accepted\\nLocation: \\nCategory: Plastic Containers\\nItem: Plastic wrap\\nSource: https://recyclebc.ca/what-can-i-recycle-2/', metadata={'source': '../data/Datajam_2023___Fine_Tuning_ChatBot_CSV_-_Recycle_BC_1.csv', 'row': 60}),\n",
       "  Document(page_content='Conclusion: Not Accepted\\nLocation: \\nCategory: Plastic Containers\\nItem: Plastic blister packs e.g. plastic/foil protective packaging for chewing gum and pills\\nSource: https://recyclebc.ca/what-can-i-recycle-2/', metadata={'source': '../data/Datajam_2023___Fine_Tuning_ChatBot_CSV_-_Recycle_BC_1.csv', 'row': 61}),\n",
       "  Document(page_content='Conclusion: Not Accepted\\nLocation: \\nCategory: Plastic Containers\\nItem: Ceramic plant pots\\nSource: https://recyclebc.ca/what-can-i-recycle-2/', metadata={'source': '../data/Datajam_2023___Fine_Tuning_ChatBot_CSV_-_Recycle_BC_1.csv', 'row': 62}),\n",
       "  Document(page_content='Conclusion: Not Accepted\\nLocation: \\nCategory: Plastic Containers\\nItem: Lawn edging, tarps, plastic furniture or toys\\nSource: https://recyclebc.ca/what-can-i-recycle-2/', metadata={'source': '../data/Datajam_2023___Fine_Tuning_ChatBot_CSV_-_Recycle_BC_1.csv', 'row': 63}),\n",
       "  Document(page_content='Conclusion: Not Accepted\\nLocation: \\nCategory: Plastic Containers\\nItem: Garden hoses\\nSource: https://recyclebc.ca/what-can-i-recycle-2/', metadata={'source': '../data/Datajam_2023___Fine_Tuning_ChatBot_CSV_-_Recycle_BC_1.csv', 'row': 64}),\n",
       "  Document(page_content='Conclusion: Not Accepted\\nLocation: \\nCategory: Plastic Containers\\nItem: Plastic string or rope\\nSource: https://recyclebc.ca/what-can-i-recycle-2/', metadata={'source': '../data/Datajam_2023___Fine_Tuning_ChatBot_CSV_-_Recycle_BC_1.csv', 'row': 65}),\n",
       "  Document(page_content='Conclusion: Not Accepted\\nLocation: \\nCategory: Plastic Containers\\nItem: Plastic paint cans (call the RCBC Hotline 1-800-667-4321 or check Recyclepedia)\\nSource: https://recyclebc.ca/what-can-i-recycle-2/', metadata={'source': '../data/Datajam_2023___Fine_Tuning_ChatBot_CSV_-_Recycle_BC_1.csv', 'row': 66}),\n",
       "  Document(page_content='Conclusion: Not Accepted\\nLocation: \\nCategory: Plastic Containers\\nItem: Pails larger than 25L\\nSource: https://recyclebc.ca/what-can-i-recycle-2/', metadata={'source': '../data/Datajam_2023___Fine_Tuning_ChatBot_CSV_-_Recycle_BC_1.csv', 'row': 67}),\n",
       "  Document(page_content='Conclusion: Not Accepted\\nLocation: \\nCategory: Plastic Containers\\nItem: Pails for lubricants and oils (call the RCBC Hotline 1-800-667-4321 or check Recyclepedia)\\nSource: https://recyclebc.ca/what-can-i-recycle-2/', metadata={'source': '../data/Datajam_2023___Fine_Tuning_ChatBot_CSV_-_Recycle_BC_1.csv', 'row': 68}),\n",
       "  Document(page_content='Conclusion: Not Accepted\\nLocation: \\nCategory: Plastic Containers\\nItem: Microwavable bowls with metal rims\\nSource: https://recyclebc.ca/what-can-i-recycle-2/', metadata={'source': '../data/Datajam_2023___Fine_Tuning_ChatBot_CSV_-_Recycle_BC_1.csv', 'row': 69}),\n",
       "  Document(page_content='Conclusion: Not Accepted\\nLocation: \\nCategory: Plastic Containers\\nItem: Plastic or foil lids from coffee and tea pods\\nSource: https://recyclebc.ca/what-can-i-recycle-2/', metadata={'source': '../data/Datajam_2023___Fine_Tuning_ChatBot_CSV_-_Recycle_BC_1.csv', 'row': 70}),\n",
       "  Document(page_content='Conclusion: Accepted\\nLocation: Curbside collection, Multi-family collection, Recycle BC depots\\nCategory: Cartons and Paper Cups\\nItem: Paper cups for hot and cold beverages\\nSource: https://recyclebc.ca/what-can-i-recycle-2/', metadata={'source': '../data/Datajam_2023___Fine_Tuning_ChatBot_CSV_-_Recycle_BC_1.csv', 'row': 71}),\n",
       "  Document(page_content='Conclusion: Accepted\\nLocation: Curbside collection, Multi-family collection, Recycle BC depots\\nCategory: Cartons and Paper Cups\\nItem: Cartons and boxes for dairy, cream, substitute eggs, broth, sauces, etc.\\nSource: https://recyclebc.ca/what-can-i-recycle-2/', metadata={'source': '../data/Datajam_2023___Fine_Tuning_ChatBot_CSV_-_Recycle_BC_1.csv', 'row': 72}),\n",
       "  Document(page_content='Conclusion: Accepted\\nLocation: Curbside collection, Multi-family collection, Recycle BC depots\\nCategory: Cartons and Paper Cups\\nItem: Frozen dessert boxes for ice cream, frozen yogurt, etc.\\nSource: https://recyclebc.ca/what-can-i-recycle-2/', metadata={'source': '../data/Datajam_2023___Fine_Tuning_ChatBot_CSV_-_Recycle_BC_1.csv', 'row': 73}),\n",
       "  Document(page_content='Conclusion: Accepted\\nLocation: \\nCategory: Cartons and Paper Cups\\nItem: Coated paper plates and bowls\\nSource: https://recyclebc.ca/what-can-i-recycle-2/', metadata={'source': '../data/Datajam_2023___Fine_Tuning_ChatBot_CSV_-_Recycle_BC_1.csv', 'row': 74}),\n",
       "  Document(page_content='Conclusion: Not Accepted\\nLocation: \\nCategory: Cartons and Paper Cups\\nItem: Paper straws or stir sticks\\nSource: https://recyclebc.ca/what-can-i-recycle-2/', metadata={'source': '../data/Datajam_2023___Fine_Tuning_ChatBot_CSV_-_Recycle_BC_1.csv', 'row': 75}),\n",
       "  Document(page_content='Conclusion: Not Accepted\\nLocation: \\nCategory: Cartons and Paper Cups\\nItem: Cartons and boxes with a deposit can be returned to depot in BC’s deposit program for a refund or included in container recycling\\nSource: https://recyclebc.ca/what-can-i-recycle-2/', metadata={'source': '../data/Datajam_2023___Fine_Tuning_ChatBot_CSV_-_Recycle_BC_1.csv', 'row': 76}),\n",
       "  Document(page_content='Conclusion: Accepted\\nLocation: Curbside collection, Multi-family collection, Recycle BC depots\\nCategory: Aluminum Containers\\nItem: Aluminum cans and lids used for food\\nSource: https://recyclebc.ca/what-can-i-recycle-2/', metadata={'source': '../data/Datajam_2023___Fine_Tuning_ChatBot_CSV_-_Recycle_BC_1.csv', 'row': 77}),\n",
       "  Document(page_content='Conclusion: Accepted\\nLocation: Curbside collection, Multi-family collection, Recycle BC depots\\nCategory: Aluminum Containers\\nItem: Aluminum foil\\nSource: https://recyclebc.ca/what-can-i-recycle-2/', metadata={'source': '../data/Datajam_2023___Fine_Tuning_ChatBot_CSV_-_Recycle_BC_1.csv', 'row': 78}),\n",
       "  Document(page_content='Conclusion: Accepted\\nLocation: Curbside collection, Multi-family collection, Recycle BC depots\\nCategory: Aluminum Containers\\nItem: Aluminum foil pie plates and baking trays\\nSource: https://recyclebc.ca/what-can-i-recycle-2/', metadata={'source': '../data/Datajam_2023___Fine_Tuning_ChatBot_CSV_-_Recycle_BC_1.csv', 'row': 79}),\n",
       "  Document(page_content='Conclusion: Accepted\\nLocation: Curbside collection, Multi-family collection, Recycle BC depots\\nCategory: Aluminum Containers\\nItem: Aluminum take-out containers\\nSource: https://recyclebc.ca/what-can-i-recycle-2/', metadata={'source': '../data/Datajam_2023___Fine_Tuning_ChatBot_CSV_-_Recycle_BC_1.csv', 'row': 80}),\n",
       "  Document(page_content='Conclusion: Accepted\\nLocation: Curbside collection, Multi-family collection, Recycle BC depots\\nCategory: Aluminum Containers\\nItem: Empty aluminum spray containers\\nSource: https://recyclebc.ca/what-can-i-recycle-2/', metadata={'source': '../data/Datajam_2023___Fine_Tuning_ChatBot_CSV_-_Recycle_BC_1.csv', 'row': 81}),\n",
       "  Document(page_content='Conclusion: Not Accepted\\nLocation: \\nCategory: Aluminum Containers\\nItem: Spray paint cans (call the RCBC Hotline 1-800-667-4321 or check Recyclepedia)\\nSource: https://recyclebc.ca/what-can-i-recycle-2/', metadata={'source': '../data/Datajam_2023___Fine_Tuning_ChatBot_CSV_-_Recycle_BC_1.csv', 'row': 82}),\n",
       "  Document(page_content='Conclusion: Not Accepted\\nLocation: \\nCategory: Aluminum Containers\\nItem: Propane cylinders (call the RCBC Hotline 1-800-667-4321 or check Recyclepedia)\\nSource: https://recyclebc.ca/what-can-i-recycle-2/', metadata={'source': '../data/Datajam_2023___Fine_Tuning_ChatBot_CSV_-_Recycle_BC_1.csv', 'row': 83}),\n",
       "  Document(page_content='Conclusion: Not Accepted\\nLocation: \\nCategory: Aluminum Containers\\nItem: Aerosol cans with any contents remaining\\nSource: https://recyclebc.ca/what-can-i-recycle-2/', metadata={'source': '../data/Datajam_2023___Fine_Tuning_ChatBot_CSV_-_Recycle_BC_1.csv', 'row': 84}),\n",
       "  Document(page_content='Conclusion: Not Accepted\\nLocation: \\nCategory: Aluminum Containers\\nItem: Foil-lined cardboard take-out containers and lids\\nSource: https://recyclebc.ca/what-can-i-recycle-2/', metadata={'source': '../data/Datajam_2023___Fine_Tuning_ChatBot_CSV_-_Recycle_BC_1.csv', 'row': 85}),\n",
       "  Document(page_content='Conclusion: Not Accepted\\nLocation: \\nCategory: Aluminum Containers\\nItem: Aluminum beverage containers can be returned to depot for deposit refund or included in container recycling\\nSource: https://recyclebc.ca/what-can-i-recycle-2/', metadata={'source': '../data/Datajam_2023___Fine_Tuning_ChatBot_CSV_-_Recycle_BC_1.csv', 'row': 86}),\n",
       "  Document(page_content='Conclusion: Not Accepted\\nLocation: \\nCategory: Aluminum Containers\\nItem: Electronics and appliances\\nSource: https://recyclebc.ca/what-can-i-recycle-2/', metadata={'source': '../data/Datajam_2023___Fine_Tuning_ChatBot_CSV_-_Recycle_BC_1.csv', 'row': 87}),\n",
       "  Document(page_content='Conclusion: Not Accepted\\nLocation: \\nCategory: Aluminum Containers\\nItem: Pots, pans, and other scrap metal\\nSource: https://recyclebc.ca/what-can-i-recycle-2/', metadata={'source': '../data/Datajam_2023___Fine_Tuning_ChatBot_CSV_-_Recycle_BC_1.csv', 'row': 88}),\n",
       "  Document(page_content='Conclusion: Not Accepted\\nLocation: \\nCategory: Aluminum Containers\\nItem: Durable storage containers (e.g., metal food storage containers)\\nSource: https://recyclebc.ca/what-can-i-recycle-2/', metadata={'source': '../data/Datajam_2023___Fine_Tuning_ChatBot_CSV_-_Recycle_BC_1.csv', 'row': 89}),\n",
       "  Document(page_content='Conclusion: Accepted\\nLocation: Curbside collection, Multi-family collection, Recycle BC depots\\nCategory: Steel Containers\\nItem: Cans and lids for food, pet food, etc.\\nSource: https://recyclebc.ca/what-can-i-recycle-2/', metadata={'source': '../data/Datajam_2023___Fine_Tuning_ChatBot_CSV_-_Recycle_BC_1.csv', 'row': 90}),\n",
       "  Document(page_content='Conclusion: Accepted\\nLocation: Curbside collection, Multi-family collection, Recycle BC depots\\nCategory: Steel Containers\\nItem: Metal spray containers\\nSource: https://recyclebc.ca/what-can-i-recycle-2/', metadata={'source': '../data/Datajam_2023___Fine_Tuning_ChatBot_CSV_-_Recycle_BC_1.csv', 'row': 91}),\n",
       "  Document(page_content='Conclusion: Accepted\\nLocation: Curbside collection, Multi-family collection, Recycle BC depots\\nCategory: Steel Containers\\nItem: Thing-gauge metal tins (e.g. cookie tins)\\nSource: https://recyclebc.ca/what-can-i-recycle-2/', metadata={'source': '../data/Datajam_2023___Fine_Tuning_ChatBot_CSV_-_Recycle_BC_1.csv', 'row': 92}),\n",
       "  Document(page_content='Conclusion: Not Accepted\\nLocation: \\nCategory: Steel Containers\\nItem: Steel paint cans\\nSource: https://recyclebc.ca/what-can-i-recycle-2/', metadata={'source': '../data/Datajam_2023___Fine_Tuning_ChatBot_CSV_-_Recycle_BC_1.csv', 'row': 93}),\n",
       "  Document(page_content='Conclusion: Not Accepted\\nLocation: \\nCategory: Steel Containers\\nItem: Durable hangers: wire, sturdy plastic, metal, wood\\nSource: https://recyclebc.ca/what-can-i-recycle-2/', metadata={'source': '../data/Datajam_2023___Fine_Tuning_ChatBot_CSV_-_Recycle_BC_1.csv', 'row': 94}),\n",
       "  Document(page_content='Conclusion: Not Accepted\\nLocation: \\nCategory: Steel Containers\\nItem: Pots, pans and other scrap metal\\nSource: https://recyclebc.ca/what-can-i-recycle-2/', metadata={'source': '../data/Datajam_2023___Fine_Tuning_ChatBot_CSV_-_Recycle_BC_1.csv', 'row': 95}),\n",
       "  Document(page_content='Conclusion: Not Accepted\\nLocation: \\nCategory: Steel Containers\\nItem: Propane cylinders\\nSource: https://recyclebc.ca/what-can-i-recycle-2/', metadata={'source': '../data/Datajam_2023___Fine_Tuning_ChatBot_CSV_-_Recycle_BC_1.csv', 'row': 96}),\n",
       "  Document(page_content='Conclusion: Not Accepted\\nLocation: \\nCategory: Steel Containers\\nItem: Metal toys\\nSource: https://recyclebc.ca/what-can-i-recycle-2/', metadata={'source': '../data/Datajam_2023___Fine_Tuning_ChatBot_CSV_-_Recycle_BC_1.csv', 'row': 97}),\n",
       "  Document(page_content='Conclusion: Not Accepted\\nLocation: \\nCategory: Steel Containers\\nItem: Appliances and electronics\\nSource: https://recyclebc.ca/what-can-i-recycle-2/', metadata={'source': '../data/Datajam_2023___Fine_Tuning_ChatBot_CSV_-_Recycle_BC_1.csv', 'row': 98}),\n",
       "  Document(page_content='Conclusion: Not Accepted\\nLocation: \\nCategory: Steel Containers\\nItem: Long term, heavy-duty metal storage\\nSource: https://recyclebc.ca/what-can-i-recycle-2/', metadata={'source': '../data/Datajam_2023___Fine_Tuning_ChatBot_CSV_-_Recycle_BC_1.csv', 'row': 99}),\n",
       "  Document(page_content='Conclusion: Not Accepted\\nLocation: \\nCategory: Steel Containers\\nItem: Metal hardware or other scrap metal\\nSource: https://recyclebc.ca/what-can-i-recycle-2/', metadata={'source': '../data/Datajam_2023___Fine_Tuning_ChatBot_CSV_-_Recycle_BC_1.csv', 'row': 100}),\n",
       "  Document(page_content='Conclusion: Not Accepted\\nLocation: \\nCategory: Steel Containers\\nItem: Wiring or metal cords, extension cords\\nSource: https://recyclebc.ca/what-can-i-recycle-2/', metadata={'source': '../data/Datajam_2023___Fine_Tuning_ChatBot_CSV_-_Recycle_BC_1.csv', 'row': 101}),\n",
       "  Document(page_content='Conclusion: Not Accepted\\nLocation: \\nCategory: Steel Containers\\nItem: Steel beverage cans can be returned for deposit refund or included in container recycling\\nSource: https://recyclebc.ca/what-can-i-recycle-2/', metadata={'source': '../data/Datajam_2023___Fine_Tuning_ChatBot_CSV_-_Recycle_BC_1.csv', 'row': 102}),\n",
       "  Document(page_content='Conclusion: Accepted\\nLocation: Separately in curbside collection — confirm with your recycling collector\\r\\nSeparately in multi-family collection — confirm with your recycling collector\\r\\nRecycle BC depots\\nCategory: Glass Bottles and Jars\\nItem: Clear or coloured non-deposit glass bottles and jars. Check with your recycling collector for instructions.\\nSource: https://recyclebc.ca/what-can-i-recycle-2/', metadata={'source': '../data/Datajam_2023___Fine_Tuning_ChatBot_CSV_-_Recycle_BC_1.csv', 'row': 103}),\n",
       "  Document(page_content='Conclusion: Not Accepted\\nLocation: \\nCategory: Glass Bottles and Jars\\nItem: Drinking glasses or dishes, cookware\\nSource: https://recyclebc.ca/what-can-i-recycle-2/', metadata={'source': '../data/Datajam_2023___Fine_Tuning_ChatBot_CSV_-_Recycle_BC_1.csv', 'row': 104}),\n",
       "  Document(page_content='Conclusion: Not Accepted\\nLocation: \\nCategory: Glass Bottles and Jars\\nItem: Whole or broken window glass or mirrors\\nSource: https://recyclebc.ca/what-can-i-recycle-2/', metadata={'source': '../data/Datajam_2023___Fine_Tuning_ChatBot_CSV_-_Recycle_BC_1.csv', 'row': 105}),\n",
       "  Document(page_content='Conclusion: Not Accepted\\nLocation: \\nCategory: Glass Bottles and Jars\\nItem: Ceramic products\\nSource: https://recyclebc.ca/what-can-i-recycle-2/', metadata={'source': '../data/Datajam_2023___Fine_Tuning_ChatBot_CSV_-_Recycle_BC_1.csv', 'row': 106}),\n",
       "  Document(page_content='Conclusion: Not Accepted\\nLocation: \\nCategory: Glass Bottles and Jars\\nItem: Dishes and cookware\\nSource: https://recyclebc.ca/what-can-i-recycle-2/', metadata={'source': '../data/Datajam_2023___Fine_Tuning_ChatBot_CSV_-_Recycle_BC_1.csv', 'row': 107}),\n",
       "  Document(page_content='Conclusion: Not Accepted\\nLocation: \\nCategory: Glass Bottles and Jars\\nItem: Light bulbs and light fixtures\\nSource: https://recyclebc.ca/what-can-i-recycle-2/', metadata={'source': '../data/Datajam_2023___Fine_Tuning_ChatBot_CSV_-_Recycle_BC_1.csv', 'row': 108}),\n",
       "  Document(page_content='Conclusion: Not Accepted\\nLocation: \\nCategory: Glass Bottles and Jars\\nItem: Deposit glass can be returned to depot for deposit refund or included in segregated glass recycling\\nSource: https://recyclebc.ca/what-can-i-recycle-2/', metadata={'source': '../data/Datajam_2023___Fine_Tuning_ChatBot_CSV_-_Recycle_BC_1.csv', 'row': 109}),\n",
       "  Document(page_content='Conclusion: Accepted\\nLocation: Recycle BC depots\\nCategory: Flexible Plastics\\nItem: Plastic shopping bags\\nSource: https://recyclebc.ca/what-can-i-recycle-2/', metadata={'source': '../data/Datajam_2023___Fine_Tuning_ChatBot_CSV_-_Recycle_BC_1.csv', 'row': 110}),\n",
       "  Document(page_content='Conclusion: Accepted\\nLocation: Recycle BC depots\\nCategory: Flexible Plastics\\nItem: Plastic bags for bread, produce, dry cleaning, newspapers/flyers\\nSource: https://recyclebc.ca/what-can-i-recycle-2/', metadata={'source': '../data/Datajam_2023___Fine_Tuning_ChatBot_CSV_-_Recycle_BC_1.csv', 'row': 111}),\n",
       "  Document(page_content='Conclusion: Accepted\\nLocation: Recycle BC depots\\nCategory: Flexible Plastics\\nItem: Bags for water softener, salt, garden products, etc.\\nSource: https://recyclebc.ca/what-can-i-recycle-2/', metadata={'source': '../data/Datajam_2023___Fine_Tuning_ChatBot_CSV_-_Recycle_BC_1.csv', 'row': 112}),\n",
       "  Document(page_content='Conclusion: Accepted\\nLocation: Recycle BC depots\\nCategory: Flexible Plastics\\nItem: Plastic overwrap on diapers, paper towel, feminine hygiene products, flats of canned beverages\\nSource: https://recyclebc.ca/what-can-i-recycle-2/', metadata={'source': '../data/Datajam_2023___Fine_Tuning_ChatBot_CSV_-_Recycle_BC_1.csv', 'row': 113}),\n",
       "  Document(page_content='Conclusion: Accepted\\nLocation: Recycle BC depots\\nCategory: Flexible Plastics\\nItem: Plastic overwrap on mattresses and electronics\\nSource: https://recyclebc.ca/what-can-i-recycle-2/', metadata={'source': '../data/Datajam_2023___Fine_Tuning_ChatBot_CSV_-_Recycle_BC_1.csv', 'row': 114}),\n",
       "  Document(page_content='Conclusion: Accepted\\nLocation: Recycle BC depots\\nCategory: Flexible Plastics\\nItem: Plastic food storage, sandwich, freezer, and vacuum seal bags\\nSource: https://recyclebc.ca/what-can-i-recycle-2/', metadata={'source': '../data/Datajam_2023___Fine_Tuning_ChatBot_CSV_-_Recycle_BC_1.csv', 'row': 115}),\n",
       "  Document(page_content='Conclusion: Accepted\\nLocation: Recycle BC depots\\nCategory: Flexible Plastics\\nItem: Plastic shrink wrap\\nSource: https://recyclebc.ca/what-can-i-recycle-2/', metadata={'source': '../data/Datajam_2023___Fine_Tuning_ChatBot_CSV_-_Recycle_BC_1.csv', 'row': 116}),\n",
       "  Document(page_content='Conclusion: Accepted\\nLocation: Recycle BC depots\\nCategory: Flexible Plastics\\nItem: Flexible plastic gift bags and boxes\\nSource: https://recyclebc.ca/what-can-i-recycle-2/', metadata={'source': '../data/Datajam_2023___Fine_Tuning_ChatBot_CSV_-_Recycle_BC_1.csv', 'row': 117}),\n",
       "  Document(page_content='Conclusion: Accepted\\nLocation: Recycle BC depots\\nCategory: Flexible Plastics\\nItem: Transparent single-use recycling bags\\nSource: https://recyclebc.ca/what-can-i-recycle-2/', metadata={'source': '../data/Datajam_2023___Fine_Tuning_ChatBot_CSV_-_Recycle_BC_1.csv', 'row': 118}),\n",
       "  Document(page_content='Conclusion: Accepted\\nLocation: Recycle BC depots\\nCategory: Flexible Plastics\\nItem: Reusable plastic curbside recycling bags (e.g. yellow bags for Paper)\\nSource: https://recyclebc.ca/what-can-i-recycle-2/', metadata={'source': '../data/Datajam_2023___Fine_Tuning_ChatBot_CSV_-_Recycle_BC_1.csv', 'row': 119}),\n",
       "  Document(page_content='Conclusion: Accepted\\nLocation: Recycle BC depots\\nCategory: Flexible Plastics\\nItem: Reusable plastic-only carry-out bags (provided with purchase or purchased)\\nSource: https://recyclebc.ca/what-can-i-recycle-2/', metadata={'source': '../data/Datajam_2023___Fine_Tuning_ChatBot_CSV_-_Recycle_BC_1.csv', 'row': 120}),\n",
       "  Document(page_content='Conclusion: Accepted\\nLocation: Recycle BC depots\\nCategory: Flexible Plastics\\nItem: Plastic drop sheet or covering\\nSource: https://recyclebc.ca/what-can-i-recycle-2/', metadata={'source': '../data/Datajam_2023___Fine_Tuning_ChatBot_CSV_-_Recycle_BC_1.csv', 'row': 121}),\n",
       "  Document(page_content='Conclusion: Accepted\\nLocation: Recycle BC depots\\nCategory: Flexible Plastics\\nItem: Squishy cushion packaging (polyethylene foam)\\nSource: https://recyclebc.ca/what-can-i-recycle-2/', metadata={'source': '../data/Datajam_2023___Fine_Tuning_ChatBot_CSV_-_Recycle_BC_1.csv', 'row': 122}),\n",
       "  Document(page_content='Conclusion: Accepted\\nLocation: Recycle BC depots\\nCategory: Flexible Plastics\\nItem: Plastic bubble wrap\\nSource: https://recyclebc.ca/what-can-i-recycle-2/', metadata={'source': '../data/Datajam_2023___Fine_Tuning_ChatBot_CSV_-_Recycle_BC_1.csv', 'row': 123}),\n",
       "  Document(page_content='Conclusion: Accepted\\nLocation: Recycle BC depots\\nCategory: Flexible Plastics\\nItem: Zipper lock pouches for frozen foods (e.g. berries, vegetables, prawns)\\nSource: https://recyclebc.ca/what-can-i-recycle-2/', metadata={'source': '../data/Datajam_2023___Fine_Tuning_ChatBot_CSV_-_Recycle_BC_1.csv', 'row': 124}),\n",
       "  Document(page_content='Conclusion: Accepted\\nLocation: Recycle BC depots\\nCategory: Flexible Plastics\\nItem: Zipper lock and tear-open pouches for cannabis product\\nSource: https://recyclebc.ca/what-can-i-recycle-2/', metadata={'source': '../data/Datajam_2023___Fine_Tuning_ChatBot_CSV_-_Recycle_BC_1.csv', 'row': 125}),\n",
       "  Document(page_content='Conclusion: Accepted\\nLocation: Recycle BC depots\\nCategory: Flexible Plastics\\nItem: Stand-up pouches for dried fruit and nuts, quinoa, grated cheese, etc.\\nSource: https://recyclebc.ca/what-can-i-recycle-2/', metadata={'source': '../data/Datajam_2023___Fine_Tuning_ChatBot_CSV_-_Recycle_BC_1.csv', 'row': 126}),\n",
       "  Document(page_content='Conclusion: Accepted\\nLocation: Recycle BC depots\\nCategory: Flexible Plastics\\nItem: Potato chip bags\\nSource: https://recyclebc.ca/what-can-i-recycle-2/', metadata={'source': '../data/Datajam_2023___Fine_Tuning_ChatBot_CSV_-_Recycle_BC_1.csv', 'row': 127}),\n",
       "  Document(page_content='Conclusion: Accepted\\nLocation: Recycle BC depots\\nCategory: Flexible Plastics\\nItem: Crinkly plastic bags for candy, cereal\\nSource: https://recyclebc.ca/what-can-i-recycle-2/', metadata={'source': '../data/Datajam_2023___Fine_Tuning_ChatBot_CSV_-_Recycle_BC_1.csv', 'row': 128}),\n",
       "  Document(page_content='Conclusion: Accepted\\nLocation: Recycle BC depots\\nCategory: Flexible Plastics\\nItem: Plastic wrappers for candy, cheese slices, granola bars, etc.\\nSource: https://recyclebc.ca/what-can-i-recycle-2/', metadata={'source': '../data/Datajam_2023___Fine_Tuning_ChatBot_CSV_-_Recycle_BC_1.csv', 'row': 129}),\n",
       "  Document(page_content='Conclusion: Accepted\\nLocation: Recycle BC depots\\nCategory: Flexible Plastics\\nItem: Crinkly plastic packaging for dry pasta, pre-packaged deli meats, etc.\\nSource: https://recyclebc.ca/what-can-i-recycle-2/', metadata={'source': '../data/Datajam_2023___Fine_Tuning_ChatBot_CSV_-_Recycle_BC_1.csv', 'row': 130}),\n",
       "  Document(page_content='Conclusion: Accepted\\nLocation: Recycle BC depots\\nCategory: Flexible Plastics\\nItem: Flexible plastic packaging with plastic seal (e.g. deli and cheese packaging)\\nSource: https://recyclebc.ca/what-can-i-recycle-2/', metadata={'source': '../data/Datajam_2023___Fine_Tuning_ChatBot_CSV_-_Recycle_BC_1.csv', 'row': 131}),\n",
       "  Document(page_content='Conclusion: Accepted\\nLocation: Recycle BC depots\\nCategory: Flexible Plastics\\nItem: Plastic net bags for fruit, onions, avocados, etc.\\nSource: https://recyclebc.ca/what-can-i-recycle-2/', metadata={'source': '../data/Datajam_2023___Fine_Tuning_ChatBot_CSV_-_Recycle_BC_1.csv', 'row': 132}),\n",
       "  Document(page_content='Conclusion: Accepted\\nLocation: Recycle BC depots\\nCategory: Flexible Plastics\\nItem: Woven plastic bags for rice\\nSource: https://recyclebc.ca/what-can-i-recycle-2/', metadata={'source': '../data/Datajam_2023___Fine_Tuning_ChatBot_CSV_-_Recycle_BC_1.csv', 'row': 133}),\n",
       "  Document(page_content='Conclusion: Accepted\\nLocation: Recycle BC depots\\nCategory: Flexible Plastics\\nItem: Non-food protective packaging (e.g. all-plastic shipping envelopes, air packets, etc.)\\nSource: https://recyclebc.ca/what-can-i-recycle-2/', metadata={'source': '../data/Datajam_2023___Fine_Tuning_ChatBot_CSV_-_Recycle_BC_1.csv', 'row': 134}),\n",
       "  Document(page_content='Conclusion: Not Accepted\\nLocation: \\nCategory: Flexible Plastics\\nItem: Items that are not packaging like\\nSource: https://recyclebc.ca/what-can-i-recycle-2/', metadata={'source': '../data/Datajam_2023___Fine_Tuning_ChatBot_CSV_-_Recycle_BC_1.csv', 'row': 135}),\n",
       "  Document(page_content='Conclusion: Not Accepted\\nLocation: \\nCategory: Flexible Plastics\\nItem: Long term heavy-duty storage containers like plastic totes\\nSource: https://recyclebc.ca/what-can-i-recycle-2/', metadata={'source': '../data/Datajam_2023___Fine_Tuning_ChatBot_CSV_-_Recycle_BC_1.csv', 'row': 136}),\n",
       "  Document(page_content='Conclusion: Not Accepted\\nLocation: \\nCategory: Flexible Plastics\\nItem: Plastic bags with cloth, rope, or ribbon handles\\nSource: https://recyclebc.ca/what-can-i-recycle-2/', metadata={'source': '../data/Datajam_2023___Fine_Tuning_ChatBot_CSV_-_Recycle_BC_1.csv', 'row': 137}),\n",
       "  Document(page_content='Conclusion: Not Accepted\\nLocation: \\nCategory: Flexible Plastics\\nItem: Carry-out bags with PVC/vinyl\\nSource: https://recyclebc.ca/what-can-i-recycle-2/', metadata={'source': '../data/Datajam_2023___Fine_Tuning_ChatBot_CSV_-_Recycle_BC_1.csv', 'row': 138}),\n",
       "  Document(page_content='Conclusion: Not Accepted\\nLocation: \\nCategory: Flexible Plastics\\nItem: Packaging labelled biodegradable, compostable, or oxo-degradable\\nSource: https://recyclebc.ca/what-can-i-recycle-2/', metadata={'source': '../data/Datajam_2023___Fine_Tuning_ChatBot_CSV_-_Recycle_BC_1.csv', 'row': 139}),\n",
       "  Document(page_content='Conclusion: Not Accepted\\nLocation: \\nCategory: Flexible Plastics\\nItem: Lumber or construction wrap\\nSource: https://recyclebc.ca/what-can-i-recycle-2/', metadata={'source': '../data/Datajam_2023___Fine_Tuning_ChatBot_CSV_-_Recycle_BC_1.csv', 'row': 140}),\n",
       "  Document(page_content='Conclusion: Not Accepted\\nLocation: \\nCategory: Flexible Plastics\\nItem: Items designed for disposal (e.g., garbage bags, compost/leaf bags)\\nSource: https://recyclebc.ca/what-can-i-recycle-2/', metadata={'source': '../data/Datajam_2023___Fine_Tuning_ChatBot_CSV_-_Recycle_BC_1.csv', 'row': 141}),\n",
       "  Document(page_content='Conclusion: Not Accepted\\nLocation: \\nCategory: Flexible Plastics\\nItem: Flexible 6-pack rings\\nSource: https://recyclebc.ca/what-can-i-recycle-2/', metadata={'source': '../data/Datajam_2023___Fine_Tuning_ChatBot_CSV_-_Recycle_BC_1.csv', 'row': 142}),\n",
       "  Document(page_content='Conclusion: Not Accepted\\nLocation: \\nCategory: Flexible Plastics\\nItem: Plastic squeeze tubes\\nSource: https://recyclebc.ca/what-can-i-recycle-2/', metadata={'source': '../data/Datajam_2023___Fine_Tuning_ChatBot_CSV_-_Recycle_BC_1.csv', 'row': 143}),\n",
       "  Document(page_content='Conclusion: Not Accepted\\nLocation: \\nCategory: Flexible Plastics\\nItem: Plastic-lined paper\\nSource: https://recyclebc.ca/what-can-i-recycle-2/', metadata={'source': '../data/Datajam_2023___Fine_Tuning_ChatBot_CSV_-_Recycle_BC_1.csv', 'row': 144}),\n",
       "  Document(page_content='Conclusion: Not Accepted\\nLocation: \\nCategory: Flexible Plastics\\nItem: Crinkly cellophane wrap for tea, floral arrangements, etc.\\nSource: https://recyclebc.ca/what-can-i-recycle-2/', metadata={'source': '../data/Datajam_2023___Fine_Tuning_ChatBot_CSV_-_Recycle_BC_1.csv', 'row': 145}),\n",
       "  Document(page_content='Conclusion: Accepted\\nLocation: Recycle BC depots\\nCategory: Foam Packaging\\nItem: Plastic foam containers and trays used for meat and produce\\nSource: https://recyclebc.ca/what-can-i-recycle-2/', metadata={'source': '../data/Datajam_2023___Fine_Tuning_ChatBot_CSV_-_Recycle_BC_1.csv', 'row': 146}),\n",
       "  Document(page_content='Conclusion: Accepted\\nLocation: Recycle BC depots\\nCategory: Foam Packaging\\nItem: Foam egg cartons\\nSource: https://recyclebc.ca/what-can-i-recycle-2/', metadata={'source': '../data/Datajam_2023___Fine_Tuning_ChatBot_CSV_-_Recycle_BC_1.csv', 'row': 147}),\n",
       "  Document(page_content='Conclusion: Accepted\\nLocation: Recycle BC depots\\nCategory: Foam Packaging\\nItem: Foam clamshells, cups and bowls for take-out food\\nSource: https://recyclebc.ca/what-can-i-recycle-2/', metadata={'source': '../data/Datajam_2023___Fine_Tuning_ChatBot_CSV_-_Recycle_BC_1.csv', 'row': 148}),\n",
       "  Document(page_content='Conclusion: Accepted\\nLocation: Recycle BC depots\\nCategory: Foam Packaging\\nItem: Firm foam cushion packaging to protect electronics, small appliances, etc.\\nSource: https://recyclebc.ca/what-can-i-recycle-2/', metadata={'source': '../data/Datajam_2023___Fine_Tuning_ChatBot_CSV_-_Recycle_BC_1.csv', 'row': 149}),\n",
       "  Document(page_content='Conclusion: Not Accepted\\nLocation: \\nCategory: Foam Packaging\\nItem: Liquid-absorbing pads used in trays for meat, poultry, fish, etc.\\nSource: https://recyclebc.ca/what-can-i-recycle-2/', metadata={'source': '../data/Datajam_2023___Fine_Tuning_ChatBot_CSV_-_Recycle_BC_1.csv', 'row': 150}),\n",
       "  Document(page_content='Conclusion: Not Accepted\\nLocation: \\nCategory: Foam Packaging\\nItem: Labels, tape, paper and cardboard on foam packaging\\nSource: https://recyclebc.ca/what-can-i-recycle-2/', metadata={'source': '../data/Datajam_2023___Fine_Tuning_ChatBot_CSV_-_Recycle_BC_1.csv', 'row': 151}),\n",
       "  Document(page_content='Conclusion: Not Accepted\\nLocation: \\nCategory: Foam Packaging\\nItem: Foam peanuts and packing chips\\nSource: https://recyclebc.ca/what-can-i-recycle-2/', metadata={'source': '../data/Datajam_2023___Fine_Tuning_ChatBot_CSV_-_Recycle_BC_1.csv', 'row': 152}),\n",
       "  Document(page_content='Conclusion: Not Accepted\\nLocation: \\nCategory: Foam Packaging\\nItem: Blue or pink foam board insulation\\nSource: https://recyclebc.ca/what-can-i-recycle-2/', metadata={'source': '../data/Datajam_2023___Fine_Tuning_ChatBot_CSV_-_Recycle_BC_1.csv', 'row': 153}),\n",
       "  Document(page_content='Conclusion: Not Accepted\\nLocation: \\nCategory: Foam Packaging\\nItem: Napkins, cutlery\\nSource: https://recyclebc.ca/what-can-i-recycle-2/', metadata={'source': '../data/Datajam_2023___Fine_Tuning_ChatBot_CSV_-_Recycle_BC_1.csv', 'row': 154}),\n",
       "  Document(page_content='Conclusion: Not Accepted\\nLocation: \\nCategory: Foam Packaging\\nItem: Protective and squishy cushion packaging\\nSource: https://recyclebc.ca/what-can-i-recycle-2/', metadata={'source': '../data/Datajam_2023___Fine_Tuning_ChatBot_CSV_-_Recycle_BC_1.csv', 'row': 155}),\n",
       "  Document(page_content='Conclusion: Not Accepted\\nLocation: \\nCategory: Foam Packaging\\nItem: Foam noodles\\nSource: https://recyclebc.ca/what-can-i-recycle-2/', metadata={'source': '../data/Datajam_2023___Fine_Tuning_ChatBot_CSV_-_Recycle_BC_1.csv', 'row': 156}),\n",
       "  Document(page_content='Conclusion: Not Accepted\\nLocation: \\nCategory: Foam Packaging\\nItem: Furniture cushions\\nSource: https://recyclebc.ca/what-can-i-recycle-2/', metadata={'source': '../data/Datajam_2023___Fine_Tuning_ChatBot_CSV_-_Recycle_BC_1.csv', 'row': 157}),\n",
       "  Document(page_content='Conclusion: Accepted\\nLocation: There are 520 depots to drop off “do-it-yourself” used oil and 339 depots for used antifreeze across B.C. To find a location near you, visit: Used oil recycling at http://www.usedoilrecycling.com/en/bc\\nCategory: Oil & Antifreeze\\nItem: Used Oil and Antifreeze\\nSource: https://www2.gov.bc.ca/gov/content/environment/waste-management/recycling/extended-producer-responsibility/used-oil-and-antifreeze', metadata={'source': '../data/Datajam_2023___Fine_Tuning_ChatBot_CSV_-_Recycle_BC_1.csv', 'row': 158}),\n",
       "  Document(page_content='Conclusion: Accepted\\nLocation: There are 520 depots to drop off “do-it-yourself” used oil and 339 depots for used antifreeze across B.C. To find a location near you, visit: Used oil recycling at http://www.usedoilrecycling.com/en/bc\\nCategory: Oil & Antifreeze\\nItem: Oil Filters\\nSource: https://www2.gov.bc.ca/gov/content/environment/waste-management/recycling/extended-producer-responsibility/used-oil-and-antifreeze', metadata={'source': '../data/Datajam_2023___Fine_Tuning_ChatBot_CSV_-_Recycle_BC_1.csv', 'row': 159}),\n",
       "  Document(page_content='Conclusion: Accepted\\nLocation: There are 520 depots to drop off “do-it-yourself” used oil and 339 depots for used antifreeze across B.C. To find a location near you, visit: Used oil recycling at http://www.usedoilrecycling.com/en/bc\\nCategory: Oil & Antifreeze\\nItem: Oil and Antifreeze Containers\\nSource: https://www2.gov.bc.ca/gov/content/environment/waste-management/recycling/extended-producer-responsibility/used-oil-and-antifreeze', metadata={'source': '../data/Datajam_2023___Fine_Tuning_ChatBot_CSV_-_Recycle_BC_1.csv', 'row': 160}),\n",
       "  Document(page_content='Conclusion: Accepted\\nLocation: Most motorists exchange their old tires for new ones at the time of purchase.\\r\\n\\r\\nTSBC’s Return to Retailer program provides consumers a free option to return tires to participating retailers. This is a year round program for consumers who can drop off up to four passenger/light truck tires, clean and off rim during the retailer’s business hours. In addition, TSBC holds tire roundups around the province as another disposal option for consumers.\\r\\n\\r\\nVisit https://tsbc.ca/scrap-tire-pickup/ to find a Pick Up/Drop Off location.\\nCategory: Tires\\nItem: Tires\\nSource: https://www2.gov.bc.ca/gov/content/environment/waste-management/recycling/extended-producer-responsibility/tires', metadata={'source': '../data/Datajam_2023___Fine_Tuning_ChatBot_CSV_-_Recycle_BC_1.csv', 'row': 161})]}"
      ]
     },
     "execution_count": 18,
     "metadata": {},
     "output_type": "execute_result"
    }
   ],
   "source": [
    "doc_dict2"
   ]
  },
  {
   "cell_type": "code",
   "execution_count": 19,
   "metadata": {},
   "outputs": [
    {
     "data": {
      "text/plain": [
       "{1: {'recycle': VectorStoreRetriever(tags=['FAISS'], metadata=None, vectorstore=<langchain.vectorstores.faiss.FAISS object at 0x0000020FFEFC02D0>, search_type='similarity', search_kwargs={})}}"
      ]
     },
     "execution_count": 19,
     "metadata": {},
     "output_type": "execute_result"
    }
   ],
   "source": [
    "retriever_dict"
   ]
  },
  {
   "cell_type": "code",
   "execution_count": 20,
   "metadata": {},
   "outputs": [
    {
     "data": {
      "text/plain": [
       "{'recycle': '\\nThis document provides information from the Recycle BC website or BC government \\nwebsite. It has the most specific information \\nabout whether or not an item is accepted for recycling and where to recycle it.\\nThis should be the main resource for recycling information for residents of British Columbia.\\n'}"
      ]
     },
     "execution_count": 20,
     "metadata": {},
     "output_type": "execute_result"
    }
   ],
   "source": [
    "description_dict"
   ]
  },
  {
   "cell_type": "code",
   "execution_count": 21,
   "metadata": {},
   "outputs": [
    {
     "data": {
      "text/plain": [
       "{'mattress': <langchain.embeddings.cache.CacheBackedEmbeddings at 0x20fff009610>,\n",
       " 'recycle': <langchain.embeddings.cache.CacheBackedEmbeddings at 0x20fe245d510>}"
      ]
     },
     "execution_count": 21,
     "metadata": {},
     "output_type": "execute_result"
    }
   ],
   "source": [
    "embeddings_dict"
   ]
  },
  {
   "cell_type": "markdown",
   "metadata": {},
   "source": []
  },
  {
   "cell_type": "code",
   "execution_count": null,
   "metadata": {},
   "outputs": [],
   "source": []
  },
  {
   "cell_type": "code",
   "execution_count": null,
   "metadata": {},
   "outputs": [],
   "source": []
  },
  {
   "cell_type": "code",
   "execution_count": null,
   "metadata": {},
   "outputs": [],
   "source": []
  },
  {
   "cell_type": "code",
   "execution_count": null,
   "metadata": {},
   "outputs": [],
   "source": []
  },
  {
   "cell_type": "code",
   "execution_count": null,
   "metadata": {},
   "outputs": [],
   "source": []
  },
  {
   "cell_type": "code",
   "execution_count": null,
   "metadata": {},
   "outputs": [],
   "source": []
  },
  {
   "cell_type": "code",
   "execution_count": null,
   "metadata": {},
   "outputs": [],
   "source": []
  },
  {
   "cell_type": "code",
   "execution_count": null,
   "metadata": {},
   "outputs": [],
   "source": []
  },
  {
   "cell_type": "code",
   "execution_count": null,
   "metadata": {},
   "outputs": [],
   "source": []
  },
  {
   "cell_type": "code",
   "execution_count": null,
   "metadata": {},
   "outputs": [],
   "source": []
  },
  {
   "attachments": {},
   "cell_type": "markdown",
   "metadata": {},
   "source": [
    "# *End of Page*"
   ]
  },
  {
   "cell_type": "markdown",
   "metadata": {},
   "source": []
  }
 ],
 "metadata": {
  "kernelspec": {
   "display_name": "Python 3.9.13 64-bit",
   "language": "python",
   "name": "python3"
  },
  "language_info": {
   "codemirror_mode": {
    "name": "ipython",
    "version": 3
   },
   "file_extension": ".py",
   "mimetype": "text/x-python",
   "name": "python",
   "nbconvert_exporter": "python",
   "pygments_lexer": "ipython3",
   "version": "3.11.5"
  },
  "orig_nbformat": 4,
  "vscode": {
   "interpreter": {
    "hash": "11938c6bc6919ae2720b4d5011047913343b08a43b18698fd82dedb0d4417594"
   }
  }
 },
 "nbformat": 4,
 "nbformat_minor": 2
}
