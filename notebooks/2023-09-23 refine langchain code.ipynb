{
 "cells": [
  {
   "attachments": {},
   "cell_type": "markdown",
   "metadata": {},
   "source": [
    "# Title\n",
    "[]()"
   ]
  },
  {
   "cell_type": "code",
   "execution_count": 6,
   "metadata": {},
   "outputs": [],
   "source": [
    "import os\n",
    "\n",
    "# documents\n",
    "from langchain.document_loaders import DirectoryLoader\n",
    "# from langchain.document_loaders import TextLoader\n",
    "from langchain.document_loaders.csv_loader import CSVLoader\n",
    "\n",
    "from langchain.embeddings.openai import OpenAIEmbeddings\n",
    "# from langchain.vectorstores import Chroma\n",
    "from langchain.text_splitter import CharacterTextSplitter\n",
    "from langchain.llms import OpenAI\n",
    "from langchain.chains import ConversationalRetrievalChain\n",
    "from langchain.vectorstores import FAISS\n",
    "from langchain.agents.agent_toolkits import create_retriever_tool\n",
    "\n",
    "# Creating the Agent\n",
    "from langchain.agents.agent_toolkits import create_conversational_retrieval_agent\n",
    "from langchain.chat_models import ChatOpenAI\n",
    "\n",
    "# Create memory \n",
    "from langchain.memory import ConversationBufferMemory\n",
    "\n",
    "# Create the chain\n",
    "from langchain.chains import (\n",
    "    StuffDocumentsChain, LLMChain, ConversationalRetrievalChain\n",
    ")\n",
    "from langchain.prompts import PromptTemplate\n"
   ]
  },
  {
   "cell_type": "markdown",
   "metadata": {},
   "source": [
    "# Initialize Dictionaries"
   ]
  },
  {
   "cell_type": "code",
   "execution_count": 2,
   "metadata": {},
   "outputs": [],
   "source": [
    "tool_dict = dict()\n",
    "embeddings_dict = dict()\n",
    "db_dict = dict()\n",
    "retriever_dict = dict()\n",
    "vector_dict = dict()\n",
    "description_dict = dict()"
   ]
  },
  {
   "cell_type": "code",
   "execution_count": 12,
   "metadata": {},
   "outputs": [],
   "source": [
    "answer_dict=dict()\n",
    "conversation_dict = dict()"
   ]
  },
  {
   "cell_type": "code",
   "execution_count": 41,
   "metadata": {},
   "outputs": [],
   "source": [
    "doc_dict = dict()\n",
    "tools_list = create_tools_list(retriever_dict, description_dict)"
   ]
  },
  {
   "cell_type": "markdown",
   "metadata": {},
   "source": [
    "# iteration 1"
   ]
  },
  {
   "cell_type": "code",
   "execution_count": 3,
   "metadata": {},
   "outputs": [
    {
     "name": "stderr",
     "output_type": "stream",
     "text": [
      "  0%|          | 0/2 [00:00<?, ?it/s]"
     ]
    },
    {
     "name": "stderr",
     "output_type": "stream",
     "text": [
      "100%|██████████| 2/2 [00:06<00:00,  3.14s/it]"
     ]
    },
    {
     "name": "stdout",
     "output_type": "stream",
     "text": [
      "Number of files: 2\n"
     ]
    },
    {
     "name": "stderr",
     "output_type": "stream",
     "text": [
      "\n"
     ]
    },
    {
     "data": {
      "text/plain": [
       "[Document(page_content='City of Vancouver\\n\\nhttps://vancouver.ca/home\\n\\n\\n\\nproperty\\n\\n\\n\\ndevelopment/apartments\\n\\n\\n\\ncondos\\n\\n\\n\\nand\\n\\n\\n\\ntownhomes.aspx\\n\\nApartments, condos, and townhomes\\n\\nWe do not provide waste collection services to most multi-unit buildings.\\n\\nHowever, we do provide information and resources to building owners and managers to manage waste at apartments, condos, and townhomes.\\n\\nWaste Management Canada collects your recycling on behalf of Recycle BC External website, opens in new tab Phone Waste Management Canada at 604-282-7961 for questions and issues about your recycling service.', metadata={'source': '..\\\\data\\\\Vancouver apartments condos townhomes.txt'}),\n",
       " Document(page_content='City of Vancouver\\n\\nhttps://vancouver.ca/home\\n\\n\\n\\nproperty\\n\\n\\n\\ndevelopment/single\\n\\n\\n\\nfamily\\n\\n\\n\\nhomes\\n\\n\\n\\nand\\n\\n\\n\\nduplexes.aspx\\n\\nSingle family homes and duplexes We collect residential garbage, food scraps, and yard waste for single family homes and duplexes.\\n\\nYour household waste collection schedule is based on your location.\\n\\nRecycling: service is provided by GFL Environmental (formerly Smithrite Disposal Ltd) on behalf of Recycle BC External website, opens in new tab Phone 604-282-7966 or email srrecycle@gflenv.com about your recycling service, including:\\n\\nCollection questions or issues Replacing blue bins and recycling bags', metadata={'source': '..\\\\data\\\\Vancouver single family homes and duplexes.txt'})]"
      ]
     },
     "execution_count": 3,
     "metadata": {},
     "output_type": "execute_result"
    }
   ],
   "source": [
    "\n",
    "def create_documents(directory='../data/', glob='**/*.txt', show_progress=True):\n",
    "    loader = DirectoryLoader(directory, glob=glob, show_progress=show_progress)\n",
    "    documents = loader.load()\n",
    "    print(f'Number of files: {len(documents)}')\n",
    "    return documents\n",
    "\n",
    "documents = create_documents()\n",
    "documents"
   ]
  },
  {
   "cell_type": "code",
   "execution_count": 13,
   "metadata": {},
   "outputs": [
    {
     "name": "stderr",
     "output_type": "stream",
     "text": [
      "Created a chunk of size 33, which is longer than the specified 30\n",
      "Created a chunk of size 73, which is longer than the specified 30\n",
      "Created a chunk of size 134, which is longer than the specified 30\n",
      "Created a chunk of size 130, which is longer than the specified 30\n",
      "Created a chunk of size 67, which is longer than the specified 30\n",
      "Created a chunk of size 234, which is longer than the specified 30\n"
     ]
    },
    {
     "data": {
      "text/plain": [
       "[Document(page_content='City of Vancouver', metadata={'source': '..\\\\data\\\\Vancouver apartments condos townhomes.txt'}),\n",
       " Document(page_content='https://vancouver.ca/home', metadata={'source': '..\\\\data\\\\Vancouver apartments condos townhomes.txt'}),\n",
       " Document(page_content='property', metadata={'source': '..\\\\data\\\\Vancouver apartments condos townhomes.txt'}),\n",
       " Document(page_content='development/apartments\\n\\ncondos', metadata={'source': '..\\\\data\\\\Vancouver apartments condos townhomes.txt'}),\n",
       " Document(page_content='and\\n\\ntownhomes.aspx', metadata={'source': '..\\\\data\\\\Vancouver apartments condos townhomes.txt'}),\n",
       " Document(page_content='Apartments, condos, and townhomes', metadata={'source': '..\\\\data\\\\Vancouver apartments condos townhomes.txt'}),\n",
       " Document(page_content='We do not provide waste collection services to most multi-unit buildings.', metadata={'source': '..\\\\data\\\\Vancouver apartments condos townhomes.txt'}),\n",
       " Document(page_content='However, we do provide information and resources to building owners and managers to manage waste at apartments, condos, and townhomes.', metadata={'source': '..\\\\data\\\\Vancouver apartments condos townhomes.txt'}),\n",
       " Document(page_content='Waste Management Canada collects your recycling on behalf of Recycle BC External website, opens in new tab Phone Waste Management Canada at 604-282-7961 for questions and issues about your recycling service.', metadata={'source': '..\\\\data\\\\Vancouver apartments condos townhomes.txt'}),\n",
       " Document(page_content='City of Vancouver', metadata={'source': '..\\\\data\\\\Vancouver single family homes and duplexes.txt'}),\n",
       " Document(page_content='https://vancouver.ca/home', metadata={'source': '..\\\\data\\\\Vancouver single family homes and duplexes.txt'}),\n",
       " Document(page_content='property\\n\\ndevelopment/single', metadata={'source': '..\\\\data\\\\Vancouver single family homes and duplexes.txt'}),\n",
       " Document(page_content='family\\n\\nhomes\\n\\nand', metadata={'source': '..\\\\data\\\\Vancouver single family homes and duplexes.txt'}),\n",
       " Document(page_content='duplexes.aspx', metadata={'source': '..\\\\data\\\\Vancouver single family homes and duplexes.txt'}),\n",
       " Document(page_content='Single family homes and duplexes We collect residential garbage, food scraps, and yard waste for single family homes and duplexes.', metadata={'source': '..\\\\data\\\\Vancouver single family homes and duplexes.txt'}),\n",
       " Document(page_content='Your household waste collection schedule is based on your location.', metadata={'source': '..\\\\data\\\\Vancouver single family homes and duplexes.txt'}),\n",
       " Document(page_content='Recycling: service is provided by GFL Environmental (formerly Smithrite Disposal Ltd) on behalf of Recycle BC External website, opens in new tab Phone 604-282-7966 or email srrecycle@gflenv.com about your recycling service, including:', metadata={'source': '..\\\\data\\\\Vancouver single family homes and duplexes.txt'}),\n",
       " Document(page_content='Collection questions or issues Replacing blue bins and recycling bags', metadata={'source': '..\\\\data\\\\Vancouver single family homes and duplexes.txt'})]"
      ]
     },
     "execution_count": 13,
     "metadata": {},
     "output_type": "execute_result"
    }
   ],
   "source": [
    "# https://api.python.langchain.com/en/latest/text_splitter/langchain.text_splitter.CharacterTextSplitter.html?highlight=charactertextsplitter#langchain.text_splitter.CharacterTextSplitter.split_documents\n",
    "text_splitter = CharacterTextSplitter(chunk_size=30, chunk_overlap=0)\n",
    "texts = text_splitter.split_documents(documents)\n",
    "texts"
   ]
  },
  {
   "cell_type": "code",
   "execution_count": 15,
   "metadata": {},
   "outputs": [
    {
     "name": "stdout",
     "output_type": "stream",
     "text": [
      "<class 'langchain.schema.document.Document'>\n",
      "City of Vancouver\n"
     ]
    }
   ],
   "source": [
    "print(type(texts[0]))\n",
    "print(texts[0].page_content)"
   ]
  },
  {
   "cell_type": "code",
   "execution_count": 4,
   "metadata": {},
   "outputs": [
    {
     "data": {
      "text/plain": [
       "{'CoV': VectorStoreRetriever(tags=['FAISS'], metadata=None, vectorstore=<langchain.vectorstores.faiss.FAISS object at 0x00000226CA1DC5D0>, search_type='similarity', search_kwargs={})}"
      ]
     },
     "execution_count": 4,
     "metadata": {},
     "output_type": "execute_result"
    }
   ],
   "source": [
    "def create_retriever(documents, site_key, vector_dict=vector_dict, text_splitter=None):\n",
    "    \"\"\"\n",
    "    Parameters:\n",
    "        - text_splitter (optional): a text splitter object. If None, the documents are not split. \n",
    "    \"\"\"\n",
    "    embeddings_dict[site_key] = OpenAIEmbeddings()\n",
    "    if text_splitter is None: # object type is the same (class 'langchain.schema.document.Document') whether or not the documents are split\n",
    "        texts = documents\n",
    "    else:\n",
    "        texts = text_splitter.split_documents(documents)\n",
    "\n",
    "    vector_dict[site_key] = FAISS.from_documents(texts, embeddings_dict[site_key])\n",
    "    retriever_dict[site_key] = vector_dict[site_key].as_retriever()\n",
    "    return retriever_dict\n",
    "\n",
    "retriever_dict = create_retriever(documents, 'CoV')\n",
    "retriever_dict\n"
   ]
  },
  {
   "cell_type": "code",
   "execution_count": 18,
   "metadata": {},
   "outputs": [
    {
     "data": {
      "text/plain": [
       "langchain.vectorstores.base.VectorStoreRetriever"
      ]
     },
     "execution_count": 18,
     "metadata": {},
     "output_type": "execute_result"
    }
   ],
   "source": [
    "type(retriever_dict['CoV'])"
   ]
  },
  {
   "cell_type": "code",
   "execution_count": 24,
   "metadata": {},
   "outputs": [
    {
     "data": {
      "text/plain": [
       "dict_items([('CoV', VectorStoreRetriever(tags=['FAISS'], metadata=None, vectorstore=<langchain.vectorstores.faiss.FAISS object at 0x0000029FE0CCAF50>, search_type='similarity', search_kwargs={}))])"
      ]
     },
     "execution_count": 24,
     "metadata": {},
     "output_type": "execute_result"
    }
   ],
   "source": [
    "retriever_dict.items()"
   ]
  },
  {
   "cell_type": "code",
   "execution_count": 32,
   "metadata": {},
   "outputs": [
    {
     "data": {
      "text/plain": [
       "VectorStoreRetriever(tags=['FAISS'], metadata=None, vectorstore=<langchain.vectorstores.faiss.FAISS object at 0x0000029FE0CCAF50>, search_type='similarity', search_kwargs={})"
      ]
     },
     "execution_count": 32,
     "metadata": {},
     "output_type": "execute_result"
    }
   ],
   "source": [
    "retriever_dict['CoV']"
   ]
  },
  {
   "cell_type": "markdown",
   "metadata": {},
   "source": [
    "## Create tools list"
   ]
  },
  {
   "cell_type": "code",
   "execution_count": 5,
   "metadata": {},
   "outputs": [
    {
     "data": {
      "text/plain": [
       "[Tool(name='search_CoV', description='Searches and returns documents regarding waste and recycling in the City of Vancouver.', args_schema=None, return_direct=False, verbose=False, callbacks=None, callback_manager=None, tags=None, metadata=None, handle_tool_error=False, func=<bound method BaseRetriever.get_relevant_documents of VectorStoreRetriever(tags=['FAISS'], metadata=None, vectorstore=<langchain.vectorstores.faiss.FAISS object at 0x00000226CA1DC5D0>, search_type='similarity', search_kwargs={})>, coroutine=<bound method BaseRetriever.aget_relevant_documents of VectorStoreRetriever(tags=['FAISS'], metadata=None, vectorstore=<langchain.vectorstores.faiss.FAISS object at 0x00000226CA1DC5D0>, search_type='similarity', search_kwargs={})>)]"
      ]
     },
     "execution_count": 5,
     "metadata": {},
     "output_type": "execute_result"
    }
   ],
   "source": [
    "\n",
    "def create_tools_list(retriever_dict, description_dict):\n",
    "    \"\"\"\n",
    "    https://api.python.langchain.com/en/latest/agents/langchain.agents.agent_toolkits.conversational_retrieval.tool.create_retriever_tool.html?highlight=create_retriever_tool#langchain.agents.agent_toolkits.conversational_retrieval.tool.create_retriever_tool\n",
    "    \"\"\"\n",
    "    tools_list = []\n",
    "    for site_key, retriever in retriever_dict.items():\n",
    "        tool_name = f'search_{site_key}'\n",
    "        tool = create_retriever_tool(retriever_dict[site_key], tool_name, description_dict[site_key])\n",
    "        tools_list.append(tool)\n",
    "    return tools_list\n",
    "\n",
    "description_dict['CoV'] = 'Searches and returns documents regarding waste and recycling in the City of Vancouver.'\n",
    "\n",
    "tools_list = create_tools_list(retriever_dict, description_dict)\n",
    "tools_list\n",
    "\n"
   ]
  },
  {
   "cell_type": "markdown",
   "metadata": {},
   "source": [
    "## Create chatbot\n",
    "https://api.python.langchain.com/en/latest/chat_models/langchain.chat_models.openai.ChatOpenAI.html?highlight=chatopenai#langchain.chat_models.openai.ChatOpenAI\n",
    "\n",
    "Need to customize prompt template"
   ]
  },
  {
   "cell_type": "code",
   "execution_count": 14,
   "metadata": {},
   "outputs": [
    {
     "ename": "ValidationError",
     "evalue": "3 validation errors for ConversationalRetrievalChain\ncombine_docs_chain\n  field required (type=value_error.missing)\nquestion_generator\n  field required (type=value_error.missing)\nretriever\n  field required (type=value_error.missing)",
     "output_type": "error",
     "traceback": [
      "\u001b[1;31m---------------------------------------------------------------------------\u001b[0m",
      "\u001b[1;31mValidationError\u001b[0m                           Traceback (most recent call last)",
      "\u001b[1;32mc:\\Users\\silvh\\OneDrive\\lighthouse\\portfolio-projects\\datajam-chatbot\\chatbot_tuning\\notebooks\\2023-09-23 refine langchain code.ipynb Cell 18\u001b[0m line \u001b[0;36m5\n\u001b[0;32m     <a href='vscode-notebook-cell:/c%3A/Users/silvh/OneDrive/lighthouse/portfolio-projects/datajam-chatbot/chatbot_tuning/notebooks/2023-09-23%20refine%20langchain%20code.ipynb#X15sZmlsZQ%3D%3D?line=47'>48</a>\u001b[0m input_id \u001b[39m=\u001b[39m \u001b[39m1\u001b[39m\n\u001b[0;32m     <a href='vscode-notebook-cell:/c%3A/Users/silvh/OneDrive/lighthouse/portfolio-projects/datajam-chatbot/chatbot_tuning/notebooks/2023-09-23%20refine%20langchain%20code.ipynb#X15sZmlsZQ%3D%3D?line=49'>50</a>\u001b[0m query \u001b[39m=\u001b[39m \u001b[39m\"\u001b[39m\u001b[39mWhere do I recycle coffee cups in Vancouver?\u001b[39m\u001b[39m\"\u001b[39m\n\u001b[1;32m---> <a href='vscode-notebook-cell:/c%3A/Users/silvh/OneDrive/lighthouse/portfolio-projects/datajam-chatbot/chatbot_tuning/notebooks/2023-09-23%20refine%20langchain%20code.ipynb#X15sZmlsZQ%3D%3D?line=50'>51</a>\u001b[0m conversation_dict[conversation_id] \u001b[39m=\u001b[39m create_chatbot()\n\u001b[0;32m     <a href='vscode-notebook-cell:/c%3A/Users/silvh/OneDrive/lighthouse/portfolio-projects/datajam-chatbot/chatbot_tuning/notebooks/2023-09-23%20refine%20langchain%20code.ipynb#X15sZmlsZQ%3D%3D?line=51'>52</a>\u001b[0m answer_dict[input_id] \u001b[39m=\u001b[39m chat_with_chatbot(query, chat_dict[conversation_id])\n",
      "\u001b[1;32mc:\\Users\\silvh\\OneDrive\\lighthouse\\portfolio-projects\\datajam-chatbot\\chatbot_tuning\\notebooks\\2023-09-23 refine langchain code.ipynb Cell 18\u001b[0m line \u001b[0;36m2\n\u001b[0;32m     <a href='vscode-notebook-cell:/c%3A/Users/silvh/OneDrive/lighthouse/portfolio-projects/datajam-chatbot/chatbot_tuning/notebooks/2023-09-23%20refine%20langchain%20code.ipynb#X15sZmlsZQ%3D%3D?line=11'>12</a>\u001b[0m template \u001b[39m=\u001b[39m (\n\u001b[0;32m     <a href='vscode-notebook-cell:/c%3A/Users/silvh/OneDrive/lighthouse/portfolio-projects/datajam-chatbot/chatbot_tuning/notebooks/2023-09-23%20refine%20langchain%20code.ipynb#X15sZmlsZQ%3D%3D?line=12'>13</a>\u001b[0m     \u001b[39m\"\u001b[39m\u001b[39mCombine the chat history and follow up question into \u001b[39m\u001b[39m\"\u001b[39m\n\u001b[0;32m     <a href='vscode-notebook-cell:/c%3A/Users/silvh/OneDrive/lighthouse/portfolio-projects/datajam-chatbot/chatbot_tuning/notebooks/2023-09-23%20refine%20langchain%20code.ipynb#X15sZmlsZQ%3D%3D?line=13'>14</a>\u001b[0m     \u001b[39m\"\u001b[39m\u001b[39ma standalone question. Chat History: \u001b[39m\u001b[39m{chat_history}\u001b[39;00m\u001b[39m\"\u001b[39m\n\u001b[0;32m     <a href='vscode-notebook-cell:/c%3A/Users/silvh/OneDrive/lighthouse/portfolio-projects/datajam-chatbot/chatbot_tuning/notebooks/2023-09-23%20refine%20langchain%20code.ipynb#X15sZmlsZQ%3D%3D?line=14'>15</a>\u001b[0m     \u001b[39m\"\u001b[39m\u001b[39mFollow up question: \u001b[39m\u001b[39m{question}\u001b[39;00m\u001b[39m\"\u001b[39m\n\u001b[0;32m     <a href='vscode-notebook-cell:/c%3A/Users/silvh/OneDrive/lighthouse/portfolio-projects/datajam-chatbot/chatbot_tuning/notebooks/2023-09-23%20refine%20langchain%20code.ipynb#X15sZmlsZQ%3D%3D?line=15'>16</a>\u001b[0m )\n\u001b[0;32m     <a href='vscode-notebook-cell:/c%3A/Users/silvh/OneDrive/lighthouse/portfolio-projects/datajam-chatbot/chatbot_tuning/notebooks/2023-09-23%20refine%20langchain%20code.ipynb#X15sZmlsZQ%3D%3D?line=16'>17</a>\u001b[0m \u001b[39m# prompt = PromptTemplate.from_template(template)\u001b[39;00m\n\u001b[0;32m     <a href='vscode-notebook-cell:/c%3A/Users/silvh/OneDrive/lighthouse/portfolio-projects/datajam-chatbot/chatbot_tuning/notebooks/2023-09-23%20refine%20langchain%20code.ipynb#X15sZmlsZQ%3D%3D?line=17'>18</a>\u001b[0m \u001b[39m# question_generator_chain = LLMChain(llm=llm, prompt=prompt)\u001b[39;00m\n\u001b[0;32m     <a href='vscode-notebook-cell:/c%3A/Users/silvh/OneDrive/lighthouse/portfolio-projects/datajam-chatbot/chatbot_tuning/notebooks/2023-09-23%20refine%20langchain%20code.ipynb#X15sZmlsZQ%3D%3D?line=18'>19</a>\u001b[0m \u001b[39m# chain = ConversationalRetrievalChain(question_generator=question_generator_chain)\u001b[39;00m\n\u001b[1;32m   (...)\u001b[0m\n\u001b[0;32m     <a href='vscode-notebook-cell:/c%3A/Users/silvh/OneDrive/lighthouse/portfolio-projects/datajam-chatbot/chatbot_tuning/notebooks/2023-09-23%20refine%20langchain%20code.ipynb#X15sZmlsZQ%3D%3D?line=21'>22</a>\u001b[0m \u001b[39m#     )\u001b[39;00m\n\u001b[0;32m     <a href='vscode-notebook-cell:/c%3A/Users/silvh/OneDrive/lighthouse/portfolio-projects/datajam-chatbot/chatbot_tuning/notebooks/2023-09-23%20refine%20langchain%20code.ipynb#X15sZmlsZQ%3D%3D?line=22'>23</a>\u001b[0m \u001b[39m# result = qa({\"question\": user_input})\u001b[39;00m\n\u001b[1;32m---> <a href='vscode-notebook-cell:/c%3A/Users/silvh/OneDrive/lighthouse/portfolio-projects/datajam-chatbot/chatbot_tuning/notebooks/2023-09-23%20refine%20langchain%20code.ipynb#X15sZmlsZQ%3D%3D?line=23'>24</a>\u001b[0m chain \u001b[39m=\u001b[39m ConversationalRetrievalChain()\n\u001b[0;32m     <a href='vscode-notebook-cell:/c%3A/Users/silvh/OneDrive/lighthouse/portfolio-projects/datajam-chatbot/chatbot_tuning/notebooks/2023-09-23%20refine%20langchain%20code.ipynb#X15sZmlsZQ%3D%3D?line=24'>25</a>\u001b[0m template \u001b[39m=\u001b[39m \u001b[39m\"\"\"\u001b[39m\u001b[39mYou are a helpful assistant who provides concise answers to residents in Metro Vancouver, Canada.\u001b[39m\n\u001b[0;32m     <a href='vscode-notebook-cell:/c%3A/Users/silvh/OneDrive/lighthouse/portfolio-projects/datajam-chatbot/chatbot_tuning/notebooks/2023-09-23%20refine%20langchain%20code.ipynb#X15sZmlsZQ%3D%3D?line=25'>26</a>\u001b[0m \u001b[39mTo make your answer more concise, you ask follow up questions if needed so you can provide the most relevant answer.\u001b[39m\n\u001b[0;32m     <a href='vscode-notebook-cell:/c%3A/Users/silvh/OneDrive/lighthouse/portfolio-projects/datajam-chatbot/chatbot_tuning/notebooks/2023-09-23%20refine%20langchain%20code.ipynb#X15sZmlsZQ%3D%3D?line=26'>27</a>\u001b[0m \u001b[39mGiven the following conversation and a follow up question, rephrase the follow up question \u001b[39m\n\u001b[0;32m     <a href='vscode-notebook-cell:/c%3A/Users/silvh/OneDrive/lighthouse/portfolio-projects/datajam-chatbot/chatbot_tuning/notebooks/2023-09-23%20refine%20langchain%20code.ipynb#X15sZmlsZQ%3D%3D?line=27'>28</a>\u001b[0m \u001b[39mto be a standalone question, in its original language.\u001b[39m\u001b[39m\\n\u001b[39;00m\u001b[39m\\n\u001b[39;00m\n\u001b[0;32m     <a href='vscode-notebook-cell:/c%3A/Users/silvh/OneDrive/lighthouse/portfolio-projects/datajam-chatbot/chatbot_tuning/notebooks/2023-09-23%20refine%20langchain%20code.ipynb#X15sZmlsZQ%3D%3D?line=28'>29</a>\u001b[0m \u001b[39mChat History:\u001b[39m\u001b[39m\\n\u001b[39;00m\u001b[39m{chat_history}\u001b[39;00m\u001b[39m\\n\u001b[39;00m\u001b[39mFollow Up Input: \u001b[39m\u001b[39m{question}\u001b[39;00m\u001b[39m\\n\u001b[39;00m\u001b[39mStandalone question:\u001b[39m\n\u001b[0;32m     <a href='vscode-notebook-cell:/c%3A/Users/silvh/OneDrive/lighthouse/portfolio-projects/datajam-chatbot/chatbot_tuning/notebooks/2023-09-23%20refine%20langchain%20code.ipynb#X15sZmlsZQ%3D%3D?line=29'>30</a>\u001b[0m \u001b[39m\u001b[39m\u001b[39m\"\"\"\u001b[39m\n\u001b[0;32m     <a href='vscode-notebook-cell:/c%3A/Users/silvh/OneDrive/lighthouse/portfolio-projects/datajam-chatbot/chatbot_tuning/notebooks/2023-09-23%20refine%20langchain%20code.ipynb#X15sZmlsZQ%3D%3D?line=30'>31</a>\u001b[0m prompt \u001b[39m=\u001b[39m PromptTemplate(\n\u001b[0;32m     <a href='vscode-notebook-cell:/c%3A/Users/silvh/OneDrive/lighthouse/portfolio-projects/datajam-chatbot/chatbot_tuning/notebooks/2023-09-23%20refine%20langchain%20code.ipynb#X15sZmlsZQ%3D%3D?line=31'>32</a>\u001b[0m     input_variables\u001b[39m=\u001b[39m[\u001b[39m'\u001b[39m\u001b[39mchat_history\u001b[39m\u001b[39m'\u001b[39m, \u001b[39m'\u001b[39m\u001b[39mquestion\u001b[39m\u001b[39m'\u001b[39m], \n\u001b[0;32m     <a href='vscode-notebook-cell:/c%3A/Users/silvh/OneDrive/lighthouse/portfolio-projects/datajam-chatbot/chatbot_tuning/notebooks/2023-09-23%20refine%20langchain%20code.ipynb#X15sZmlsZQ%3D%3D?line=32'>33</a>\u001b[0m     output_parser\u001b[39m=\u001b[39m\u001b[39mNone\u001b[39;00m, partial_variables\u001b[39m=\u001b[39m{}, \n\u001b[0;32m     <a href='vscode-notebook-cell:/c%3A/Users/silvh/OneDrive/lighthouse/portfolio-projects/datajam-chatbot/chatbot_tuning/notebooks/2023-09-23%20refine%20langchain%20code.ipynb#X15sZmlsZQ%3D%3D?line=33'>34</a>\u001b[0m     template\u001b[39m=\u001b[39mtemplate, template_format\u001b[39m=\u001b[39m\u001b[39m'\u001b[39m\u001b[39mf-string\u001b[39m\u001b[39m'\u001b[39m, validate_template\u001b[39m=\u001b[39m\u001b[39mTrue\u001b[39;00m)\n",
      "File \u001b[1;32mc:\\Users\\silvh\\.conda\\envs\\datajam\\Lib\\site-packages\\langchain\\load\\serializable.py:75\u001b[0m, in \u001b[0;36mSerializable.__init__\u001b[1;34m(self, **kwargs)\u001b[0m\n\u001b[0;32m     74\u001b[0m \u001b[39mdef\u001b[39;00m \u001b[39m__init__\u001b[39m(\u001b[39mself\u001b[39m, \u001b[39m*\u001b[39m\u001b[39m*\u001b[39mkwargs: Any) \u001b[39m-\u001b[39m\u001b[39m>\u001b[39m \u001b[39mNone\u001b[39;00m:\n\u001b[1;32m---> 75\u001b[0m     \u001b[39msuper\u001b[39m()\u001b[39m.\u001b[39m\u001b[39m__init__\u001b[39m(\u001b[39m*\u001b[39m\u001b[39m*\u001b[39mkwargs)\n\u001b[0;32m     76\u001b[0m     \u001b[39mself\u001b[39m\u001b[39m.\u001b[39m_lc_kwargs \u001b[39m=\u001b[39m kwargs\n",
      "File \u001b[1;32mc:\\Users\\silvh\\.conda\\envs\\datajam\\Lib\\site-packages\\pydantic\\v1\\main.py:341\u001b[0m, in \u001b[0;36mBaseModel.__init__\u001b[1;34m(__pydantic_self__, **data)\u001b[0m\n\u001b[0;32m    339\u001b[0m values, fields_set, validation_error \u001b[39m=\u001b[39m validate_model(__pydantic_self__\u001b[39m.\u001b[39m\u001b[39m__class__\u001b[39m, data)\n\u001b[0;32m    340\u001b[0m \u001b[39mif\u001b[39;00m validation_error:\n\u001b[1;32m--> 341\u001b[0m     \u001b[39mraise\u001b[39;00m validation_error\n\u001b[0;32m    342\u001b[0m \u001b[39mtry\u001b[39;00m:\n\u001b[0;32m    343\u001b[0m     object_setattr(__pydantic_self__, \u001b[39m'\u001b[39m\u001b[39m__dict__\u001b[39m\u001b[39m'\u001b[39m, values)\n",
      "\u001b[1;31mValidationError\u001b[0m: 3 validation errors for ConversationalRetrievalChain\ncombine_docs_chain\n  field required (type=value_error.missing)\nquestion_generator\n  field required (type=value_error.missing)\nretriever\n  field required (type=value_error.missing)"
     ]
    }
   ],
   "source": [
    "\n",
    "\n",
    "def create_chatbot(tools_list=tools_list, verbose=True):\n",
    "\n",
    "    llm = ChatOpenAI(\n",
    "        temperature = 0,\n",
    "        openai_organization=os.environ['openai_organization'],\n",
    "        openai_api_key=os.environ['openai_api_key'],\n",
    "        )\n",
    "\n",
    "    agent_executor = create_conversational_retrieval_agent(llm, tools_list, verbose)\n",
    "    memory = ConversationBufferMemory(memory_key=\"chat_history\", return_messages=True)\n",
    "\n",
    "    template = (\n",
    "        \"Combine the chat history and follow up question into \"\n",
    "        \"a standalone question. Chat History: {chat_history}\"\n",
    "        \"Follow up question: {question}\"\n",
    "    )\n",
    "    # prompt = PromptTemplate.from_template(template)\n",
    "    # question_generator_chain = LLMChain(llm=llm, prompt=prompt)\n",
    "    # chain = ConversationalRetrievalChain(question_generator=question_generator_chain)\n",
    "    # qa = chain.from_llm(\n",
    "    #     llm, vector_dict[site_key].as_retriever(), memory=memory\n",
    "    #     )\n",
    "    # result = qa({\"question\": user_input})\n",
    "    chain = ConversationalRetrievalChain()\n",
    "    template = \"\"\"You are a helpful assistant who provides concise answers to residents in Metro Vancouver, Canada.\n",
    "    To make your answer more concise, you ask follow up questions if needed so you can provide the most relevant answer.\n",
    "    Given the following conversation and a follow up question, rephrase the follow up question \n",
    "    to be a standalone question, in its original language.\\n\\n\n",
    "    Chat History:\\n{chat_history}\\nFollow Up Input: {question}\\nStandalone question:\n",
    "    \"\"\"\n",
    "    prompt = PromptTemplate(\n",
    "        input_variables=['chat_history', 'question'], \n",
    "        output_parser=None, partial_variables={}, \n",
    "        template=template, template_format='f-string', validate_template=True)\n",
    "    chat = chain.from_llm(\n",
    "        llm, vector_dict[site_key].as_retriever(), memory=memory,\n",
    "        condense_question_prompt=prompt\n",
    "        )\n",
    "\n",
    "    return chat\n",
    "\n",
    "def chat_with_chatbot(user_input, chat, verbose=True):\n",
    "    result = qa({\"question\": user_input})\n",
    "    \n",
    "    return result\n",
    "\n",
    "conversation_id = 1\n",
    "input_id = 1\n",
    "\n",
    "query = \"Where do I recycle coffee cups in Vancouver?\"\n",
    "conversation_dict[conversation_id] = create_chatbot()\n",
    "answer_dict[input_id] = chat_with_chatbot(query, chat_dict[conversation_id])"
   ]
  },
  {
   "cell_type": "markdown",
   "metadata": {},
   "source": [
    "### iteration 2"
   ]
  },
  {
   "cell_type": "code",
   "execution_count": 17,
   "metadata": {},
   "outputs": [
    {
     "ename": "NameError",
     "evalue": "name 'site_key' is not defined",
     "output_type": "error",
     "traceback": [
      "\u001b[1;31m---------------------------------------------------------------------------\u001b[0m",
      "\u001b[1;31mNameError\u001b[0m                                 Traceback (most recent call last)",
      "\u001b[1;32mc:\\Users\\silvh\\OneDrive\\lighthouse\\portfolio-projects\\datajam-chatbot\\chatbot_tuning\\notebooks\\2023-09-23 refine langchain code.ipynb Cell 20\u001b[0m line \u001b[0;36m5\n\u001b[0;32m     <a href='vscode-notebook-cell:/c%3A/Users/silvh/OneDrive/lighthouse/portfolio-projects/datajam-chatbot/chatbot_tuning/notebooks/2023-09-23%20refine%20langchain%20code.ipynb#X62sZmlsZQ%3D%3D?line=46'>47</a>\u001b[0m input_id \u001b[39m=\u001b[39m \u001b[39m1\u001b[39m\n\u001b[0;32m     <a href='vscode-notebook-cell:/c%3A/Users/silvh/OneDrive/lighthouse/portfolio-projects/datajam-chatbot/chatbot_tuning/notebooks/2023-09-23%20refine%20langchain%20code.ipynb#X62sZmlsZQ%3D%3D?line=48'>49</a>\u001b[0m query \u001b[39m=\u001b[39m \u001b[39m\"\u001b[39m\u001b[39mWhere do I recycle coffee cups in Vancouver?\u001b[39m\u001b[39m\"\u001b[39m\n\u001b[1;32m---> <a href='vscode-notebook-cell:/c%3A/Users/silvh/OneDrive/lighthouse/portfolio-projects/datajam-chatbot/chatbot_tuning/notebooks/2023-09-23%20refine%20langchain%20code.ipynb#X62sZmlsZQ%3D%3D?line=49'>50</a>\u001b[0m conversation_dict[conversation_id] \u001b[39m=\u001b[39m create_chatbot()\n\u001b[0;32m     <a href='vscode-notebook-cell:/c%3A/Users/silvh/OneDrive/lighthouse/portfolio-projects/datajam-chatbot/chatbot_tuning/notebooks/2023-09-23%20refine%20langchain%20code.ipynb#X62sZmlsZQ%3D%3D?line=50'>51</a>\u001b[0m answer_dict[input_id] \u001b[39m=\u001b[39m chat_with_chatbot(query, chat_dict[conversation_id])\n",
      "\u001b[1;32mc:\\Users\\silvh\\OneDrive\\lighthouse\\portfolio-projects\\datajam-chatbot\\chatbot_tuning\\notebooks\\2023-09-23 refine langchain code.ipynb Cell 20\u001b[0m line \u001b[0;36m3\n\u001b[0;32m     <a href='vscode-notebook-cell:/c%3A/Users/silvh/OneDrive/lighthouse/portfolio-projects/datajam-chatbot/chatbot_tuning/notebooks/2023-09-23%20refine%20langchain%20code.ipynb#X62sZmlsZQ%3D%3D?line=23'>24</a>\u001b[0m template \u001b[39m=\u001b[39m \u001b[39m\"\"\"\u001b[39m\u001b[39mYou are a helpful assistant who provides concise answers to residents in Metro Vancouver, Canada.\u001b[39m\n\u001b[0;32m     <a href='vscode-notebook-cell:/c%3A/Users/silvh/OneDrive/lighthouse/portfolio-projects/datajam-chatbot/chatbot_tuning/notebooks/2023-09-23%20refine%20langchain%20code.ipynb#X62sZmlsZQ%3D%3D?line=24'>25</a>\u001b[0m \u001b[39mTo make your answer more concise, you ask follow up questions if needed so you can provide the most relevant answer.\u001b[39m\n\u001b[0;32m     <a href='vscode-notebook-cell:/c%3A/Users/silvh/OneDrive/lighthouse/portfolio-projects/datajam-chatbot/chatbot_tuning/notebooks/2023-09-23%20refine%20langchain%20code.ipynb#X62sZmlsZQ%3D%3D?line=25'>26</a>\u001b[0m \u001b[39mWhere relevant, you retrieve the relevant information from your documents to answer the resident\u001b[39m\u001b[39m'\u001b[39m\u001b[39ms question.\u001b[39m\n\u001b[0;32m     <a href='vscode-notebook-cell:/c%3A/Users/silvh/OneDrive/lighthouse/portfolio-projects/datajam-chatbot/chatbot_tuning/notebooks/2023-09-23%20refine%20langchain%20code.ipynb#X62sZmlsZQ%3D%3D?line=26'>27</a>\u001b[0m \u001b[39mHere is your chat history with the resident: \u001b[39m\u001b[39m\\n\u001b[39;00m\u001b[39m\\n\u001b[39;00m\u001b[39m{chat_history}\u001b[39;00m\u001b[39m\\n\u001b[39;00m\u001b[39m\\n\u001b[39;00m\n\u001b[0;32m     <a href='vscode-notebook-cell:/c%3A/Users/silvh/OneDrive/lighthouse/portfolio-projects/datajam-chatbot/chatbot_tuning/notebooks/2023-09-23%20refine%20langchain%20code.ipynb#X62sZmlsZQ%3D%3D?line=27'>28</a>\u001b[0m \u001b[39mRespond to the resident\u001b[39m\u001b[39m'\u001b[39m\u001b[39ms query, which are delimited by triple backticks: ```\u001b[39m\u001b[39m{question}\u001b[39;00m\u001b[39m```\u001b[39m\n\u001b[0;32m     <a href='vscode-notebook-cell:/c%3A/Users/silvh/OneDrive/lighthouse/portfolio-projects/datajam-chatbot/chatbot_tuning/notebooks/2023-09-23%20refine%20langchain%20code.ipynb#X62sZmlsZQ%3D%3D?line=28'>29</a>\u001b[0m \u001b[39m\u001b[39m\u001b[39m\"\"\"\u001b[39m\n\u001b[0;32m     <a href='vscode-notebook-cell:/c%3A/Users/silvh/OneDrive/lighthouse/portfolio-projects/datajam-chatbot/chatbot_tuning/notebooks/2023-09-23%20refine%20langchain%20code.ipynb#X62sZmlsZQ%3D%3D?line=29'>30</a>\u001b[0m prompt \u001b[39m=\u001b[39m PromptTemplate(\n\u001b[0;32m     <a href='vscode-notebook-cell:/c%3A/Users/silvh/OneDrive/lighthouse/portfolio-projects/datajam-chatbot/chatbot_tuning/notebooks/2023-09-23%20refine%20langchain%20code.ipynb#X62sZmlsZQ%3D%3D?line=30'>31</a>\u001b[0m     input_variables\u001b[39m=\u001b[39m[\u001b[39m'\u001b[39m\u001b[39mchat_history\u001b[39m\u001b[39m'\u001b[39m, \u001b[39m'\u001b[39m\u001b[39mquestion\u001b[39m\u001b[39m'\u001b[39m], \n\u001b[0;32m     <a href='vscode-notebook-cell:/c%3A/Users/silvh/OneDrive/lighthouse/portfolio-projects/datajam-chatbot/chatbot_tuning/notebooks/2023-09-23%20refine%20langchain%20code.ipynb#X62sZmlsZQ%3D%3D?line=31'>32</a>\u001b[0m     output_parser\u001b[39m=\u001b[39m\u001b[39mNone\u001b[39;00m, partial_variables\u001b[39m=\u001b[39m{}, \n\u001b[0;32m     <a href='vscode-notebook-cell:/c%3A/Users/silvh/OneDrive/lighthouse/portfolio-projects/datajam-chatbot/chatbot_tuning/notebooks/2023-09-23%20refine%20langchain%20code.ipynb#X62sZmlsZQ%3D%3D?line=32'>33</a>\u001b[0m     template\u001b[39m=\u001b[39mtemplate, template_format\u001b[39m=\u001b[39m\u001b[39m'\u001b[39m\u001b[39mf-string\u001b[39m\u001b[39m'\u001b[39m, validate_template\u001b[39m=\u001b[39m\u001b[39mTrue\u001b[39;00m)\n\u001b[0;32m     <a href='vscode-notebook-cell:/c%3A/Users/silvh/OneDrive/lighthouse/portfolio-projects/datajam-chatbot/chatbot_tuning/notebooks/2023-09-23%20refine%20langchain%20code.ipynb#X62sZmlsZQ%3D%3D?line=33'>34</a>\u001b[0m chat \u001b[39m=\u001b[39m ConversationalRetrievalChain\u001b[39m.\u001b[39mfrom_llm(\n\u001b[1;32m---> <a href='vscode-notebook-cell:/c%3A/Users/silvh/OneDrive/lighthouse/portfolio-projects/datajam-chatbot/chatbot_tuning/notebooks/2023-09-23%20refine%20langchain%20code.ipynb#X62sZmlsZQ%3D%3D?line=34'>35</a>\u001b[0m     llm, vector_dict[site_key]\u001b[39m.\u001b[39mas_retriever(), memory\u001b[39m=\u001b[39mmemory,\n\u001b[0;32m     <a href='vscode-notebook-cell:/c%3A/Users/silvh/OneDrive/lighthouse/portfolio-projects/datajam-chatbot/chatbot_tuning/notebooks/2023-09-23%20refine%20langchain%20code.ipynb#X62sZmlsZQ%3D%3D?line=35'>36</a>\u001b[0m     condense_question_prompt\u001b[39m=\u001b[39mprompt\n\u001b[0;32m     <a href='vscode-notebook-cell:/c%3A/Users/silvh/OneDrive/lighthouse/portfolio-projects/datajam-chatbot/chatbot_tuning/notebooks/2023-09-23%20refine%20langchain%20code.ipynb#X62sZmlsZQ%3D%3D?line=36'>37</a>\u001b[0m     )\n\u001b[0;32m     <a href='vscode-notebook-cell:/c%3A/Users/silvh/OneDrive/lighthouse/portfolio-projects/datajam-chatbot/chatbot_tuning/notebooks/2023-09-23%20refine%20langchain%20code.ipynb#X62sZmlsZQ%3D%3D?line=38'>39</a>\u001b[0m \u001b[39mreturn\u001b[39;00m chat\n",
      "\u001b[1;31mNameError\u001b[0m: name 'site_key' is not defined"
     ]
    }
   ],
   "source": [
    "\n",
    "\n",
    "def create_chatbot(tools_list=tools_list, verbose=True):\n",
    "\n",
    "    llm = ChatOpenAI(\n",
    "        temperature = 0,\n",
    "        openai_organization=os.environ['openai_organization'],\n",
    "        openai_api_key=os.environ['openai_api_key'],\n",
    "        )\n",
    "\n",
    "    agent_executor = create_conversational_retrieval_agent(llm, tools_list, verbose)\n",
    "    memory = ConversationBufferMemory(memory_key=\"chat_history\", return_messages=True)\n",
    "\n",
    "    template = (\n",
    "        \"Combine the chat history and follow up question into \"\n",
    "        \"a standalone question. Chat History: {chat_history}\"\n",
    "        \"Follow up question: {question}\"\n",
    "    )\n",
    "    template = \"\"\"You are a helpful assistant who provides concise answers to residents in Metro Vancouver, Canada.\n",
    "    To make your answer more concise, you ask follow up questions if needed so you can provide the most relevant answer.\n",
    "    Where relevant, you retrieve the relevant information from your documents to answer the resident's question.\n",
    "    Here is your chat history with the resident: \\n\\n{chat_history}\\n\\n\n",
    "    Respond to the resident's query, which are delimited by triple backticks: ```{question}```\n",
    "    \"\"\"\n",
    "    prompt = PromptTemplate(\n",
    "        input_variables=['chat_history', 'question'], \n",
    "        output_parser=None, partial_variables={}, \n",
    "        template=template, template_format='f-string', validate_template=True)\n",
    "    chat = ConversationalRetrievalChain.from_llm(\n",
    "        llm, vector_dict[site_key].as_retriever(), memory=memory,\n",
    "        condense_question_prompt=prompt\n",
    "        )\n",
    "\n",
    "    return chat\n",
    "\n",
    "def chat_with_chatbot(user_input, chat, verbose=True):\n",
    "    result = qa({\"question\": user_input})\n",
    "    \n",
    "    return result\n",
    "\n",
    "conversation_id = 1\n",
    "input_id = 1\n",
    "\n",
    "query = \"Where do I recycle coffee cups in Vancouver?\"\n",
    "conversation_dict[conversation_id] = create_chatbot()\n",
    "answer_dict[input_id] = chat_with_chatbot(query, chat_dict[conversation_id])"
   ]
  },
  {
   "cell_type": "markdown",
   "metadata": {},
   "source": [
    "### iteration 3"
   ]
  },
  {
   "cell_type": "code",
   "execution_count": 21,
   "metadata": {},
   "outputs": [],
   "source": [
    "\n",
    "\n",
    "def create_chatbot(tools_list=tools_list, vector_store=vector_dict['CoV'], verbose=True):\n",
    "\n",
    "    llm = ChatOpenAI(\n",
    "        temperature = 0,\n",
    "        openai_organization=os.environ['openai_organization'],\n",
    "        openai_api_key=os.environ['openai_api_key'],\n",
    "        )\n",
    "\n",
    "    agent_executor = create_conversational_retrieval_agent(llm, tools_list, verbose)\n",
    "    memory = ConversationBufferMemory(memory_key=\"chat_history\", return_messages=True)\n",
    "\n",
    "    template = (\n",
    "        \"Combine the chat history and follow up question into \"\n",
    "        \"a standalone question. Chat History: {chat_history}\"\n",
    "        \"Follow up question: {question}\"\n",
    "    )\n",
    "    template = \"\"\"You are a helpful assistant who provides concise answers to residents in Metro Vancouver, Canada.\n",
    "    To make your answer more concise, you ask follow up questions if needed so you can provide the most relevant answer.\n",
    "    Where relevant, you retrieve the relevant information from your documents to answer the resident's question.\n",
    "    Here is your chat history with the resident: \\n\\n{chat_history}\\n\\n\n",
    "    Respond to the resident's query, which are delimited by triple backticks: ```{question}```\n",
    "    \"\"\"\n",
    "    prompt = PromptTemplate(\n",
    "        input_variables=['chat_history', 'question'], \n",
    "        output_parser=None, partial_variables={}, \n",
    "        template=template, template_format='f-string', validate_template=True)\n",
    "    chat = ConversationalRetrievalChain.from_llm(\n",
    "        llm, vector_store.as_retriever(), memory=memory,\n",
    "        condense_question_prompt=prompt\n",
    "        )\n",
    "\n",
    "    return chat\n",
    "\n",
    "def chat_with_chatbot(user_input, chat, verbose=True):\n",
    "    result = chat({\"question\": user_input})\n",
    "    \n",
    "    return result\n",
    "\n",
    "conversation_id = 1\n",
    "input_id = 1\n",
    "\n",
    "query = \"Where do I recycle coffee cups in Vancouver?\"\n",
    "conversation_dict[conversation_id] = create_chatbot()\n",
    "answer_dict[input_id] = chat_with_chatbot(query, conversation_dict[conversation_id])"
   ]
  },
  {
   "cell_type": "code",
   "execution_count": 22,
   "metadata": {},
   "outputs": [
    {
     "data": {
      "text/plain": [
       "{'question': 'Where do I recycle coffee cups in Vancouver?',\n",
       " 'chat_history': [HumanMessage(content='Where do I recycle coffee cups in Vancouver?', additional_kwargs={}, example=False),\n",
       "  AIMessage(content='For single-family homes and duplexes in Vancouver, you can recycle coffee cups in your blue bin provided by GFL Environmental. You can contact GFL Environmental at 604-282-7966 or email srrecycle@gflenv.com for any questions or issues regarding your recycling service, including coffee cup recycling.\\n\\nFor apartments, condos, and townhomes, waste collection services are not provided by the City of Vancouver. Waste Management Canada collects recycling on behalf of Recycle BC for these types of buildings. You can contact Waste Management Canada at 604-282-7961 for questions and issues about recycling, including coffee cup recycling.', additional_kwargs={}, example=False)],\n",
       " 'answer': 'For single-family homes and duplexes in Vancouver, you can recycle coffee cups in your blue bin provided by GFL Environmental. You can contact GFL Environmental at 604-282-7966 or email srrecycle@gflenv.com for any questions or issues regarding your recycling service, including coffee cup recycling.\\n\\nFor apartments, condos, and townhomes, waste collection services are not provided by the City of Vancouver. Waste Management Canada collects recycling on behalf of Recycle BC for these types of buildings. You can contact Waste Management Canada at 604-282-7961 for questions and issues about recycling, including coffee cup recycling.'}"
      ]
     },
     "execution_count": 22,
     "metadata": {},
     "output_type": "execute_result"
    }
   ],
   "source": [
    "answer_dict[input_id]"
   ]
  },
  {
   "cell_type": "code",
   "execution_count": 26,
   "metadata": {},
   "outputs": [
    {
     "name": "stdout",
     "output_type": "stream",
     "text": [
      "636\n",
      "For single-family homes and duplexes in Vancouver, you can recycle coffee cups in your blue bin provided by GFL Environmental. You can contact GFL Environmental at 604-282-7966 or email srrecycle@gflenv.com for any questions or issues regarding your recycling service, including coffee cup recycling.\n",
      "\n",
      "For apartments, condos, and townhomes, waste collection services are not provided by the City of Vancouver. Waste Management Canada collects recycling on behalf of Recycle BC for these types of buildings. You can contact Waste Management Canada at 604-282-7961 for questions and issues about recycling, including coffee cup recycling.\n"
     ]
    }
   ],
   "source": [
    "print(len(answer_dict[input_id]['answer']))\n",
    "print(answer_dict[input_id]['answer'])"
   ]
  },
  {
   "cell_type": "code",
   "execution_count": 27,
   "metadata": {},
   "outputs": [
    {
     "data": {
      "text/plain": [
       "[HumanMessage(content='Where do I recycle coffee cups in Vancouver?', additional_kwargs={}, example=False),\n",
       " AIMessage(content='For single-family homes and duplexes in Vancouver, you can recycle coffee cups in your blue bin provided by GFL Environmental. You can contact GFL Environmental at 604-282-7966 or email srrecycle@gflenv.com for any questions or issues regarding your recycling service, including coffee cup recycling.\\n\\nFor apartments, condos, and townhomes, waste collection services are not provided by the City of Vancouver. Waste Management Canada collects recycling on behalf of Recycle BC for these types of buildings. You can contact Waste Management Canada at 604-282-7961 for questions and issues about recycling, including coffee cup recycling.', additional_kwargs={}, example=False)]"
      ]
     },
     "execution_count": 27,
     "metadata": {},
     "output_type": "execute_result"
    }
   ],
   "source": [
    "answer_dict[input_id]['chat_history']"
   ]
  },
  {
   "cell_type": "code",
   "execution_count": 28,
   "metadata": {},
   "outputs": [],
   "source": [
    "input_id = 2\n",
    "\n",
    "query = \"I live in an apartment. Who should I talk to so I can get a blue bin?\"\n",
    "conversation_dict[conversation_id] = create_chatbot()\n",
    "answer_dict[input_id] = chat_with_chatbot(query, conversation_dict[conversation_id])"
   ]
  },
  {
   "cell_type": "code",
   "execution_count": 29,
   "metadata": {},
   "outputs": [
    {
     "data": {
      "text/plain": [
       "[HumanMessage(content='I live in an apartment. Who should I talk to so I can get a blue bin?', additional_kwargs={}, example=False),\n",
       " AIMessage(content='For apartments, condos, and townhomes, the City of Vancouver does not provide waste collection services. However, you can contact Waste Management Canada at 604-282-7961 for questions and issues about your recycling service. They should be able to assist you with obtaining a blue bin for your apartment.', additional_kwargs={}, example=False)]"
      ]
     },
     "execution_count": 29,
     "metadata": {},
     "output_type": "execute_result"
    }
   ],
   "source": [
    "answer_dict[input_id]['chat_history']"
   ]
  },
  {
   "cell_type": "code",
   "execution_count": 30,
   "metadata": {},
   "outputs": [
    {
     "name": "stdout",
     "output_type": "stream",
     "text": [
      "For apartments, condos, and townhomes, the City of Vancouver does not provide waste collection services. However, you can contact Waste Management Canada at 604-282-7961 for questions and issues about your recycling service. They should be able to assist you with obtaining a blue bin for your apartment.\n"
     ]
    }
   ],
   "source": [
    "print(answer_dict[input_id]['answer'])"
   ]
  },
  {
   "cell_type": "markdown",
   "metadata": {},
   "source": [
    "# Iteration 2 Update it to work with CSV"
   ]
  },
  {
   "cell_type": "code",
   "execution_count": 60,
   "metadata": {},
   "outputs": [
    {
     "name": "stderr",
     "output_type": "stream",
     "text": [
      "100%|██████████| 1/1 [00:00<00:00, 64.14it/s]"
     ]
    },
    {
     "name": "stdout",
     "output_type": "stream",
     "text": [
      "Number of files: 158\n"
     ]
    },
    {
     "name": "stderr",
     "output_type": "stream",
     "text": [
      "\n"
     ]
    },
    {
     "data": {
      "text/plain": [
       "[Document(page_content='Conclusion: Accepted\\nLocation: Curbside collection, Multi-family collection, Recycle BC depots\\nCategory: Paper\\nItem: Newspapers, inserts and flyers', metadata={'source': '..\\\\data\\\\recyclebc.csv', 'row': 0}),\n",
       " Document(page_content='Conclusion: Accepted\\nLocation: Curbside collection, Multi-family collection, Recycle BC depots\\nCategory: Paper\\nItem: Magazines and catalogues', metadata={'source': '..\\\\data\\\\recyclebc.csv', 'row': 1}),\n",
       " Document(page_content='Conclusion: Accepted\\nLocation: Curbside collection, Multi-family collection, Recycle BC depots\\nCategory: Paper\\nItem: Telephone books and other directories', metadata={'source': '..\\\\data\\\\recyclebc.csv', 'row': 2}),\n",
       " Document(page_content='Conclusion: Accepted\\nLocation: Curbside collection, Multi-family collection, Recycle BC depots\\nCategory: Paper\\nItem: Writing and home office paper, paper envelopes, and notepads', metadata={'source': '..\\\\data\\\\recyclebc.csv', 'row': 3}),\n",
       " Document(page_content='Conclusion: Accepted\\nLocation: Curbside collection, Multi-family collection, Recycle BC depots\\nCategory: Paper\\nItem: Paper gift wrap and greeting cards', metadata={'source': '..\\\\data\\\\recyclebc.csv', 'row': 4}),\n",
       " Document(page_content='Conclusion: Accepted\\nLocation: Curbside collection, Multi-family collection, Recycle BC depots\\nCategory: Paper\\nItem: Single-use paper party décor (e.g., paper pennants, paper globes and ornaments, etc.)', metadata={'source': '..\\\\data\\\\recyclebc.csv', 'row': 5}),\n",
       " Document(page_content='Conclusion: Accepted\\nLocation: Curbside collection, Multi-family collection, Recycle BC depots\\nCategory: Paper\\nItem: Shredded paper (set shredded paper out for collection in a paper bag or small box and place in your paper collection container)', metadata={'source': '..\\\\data\\\\recyclebc.csv', 'row': 6}),\n",
       " Document(page_content='Conclusion: Not Accepted\\nLocation: \\nCategory: Paper\\nItem: Hardcover or paperback books (donate or sell)', metadata={'source': '..\\\\data\\\\recyclebc.csv', 'row': 7}),\n",
       " Document(page_content='Conclusion: Not Accepted\\nLocation: \\nCategory: Paper\\nItem: Paper towels, napkins, tissues', metadata={'source': '..\\\\data\\\\recyclebc.csv', 'row': 8}),\n",
       " Document(page_content='Conclusion: Not Accepted\\nLocation: \\nCategory: Paper\\nItem: Non-paper gift wrap and foil gift wrap', metadata={'source': '..\\\\data\\\\recyclebc.csv', 'row': 9}),\n",
       " Document(page_content='Conclusion: Not Accepted\\nLocation: \\nCategory: Paper\\nItem: Padded envelopes', metadata={'source': '..\\\\data\\\\recyclebc.csv', 'row': 10}),\n",
       " Document(page_content='Conclusion: Not Accepted\\nLocation: \\nCategory: Paper\\nItem: Ribbons or bows', metadata={'source': '..\\\\data\\\\recyclebc.csv', 'row': 11}),\n",
       " Document(page_content='Conclusion: Not Accepted\\nLocation: \\nCategory: Paper\\nItem: Musical greeting cards with batteries (contact the Recycling Council of BC for battery and e-waste recycling options)', metadata={'source': '..\\\\data\\\\recyclebc.csv', 'row': 12}),\n",
       " Document(page_content='Conclusion: Not Accepted\\nLocation: \\nCategory: Paper\\nItem: Rubber bands', metadata={'source': '..\\\\data\\\\recyclebc.csv', 'row': 13}),\n",
       " Document(page_content='Conclusion: Not Accepted\\nLocation: \\nCategory: Paper\\nItem: Plastic bags used to cover newspapers/flyers (recycle at a Recycle BC depot)', metadata={'source': '..\\\\data\\\\recyclebc.csv', 'row': 14}),\n",
       " Document(page_content='Conclusion: Accepted\\nLocation: Curbside collection, Multi-family collection, Recycle BC depots\\nCategory: Paper Packaging and Cardboard\\nItem: Corrugated cardboard boxes used for shipping, grocery and liquor store boxes, pizza boxes, moving boxes and Banker’s boxes', metadata={'source': '..\\\\data\\\\recyclebc.csv', 'row': 15}),\n",
       " Document(page_content='Conclusion: Accepted\\nLocation: Curbside collection, Multi-family collection, Recycle BC depots\\nCategory: Paper Packaging and Cardboard\\nItem: Cardboard and boxboard boxes used for cereal, shoes, tissues, pizza, frozen entrees, desserts, detergent, etc.', metadata={'source': '..\\\\data\\\\recyclebc.csv', 'row': 16}),\n",
       " Document(page_content='Conclusion: Accepted\\nLocation: Curbside collection, Multi-family collection, Recycle BC depots\\nCategory: Paper Packaging and Cardboard\\nItem: Cardboard packaging for cannabis product', metadata={'source': '..\\\\data\\\\recyclebc.csv', 'row': 17}),\n",
       " Document(page_content='Conclusion: Accepted\\nLocation: Curbside collection, Multi-family collection, Recycle BC depots\\nCategory: Paper Packaging and Cardboard\\nItem: Carrier trays for bulk bottled water, soft drinks, cans, food, etc.', metadata={'source': '..\\\\data\\\\recyclebc.csv', 'row': 18}),\n",
       " Document(page_content='Conclusion: Accepted\\nLocation: Curbside collection, Multi-family collection, Recycle BC depots\\nCategory: Paper Packaging and Cardboard\\nItem: Cores for paper towels and toilet tissue', metadata={'source': '..\\\\data\\\\recyclebc.csv', 'row': 19}),\n",
       " Document(page_content='Conclusion: Accepted\\nLocation: Curbside collection, Multi-family collection, Recycle BC depots\\nCategory: Paper Packaging and Cardboard\\nItem: Molded boxboard packaging for egg cartons, take-out beverage trays, paper-based plant pots', metadata={'source': '..\\\\data\\\\recyclebc.csv', 'row': 20}),\n",
       " Document(page_content='Conclusion: Accepted\\nLocation: Curbside collection, Multi-family collection, Recycle BC depots\\nCategory: Paper Packaging and Cardboard\\nItem: Paper gift bags and boxes', metadata={'source': '..\\\\data\\\\recyclebc.csv', 'row': 21}),\n",
       " Document(page_content='Conclusion: Accepted\\nLocation: Curbside collection, Multi-family collection, Recycle BC depots\\nCategory: Paper Packaging and Cardboard\\nItem: Paper bags (also called Kraft paper) and envelopes', metadata={'source': '..\\\\data\\\\recyclebc.csv', 'row': 22}),\n",
       " Document(page_content='Conclusion: Accepted\\nLocation: Curbside collection, Multi-family collection, Recycle BC depots\\nCategory: Paper Packaging and Cardboard\\nItem: Multi-layered paper bags for flour, sugar, etc.', metadata={'source': '..\\\\data\\\\recyclebc.csv', 'row': 23}),\n",
       " Document(page_content='Conclusion: Accepted\\nLocation: Curbside collection, Multi-family collection, Recycle BC depots\\nCategory: Paper Packaging and Cardboard\\nItem: Compressed paper hangers included with clothing', metadata={'source': '..\\\\data\\\\recyclebc.csv', 'row': 24}),\n",
       " Document(page_content='Conclusion: Not Accepted\\nLocation: \\nCategory: Paper Packaging and Cardboard\\nItem: Cardboard boxes with wax coating, such as empty boxes, made available for residents to transport their groceries home', metadata={'source': '..\\\\data\\\\recyclebc.csv', 'row': 25}),\n",
       " Document(page_content='Conclusion: Not Accepted\\nLocation: \\nCategory: Paper Packaging and Cardboard\\nItem: Paper bags with multiple layers that include a foil layer', metadata={'source': '..\\\\data\\\\recyclebc.csv', 'row': 26}),\n",
       " Document(page_content='Conclusion: Not Accepted\\nLocation: \\nCategory: Paper Packaging and Cardboard\\nItem: Paper bags with a plastic layer', metadata={'source': '..\\\\data\\\\recyclebc.csv', 'row': 27}),\n",
       " Document(page_content='Conclusion: Not Accepted\\nLocation: \\nCategory: Paper Packaging and Cardboard\\nItem: Paper towels, napkins (include with green waste, if applicable)', metadata={'source': '..\\\\data\\\\recyclebc.csv', 'row': 28}),\n",
       " Document(page_content='Conclusion: Not Accepted\\nLocation: \\nCategory: Paper Packaging and Cardboard\\nItem: Tissues', metadata={'source': '..\\\\data\\\\recyclebc.csv', 'row': 29}),\n",
       " Document(page_content='Conclusion: Not Accepted\\nLocation: \\nCategory: Paper Packaging and Cardboard\\nItem: Padded envelopes with plastic or bubble layer', metadata={'source': '..\\\\data\\\\recyclebc.csv', 'row': 30}),\n",
       " Document(page_content='Conclusion: Accepted\\nLocation: Curbside collection, Multi-family collection, Recycle BC depots\\nCategory: Plastic Containers\\nItem: Plastic jugs with screw tops used for cooking oil, laundry detergent and fabric softener, cleaning solutions, cleaning products, body care products, windshield washer fluid, etc.', metadata={'source': '..\\\\data\\\\recyclebc.csv', 'row': 31}),\n",
       " Document(page_content='Conclusion: Accepted\\nLocation: Curbside collection, Multi-family collection, Recycle BC depots\\nCategory: Plastic Containers\\nItem: Plastic bottles with screw caps, spray pump, or pull-up tops for food, dish soap, mouthwash, shampoos, conditioners and other personal care products, pills and vitamins, laundry products, etc.', metadata={'source': '..\\\\data\\\\recyclebc.csv', 'row': 32}),\n",
       " Document(page_content='Conclusion: Accepted\\nLocation: Curbside collection, Multi-family collection, Recycle BC depots\\nCategory: Plastic Containers\\nItem: Plastic jars with wide mouths and screw-top lids for peanut butter, jam, nuts, condiments, vitamins and supplements, personal care products, etc.', metadata={'source': '..\\\\data\\\\recyclebc.csv', 'row': 33}),\n",
       " Document(page_content='Conclusion: Accepted\\nLocation: Curbside collection, Multi-family collection, Recycle BC depots\\nCategory: Plastic Containers\\nItem: Plastic packaging for cannabis product', metadata={'source': '..\\\\data\\\\recyclebc.csv', 'row': 34}),\n",
       " Document(page_content='Conclusion: Accepted\\nLocation: Curbside collection, Multi-family collection, Recycle BC depots\\nCategory: Plastic Containers\\nItem: Plastic clamshells with hinged or click-closed tops for baked goods, fruit, produce, eggs, etc.', metadata={'source': '..\\\\data\\\\recyclebc.csv', 'row': 35}),\n",
       " Document(page_content='Conclusion: Accepted\\nLocation: Curbside collection, Multi-family collection, Recycle BC depots\\nCategory: Plastic Containers\\nItem: Plastic black-bottom trays and clear tops for deli chicken, single-serve meals, prepared foods, baked goods', metadata={'source': '..\\\\data\\\\recyclebc.csv', 'row': 36}),\n",
       " Document(page_content='Conclusion: Accepted\\nLocation: Curbside collection, Multi-family collection, Recycle BC depots\\nCategory: Plastic Containers\\nItem: Plastic tubs and lids for food such as margarine and spreads, dairy products such as yogurt, cottage cheese, sour cream, ice cream, etc.', metadata={'source': '..\\\\data\\\\recyclebc.csv', 'row': 37}),\n",
       " Document(page_content='Conclusion: Accepted\\nLocation: Curbside collection, Multi-family collection, Recycle BC depots\\nCategory: Plastic Containers\\nItem: Plastic cold drink cups with lids for take-out beverages', metadata={'source': '..\\\\data\\\\recyclebc.csv', 'row': 38}),\n",
       " Document(page_content='Conclusion: Accepted\\nLocation: Curbside collection, Multi-family collection, Recycle BC depots\\nCategory: Plastic Containers\\nItem: Plastic garden pots and trays for bedding plants, seedlings, vegetable plants, etc.', metadata={'source': '..\\\\data\\\\recyclebc.csv', 'row': 39}),\n",
       " Document(page_content='Conclusion: Accepted\\nLocation: Curbside collection, Multi-family collection, Recycle BC depots\\nCategory: Plastic Containers\\nItem: Plastic pails less than 25L for laundry detergent, ice cream, pet food, etc.', metadata={'source': '..\\\\data\\\\recyclebc.csv', 'row': 40}),\n",
       " Document(page_content='Conclusion: Accepted\\nLocation: Curbside collection, Multi-family collection, Recycle BC depots\\nCategory: Plastic Containers\\nItem: Microwavable bowls and cups', metadata={'source': '..\\\\data\\\\recyclebc.csv', 'row': 41}),\n",
       " Document(page_content='Conclusion: Accepted\\nLocation: Curbside collection, Multi-family collection, Recycle BC depots\\nCategory: Plastic Containers\\nItem: Empty single-use coffee and tea pods; remove lids and do not include lids with recycling', metadata={'source': '..\\\\data\\\\recyclebc.csv', 'row': 42}),\n",
       " Document(page_content='Conclusion: Accepted\\nLocation: Curbside collection, Multi-family collection, Recycle BC depots\\nCategory: Plastic Containers\\nItem: Rigid plastic packaging for toys, toothbrushes, batteries, etc.; remove paper backing and recycle separately', metadata={'source': '..\\\\data\\\\recyclebc.csv', 'row': 43}),\n",
       " Document(page_content='Conclusion: Accepted\\nLocation: Curbside collection, Multi-family collection, Recycle BC depots\\nCategory: Plastic Containers\\nItem: Plastic straws', metadata={'source': '..\\\\data\\\\recyclebc.csv', 'row': 44}),\n",
       " Document(page_content='Conclusion: Accepted\\nLocation: Curbside collection, Multi-family collection, Recycle BC depots\\nCategory: Plastic Containers\\nItem: Plastic stir sticks', metadata={'source': '..\\\\data\\\\recyclebc.csv', 'row': 45}),\n",
       " Document(page_content='Conclusion: Accepted\\nLocation: Curbside collection, Multi-family collection, Recycle BC depots\\nCategory: Plastic Containers\\nItem: Plastic utensils', metadata={'source': '..\\\\data\\\\recyclebc.csv', 'row': 46}),\n",
       " Document(page_content='Conclusion: Accepted\\nLocation: Curbside collection, Multi-family collection, Recycle BC depots\\nCategory: Plastic Containers\\nItem: Plastic plates, cups, and bowls', metadata={'source': '..\\\\data\\\\recyclebc.csv', 'row': 47}),\n",
       " Document(page_content='Conclusion: Accepted\\nLocation: Curbside collection, Multi-family collection, Recycle BC depots\\nCategory: Plastic Containers\\nItem: Non-durable plastic food containers', metadata={'source': '..\\\\data\\\\recyclebc.csv', 'row': 48}),\n",
       " Document(page_content='Conclusion: Accepted\\nLocation: Curbside collection, Multi-family collection, Recycle BC depots\\nCategory: Plastic Containers\\nItem: Rigid plastic gift bags or boxes', metadata={'source': '..\\\\data\\\\recyclebc.csv', 'row': 49}),\n",
       " Document(page_content='Conclusion: Accepted\\nLocation: Curbside collection, Multi-family collection, Recycle BC depots\\nCategory: Plastic Containers\\nItem: Disposable plastic hangers included with clothing', metadata={'source': '..\\\\data\\\\recyclebc.csv', 'row': 50}),\n",
       " Document(page_content='Conclusion: Accepted\\nLocation: Curbside collection, Multi-family collection, Recycle BC depots\\nCategory: Plastic Containers\\nItem: Plastic tape dispensers', metadata={'source': '..\\\\data\\\\recyclebc.csv', 'row': 51}),\n",
       " Document(page_content='Conclusion: Accepted\\nLocation: Curbside collection, Multi-family collection, Recycle BC depots\\nCategory: Plastic Containers\\nItem: Plastic dental floss containers', metadata={'source': '..\\\\data\\\\recyclebc.csv', 'row': 52}),\n",
       " Document(page_content='Conclusion: Not Accepted\\nLocation: \\nCategory: Plastic Containers\\nItem: Containers for motor oil, vehicle lubricant or antifreeze products (call the RCBC Hotline 1-800-667-4321 or check Recyclepedia)', metadata={'source': '..\\\\data\\\\recyclebc.csv', 'row': 53}),\n",
       " Document(page_content='Conclusion: Not Accepted\\nLocation: \\nCategory: Plastic Containers\\nItem: Packaging labelled biodegradable or compostable, or oxo-degradable', metadata={'source': '..\\\\data\\\\recyclebc.csv', 'row': 54}),\n",
       " Document(page_content='Conclusion: Not Accepted\\nLocation: \\nCategory: Plastic Containers\\nItem: Items that are not packaging like', metadata={'source': '..\\\\data\\\\recyclebc.csv', 'row': 55}),\n",
       " Document(page_content='Conclusion: Not Accepted\\nLocation: \\nCategory: Plastic Containers\\nItem: Long-term storage containers such as heavy-duty plastic boxes or totes', metadata={'source': '..\\\\data\\\\recyclebc.csv', 'row': 56}),\n",
       " Document(page_content='Conclusion: Not Accepted\\nLocation: \\nCategory: Plastic Containers\\nItem: Durable hangers: wire, sturdy plastic, metal, wood', metadata={'source': '..\\\\data\\\\recyclebc.csv', 'row': 57}),\n",
       " Document(page_content='Conclusion: Not Accepted\\nLocation: \\nCategory: Plastic Containers\\nItem: Tool boxes or power tool cases', metadata={'source': '..\\\\data\\\\recyclebc.csv', 'row': 58}),\n",
       " Document(page_content='Conclusion: Not Accepted\\nLocation: \\nCategory: Plastic Containers\\nItem: Liquid-absorbing pads, e.g., in trays of meat, poultry, fish, etc.', metadata={'source': '..\\\\data\\\\recyclebc.csv', 'row': 59}),\n",
       " Document(page_content='Conclusion: Not Accepted\\nLocation: \\nCategory: Plastic Containers\\nItem: Plastic wrap', metadata={'source': '..\\\\data\\\\recyclebc.csv', 'row': 60}),\n",
       " Document(page_content='Conclusion: Not Accepted\\nLocation: \\nCategory: Plastic Containers\\nItem: Plastic blister packs e.g. plastic/foil protective packaging for chewing gum and pills', metadata={'source': '..\\\\data\\\\recyclebc.csv', 'row': 61}),\n",
       " Document(page_content='Conclusion: Not Accepted\\nLocation: \\nCategory: Plastic Containers\\nItem: Ceramic plant pots', metadata={'source': '..\\\\data\\\\recyclebc.csv', 'row': 62}),\n",
       " Document(page_content='Conclusion: Not Accepted\\nLocation: \\nCategory: Plastic Containers\\nItem: Lawn edging, tarps, plastic furniture or toys', metadata={'source': '..\\\\data\\\\recyclebc.csv', 'row': 63}),\n",
       " Document(page_content='Conclusion: Not Accepted\\nLocation: \\nCategory: Plastic Containers\\nItem: Garden hoses', metadata={'source': '..\\\\data\\\\recyclebc.csv', 'row': 64}),\n",
       " Document(page_content='Conclusion: Not Accepted\\nLocation: \\nCategory: Plastic Containers\\nItem: Plastic string or rope', metadata={'source': '..\\\\data\\\\recyclebc.csv', 'row': 65}),\n",
       " Document(page_content='Conclusion: Not Accepted\\nLocation: \\nCategory: Plastic Containers\\nItem: Plastic paint cans (call the RCBC Hotline 1-800-667-4321 or check Recyclepedia)', metadata={'source': '..\\\\data\\\\recyclebc.csv', 'row': 66}),\n",
       " Document(page_content='Conclusion: Not Accepted\\nLocation: \\nCategory: Plastic Containers\\nItem: Pails larger than 25L', metadata={'source': '..\\\\data\\\\recyclebc.csv', 'row': 67}),\n",
       " Document(page_content='Conclusion: Not Accepted\\nLocation: \\nCategory: Plastic Containers\\nItem: Pails for lubricants and oils (call the RCBC Hotline 1-800-667-4321 or check Recyclepedia)', metadata={'source': '..\\\\data\\\\recyclebc.csv', 'row': 68}),\n",
       " Document(page_content='Conclusion: Not Accepted\\nLocation: \\nCategory: Plastic Containers\\nItem: Microwavable bowls with metal rims', metadata={'source': '..\\\\data\\\\recyclebc.csv', 'row': 69}),\n",
       " Document(page_content='Conclusion: Not Accepted\\nLocation: \\nCategory: Plastic Containers\\nItem: Plastic or foil lids from coffee and tea pods', metadata={'source': '..\\\\data\\\\recyclebc.csv', 'row': 70}),\n",
       " Document(page_content='Conclusion: Accepted\\nLocation: Curbside collection, Multi-family collection, Recycle BC depots\\nCategory: Cartons and Paper Cups\\nItem: Paper cups for hot and cold beverages', metadata={'source': '..\\\\data\\\\recyclebc.csv', 'row': 71}),\n",
       " Document(page_content='Conclusion: Accepted\\nLocation: Curbside collection, Multi-family collection, Recycle BC depots\\nCategory: Cartons and Paper Cups\\nItem: Cartons and boxes for dairy, cream, substitute eggs, broth, sauces, etc.', metadata={'source': '..\\\\data\\\\recyclebc.csv', 'row': 72}),\n",
       " Document(page_content='Conclusion: Accepted\\nLocation: Curbside collection, Multi-family collection, Recycle BC depots\\nCategory: Cartons and Paper Cups\\nItem: Frozen dessert boxes for ice cream, frozen yogurt, etc.', metadata={'source': '..\\\\data\\\\recyclebc.csv', 'row': 73}),\n",
       " Document(page_content='Conclusion: Accepted\\nLocation: \\nCategory: Cartons and Paper Cups\\nItem: Coated paper plates and bowls', metadata={'source': '..\\\\data\\\\recyclebc.csv', 'row': 74}),\n",
       " Document(page_content='Conclusion: Not Accepted\\nLocation: \\nCategory: Cartons and Paper Cups\\nItem: Paper straws or stir sticks', metadata={'source': '..\\\\data\\\\recyclebc.csv', 'row': 75}),\n",
       " Document(page_content='Conclusion: Not Accepted\\nLocation: \\nCategory: Cartons and Paper Cups\\nItem: Cartons and boxes with a deposit can be returned to depot in BC’s deposit program for a refund or included in container recycling', metadata={'source': '..\\\\data\\\\recyclebc.csv', 'row': 76}),\n",
       " Document(page_content='Conclusion: Accepted\\nLocation: Curbside collection, Multi-family collection, Recycle BC depots\\nCategory: Aluminum Containers\\nItem: Aluminum cans and lids used for food', metadata={'source': '..\\\\data\\\\recyclebc.csv', 'row': 77}),\n",
       " Document(page_content='Conclusion: Accepted\\nLocation: Curbside collection, Multi-family collection, Recycle BC depots\\nCategory: Aluminum Containers\\nItem: Aluminum foil', metadata={'source': '..\\\\data\\\\recyclebc.csv', 'row': 78}),\n",
       " Document(page_content='Conclusion: Accepted\\nLocation: Curbside collection, Multi-family collection, Recycle BC depots\\nCategory: Aluminum Containers\\nItem: Aluminum foil pie plates and baking trays', metadata={'source': '..\\\\data\\\\recyclebc.csv', 'row': 79}),\n",
       " Document(page_content='Conclusion: Accepted\\nLocation: Curbside collection, Multi-family collection, Recycle BC depots\\nCategory: Aluminum Containers\\nItem: Aluminum take-out containers', metadata={'source': '..\\\\data\\\\recyclebc.csv', 'row': 80}),\n",
       " Document(page_content='Conclusion: Accepted\\nLocation: Curbside collection, Multi-family collection, Recycle BC depots\\nCategory: Aluminum Containers\\nItem: Empty aluminum spray containers', metadata={'source': '..\\\\data\\\\recyclebc.csv', 'row': 81}),\n",
       " Document(page_content='Conclusion: Not Accepted\\nLocation: \\nCategory: Aluminum Containers\\nItem: Spray paint cans (call the RCBC Hotline 1-800-667-4321 or check Recyclepedia)', metadata={'source': '..\\\\data\\\\recyclebc.csv', 'row': 82}),\n",
       " Document(page_content='Conclusion: Not Accepted\\nLocation: \\nCategory: Aluminum Containers\\nItem: Propane cylinders (call the RCBC Hotline 1-800-667-4321 or check Recyclepedia)', metadata={'source': '..\\\\data\\\\recyclebc.csv', 'row': 83}),\n",
       " Document(page_content='Conclusion: Not Accepted\\nLocation: \\nCategory: Aluminum Containers\\nItem: Aerosol cans with any contents remaining', metadata={'source': '..\\\\data\\\\recyclebc.csv', 'row': 84}),\n",
       " Document(page_content='Conclusion: Not Accepted\\nLocation: \\nCategory: Aluminum Containers\\nItem: Foil-lined cardboard take-out containers and lids', metadata={'source': '..\\\\data\\\\recyclebc.csv', 'row': 85}),\n",
       " Document(page_content='Conclusion: Not Accepted\\nLocation: \\nCategory: Aluminum Containers\\nItem: Aluminum beverage containers can be returned to depot for deposit refund or included in container recycling', metadata={'source': '..\\\\data\\\\recyclebc.csv', 'row': 86}),\n",
       " Document(page_content='Conclusion: Not Accepted\\nLocation: \\nCategory: Aluminum Containers\\nItem: Electronics and appliances', metadata={'source': '..\\\\data\\\\recyclebc.csv', 'row': 87}),\n",
       " Document(page_content='Conclusion: Not Accepted\\nLocation: \\nCategory: Aluminum Containers\\nItem: Pots, pans, and other scrap metal', metadata={'source': '..\\\\data\\\\recyclebc.csv', 'row': 88}),\n",
       " Document(page_content='Conclusion: Not Accepted\\nLocation: \\nCategory: Aluminum Containers\\nItem: Durable storage containers (e.g., metal food storage containers)', metadata={'source': '..\\\\data\\\\recyclebc.csv', 'row': 89}),\n",
       " Document(page_content='Conclusion: Accepted\\nLocation: Curbside collection, Multi-family collection, Recycle BC depots\\nCategory: Steel Containers\\nItem: Cans and lids for food, pet food, etc.', metadata={'source': '..\\\\data\\\\recyclebc.csv', 'row': 90}),\n",
       " Document(page_content='Conclusion: Accepted\\nLocation: Curbside collection, Multi-family collection, Recycle BC depots\\nCategory: Steel Containers\\nItem: Metal spray containers', metadata={'source': '..\\\\data\\\\recyclebc.csv', 'row': 91}),\n",
       " Document(page_content='Conclusion: Accepted\\nLocation: Curbside collection, Multi-family collection, Recycle BC depots\\nCategory: Steel Containers\\nItem: Thing-gauge metal tins (e.g. cookie tins)', metadata={'source': '..\\\\data\\\\recyclebc.csv', 'row': 92}),\n",
       " Document(page_content='Conclusion: Not Accepted\\nLocation: \\nCategory: Steel Containers\\nItem: Steel paint cans', metadata={'source': '..\\\\data\\\\recyclebc.csv', 'row': 93}),\n",
       " Document(page_content='Conclusion: Not Accepted\\nLocation: \\nCategory: Steel Containers\\nItem: Durable hangers: wire, sturdy plastic, metal, wood', metadata={'source': '..\\\\data\\\\recyclebc.csv', 'row': 94}),\n",
       " Document(page_content='Conclusion: Not Accepted\\nLocation: \\nCategory: Steel Containers\\nItem: Pots, pans and other scrap metal', metadata={'source': '..\\\\data\\\\recyclebc.csv', 'row': 95}),\n",
       " Document(page_content='Conclusion: Not Accepted\\nLocation: \\nCategory: Steel Containers\\nItem: Propane cylinders', metadata={'source': '..\\\\data\\\\recyclebc.csv', 'row': 96}),\n",
       " Document(page_content='Conclusion: Not Accepted\\nLocation: \\nCategory: Steel Containers\\nItem: Metal toys', metadata={'source': '..\\\\data\\\\recyclebc.csv', 'row': 97}),\n",
       " Document(page_content='Conclusion: Not Accepted\\nLocation: \\nCategory: Steel Containers\\nItem: Appliances and electronics', metadata={'source': '..\\\\data\\\\recyclebc.csv', 'row': 98}),\n",
       " Document(page_content='Conclusion: Not Accepted\\nLocation: \\nCategory: Steel Containers\\nItem: Long term, heavy-duty metal storage', metadata={'source': '..\\\\data\\\\recyclebc.csv', 'row': 99}),\n",
       " Document(page_content='Conclusion: Not Accepted\\nLocation: \\nCategory: Steel Containers\\nItem: Metal hardware or other scrap metal', metadata={'source': '..\\\\data\\\\recyclebc.csv', 'row': 100}),\n",
       " Document(page_content='Conclusion: Not Accepted\\nLocation: \\nCategory: Steel Containers\\nItem: Wiring or metal cords, extension cords', metadata={'source': '..\\\\data\\\\recyclebc.csv', 'row': 101}),\n",
       " Document(page_content='Conclusion: Not Accepted\\nLocation: \\nCategory: Steel Containers\\nItem: Steel beverage cans can be returned for deposit refund or included in container recycling', metadata={'source': '..\\\\data\\\\recyclebc.csv', 'row': 102}),\n",
       " Document(page_content='Conclusion: Accepted\\nLocation: Separately in curbside collection — confirm with your recycling collector\\nSeparately in multi-family collection — confirm with your recycling collector\\nRecycle BC depots\\nCategory: Glass Bottles and Jars\\nItem: Clear or coloured non-deposit glass bottles and jars. Check with your recycling collector for instructions.', metadata={'source': '..\\\\data\\\\recyclebc.csv', 'row': 103}),\n",
       " Document(page_content='Conclusion: Not Accepted\\nLocation: \\nCategory: Glass Bottles and Jars\\nItem: Drinking glasses or dishes, cookware', metadata={'source': '..\\\\data\\\\recyclebc.csv', 'row': 104}),\n",
       " Document(page_content='Conclusion: Not Accepted\\nLocation: \\nCategory: Glass Bottles and Jars\\nItem: Whole or broken window glass or mirrors', metadata={'source': '..\\\\data\\\\recyclebc.csv', 'row': 105}),\n",
       " Document(page_content='Conclusion: Not Accepted\\nLocation: \\nCategory: Glass Bottles and Jars\\nItem: Ceramic products', metadata={'source': '..\\\\data\\\\recyclebc.csv', 'row': 106}),\n",
       " Document(page_content='Conclusion: Not Accepted\\nLocation: \\nCategory: Glass Bottles and Jars\\nItem: Dishes and cookware', metadata={'source': '..\\\\data\\\\recyclebc.csv', 'row': 107}),\n",
       " Document(page_content='Conclusion: Not Accepted\\nLocation: \\nCategory: Glass Bottles and Jars\\nItem: Light bulbs and light fixtures', metadata={'source': '..\\\\data\\\\recyclebc.csv', 'row': 108}),\n",
       " Document(page_content='Conclusion: Not Accepted\\nLocation: \\nCategory: Glass Bottles and Jars\\nItem: Deposit glass can be returned to depot for deposit refund or included in segregated glass recycling', metadata={'source': '..\\\\data\\\\recyclebc.csv', 'row': 109}),\n",
       " Document(page_content='Conclusion: Accepted\\nLocation: Recycle BC depots\\nCategory: Flexible Plastics\\nItem: Plastic shopping bags', metadata={'source': '..\\\\data\\\\recyclebc.csv', 'row': 110}),\n",
       " Document(page_content='Conclusion: Accepted\\nLocation: Recycle BC depots\\nCategory: Flexible Plastics\\nItem: Plastic bags for bread, produce, dry cleaning, newspapers/flyers', metadata={'source': '..\\\\data\\\\recyclebc.csv', 'row': 111}),\n",
       " Document(page_content='Conclusion: Accepted\\nLocation: Recycle BC depots\\nCategory: Flexible Plastics\\nItem: Bags for water softener, salt, garden products, etc.', metadata={'source': '..\\\\data\\\\recyclebc.csv', 'row': 112}),\n",
       " Document(page_content='Conclusion: Accepted\\nLocation: Recycle BC depots\\nCategory: Flexible Plastics\\nItem: Plastic overwrap on diapers, paper towel, feminine hygiene products, flats of canned beverages', metadata={'source': '..\\\\data\\\\recyclebc.csv', 'row': 113}),\n",
       " Document(page_content='Conclusion: Accepted\\nLocation: Recycle BC depots\\nCategory: Flexible Plastics\\nItem: Plastic overwrap on mattresses and electronics', metadata={'source': '..\\\\data\\\\recyclebc.csv', 'row': 114}),\n",
       " Document(page_content='Conclusion: Accepted\\nLocation: Recycle BC depots\\nCategory: Flexible Plastics\\nItem: Plastic food storage, sandwich, freezer, and vacuum seal bags', metadata={'source': '..\\\\data\\\\recyclebc.csv', 'row': 115}),\n",
       " Document(page_content='Conclusion: Accepted\\nLocation: Recycle BC depots\\nCategory: Flexible Plastics\\nItem: Plastic shrink wrap', metadata={'source': '..\\\\data\\\\recyclebc.csv', 'row': 116}),\n",
       " Document(page_content='Conclusion: Accepted\\nLocation: Recycle BC depots\\nCategory: Flexible Plastics\\nItem: Flexible plastic gift bags and boxes', metadata={'source': '..\\\\data\\\\recyclebc.csv', 'row': 117}),\n",
       " Document(page_content='Conclusion: Accepted\\nLocation: Recycle BC depots\\nCategory: Flexible Plastics\\nItem: Transparent single-use recycling bags', metadata={'source': '..\\\\data\\\\recyclebc.csv', 'row': 118}),\n",
       " Document(page_content='Conclusion: Accepted\\nLocation: Recycle BC depots\\nCategory: Flexible Plastics\\nItem: Reusable plastic curbside recycling bags (e.g. yellow bags for Paper)', metadata={'source': '..\\\\data\\\\recyclebc.csv', 'row': 119}),\n",
       " Document(page_content='Conclusion: Accepted\\nLocation: Recycle BC depots\\nCategory: Flexible Plastics\\nItem: Reusable plastic-only carry-out bags (provided with purchase or purchased)', metadata={'source': '..\\\\data\\\\recyclebc.csv', 'row': 120}),\n",
       " Document(page_content='Conclusion: Accepted\\nLocation: Recycle BC depots\\nCategory: Flexible Plastics\\nItem: Plastic drop sheet or covering', metadata={'source': '..\\\\data\\\\recyclebc.csv', 'row': 121}),\n",
       " Document(page_content='Conclusion: Accepted\\nLocation: Recycle BC depots\\nCategory: Flexible Plastics\\nItem: Squishy cushion packaging (polyethylene foam)', metadata={'source': '..\\\\data\\\\recyclebc.csv', 'row': 122}),\n",
       " Document(page_content='Conclusion: Accepted\\nLocation: Recycle BC depots\\nCategory: Flexible Plastics\\nItem: Plastic bubble wrap', metadata={'source': '..\\\\data\\\\recyclebc.csv', 'row': 123}),\n",
       " Document(page_content='Conclusion: Accepted\\nLocation: Recycle BC depots\\nCategory: Flexible Plastics\\nItem: Zipper lock pouches for frozen foods (e.g. berries, vegetables, prawns)', metadata={'source': '..\\\\data\\\\recyclebc.csv', 'row': 124}),\n",
       " Document(page_content='Conclusion: Accepted\\nLocation: Recycle BC depots\\nCategory: Flexible Plastics\\nItem: Zipper lock and tear-open pouches for cannabis product', metadata={'source': '..\\\\data\\\\recyclebc.csv', 'row': 125}),\n",
       " Document(page_content='Conclusion: Accepted\\nLocation: Recycle BC depots\\nCategory: Flexible Plastics\\nItem: Stand-up pouches for dried fruit and nuts, quinoa, grated cheese, etc.', metadata={'source': '..\\\\data\\\\recyclebc.csv', 'row': 126}),\n",
       " Document(page_content='Conclusion: Accepted\\nLocation: Recycle BC depots\\nCategory: Flexible Plastics\\nItem: Potato chip bags', metadata={'source': '..\\\\data\\\\recyclebc.csv', 'row': 127}),\n",
       " Document(page_content='Conclusion: Accepted\\nLocation: Recycle BC depots\\nCategory: Flexible Plastics\\nItem: Crinkly plastic bags for candy, cereal', metadata={'source': '..\\\\data\\\\recyclebc.csv', 'row': 128}),\n",
       " Document(page_content='Conclusion: Accepted\\nLocation: Recycle BC depots\\nCategory: Flexible Plastics\\nItem: Plastic wrappers for candy, cheese slices, granola bars, etc.', metadata={'source': '..\\\\data\\\\recyclebc.csv', 'row': 129}),\n",
       " Document(page_content='Conclusion: Accepted\\nLocation: Recycle BC depots\\nCategory: Flexible Plastics\\nItem: Crinkly plastic packaging for dry pasta, pre-packaged deli meats, etc.', metadata={'source': '..\\\\data\\\\recyclebc.csv', 'row': 130}),\n",
       " Document(page_content='Conclusion: Accepted\\nLocation: Recycle BC depots\\nCategory: Flexible Plastics\\nItem: Flexible plastic packaging with plastic seal (e.g. deli and cheese packaging)', metadata={'source': '..\\\\data\\\\recyclebc.csv', 'row': 131}),\n",
       " Document(page_content='Conclusion: Accepted\\nLocation: Recycle BC depots\\nCategory: Flexible Plastics\\nItem: Plastic net bags for fruit, onions, avocados, etc.', metadata={'source': '..\\\\data\\\\recyclebc.csv', 'row': 132}),\n",
       " Document(page_content='Conclusion: Accepted\\nLocation: Recycle BC depots\\nCategory: Flexible Plastics\\nItem: Woven plastic bags for rice', metadata={'source': '..\\\\data\\\\recyclebc.csv', 'row': 133}),\n",
       " Document(page_content='Conclusion: Accepted\\nLocation: Recycle BC depots\\nCategory: Flexible Plastics\\nItem: Non-food protective packaging (e.g. all-plastic shipping envelopes, air packets, etc.)', metadata={'source': '..\\\\data\\\\recyclebc.csv', 'row': 134}),\n",
       " Document(page_content='Conclusion: Not Accepted\\nLocation: \\nCategory: Flexible Plastics\\nItem: Items that are not packaging like', metadata={'source': '..\\\\data\\\\recyclebc.csv', 'row': 135}),\n",
       " Document(page_content='Conclusion: Not Accepted\\nLocation: \\nCategory: Flexible Plastics\\nItem: Long term heavy-duty storage containers like plastic totes', metadata={'source': '..\\\\data\\\\recyclebc.csv', 'row': 136}),\n",
       " Document(page_content='Conclusion: Not Accepted\\nLocation: \\nCategory: Flexible Plastics\\nItem: Plastic bags with cloth, rope, or ribbon handles', metadata={'source': '..\\\\data\\\\recyclebc.csv', 'row': 137}),\n",
       " Document(page_content='Conclusion: Not Accepted\\nLocation: \\nCategory: Flexible Plastics\\nItem: Carry-out bags with PVC/vinyl', metadata={'source': '..\\\\data\\\\recyclebc.csv', 'row': 138}),\n",
       " Document(page_content='Conclusion: Not Accepted\\nLocation: \\nCategory: Flexible Plastics\\nItem: Packaging labelled biodegradable, compostable, or oxo-degradable', metadata={'source': '..\\\\data\\\\recyclebc.csv', 'row': 139}),\n",
       " Document(page_content='Conclusion: Not Accepted\\nLocation: \\nCategory: Flexible Plastics\\nItem: Lumber or construction wrap', metadata={'source': '..\\\\data\\\\recyclebc.csv', 'row': 140}),\n",
       " Document(page_content='Conclusion: Not Accepted\\nLocation: \\nCategory: Flexible Plastics\\nItem: Items designed for disposal (e.g., garbage bags, compost/leaf bags)', metadata={'source': '..\\\\data\\\\recyclebc.csv', 'row': 141}),\n",
       " Document(page_content='Conclusion: Not Accepted\\nLocation: \\nCategory: Flexible Plastics\\nItem: Flexible 6-pack rings', metadata={'source': '..\\\\data\\\\recyclebc.csv', 'row': 142}),\n",
       " Document(page_content='Conclusion: Not Accepted\\nLocation: \\nCategory: Flexible Plastics\\nItem: Plastic squeeze tubes', metadata={'source': '..\\\\data\\\\recyclebc.csv', 'row': 143}),\n",
       " Document(page_content='Conclusion: Not Accepted\\nLocation: \\nCategory: Flexible Plastics\\nItem: Plastic-lined paper', metadata={'source': '..\\\\data\\\\recyclebc.csv', 'row': 144}),\n",
       " Document(page_content='Conclusion: Not Accepted\\nLocation: \\nCategory: Flexible Plastics\\nItem: Crinkly cellophane wrap for tea, floral arrangements, etc.', metadata={'source': '..\\\\data\\\\recyclebc.csv', 'row': 145}),\n",
       " Document(page_content='Conclusion: Accepted\\nLocation: Recycle BC depots\\nCategory: Foam Packaging\\nItem: Plastic foam containers and trays used for meat and produce', metadata={'source': '..\\\\data\\\\recyclebc.csv', 'row': 146}),\n",
       " Document(page_content='Conclusion: Accepted\\nLocation: Recycle BC depots\\nCategory: Foam Packaging\\nItem: Foam egg cartons', metadata={'source': '..\\\\data\\\\recyclebc.csv', 'row': 147}),\n",
       " Document(page_content='Conclusion: Accepted\\nLocation: Recycle BC depots\\nCategory: Foam Packaging\\nItem: Foam clamshells, cups and bowls for take-out food', metadata={'source': '..\\\\data\\\\recyclebc.csv', 'row': 148}),\n",
       " Document(page_content='Conclusion: Accepted\\nLocation: Recycle BC depots\\nCategory: Foam Packaging\\nItem: Firm foam cushion packaging to protect electronics, small appliances, etc.', metadata={'source': '..\\\\data\\\\recyclebc.csv', 'row': 149}),\n",
       " Document(page_content='Conclusion: Not Accepted\\nLocation: \\nCategory: Foam Packaging\\nItem: Liquid-absorbing pads used in trays for meat, poultry, fish, etc.', metadata={'source': '..\\\\data\\\\recyclebc.csv', 'row': 150}),\n",
       " Document(page_content='Conclusion: Not Accepted\\nLocation: \\nCategory: Foam Packaging\\nItem: Labels, tape, paper and cardboard on foam packaging', metadata={'source': '..\\\\data\\\\recyclebc.csv', 'row': 151}),\n",
       " Document(page_content='Conclusion: Not Accepted\\nLocation: \\nCategory: Foam Packaging\\nItem: Foam peanuts and packing chips', metadata={'source': '..\\\\data\\\\recyclebc.csv', 'row': 152}),\n",
       " Document(page_content='Conclusion: Not Accepted\\nLocation: \\nCategory: Foam Packaging\\nItem: Blue or pink foam board insulation', metadata={'source': '..\\\\data\\\\recyclebc.csv', 'row': 153}),\n",
       " Document(page_content='Conclusion: Not Accepted\\nLocation: \\nCategory: Foam Packaging\\nItem: Napkins, cutlery', metadata={'source': '..\\\\data\\\\recyclebc.csv', 'row': 154}),\n",
       " Document(page_content='Conclusion: Not Accepted\\nLocation: \\nCategory: Foam Packaging\\nItem: Protective and squishy cushion packaging', metadata={'source': '..\\\\data\\\\recyclebc.csv', 'row': 155}),\n",
       " Document(page_content='Conclusion: Not Accepted\\nLocation: \\nCategory: Foam Packaging\\nItem: Foam noodles', metadata={'source': '..\\\\data\\\\recyclebc.csv', 'row': 156}),\n",
       " Document(page_content='Conclusion: Not Accepted\\nLocation: \\nCategory: Foam Packaging\\nItem: Furniture cushions', metadata={'source': '..\\\\data\\\\recyclebc.csv', 'row': 157})]"
      ]
     },
     "execution_count": 60,
     "metadata": {},
     "output_type": "execute_result"
    }
   ],
   "source": [
    "\n",
    "def create_documents(directory='../data/', glob='**/[!.]*', show_progress=True, loader_cls=CSVLoader):\n",
    "    loader = DirectoryLoader(\n",
    "        directory, glob=glob, show_progress=show_progress,\n",
    "        loader_cls=loader_cls)\n",
    "\n",
    "    documents = loader.load()\n",
    "    print(f'Number of files: {len(documents)}')\n",
    "    return documents\n",
    "\n",
    "doc_id = 1\n",
    "doc_dict[doc_id] = create_documents(glob='**/*.csv')\n",
    "doc_dict[doc_id]"
   ]
  },
  {
   "cell_type": "code",
   "execution_count": 61,
   "metadata": {},
   "outputs": [
    {
     "data": {
      "text/plain": [
       "{'CoV': VectorStoreRetriever(tags=['FAISS'], metadata=None, vectorstore=<langchain.vectorstores.faiss.FAISS object at 0x00000226CA1DC5D0>, search_type='similarity', search_kwargs={}),\n",
       " 'recycle': VectorStoreRetriever(tags=['FAISS'], metadata=None, vectorstore=<langchain.vectorstores.faiss.FAISS object at 0x00000226FB2BB5D0>, search_type='similarity', search_kwargs={})}"
      ]
     },
     "execution_count": 61,
     "metadata": {},
     "output_type": "execute_result"
    }
   ],
   "source": [
    "retriever_dict = create_retriever(doc_dict[1], 'recycle')\n",
    "retriever_dict"
   ]
  },
  {
   "cell_type": "markdown",
   "metadata": {},
   "source": [
    "### Create tools"
   ]
  },
  {
   "cell_type": "code",
   "execution_count": 63,
   "metadata": {},
   "outputs": [
    {
     "data": {
      "text/plain": [
       "[Tool(name='search_CoV', description='Searches and returns documents regarding waste and recycling in the City of Vancouver.', args_schema=None, return_direct=False, verbose=False, callbacks=None, callback_manager=None, tags=None, metadata=None, handle_tool_error=False, func=<bound method BaseRetriever.get_relevant_documents of VectorStoreRetriever(tags=['FAISS'], metadata=None, vectorstore=<langchain.vectorstores.faiss.FAISS object at 0x00000226CA1DC5D0>, search_type='similarity', search_kwargs={})>, coroutine=<bound method BaseRetriever.aget_relevant_documents of VectorStoreRetriever(tags=['FAISS'], metadata=None, vectorstore=<langchain.vectorstores.faiss.FAISS object at 0x00000226CA1DC5D0>, search_type='similarity', search_kwargs={})>),\n",
       " Tool(name='search_recycle', description='\\nFrom the Recycle BC website, this document indicates whether or not an item is accepted for recycling and where to recycle it.\\n', args_schema=None, return_direct=False, verbose=False, callbacks=None, callback_manager=None, tags=None, metadata=None, handle_tool_error=False, func=<bound method BaseRetriever.get_relevant_documents of VectorStoreRetriever(tags=['FAISS'], metadata=None, vectorstore=<langchain.vectorstores.faiss.FAISS object at 0x00000226FB2BB5D0>, search_type='similarity', search_kwargs={})>, coroutine=<bound method BaseRetriever.aget_relevant_documents of VectorStoreRetriever(tags=['FAISS'], metadata=None, vectorstore=<langchain.vectorstores.faiss.FAISS object at 0x00000226FB2BB5D0>, search_type='similarity', search_kwargs={})>)]"
      ]
     },
     "execution_count": 63,
     "metadata": {},
     "output_type": "execute_result"
    }
   ],
   "source": [
    "description_dict['recycle'] = \"\"\"\n",
    "From the Recycle BC website, this document indicates whether or not an item is accepted for recycling and where to recycle it.\n",
    "\"\"\"\n",
    "tools_list_dict[2] = create_tools_list(retriever_dict, description_dict)\n",
    "tools_list_dict[2]"
   ]
  },
  {
   "cell_type": "code",
   "execution_count": 64,
   "metadata": {},
   "outputs": [],
   "source": [
    "conversation_id = 2\n",
    "input_id = 1\n",
    "\n",
    "query = \"Where do I recycle coffee cups in Vancouver?\"\n",
    "conversation_dict[conversation_id] = create_chatbot()\n",
    "answer_dict[input_id] = chat_with_chatbot(query, conversation_dict[conversation_id])"
   ]
  },
  {
   "cell_type": "code",
   "execution_count": 65,
   "metadata": {},
   "outputs": [
    {
     "data": {
      "text/plain": [
       "{'question': 'Where do I recycle coffee cups in Vancouver?',\n",
       " 'chat_history': [HumanMessage(content='Where do I recycle coffee cups in Vancouver?', additional_kwargs={}, example=False),\n",
       "  AIMessage(content='For single-family homes and duplexes in Vancouver, you can recycle coffee cups in your blue bin provided by GFL Environmental. You can contact GFL Environmental at 604-282-7966 or email srrecycle@gflenv.com for any questions or issues regarding your recycling service, including coffee cup recycling.\\n\\nFor apartments, condos, and townhomes, waste collection services are not provided by the City of Vancouver. Waste Management Canada collects recycling on behalf of Recycle BC for these types of buildings. You can contact Waste Management Canada at 604-282-7961 for questions and issues about your recycling service, including coffee cup recycling.', additional_kwargs={}, example=False)],\n",
       " 'answer': 'For single-family homes and duplexes in Vancouver, you can recycle coffee cups in your blue bin provided by GFL Environmental. You can contact GFL Environmental at 604-282-7966 or email srrecycle@gflenv.com for any questions or issues regarding your recycling service, including coffee cup recycling.\\n\\nFor apartments, condos, and townhomes, waste collection services are not provided by the City of Vancouver. Waste Management Canada collects recycling on behalf of Recycle BC for these types of buildings. You can contact Waste Management Canada at 604-282-7961 for questions and issues about your recycling service, including coffee cup recycling.'}"
      ]
     },
     "execution_count": 65,
     "metadata": {},
     "output_type": "execute_result"
    }
   ],
   "source": [
    "answer_dict[input_id]"
   ]
  },
  {
   "cell_type": "markdown",
   "metadata": {},
   "source": [
    "#### Update tool descriptions"
   ]
  },
  {
   "cell_type": "code",
   "execution_count": 66,
   "metadata": {},
   "outputs": [],
   "source": [
    "description_dict['recycle'] = \"\"\"\n",
    "From the Recycle BC website, this document provides the most specific information \n",
    "about whether or not an item is accepted for recycling and where to recycle it.\n",
    "This should be the main resource for recycling information for residents of British Columbia.\n",
    "\"\"\"\n",
    "tools_list_dict[2.1] = create_tools_list(retriever_dict, description_dict)\n",
    "conversation_id = 2\n",
    "input_id = 1\n",
    "\n",
    "query = \"Where do I recycle coffee cups in Vancouver?\"\n",
    "conversation_dict[conversation_id] = create_chatbot(vector_store=vector_dict['recycle'])\n",
    "answer_dict[input_id] = chat_with_chatbot(query, conversation_dict[conversation_id])"
   ]
  },
  {
   "cell_type": "code",
   "execution_count": 67,
   "metadata": {},
   "outputs": [
    {
     "data": {
      "text/plain": [
       "{'question': 'Where do I recycle coffee cups in Vancouver?',\n",
       " 'chat_history': [HumanMessage(content='Where do I recycle coffee cups in Vancouver?', additional_kwargs={}, example=False),\n",
       "  AIMessage(content='You can recycle coffee cups in Vancouver through curbside collection, multi-family collection, and at Recycle BC depots. Coffee cups fall under the category of \"Cartons and Paper Cups\" and are accepted for recycling.', additional_kwargs={}, example=False)],\n",
       " 'answer': 'You can recycle coffee cups in Vancouver through curbside collection, multi-family collection, and at Recycle BC depots. Coffee cups fall under the category of \"Cartons and Paper Cups\" and are accepted for recycling.'}"
      ]
     },
     "execution_count": 67,
     "metadata": {},
     "output_type": "execute_result"
    }
   ],
   "source": [
    "answer_dict[input_id]"
   ]
  },
  {
   "cell_type": "markdown",
   "metadata": {},
   "source": [
    "# Iteration 3 allow for dynamic retrieval"
   ]
  },
  {
   "cell_type": "code",
   "execution_count": 73,
   "metadata": {},
   "outputs": [
    {
     "ename": "ValidationError",
     "evalue": "3 validation errors for ChatPromptTemplate\nmessages -> 2\n  value is not a valid dict (type=type_error.dict)\nmessages -> 2\n  value is not a valid dict (type=type_error.dict)\nmessages -> 2\n  value is not a valid dict (type=type_error.dict)",
     "output_type": "error",
     "traceback": [
      "\u001b[1;31m---------------------------------------------------------------------------\u001b[0m",
      "\u001b[1;31mValidationError\u001b[0m                           Traceback (most recent call last)",
      "\u001b[1;32mc:\\Users\\silvh\\OneDrive\\lighthouse\\portfolio-projects\\datajam-chatbot\\chatbot_tuning\\notebooks\\2023-09-23 refine langchain code.ipynb Cell 42\u001b[0m line \u001b[0;36m5\n\u001b[0;32m     <a href='vscode-notebook-cell:/c%3A/Users/silvh/OneDrive/lighthouse/portfolio-projects/datajam-chatbot/chatbot_tuning/notebooks/2023-09-23%20refine%20langchain%20code.ipynb#Y116sZmlsZQ%3D%3D?line=50'>51</a>\u001b[0m input_id \u001b[39m=\u001b[39m \u001b[39m1\u001b[39m\n\u001b[0;32m     <a href='vscode-notebook-cell:/c%3A/Users/silvh/OneDrive/lighthouse/portfolio-projects/datajam-chatbot/chatbot_tuning/notebooks/2023-09-23%20refine%20langchain%20code.ipynb#Y116sZmlsZQ%3D%3D?line=52'>53</a>\u001b[0m query \u001b[39m=\u001b[39m \u001b[39m\"\u001b[39m\u001b[39mWhere do I recycle coffee cups in Vancouver?\u001b[39m\u001b[39m\"\u001b[39m\n\u001b[1;32m---> <a href='vscode-notebook-cell:/c%3A/Users/silvh/OneDrive/lighthouse/portfolio-projects/datajam-chatbot/chatbot_tuning/notebooks/2023-09-23%20refine%20langchain%20code.ipynb#Y116sZmlsZQ%3D%3D?line=53'>54</a>\u001b[0m conversation_dict[conversation_id] \u001b[39m=\u001b[39m create_chatbot()\n\u001b[0;32m     <a href='vscode-notebook-cell:/c%3A/Users/silvh/OneDrive/lighthouse/portfolio-projects/datajam-chatbot/chatbot_tuning/notebooks/2023-09-23%20refine%20langchain%20code.ipynb#Y116sZmlsZQ%3D%3D?line=54'>55</a>\u001b[0m answer_dict[conversation_id][input_id] \u001b[39m=\u001b[39m chat_with_chatbot(query, conversation_dict[conversation_id])\n\u001b[0;32m     <a href='vscode-notebook-cell:/c%3A/Users/silvh/OneDrive/lighthouse/portfolio-projects/datajam-chatbot/chatbot_tuning/notebooks/2023-09-23%20refine%20langchain%20code.ipynb#Y116sZmlsZQ%3D%3D?line=55'>56</a>\u001b[0m answer_dict[conversation_id][input_id]\n",
      "\u001b[1;32mc:\\Users\\silvh\\OneDrive\\lighthouse\\portfolio-projects\\datajam-chatbot\\chatbot_tuning\\notebooks\\2023-09-23 refine langchain code.ipynb Cell 42\u001b[0m line \u001b[0;36m2\n\u001b[0;32m     <a href='vscode-notebook-cell:/c%3A/Users/silvh/OneDrive/lighthouse/portfolio-projects/datajam-chatbot/chatbot_tuning/notebooks/2023-09-23%20refine%20langchain%20code.ipynb#Y116sZmlsZQ%3D%3D?line=15'>16</a>\u001b[0m system_message \u001b[39m=\u001b[39m SystemMessage(\n\u001b[0;32m     <a href='vscode-notebook-cell:/c%3A/Users/silvh/OneDrive/lighthouse/portfolio-projects/datajam-chatbot/chatbot_tuning/notebooks/2023-09-23%20refine%20langchain%20code.ipynb#Y116sZmlsZQ%3D%3D?line=16'>17</a>\u001b[0m     content\u001b[39m=\u001b[39m(\u001b[39m\"\"\"\u001b[39m\n\u001b[0;32m     <a href='vscode-notebook-cell:/c%3A/Users/silvh/OneDrive/lighthouse/portfolio-projects/datajam-chatbot/chatbot_tuning/notebooks/2023-09-23%20refine%20langchain%20code.ipynb#Y116sZmlsZQ%3D%3D?line=17'>18</a>\u001b[0m \u001b[39m        You are a helpful assistant who provides concise answers to residents in Metro Vancouver, Canada.\u001b[39m\n\u001b[1;32m   (...)\u001b[0m\n\u001b[0;32m     <a href='vscode-notebook-cell:/c%3A/Users/silvh/OneDrive/lighthouse/portfolio-projects/datajam-chatbot/chatbot_tuning/notebooks/2023-09-23%20refine%20langchain%20code.ipynb#Y116sZmlsZQ%3D%3D?line=22'>23</a>\u001b[0m     )\n\u001b[0;32m     <a href='vscode-notebook-cell:/c%3A/Users/silvh/OneDrive/lighthouse/portfolio-projects/datajam-chatbot/chatbot_tuning/notebooks/2023-09-23%20refine%20langchain%20code.ipynb#Y116sZmlsZQ%3D%3D?line=23'>24</a>\u001b[0m )\n\u001b[0;32m     <a href='vscode-notebook-cell:/c%3A/Users/silvh/OneDrive/lighthouse/portfolio-projects/datajam-chatbot/chatbot_tuning/notebooks/2023-09-23%20refine%20langchain%20code.ipynb#Y116sZmlsZQ%3D%3D?line=24'>25</a>\u001b[0m instructions \u001b[39m=\u001b[39m \u001b[39m\"\"\"\u001b[39m\n\u001b[0;32m     <a href='vscode-notebook-cell:/c%3A/Users/silvh/OneDrive/lighthouse/portfolio-projects/datajam-chatbot/chatbot_tuning/notebooks/2023-09-23%20refine%20langchain%20code.ipynb#Y116sZmlsZQ%3D%3D?line=25'>26</a>\u001b[0m \u001b[39mRespond to the resident\u001b[39m\u001b[39m'\u001b[39m\u001b[39ms query, which are delimited by triple backticks: ```\u001b[39m\u001b[39m{question}\u001b[39;00m\u001b[39m```\u001b[39m\n\u001b[0;32m     <a href='vscode-notebook-cell:/c%3A/Users/silvh/OneDrive/lighthouse/portfolio-projects/datajam-chatbot/chatbot_tuning/notebooks/2023-09-23%20refine%20langchain%20code.ipynb#Y116sZmlsZQ%3D%3D?line=26'>27</a>\u001b[0m \u001b[39m\u001b[39m\u001b[39m\"\"\"\u001b[39m\n\u001b[1;32m---> <a href='vscode-notebook-cell:/c%3A/Users/silvh/OneDrive/lighthouse/portfolio-projects/datajam-chatbot/chatbot_tuning/notebooks/2023-09-23%20refine%20langchain%20code.ipynb#Y116sZmlsZQ%3D%3D?line=27'>28</a>\u001b[0m prompt \u001b[39m=\u001b[39m OpenAIFunctionsAgent\u001b[39m.\u001b[39mcreate_prompt(\n\u001b[0;32m     <a href='vscode-notebook-cell:/c%3A/Users/silvh/OneDrive/lighthouse/portfolio-projects/datajam-chatbot/chatbot_tuning/notebooks/2023-09-23%20refine%20langchain%20code.ipynb#Y116sZmlsZQ%3D%3D?line=28'>29</a>\u001b[0m     system_message\u001b[39m=\u001b[39msystem_message,\n\u001b[0;32m     <a href='vscode-notebook-cell:/c%3A/Users/silvh/OneDrive/lighthouse/portfolio-projects/datajam-chatbot/chatbot_tuning/notebooks/2023-09-23%20refine%20langchain%20code.ipynb#Y116sZmlsZQ%3D%3D?line=29'>30</a>\u001b[0m     extra_prompt_messages\u001b[39m=\u001b[39m[MessagesPlaceholder(variable_name\u001b[39m=\u001b[39m\u001b[39m'\u001b[39m\u001b[39mchat_history\u001b[39m\u001b[39m'\u001b[39m), instructions]\n\u001b[0;32m     <a href='vscode-notebook-cell:/c%3A/Users/silvh/OneDrive/lighthouse/portfolio-projects/datajam-chatbot/chatbot_tuning/notebooks/2023-09-23%20refine%20langchain%20code.ipynb#Y116sZmlsZQ%3D%3D?line=30'>31</a>\u001b[0m )\n\u001b[0;32m     <a href='vscode-notebook-cell:/c%3A/Users/silvh/OneDrive/lighthouse/portfolio-projects/datajam-chatbot/chatbot_tuning/notebooks/2023-09-23%20refine%20langchain%20code.ipynb#Y116sZmlsZQ%3D%3D?line=32'>33</a>\u001b[0m \u001b[39m# prompt = PromptTemplate(\u001b[39;00m\n\u001b[0;32m     <a href='vscode-notebook-cell:/c%3A/Users/silvh/OneDrive/lighthouse/portfolio-projects/datajam-chatbot/chatbot_tuning/notebooks/2023-09-23%20refine%20langchain%20code.ipynb#Y116sZmlsZQ%3D%3D?line=33'>34</a>\u001b[0m \u001b[39m#     input_variables=['chat_history', 'question'], \u001b[39;00m\n\u001b[0;32m     <a href='vscode-notebook-cell:/c%3A/Users/silvh/OneDrive/lighthouse/portfolio-projects/datajam-chatbot/chatbot_tuning/notebooks/2023-09-23%20refine%20langchain%20code.ipynb#Y116sZmlsZQ%3D%3D?line=34'>35</a>\u001b[0m \u001b[39m#     output_parser=None, partial_variables={}, \u001b[39;00m\n\u001b[0;32m     <a href='vscode-notebook-cell:/c%3A/Users/silvh/OneDrive/lighthouse/portfolio-projects/datajam-chatbot/chatbot_tuning/notebooks/2023-09-23%20refine%20langchain%20code.ipynb#Y116sZmlsZQ%3D%3D?line=35'>36</a>\u001b[0m \u001b[39m#     template=template, template_format='f-string', validate_template=True)\u001b[39;00m\n\u001b[0;32m     <a href='vscode-notebook-cell:/c%3A/Users/silvh/OneDrive/lighthouse/portfolio-projects/datajam-chatbot/chatbot_tuning/notebooks/2023-09-23%20refine%20langchain%20code.ipynb#Y116sZmlsZQ%3D%3D?line=36'>37</a>\u001b[0m agent \u001b[39m=\u001b[39m OpenAIFunctionsAgent(llm\u001b[39m=\u001b[39mllm, tools\u001b[39m=\u001b[39mtools, prompt\u001b[39m=\u001b[39mprompt)\n",
      "File \u001b[1;32mc:\\Users\\silvh\\.conda\\envs\\datajam\\Lib\\site-packages\\langchain\\agents\\openai_functions_agent\\base.py:212\u001b[0m, in \u001b[0;36mOpenAIFunctionsAgent.create_prompt\u001b[1;34m(cls, system_message, extra_prompt_messages)\u001b[0m\n\u001b[0;32m    203\u001b[0m     messages \u001b[39m=\u001b[39m []\n\u001b[0;32m    205\u001b[0m messages\u001b[39m.\u001b[39mextend(\n\u001b[0;32m    206\u001b[0m     [\n\u001b[0;32m    207\u001b[0m         \u001b[39m*\u001b[39m_prompts,\n\u001b[1;32m   (...)\u001b[0m\n\u001b[0;32m    210\u001b[0m     ]\n\u001b[0;32m    211\u001b[0m )\n\u001b[1;32m--> 212\u001b[0m \u001b[39mreturn\u001b[39;00m ChatPromptTemplate(messages\u001b[39m=\u001b[39mmessages)\n",
      "File \u001b[1;32mc:\\Users\\silvh\\.conda\\envs\\datajam\\Lib\\site-packages\\langchain\\load\\serializable.py:75\u001b[0m, in \u001b[0;36mSerializable.__init__\u001b[1;34m(self, **kwargs)\u001b[0m\n\u001b[0;32m     74\u001b[0m \u001b[39mdef\u001b[39;00m \u001b[39m__init__\u001b[39m(\u001b[39mself\u001b[39m, \u001b[39m*\u001b[39m\u001b[39m*\u001b[39mkwargs: Any) \u001b[39m-\u001b[39m\u001b[39m>\u001b[39m \u001b[39mNone\u001b[39;00m:\n\u001b[1;32m---> 75\u001b[0m     \u001b[39msuper\u001b[39m()\u001b[39m.\u001b[39m\u001b[39m__init__\u001b[39m(\u001b[39m*\u001b[39m\u001b[39m*\u001b[39mkwargs)\n\u001b[0;32m     76\u001b[0m     \u001b[39mself\u001b[39m\u001b[39m.\u001b[39m_lc_kwargs \u001b[39m=\u001b[39m kwargs\n",
      "File \u001b[1;32mc:\\Users\\silvh\\.conda\\envs\\datajam\\Lib\\site-packages\\pydantic\\v1\\main.py:341\u001b[0m, in \u001b[0;36mBaseModel.__init__\u001b[1;34m(__pydantic_self__, **data)\u001b[0m\n\u001b[0;32m    339\u001b[0m values, fields_set, validation_error \u001b[39m=\u001b[39m validate_model(__pydantic_self__\u001b[39m.\u001b[39m\u001b[39m__class__\u001b[39m, data)\n\u001b[0;32m    340\u001b[0m \u001b[39mif\u001b[39;00m validation_error:\n\u001b[1;32m--> 341\u001b[0m     \u001b[39mraise\u001b[39;00m validation_error\n\u001b[0;32m    342\u001b[0m \u001b[39mtry\u001b[39;00m:\n\u001b[0;32m    343\u001b[0m     object_setattr(__pydantic_self__, \u001b[39m'\u001b[39m\u001b[39m__dict__\u001b[39m\u001b[39m'\u001b[39m, values)\n",
      "\u001b[1;31mValidationError\u001b[0m: 3 validation errors for ChatPromptTemplate\nmessages -> 2\n  value is not a valid dict (type=type_error.dict)\nmessages -> 2\n  value is not a valid dict (type=type_error.dict)\nmessages -> 2\n  value is not a valid dict (type=type_error.dict)"
     ]
    }
   ],
   "source": [
    "from langchain.agents.openai_functions_agent.base import OpenAIFunctionsAgent\n",
    "from langchain.schema.messages import SystemMessage\n",
    "from langchain.prompts import MessagesPlaceholder\n",
    "\n",
    "\n",
    "def create_chatbot(tools=tools_list, vector_store=vector_dict['CoV'], verbose=True):\n",
    "\n",
    "    llm = ChatOpenAI(\n",
    "        temperature = 0,\n",
    "        openai_organization=os.environ['openai_organization'],\n",
    "        openai_api_key=os.environ['openai_api_key'],\n",
    "        )\n",
    "\n",
    "    agent_executor = create_conversational_retrieval_agent(llm, tools, verbose)\n",
    "    memory = ConversationBufferMemory(memory_key=\"chat_history\", return_messages=True)\n",
    "    system_message = SystemMessage(\n",
    "        content=(\"\"\"\n",
    "            You are a helpful assistant who provides concise answers to residents in Metro Vancouver, Canada.\n",
    "            You ask enough follow up questions as needed to provide the most relevant answer.\n",
    "            Where relevant, you retrieve the relevant information from your documents to answer the resident's question.\n",
    "            Here is your chat history with the resident: \\n\n",
    "            \"\"\"\n",
    "        )\n",
    "    )\n",
    "    instructions = \"\"\"\n",
    "    Respond to the resident's query, which are delimited by triple backticks: ```{question}```\n",
    "    \"\"\"\n",
    "    prompt = OpenAIFunctionsAgent.create_prompt(\n",
    "        system_message=system_message,\n",
    "        extra_prompt_messages=[MessagesPlaceholder(variable_name='chat_history'), instructions]\n",
    "    )\n",
    "\n",
    "    # prompt = PromptTemplate(\n",
    "    #     input_variables=['chat_history', 'question'], \n",
    "    #     output_parser=None, partial_variables={}, \n",
    "    #     template=template, template_format='f-string', validate_template=True)\n",
    "    agent = OpenAIFunctionsAgent(llm=llm, tools=tools, prompt=prompt)\n",
    "    agent_executor = AgentExecutor(\n",
    "        agent=agent, tools=tools, memory=memory, verbose=verbose, return_intermediate_steps=True\n",
    "        )\n",
    "    return agent_executor\n",
    "\n",
    "def chat_with_chatbot(user_input, agent_executor, verbose=True):\n",
    "    result = chat({\"question\": user_input})\n",
    "    \n",
    "    return result\n",
    "\n",
    "conversation_id = 3\n",
    "answer_id = 1\n",
    "answer_dict[conversation_id] = dict()\n",
    "input_id = 1\n",
    "\n",
    "query = \"Where do I recycle coffee cups in Vancouver?\"\n",
    "conversation_dict[conversation_id] = create_chatbot()\n",
    "answer_dict[conversation_id][input_id] = chat_with_chatbot(query, conversation_dict[conversation_id])\n",
    "answer_dict[conversation_id][input_id]"
   ]
  },
  {
   "cell_type": "markdown",
   "metadata": {},
   "source": [
    "## Iteration 3.1"
   ]
  },
  {
   "cell_type": "code",
   "execution_count": 78,
   "metadata": {},
   "outputs": [
    {
     "name": "stderr",
     "output_type": "stream",
     "text": [
      " 25%|██▌       | 1/4 [2:55:29<8:46:27, 10529.26s/it]\n"
     ]
    },
    {
     "ename": "TypeError",
     "evalue": "langchain.prompts.prompt.PromptTemplate() got multiple values for keyword argument 'input_variables'",
     "output_type": "error",
     "traceback": [
      "\u001b[1;31m---------------------------------------------------------------------------\u001b[0m",
      "\u001b[1;31mTypeError\u001b[0m                                 Traceback (most recent call last)",
      "\u001b[1;32mc:\\Users\\silvh\\OneDrive\\lighthouse\\portfolio-projects\\datajam-chatbot\\chatbot_tuning\\notebooks\\2023-09-23 refine langchain code.ipynb Cell 44\u001b[0m line \u001b[0;36m5\n\u001b[0;32m     <a href='vscode-notebook-cell:/c%3A/Users/silvh/OneDrive/lighthouse/portfolio-projects/datajam-chatbot/chatbot_tuning/notebooks/2023-09-23%20refine%20langchain%20code.ipynb#Y121sZmlsZQ%3D%3D?line=53'>54</a>\u001b[0m input_id \u001b[39m=\u001b[39m \u001b[39m1\u001b[39m\n\u001b[0;32m     <a href='vscode-notebook-cell:/c%3A/Users/silvh/OneDrive/lighthouse/portfolio-projects/datajam-chatbot/chatbot_tuning/notebooks/2023-09-23%20refine%20langchain%20code.ipynb#Y121sZmlsZQ%3D%3D?line=55'>56</a>\u001b[0m query \u001b[39m=\u001b[39m \u001b[39m\"\u001b[39m\u001b[39mWhere do I recycle coffee cups in Vancouver?\u001b[39m\u001b[39m\"\u001b[39m\n\u001b[1;32m---> <a href='vscode-notebook-cell:/c%3A/Users/silvh/OneDrive/lighthouse/portfolio-projects/datajam-chatbot/chatbot_tuning/notebooks/2023-09-23%20refine%20langchain%20code.ipynb#Y121sZmlsZQ%3D%3D?line=56'>57</a>\u001b[0m conversation_dict[conversation_id] \u001b[39m=\u001b[39m create_chatbot()\n\u001b[0;32m     <a href='vscode-notebook-cell:/c%3A/Users/silvh/OneDrive/lighthouse/portfolio-projects/datajam-chatbot/chatbot_tuning/notebooks/2023-09-23%20refine%20langchain%20code.ipynb#Y121sZmlsZQ%3D%3D?line=57'>58</a>\u001b[0m answer_dict[conversation_id][input_id] \u001b[39m=\u001b[39m chat_with_chatbot(query, conversation_dict[conversation_id])\n\u001b[0;32m     <a href='vscode-notebook-cell:/c%3A/Users/silvh/OneDrive/lighthouse/portfolio-projects/datajam-chatbot/chatbot_tuning/notebooks/2023-09-23%20refine%20langchain%20code.ipynb#Y121sZmlsZQ%3D%3D?line=58'>59</a>\u001b[0m answer_dict[conversation_id][input_id]\n",
      "\u001b[1;32mc:\\Users\\silvh\\OneDrive\\lighthouse\\portfolio-projects\\datajam-chatbot\\chatbot_tuning\\notebooks\\2023-09-23 refine langchain code.ipynb Cell 44\u001b[0m line \u001b[0;36m2\n\u001b[0;32m     <a href='vscode-notebook-cell:/c%3A/Users/silvh/OneDrive/lighthouse/portfolio-projects/datajam-chatbot/chatbot_tuning/notebooks/2023-09-23%20refine%20langchain%20code.ipynb#Y121sZmlsZQ%3D%3D?line=15'>16</a>\u001b[0m system_message \u001b[39m=\u001b[39m SystemMessage(\n\u001b[0;32m     <a href='vscode-notebook-cell:/c%3A/Users/silvh/OneDrive/lighthouse/portfolio-projects/datajam-chatbot/chatbot_tuning/notebooks/2023-09-23%20refine%20langchain%20code.ipynb#Y121sZmlsZQ%3D%3D?line=16'>17</a>\u001b[0m     content\u001b[39m=\u001b[39m(\u001b[39m\"\"\"\u001b[39m\n\u001b[0;32m     <a href='vscode-notebook-cell:/c%3A/Users/silvh/OneDrive/lighthouse/portfolio-projects/datajam-chatbot/chatbot_tuning/notebooks/2023-09-23%20refine%20langchain%20code.ipynb#Y121sZmlsZQ%3D%3D?line=17'>18</a>\u001b[0m \u001b[39m        You are a helpful assistant who provides concise answers to residents in Metro Vancouver, Canada.\u001b[39m\n\u001b[1;32m   (...)\u001b[0m\n\u001b[0;32m     <a href='vscode-notebook-cell:/c%3A/Users/silvh/OneDrive/lighthouse/portfolio-projects/datajam-chatbot/chatbot_tuning/notebooks/2023-09-23%20refine%20langchain%20code.ipynb#Y121sZmlsZQ%3D%3D?line=22'>23</a>\u001b[0m     )\n\u001b[0;32m     <a href='vscode-notebook-cell:/c%3A/Users/silvh/OneDrive/lighthouse/portfolio-projects/datajam-chatbot/chatbot_tuning/notebooks/2023-09-23%20refine%20langchain%20code.ipynb#Y121sZmlsZQ%3D%3D?line=23'>24</a>\u001b[0m )\n\u001b[0;32m     <a href='vscode-notebook-cell:/c%3A/Users/silvh/OneDrive/lighthouse/portfolio-projects/datajam-chatbot/chatbot_tuning/notebooks/2023-09-23%20refine%20langchain%20code.ipynb#Y121sZmlsZQ%3D%3D?line=24'>25</a>\u001b[0m instructions \u001b[39m=\u001b[39m \u001b[39m\"\"\"\u001b[39m\n\u001b[0;32m     <a href='vscode-notebook-cell:/c%3A/Users/silvh/OneDrive/lighthouse/portfolio-projects/datajam-chatbot/chatbot_tuning/notebooks/2023-09-23%20refine%20langchain%20code.ipynb#Y121sZmlsZQ%3D%3D?line=25'>26</a>\u001b[0m \u001b[39mRespond to the resident\u001b[39m\u001b[39m'\u001b[39m\u001b[39ms query, which are delimited by triple backticks: ```\u001b[39m\u001b[39m{question}\u001b[39;00m\u001b[39m```\u001b[39m\n\u001b[0;32m     <a href='vscode-notebook-cell:/c%3A/Users/silvh/OneDrive/lighthouse/portfolio-projects/datajam-chatbot/chatbot_tuning/notebooks/2023-09-23%20refine%20langchain%20code.ipynb#Y121sZmlsZQ%3D%3D?line=26'>27</a>\u001b[0m \u001b[39m\u001b[39m\u001b[39m\"\"\"\u001b[39m\n\u001b[1;32m---> <a href='vscode-notebook-cell:/c%3A/Users/silvh/OneDrive/lighthouse/portfolio-projects/datajam-chatbot/chatbot_tuning/notebooks/2023-09-23%20refine%20langchain%20code.ipynb#Y121sZmlsZQ%3D%3D?line=27'>28</a>\u001b[0m instruction_prompt \u001b[39m=\u001b[39m PromptTemplate\u001b[39m.\u001b[39mfrom_template(\n\u001b[0;32m     <a href='vscode-notebook-cell:/c%3A/Users/silvh/OneDrive/lighthouse/portfolio-projects/datajam-chatbot/chatbot_tuning/notebooks/2023-09-23%20refine%20langchain%20code.ipynb#Y121sZmlsZQ%3D%3D?line=28'>29</a>\u001b[0m     input_variables\u001b[39m=\u001b[39m[\u001b[39m'\u001b[39m\u001b[39mquestion\u001b[39m\u001b[39m'\u001b[39m], \n\u001b[0;32m     <a href='vscode-notebook-cell:/c%3A/Users/silvh/OneDrive/lighthouse/portfolio-projects/datajam-chatbot/chatbot_tuning/notebooks/2023-09-23%20refine%20langchain%20code.ipynb#Y121sZmlsZQ%3D%3D?line=29'>30</a>\u001b[0m     output_parser\u001b[39m=\u001b[39m\u001b[39mNone\u001b[39;00m, partial_variables\u001b[39m=\u001b[39m{}, \n\u001b[0;32m     <a href='vscode-notebook-cell:/c%3A/Users/silvh/OneDrive/lighthouse/portfolio-projects/datajam-chatbot/chatbot_tuning/notebooks/2023-09-23%20refine%20langchain%20code.ipynb#Y121sZmlsZQ%3D%3D?line=30'>31</a>\u001b[0m     template\u001b[39m=\u001b[39minstructions, template_format\u001b[39m=\u001b[39m\u001b[39m'\u001b[39m\u001b[39mf-string\u001b[39m\u001b[39m'\u001b[39m, validate_template\u001b[39m=\u001b[39m\u001b[39mTrue\u001b[39;00m)\n\u001b[0;32m     <a href='vscode-notebook-cell:/c%3A/Users/silvh/OneDrive/lighthouse/portfolio-projects/datajam-chatbot/chatbot_tuning/notebooks/2023-09-23%20refine%20langchain%20code.ipynb#Y121sZmlsZQ%3D%3D?line=31'>32</a>\u001b[0m prompt \u001b[39m=\u001b[39m OpenAIFunctionsAgent\u001b[39m.\u001b[39mcreate_prompt(\n\u001b[0;32m     <a href='vscode-notebook-cell:/c%3A/Users/silvh/OneDrive/lighthouse/portfolio-projects/datajam-chatbot/chatbot_tuning/notebooks/2023-09-23%20refine%20langchain%20code.ipynb#Y121sZmlsZQ%3D%3D?line=32'>33</a>\u001b[0m     system_message\u001b[39m=\u001b[39msystem_message,\n\u001b[0;32m     <a href='vscode-notebook-cell:/c%3A/Users/silvh/OneDrive/lighthouse/portfolio-projects/datajam-chatbot/chatbot_tuning/notebooks/2023-09-23%20refine%20langchain%20code.ipynb#Y121sZmlsZQ%3D%3D?line=33'>34</a>\u001b[0m     extra_prompt_messages\u001b[39m=\u001b[39m[\n\u001b[1;32m   (...)\u001b[0m\n\u001b[0;32m     <a href='vscode-notebook-cell:/c%3A/Users/silvh/OneDrive/lighthouse/portfolio-projects/datajam-chatbot/chatbot_tuning/notebooks/2023-09-23%20refine%20langchain%20code.ipynb#Y121sZmlsZQ%3D%3D?line=36'>37</a>\u001b[0m         ]\n\u001b[0;32m     <a href='vscode-notebook-cell:/c%3A/Users/silvh/OneDrive/lighthouse/portfolio-projects/datajam-chatbot/chatbot_tuning/notebooks/2023-09-23%20refine%20langchain%20code.ipynb#Y121sZmlsZQ%3D%3D?line=37'>38</a>\u001b[0m )\n\u001b[0;32m     <a href='vscode-notebook-cell:/c%3A/Users/silvh/OneDrive/lighthouse/portfolio-projects/datajam-chatbot/chatbot_tuning/notebooks/2023-09-23%20refine%20langchain%20code.ipynb#Y121sZmlsZQ%3D%3D?line=39'>40</a>\u001b[0m agent \u001b[39m=\u001b[39m OpenAIFunctionsAgent(llm\u001b[39m=\u001b[39mllm, tools\u001b[39m=\u001b[39mtools, prompt\u001b[39m=\u001b[39mprompt)\n",
      "File \u001b[1;32mc:\\Users\\silvh\\.conda\\envs\\datajam\\Lib\\site-packages\\langchain\\prompts\\prompt.py:217\u001b[0m, in \u001b[0;36mPromptTemplate.from_template\u001b[1;34m(cls, template, template_format, partial_variables, **kwargs)\u001b[0m\n\u001b[0;32m    212\u001b[0m \u001b[39mif\u001b[39;00m _partial_variables:\n\u001b[0;32m    213\u001b[0m     input_variables \u001b[39m=\u001b[39m {\n\u001b[0;32m    214\u001b[0m         var \u001b[39mfor\u001b[39;00m var \u001b[39min\u001b[39;00m input_variables \u001b[39mif\u001b[39;00m var \u001b[39mnot\u001b[39;00m \u001b[39min\u001b[39;00m _partial_variables\n\u001b[0;32m    215\u001b[0m     }\n\u001b[1;32m--> 217\u001b[0m \u001b[39mreturn\u001b[39;00m \u001b[39mcls\u001b[39m(\n\u001b[0;32m    218\u001b[0m     input_variables\u001b[39m=\u001b[39m\u001b[39msorted\u001b[39m(input_variables),\n\u001b[0;32m    219\u001b[0m     template\u001b[39m=\u001b[39mtemplate,\n\u001b[0;32m    220\u001b[0m     template_format\u001b[39m=\u001b[39mtemplate_format,\n\u001b[0;32m    221\u001b[0m     partial_variables\u001b[39m=\u001b[39m_partial_variables,\n\u001b[0;32m    222\u001b[0m     \u001b[39m*\u001b[39m\u001b[39m*\u001b[39mkwargs,\n\u001b[0;32m    223\u001b[0m )\n",
      "\u001b[1;31mTypeError\u001b[0m: langchain.prompts.prompt.PromptTemplate() got multiple values for keyword argument 'input_variables'"
     ]
    }
   ],
   "source": [
    "from langchain.agents.openai_functions_agent.base import OpenAIFunctionsAgent\n",
    "from langchain.schema.messages import SystemMessage\n",
    "from langchain.prompts import MessagesPlaceholder\n",
    "\n",
    "\n",
    "def create_chatbot(tools=tools_list, vector_store=vector_dict['CoV'], verbose=True):\n",
    "\n",
    "    llm = ChatOpenAI(\n",
    "        temperature = 0,\n",
    "        openai_organization=os.environ['openai_organization'],\n",
    "        openai_api_key=os.environ['openai_api_key'],\n",
    "        )\n",
    "\n",
    "    agent_executor = create_conversational_retrieval_agent(llm, tools, verbose)\n",
    "    memory = ConversationBufferMemory(memory_key=\"chat_history\", return_messages=True)\n",
    "    system_message = SystemMessage(\n",
    "        content=(\"\"\"\n",
    "            You are a helpful assistant who provides concise answers to residents in Metro Vancouver, Canada.\n",
    "            You ask enough follow up questions as needed to provide the most relevant answer.\n",
    "            Where relevant, you retrieve the relevant information from your documents to answer the resident's question.\n",
    "            Here is your chat history with the resident: \\n\n",
    "            \"\"\"\n",
    "        )\n",
    "    )\n",
    "    instructions = \"\"\"\n",
    "    Respond to the resident's query, which are delimited by triple backticks: ```{question}```\n",
    "    \"\"\"\n",
    "    instruction_prompt = PromptTemplate.from_template(\n",
    "        input_variables=['question'], \n",
    "        output_parser=None, partial_variables={}, \n",
    "        template=instructions, template_format='f-string', validate_template=True)\n",
    "    prompt = OpenAIFunctionsAgent.create_prompt(\n",
    "        system_message=system_message,\n",
    "        extra_prompt_messages=[\n",
    "            MessagesPlaceholder(variable_name='chat_history'), \n",
    "            instruction_prompt\n",
    "            ]\n",
    "    )\n",
    "\n",
    "    agent = OpenAIFunctionsAgent(llm=llm, tools=tools, prompt=prompt)\n",
    "    agent_executor = AgentExecutor(\n",
    "        agent=agent, tools=tools, memory=memory, verbose=verbose, return_intermediate_steps=True\n",
    "        )\n",
    "    return agent_executor\n",
    "\n",
    "def chat_with_chatbot(user_input, agent_executor, verbose=True):\n",
    "    result = chat({\"question\": user_input})\n",
    "    \n",
    "    return result\n",
    "\n",
    "conversation_id = 3\n",
    "answer_id = 1\n",
    "answer_dict[conversation_id] = dict()\n",
    "input_id = 1\n",
    "\n",
    "query = \"Where do I recycle coffee cups in Vancouver?\"\n",
    "conversation_dict[conversation_id] = create_chatbot()\n",
    "answer_dict[conversation_id][input_id] = chat_with_chatbot(query, conversation_dict[conversation_id])\n",
    "answer_dict[conversation_id][input_id]"
   ]
  },
  {
   "cell_type": "markdown",
   "metadata": {},
   "source": [
    "## 3.2"
   ]
  },
  {
   "cell_type": "code",
   "execution_count": 92,
   "metadata": {},
   "outputs": [
    {
     "ename": "ValidationError",
     "evalue": "3 validation errors for ChatPromptTemplate\nmessages -> 2\n  Can't instantiate abstract class BaseMessagePromptTemplate with abstract methods format_messages, input_variables (type=type_error)\nmessages -> 2\n  Can't instantiate abstract class BaseMessage with abstract method type (type=type_error)\nmessages -> 2\n  Can't instantiate abstract class BaseChatPromptTemplate with abstract method format_messages (type=type_error)",
     "output_type": "error",
     "traceback": [
      "\u001b[1;31m---------------------------------------------------------------------------\u001b[0m",
      "\u001b[1;31mValidationError\u001b[0m                           Traceback (most recent call last)",
      "\u001b[1;32mc:\\Users\\silvh\\OneDrive\\lighthouse\\portfolio-projects\\datajam-chatbot\\chatbot_tuning\\notebooks\\2023-09-23 refine langchain code.ipynb Cell 46\u001b[0m line \u001b[0;36m5\n\u001b[0;32m     <a href='vscode-notebook-cell:/c%3A/Users/silvh/OneDrive/lighthouse/portfolio-projects/datajam-chatbot/chatbot_tuning/notebooks/2023-09-23%20refine%20langchain%20code.ipynb#Y123sZmlsZQ%3D%3D?line=54'>55</a>\u001b[0m input_id \u001b[39m=\u001b[39m \u001b[39m1\u001b[39m\n\u001b[0;32m     <a href='vscode-notebook-cell:/c%3A/Users/silvh/OneDrive/lighthouse/portfolio-projects/datajam-chatbot/chatbot_tuning/notebooks/2023-09-23%20refine%20langchain%20code.ipynb#Y123sZmlsZQ%3D%3D?line=56'>57</a>\u001b[0m query \u001b[39m=\u001b[39m \u001b[39m\"\u001b[39m\u001b[39mWhere do I recycle coffee cups in Vancouver?\u001b[39m\u001b[39m\"\u001b[39m\n\u001b[1;32m---> <a href='vscode-notebook-cell:/c%3A/Users/silvh/OneDrive/lighthouse/portfolio-projects/datajam-chatbot/chatbot_tuning/notebooks/2023-09-23%20refine%20langchain%20code.ipynb#Y123sZmlsZQ%3D%3D?line=57'>58</a>\u001b[0m conversation_dict[conversation_id] \u001b[39m=\u001b[39m create_chatbot()\n\u001b[0;32m     <a href='vscode-notebook-cell:/c%3A/Users/silvh/OneDrive/lighthouse/portfolio-projects/datajam-chatbot/chatbot_tuning/notebooks/2023-09-23%20refine%20langchain%20code.ipynb#Y123sZmlsZQ%3D%3D?line=58'>59</a>\u001b[0m answer_dict[conversation_id][input_id] \u001b[39m=\u001b[39m chat_with_chatbot(query, conversation_dict[conversation_id])\n\u001b[0;32m     <a href='vscode-notebook-cell:/c%3A/Users/silvh/OneDrive/lighthouse/portfolio-projects/datajam-chatbot/chatbot_tuning/notebooks/2023-09-23%20refine%20langchain%20code.ipynb#Y123sZmlsZQ%3D%3D?line=59'>60</a>\u001b[0m answer_dict[conversation_id][input_id]\n",
      "\u001b[1;32mc:\\Users\\silvh\\OneDrive\\lighthouse\\portfolio-projects\\datajam-chatbot\\chatbot_tuning\\notebooks\\2023-09-23 refine langchain code.ipynb Cell 46\u001b[0m line \u001b[0;36m3\n\u001b[0;32m     <a href='vscode-notebook-cell:/c%3A/Users/silvh/OneDrive/lighthouse/portfolio-projects/datajam-chatbot/chatbot_tuning/notebooks/2023-09-23%20refine%20langchain%20code.ipynb#Y123sZmlsZQ%3D%3D?line=24'>25</a>\u001b[0m instructions \u001b[39m=\u001b[39m \u001b[39m\"\u001b[39m\u001b[39mRespond to the resident\u001b[39m\u001b[39m'\u001b[39m\u001b[39ms query, which are delimited by triple backticks: ```\u001b[39m\u001b[39m{question}\u001b[39;00m\u001b[39m```\u001b[39m\u001b[39m\"\u001b[39m\n\u001b[0;32m     <a href='vscode-notebook-cell:/c%3A/Users/silvh/OneDrive/lighthouse/portfolio-projects/datajam-chatbot/chatbot_tuning/notebooks/2023-09-23%20refine%20langchain%20code.ipynb#Y123sZmlsZQ%3D%3D?line=25'>26</a>\u001b[0m instruction_prompt \u001b[39m=\u001b[39m PromptTemplate\u001b[39m.\u001b[39mfrom_template(\n\u001b[0;32m     <a href='vscode-notebook-cell:/c%3A/Users/silvh/OneDrive/lighthouse/portfolio-projects/datajam-chatbot/chatbot_tuning/notebooks/2023-09-23%20refine%20langchain%20code.ipynb#Y123sZmlsZQ%3D%3D?line=26'>27</a>\u001b[0m     instructions\n\u001b[0;32m     <a href='vscode-notebook-cell:/c%3A/Users/silvh/OneDrive/lighthouse/portfolio-projects/datajam-chatbot/chatbot_tuning/notebooks/2023-09-23%20refine%20langchain%20code.ipynb#Y123sZmlsZQ%3D%3D?line=27'>28</a>\u001b[0m     \u001b[39m# input_variables=['question'], \u001b[39;00m\n\u001b[1;32m   (...)\u001b[0m\n\u001b[0;32m     <a href='vscode-notebook-cell:/c%3A/Users/silvh/OneDrive/lighthouse/portfolio-projects/datajam-chatbot/chatbot_tuning/notebooks/2023-09-23%20refine%20langchain%20code.ipynb#Y123sZmlsZQ%3D%3D?line=30'>31</a>\u001b[0m     \u001b[39m# template_format='f-string', validate_template=True\u001b[39;00m\n\u001b[0;32m     <a href='vscode-notebook-cell:/c%3A/Users/silvh/OneDrive/lighthouse/portfolio-projects/datajam-chatbot/chatbot_tuning/notebooks/2023-09-23%20refine%20langchain%20code.ipynb#Y123sZmlsZQ%3D%3D?line=31'>32</a>\u001b[0m     )\n\u001b[1;32m---> <a href='vscode-notebook-cell:/c%3A/Users/silvh/OneDrive/lighthouse/portfolio-projects/datajam-chatbot/chatbot_tuning/notebooks/2023-09-23%20refine%20langchain%20code.ipynb#Y123sZmlsZQ%3D%3D?line=32'>33</a>\u001b[0m prompt \u001b[39m=\u001b[39m OpenAIFunctionsAgent\u001b[39m.\u001b[39mcreate_prompt(\n\u001b[0;32m     <a href='vscode-notebook-cell:/c%3A/Users/silvh/OneDrive/lighthouse/portfolio-projects/datajam-chatbot/chatbot_tuning/notebooks/2023-09-23%20refine%20langchain%20code.ipynb#Y123sZmlsZQ%3D%3D?line=33'>34</a>\u001b[0m     system_message\u001b[39m=\u001b[39msystem_message,\n\u001b[0;32m     <a href='vscode-notebook-cell:/c%3A/Users/silvh/OneDrive/lighthouse/portfolio-projects/datajam-chatbot/chatbot_tuning/notebooks/2023-09-23%20refine%20langchain%20code.ipynb#Y123sZmlsZQ%3D%3D?line=34'>35</a>\u001b[0m     extra_prompt_messages\u001b[39m=\u001b[39m[\n\u001b[0;32m     <a href='vscode-notebook-cell:/c%3A/Users/silvh/OneDrive/lighthouse/portfolio-projects/datajam-chatbot/chatbot_tuning/notebooks/2023-09-23%20refine%20langchain%20code.ipynb#Y123sZmlsZQ%3D%3D?line=35'>36</a>\u001b[0m         MessagesPlaceholder(variable_name\u001b[39m=\u001b[39m\u001b[39m'\u001b[39m\u001b[39mchat_history\u001b[39m\u001b[39m'\u001b[39m), \n\u001b[0;32m     <a href='vscode-notebook-cell:/c%3A/Users/silvh/OneDrive/lighthouse/portfolio-projects/datajam-chatbot/chatbot_tuning/notebooks/2023-09-23%20refine%20langchain%20code.ipynb#Y123sZmlsZQ%3D%3D?line=36'>37</a>\u001b[0m         instruction_prompt\n\u001b[0;32m     <a href='vscode-notebook-cell:/c%3A/Users/silvh/OneDrive/lighthouse/portfolio-projects/datajam-chatbot/chatbot_tuning/notebooks/2023-09-23%20refine%20langchain%20code.ipynb#Y123sZmlsZQ%3D%3D?line=37'>38</a>\u001b[0m         ]\n\u001b[0;32m     <a href='vscode-notebook-cell:/c%3A/Users/silvh/OneDrive/lighthouse/portfolio-projects/datajam-chatbot/chatbot_tuning/notebooks/2023-09-23%20refine%20langchain%20code.ipynb#Y123sZmlsZQ%3D%3D?line=38'>39</a>\u001b[0m )\n\u001b[0;32m     <a href='vscode-notebook-cell:/c%3A/Users/silvh/OneDrive/lighthouse/portfolio-projects/datajam-chatbot/chatbot_tuning/notebooks/2023-09-23%20refine%20langchain%20code.ipynb#Y123sZmlsZQ%3D%3D?line=40'>41</a>\u001b[0m agent \u001b[39m=\u001b[39m OpenAIFunctionsAgent(llm\u001b[39m=\u001b[39mllm, tools\u001b[39m=\u001b[39mtools, prompt\u001b[39m=\u001b[39mprompt)\n\u001b[0;32m     <a href='vscode-notebook-cell:/c%3A/Users/silvh/OneDrive/lighthouse/portfolio-projects/datajam-chatbot/chatbot_tuning/notebooks/2023-09-23%20refine%20langchain%20code.ipynb#Y123sZmlsZQ%3D%3D?line=41'>42</a>\u001b[0m agent_executor \u001b[39m=\u001b[39m AgentExecutor(\n\u001b[0;32m     <a href='vscode-notebook-cell:/c%3A/Users/silvh/OneDrive/lighthouse/portfolio-projects/datajam-chatbot/chatbot_tuning/notebooks/2023-09-23%20refine%20langchain%20code.ipynb#Y123sZmlsZQ%3D%3D?line=42'>43</a>\u001b[0m     agent\u001b[39m=\u001b[39magent, tools\u001b[39m=\u001b[39mtools, memory\u001b[39m=\u001b[39mmemory, verbose\u001b[39m=\u001b[39mverbose, return_intermediate_steps\u001b[39m=\u001b[39m\u001b[39mTrue\u001b[39;00m\n\u001b[0;32m     <a href='vscode-notebook-cell:/c%3A/Users/silvh/OneDrive/lighthouse/portfolio-projects/datajam-chatbot/chatbot_tuning/notebooks/2023-09-23%20refine%20langchain%20code.ipynb#Y123sZmlsZQ%3D%3D?line=43'>44</a>\u001b[0m     )\n",
      "File \u001b[1;32mc:\\Users\\silvh\\.conda\\envs\\datajam\\Lib\\site-packages\\langchain\\agents\\openai_functions_agent\\base.py:212\u001b[0m, in \u001b[0;36mOpenAIFunctionsAgent.create_prompt\u001b[1;34m(cls, system_message, extra_prompt_messages)\u001b[0m\n\u001b[0;32m    203\u001b[0m     messages \u001b[39m=\u001b[39m []\n\u001b[0;32m    205\u001b[0m messages\u001b[39m.\u001b[39mextend(\n\u001b[0;32m    206\u001b[0m     [\n\u001b[0;32m    207\u001b[0m         \u001b[39m*\u001b[39m_prompts,\n\u001b[1;32m   (...)\u001b[0m\n\u001b[0;32m    210\u001b[0m     ]\n\u001b[0;32m    211\u001b[0m )\n\u001b[1;32m--> 212\u001b[0m \u001b[39mreturn\u001b[39;00m ChatPromptTemplate(messages\u001b[39m=\u001b[39mmessages)\n",
      "File \u001b[1;32mc:\\Users\\silvh\\.conda\\envs\\datajam\\Lib\\site-packages\\langchain\\load\\serializable.py:75\u001b[0m, in \u001b[0;36mSerializable.__init__\u001b[1;34m(self, **kwargs)\u001b[0m\n\u001b[0;32m     74\u001b[0m \u001b[39mdef\u001b[39;00m \u001b[39m__init__\u001b[39m(\u001b[39mself\u001b[39m, \u001b[39m*\u001b[39m\u001b[39m*\u001b[39mkwargs: Any) \u001b[39m-\u001b[39m\u001b[39m>\u001b[39m \u001b[39mNone\u001b[39;00m:\n\u001b[1;32m---> 75\u001b[0m     \u001b[39msuper\u001b[39m()\u001b[39m.\u001b[39m\u001b[39m__init__\u001b[39m(\u001b[39m*\u001b[39m\u001b[39m*\u001b[39mkwargs)\n\u001b[0;32m     76\u001b[0m     \u001b[39mself\u001b[39m\u001b[39m.\u001b[39m_lc_kwargs \u001b[39m=\u001b[39m kwargs\n",
      "File \u001b[1;32mc:\\Users\\silvh\\.conda\\envs\\datajam\\Lib\\site-packages\\pydantic\\v1\\main.py:341\u001b[0m, in \u001b[0;36mBaseModel.__init__\u001b[1;34m(__pydantic_self__, **data)\u001b[0m\n\u001b[0;32m    339\u001b[0m values, fields_set, validation_error \u001b[39m=\u001b[39m validate_model(__pydantic_self__\u001b[39m.\u001b[39m\u001b[39m__class__\u001b[39m, data)\n\u001b[0;32m    340\u001b[0m \u001b[39mif\u001b[39;00m validation_error:\n\u001b[1;32m--> 341\u001b[0m     \u001b[39mraise\u001b[39;00m validation_error\n\u001b[0;32m    342\u001b[0m \u001b[39mtry\u001b[39;00m:\n\u001b[0;32m    343\u001b[0m     object_setattr(__pydantic_self__, \u001b[39m'\u001b[39m\u001b[39m__dict__\u001b[39m\u001b[39m'\u001b[39m, values)\n",
      "\u001b[1;31mValidationError\u001b[0m: 3 validation errors for ChatPromptTemplate\nmessages -> 2\n  Can't instantiate abstract class BaseMessagePromptTemplate with abstract methods format_messages, input_variables (type=type_error)\nmessages -> 2\n  Can't instantiate abstract class BaseMessage with abstract method type (type=type_error)\nmessages -> 2\n  Can't instantiate abstract class BaseChatPromptTemplate with abstract method format_messages (type=type_error)"
     ]
    }
   ],
   "source": [
    "from langchain.agents.openai_functions_agent.base import OpenAIFunctionsAgent\n",
    "from langchain.schema.messages import SystemMessage\n",
    "from langchain.prompts import MessagesPlaceholder\n",
    "\n",
    "\n",
    "def create_chatbot(tools=tools_list, vector_store=vector_dict['CoV'], verbose=True):\n",
    "\n",
    "    llm = ChatOpenAI(\n",
    "        temperature = 0,\n",
    "        openai_organization=os.environ['openai_organization'],\n",
    "        openai_api_key=os.environ['openai_api_key'],\n",
    "        )\n",
    "\n",
    "    agent_executor = create_conversational_retrieval_agent(llm, tools, verbose)\n",
    "    memory = ConversationBufferMemory(memory_key=\"chat_history\", return_messages=True)\n",
    "    system_message = SystemMessage(\n",
    "        content=(\"\"\"\n",
    "            You are a helpful assistant who provides concise answers to residents in Metro Vancouver, Canada.\n",
    "            You ask enough follow up questions as needed to provide the most relevant answer.\n",
    "            Where relevant, you retrieve the relevant information from your documents to answer the resident's question.\n",
    "            Here is your chat history with the resident: \\n\n",
    "            \"\"\"\n",
    "        )\n",
    "    )\n",
    "    instructions = \"Respond to the resident's query, which are delimited by triple backticks: ```{question}```\"\n",
    "    instruction_prompt = PromptTemplate.from_template(\n",
    "        instructions\n",
    "        # input_variables=['question'], \n",
    "        # output_parser=None, partial_variables={}, \n",
    "        # template=instructions, \n",
    "        # template_format='f-string', validate_template=True\n",
    "        )\n",
    "    prompt = OpenAIFunctionsAgent.create_prompt(\n",
    "        system_message=system_message,\n",
    "        extra_prompt_messages=[\n",
    "            MessagesPlaceholder(variable_name='chat_history'), \n",
    "            instruction_prompt\n",
    "            ]\n",
    "    )\n",
    "\n",
    "    agent = OpenAIFunctionsAgent(llm=llm, tools=tools, prompt=prompt)\n",
    "    agent_executor = AgentExecutor(\n",
    "        agent=agent, tools=tools, memory=memory, verbose=verbose, return_intermediate_steps=True\n",
    "        )\n",
    "    return agent_executor\n",
    "\n",
    "def chat_with_chatbot(user_input, agent_executor, verbose=True):\n",
    "    result = chat({\"question\": user_input})\n",
    "    \n",
    "    return result\n",
    "\n",
    "conversation_id = 3\n",
    "answer_id = 1\n",
    "answer_dict[conversation_id] = dict()\n",
    "input_id = 1\n",
    "\n",
    "query = \"Where do I recycle coffee cups in Vancouver?\"\n",
    "conversation_dict[conversation_id] = create_chatbot()\n",
    "answer_dict[conversation_id][input_id] = chat_with_chatbot(query, conversation_dict[conversation_id])\n",
    "answer_dict[conversation_id][input_id]"
   ]
  },
  {
   "cell_type": "code",
   "execution_count": 94,
   "metadata": {},
   "outputs": [
    {
     "data": {
      "text/plain": [
       "PromptTemplate(input_variables=['question'], output_parser=None, partial_variables={}, template=\"Respond to the resident's query, which are delimited by triple backticks: ```{question}```\", template_format='f-string', validate_template=True)"
      ]
     },
     "execution_count": 94,
     "metadata": {},
     "output_type": "execute_result"
    }
   ],
   "source": [
    "instructions = \"Respond to the resident's query, which are delimited by triple backticks: ```{question}```\"\n",
    "instruction_prompt = PromptTemplate.from_template(\n",
    "    instructions\n",
    "    )\n",
    "instruction_prompt"
   ]
  },
  {
   "cell_type": "code",
   "execution_count": 97,
   "metadata": {},
   "outputs": [
    {
     "data": {
      "text/plain": [
       "PromptTemplate(input_variables=['question'], output_parser=None, partial_variables={}, template=\"Respond to the resident's query, which are delimited by triple backticks: ```{question}```\", template_format='f-string', validate_template=True)"
      ]
     },
     "execution_count": 97,
     "metadata": {},
     "output_type": "execute_result"
    }
   ],
   "source": [
    "instructions = \"Respond to the resident's query, which are delimited by triple backticks: ```{question}```\"\n",
    "\n",
    "instruction_prompt = PromptTemplate(\n",
    "    input_variables=['question'], \n",
    "    output_parser=None, partial_variables={}, \n",
    "    template=instructions, template_format='f-string', validate_template=True)\n",
    "instruction_prompt"
   ]
  },
  {
   "cell_type": "code",
   "execution_count": 100,
   "metadata": {},
   "outputs": [
    {
     "ename": "TypeError",
     "evalue": "Can't instantiate abstract class BasePromptTemplate with abstract methods format, format_prompt",
     "output_type": "error",
     "traceback": [
      "\u001b[1;31m---------------------------------------------------------------------------\u001b[0m",
      "\u001b[1;31mTypeError\u001b[0m                                 Traceback (most recent call last)",
      "\u001b[1;32mc:\\Users\\silvh\\OneDrive\\lighthouse\\portfolio-projects\\datajam-chatbot\\chatbot_tuning\\notebooks\\2023-09-23 refine langchain code.ipynb Cell 49\u001b[0m line \u001b[0;36m2\n\u001b[0;32m      <a href='vscode-notebook-cell:/c%3A/Users/silvh/OneDrive/lighthouse/portfolio-projects/datajam-chatbot/chatbot_tuning/notebooks/2023-09-23%20refine%20langchain%20code.ipynb#Y133sZmlsZQ%3D%3D?line=0'>1</a>\u001b[0m \u001b[39mfrom\u001b[39;00m \u001b[39mlangchain\u001b[39;00m\u001b[39m.\u001b[39;00m\u001b[39mprompts\u001b[39;00m \u001b[39mimport\u001b[39;00m BasePromptTemplate\n\u001b[1;32m----> <a href='vscode-notebook-cell:/c%3A/Users/silvh/OneDrive/lighthouse/portfolio-projects/datajam-chatbot/chatbot_tuning/notebooks/2023-09-23%20refine%20langchain%20code.ipynb#Y133sZmlsZQ%3D%3D?line=1'>2</a>\u001b[0m BasePromptTemplate()\n",
      "\u001b[1;31mTypeError\u001b[0m: Can't instantiate abstract class BasePromptTemplate with abstract methods format, format_prompt"
     ]
    }
   ],
   "source": [
    "from langchain.prompts import BasePromptTemplate\n",
    "BasePromptTemplate()"
   ]
  },
  {
   "cell_type": "code",
   "execution_count": 103,
   "metadata": {},
   "outputs": [
    {
     "ename": "TypeError",
     "evalue": "Can't instantiate abstract class BaseMessagePromptTemplate with abstract methods format_messages, input_variables",
     "output_type": "error",
     "traceback": [
      "\u001b[1;31m---------------------------------------------------------------------------\u001b[0m",
      "\u001b[1;31mTypeError\u001b[0m                                 Traceback (most recent call last)",
      "\u001b[1;32mc:\\Users\\silvh\\OneDrive\\lighthouse\\portfolio-projects\\datajam-chatbot\\chatbot_tuning\\notebooks\\2023-09-23 refine langchain code.ipynb Cell 50\u001b[0m line \u001b[0;36m2\n\u001b[0;32m      <a href='vscode-notebook-cell:/c%3A/Users/silvh/OneDrive/lighthouse/portfolio-projects/datajam-chatbot/chatbot_tuning/notebooks/2023-09-23%20refine%20langchain%20code.ipynb#Y134sZmlsZQ%3D%3D?line=0'>1</a>\u001b[0m \u001b[39mfrom\u001b[39;00m \u001b[39mlangchain\u001b[39;00m\u001b[39m.\u001b[39;00m\u001b[39mprompts\u001b[39;00m\u001b[39m.\u001b[39;00m\u001b[39mchat\u001b[39;00m \u001b[39mimport\u001b[39;00m BaseMessagePromptTemplate\n\u001b[1;32m----> <a href='vscode-notebook-cell:/c%3A/Users/silvh/OneDrive/lighthouse/portfolio-projects/datajam-chatbot/chatbot_tuning/notebooks/2023-09-23%20refine%20langchain%20code.ipynb#Y134sZmlsZQ%3D%3D?line=1'>2</a>\u001b[0m BaseMessagePromptTemplate()\n",
      "\u001b[1;31mTypeError\u001b[0m: Can't instantiate abstract class BaseMessagePromptTemplate with abstract methods format_messages, input_variables"
     ]
    }
   ],
   "source": [
    "from langchain.prompts.chat import BaseMessagePromptTemplate\n",
    "BaseMessagePromptTemplate()"
   ]
  },
  {
   "cell_type": "markdown",
   "metadata": {},
   "source": [
    "## 3.3"
   ]
  },
  {
   "cell_type": "code",
   "execution_count": 107,
   "metadata": {},
   "outputs": [
    {
     "name": "stdout",
     "output_type": "stream",
     "text": [
      "\n",
      "\n",
      "\u001b[1m> Entering new AgentExecutor chain...\u001b[0m\n",
      "\u001b[32;1m\u001b[1;3m\n",
      "Invoking: `search_CoV` with `recycle coffee cups Vancouver`\n",
      "\n",
      "\n",
      "\u001b[0m\u001b[36;1m\u001b[1;3m[Document(page_content='City of Vancouver\\n\\nhttps://vancouver.ca/home\\n\\n\\n\\nproperty\\n\\n\\n\\ndevelopment/single\\n\\n\\n\\nfamily\\n\\n\\n\\nhomes\\n\\n\\n\\nand\\n\\n\\n\\nduplexes.aspx\\n\\nSingle family homes and duplexes We collect residential garbage, food scraps, and yard waste for single family homes and duplexes.\\n\\nYour household waste collection schedule is based on your location.\\n\\nRecycling: service is provided by GFL Environmental (formerly Smithrite Disposal Ltd) on behalf of Recycle BC External website, opens in new tab Phone 604-282-7966 or email srrecycle@gflenv.com about your recycling service, including:\\n\\nCollection questions or issues Replacing blue bins and recycling bags', metadata={'source': '..\\\\data\\\\Vancouver single family homes and duplexes.txt'}), Document(page_content='City of Vancouver\\n\\nhttps://vancouver.ca/home\\n\\n\\n\\nproperty\\n\\n\\n\\ndevelopment/apartments\\n\\n\\n\\ncondos\\n\\n\\n\\nand\\n\\n\\n\\ntownhomes.aspx\\n\\nApartments, condos, and townhomes\\n\\nWe do not provide waste collection services to most multi-unit buildings.\\n\\nHowever, we do provide information and resources to building owners and managers to manage waste at apartments, condos, and townhomes.\\n\\nWaste Management Canada collects your recycling on behalf of Recycle BC External website, opens in new tab Phone Waste Management Canada at 604-282-7961 for questions and issues about your recycling service.', metadata={'source': '..\\\\data\\\\Vancouver apartments condos townhomes.txt'})]\u001b[0m\u001b[32;1m\u001b[1;3mYou can recycle coffee cups in Vancouver through the recycling services provided by GFL Environmental (formerly Smithrite Disposal Ltd) on behalf of Recycle BC. You can contact them at 604-282-7966 or email srrecycle@gflenv.com for any questions or issues regarding your recycling service, including the recycling of coffee cups.\n",
      "\n",
      "Please note that this information is specific to single-family homes and duplexes. If you live in an apartment, condo, or townhome, Waste Management Canada collects recycling on behalf of Recycle BC. You can reach Waste Management Canada at 604-282-7961 for any questions or issues regarding your recycling service.\n",
      "\n",
      "Let me know if there's anything else I can help with!\u001b[0m\n",
      "\n",
      "\u001b[1m> Finished chain.\u001b[0m\n"
     ]
    },
    {
     "ename": "ValueError",
     "evalue": "One output key expected, got dict_keys(['output', 'intermediate_steps'])",
     "output_type": "error",
     "traceback": [
      "\u001b[1;31m---------------------------------------------------------------------------\u001b[0m",
      "\u001b[1;31mValueError\u001b[0m                                Traceback (most recent call last)",
      "\u001b[1;32mc:\\Users\\silvh\\OneDrive\\lighthouse\\portfolio-projects\\datajam-chatbot\\chatbot_tuning\\notebooks\\2023-09-23 refine langchain code.ipynb Cell 52\u001b[0m line \u001b[0;36m5\n\u001b[0;32m     <a href='vscode-notebook-cell:/c%3A/Users/silvh/OneDrive/lighthouse/portfolio-projects/datajam-chatbot/chatbot_tuning/notebooks/2023-09-23%20refine%20langchain%20code.ipynb#Y131sZmlsZQ%3D%3D?line=49'>50</a>\u001b[0m query \u001b[39m=\u001b[39m \u001b[39m\"\u001b[39m\u001b[39mWhere do I recycle coffee cups in Vancouver?\u001b[39m\u001b[39m\"\u001b[39m\n\u001b[0;32m     <a href='vscode-notebook-cell:/c%3A/Users/silvh/OneDrive/lighthouse/portfolio-projects/datajam-chatbot/chatbot_tuning/notebooks/2023-09-23%20refine%20langchain%20code.ipynb#Y131sZmlsZQ%3D%3D?line=50'>51</a>\u001b[0m conversation_dict[conversation_id] \u001b[39m=\u001b[39m create_chatbot()\n\u001b[1;32m---> <a href='vscode-notebook-cell:/c%3A/Users/silvh/OneDrive/lighthouse/portfolio-projects/datajam-chatbot/chatbot_tuning/notebooks/2023-09-23%20refine%20langchain%20code.ipynb#Y131sZmlsZQ%3D%3D?line=51'>52</a>\u001b[0m answer_dict[conversation_id][input_id] \u001b[39m=\u001b[39m chat_with_chatbot(query, conversation_dict[conversation_id])\n\u001b[0;32m     <a href='vscode-notebook-cell:/c%3A/Users/silvh/OneDrive/lighthouse/portfolio-projects/datajam-chatbot/chatbot_tuning/notebooks/2023-09-23%20refine%20langchain%20code.ipynb#Y131sZmlsZQ%3D%3D?line=52'>53</a>\u001b[0m answer_dict[conversation_id][input_id]\n",
      "\u001b[1;32mc:\\Users\\silvh\\OneDrive\\lighthouse\\portfolio-projects\\datajam-chatbot\\chatbot_tuning\\notebooks\\2023-09-23 refine langchain code.ipynb Cell 52\u001b[0m line \u001b[0;36m4\n\u001b[0;32m     <a href='vscode-notebook-cell:/c%3A/Users/silvh/OneDrive/lighthouse/portfolio-projects/datajam-chatbot/chatbot_tuning/notebooks/2023-09-23%20refine%20langchain%20code.ipynb#Y131sZmlsZQ%3D%3D?line=39'>40</a>\u001b[0m \u001b[39mdef\u001b[39;00m \u001b[39mchat_with_chatbot\u001b[39m(user_input, agent_executor, verbose\u001b[39m=\u001b[39m\u001b[39mTrue\u001b[39;00m):\n\u001b[1;32m---> <a href='vscode-notebook-cell:/c%3A/Users/silvh/OneDrive/lighthouse/portfolio-projects/datajam-chatbot/chatbot_tuning/notebooks/2023-09-23%20refine%20langchain%20code.ipynb#Y131sZmlsZQ%3D%3D?line=40'>41</a>\u001b[0m     result \u001b[39m=\u001b[39m agent_executor({\u001b[39m\"\u001b[39m\u001b[39minput\u001b[39m\u001b[39m\"\u001b[39m: user_input})\n\u001b[0;32m     <a href='vscode-notebook-cell:/c%3A/Users/silvh/OneDrive/lighthouse/portfolio-projects/datajam-chatbot/chatbot_tuning/notebooks/2023-09-23%20refine%20langchain%20code.ipynb#Y131sZmlsZQ%3D%3D?line=42'>43</a>\u001b[0m     \u001b[39mreturn\u001b[39;00m result\n",
      "File \u001b[1;32mc:\\Users\\silvh\\.conda\\envs\\datajam\\Lib\\site-packages\\langchain\\chains\\base.py:294\u001b[0m, in \u001b[0;36mChain.__call__\u001b[1;34m(self, inputs, return_only_outputs, callbacks, tags, metadata, run_name, include_run_info)\u001b[0m\n\u001b[0;32m    292\u001b[0m     \u001b[39mraise\u001b[39;00m e\n\u001b[0;32m    293\u001b[0m run_manager\u001b[39m.\u001b[39mon_chain_end(outputs)\n\u001b[1;32m--> 294\u001b[0m final_outputs: Dict[\u001b[39mstr\u001b[39m, Any] \u001b[39m=\u001b[39m \u001b[39mself\u001b[39m\u001b[39m.\u001b[39mprep_outputs(\n\u001b[0;32m    295\u001b[0m     inputs, outputs, return_only_outputs\n\u001b[0;32m    296\u001b[0m )\n\u001b[0;32m    297\u001b[0m \u001b[39mif\u001b[39;00m include_run_info:\n\u001b[0;32m    298\u001b[0m     final_outputs[RUN_KEY] \u001b[39m=\u001b[39m RunInfo(run_id\u001b[39m=\u001b[39mrun_manager\u001b[39m.\u001b[39mrun_id)\n",
      "File \u001b[1;32mc:\\Users\\silvh\\.conda\\envs\\datajam\\Lib\\site-packages\\langchain\\chains\\base.py:390\u001b[0m, in \u001b[0;36mChain.prep_outputs\u001b[1;34m(self, inputs, outputs, return_only_outputs)\u001b[0m\n\u001b[0;32m    388\u001b[0m \u001b[39mself\u001b[39m\u001b[39m.\u001b[39m_validate_outputs(outputs)\n\u001b[0;32m    389\u001b[0m \u001b[39mif\u001b[39;00m \u001b[39mself\u001b[39m\u001b[39m.\u001b[39mmemory \u001b[39mis\u001b[39;00m \u001b[39mnot\u001b[39;00m \u001b[39mNone\u001b[39;00m:\n\u001b[1;32m--> 390\u001b[0m     \u001b[39mself\u001b[39m\u001b[39m.\u001b[39mmemory\u001b[39m.\u001b[39msave_context(inputs, outputs)\n\u001b[0;32m    391\u001b[0m \u001b[39mif\u001b[39;00m return_only_outputs:\n\u001b[0;32m    392\u001b[0m     \u001b[39mreturn\u001b[39;00m outputs\n",
      "File \u001b[1;32mc:\\Users\\silvh\\.conda\\envs\\datajam\\Lib\\site-packages\\langchain\\memory\\chat_memory.py:35\u001b[0m, in \u001b[0;36mBaseChatMemory.save_context\u001b[1;34m(self, inputs, outputs)\u001b[0m\n\u001b[0;32m     33\u001b[0m \u001b[39mdef\u001b[39;00m \u001b[39msave_context\u001b[39m(\u001b[39mself\u001b[39m, inputs: Dict[\u001b[39mstr\u001b[39m, Any], outputs: Dict[\u001b[39mstr\u001b[39m, \u001b[39mstr\u001b[39m]) \u001b[39m-\u001b[39m\u001b[39m>\u001b[39m \u001b[39mNone\u001b[39;00m:\n\u001b[0;32m     34\u001b[0m \u001b[39m    \u001b[39m\u001b[39m\"\"\"Save context from this conversation to buffer.\"\"\"\u001b[39;00m\n\u001b[1;32m---> 35\u001b[0m     input_str, output_str \u001b[39m=\u001b[39m \u001b[39mself\u001b[39m\u001b[39m.\u001b[39m_get_input_output(inputs, outputs)\n\u001b[0;32m     36\u001b[0m     \u001b[39mself\u001b[39m\u001b[39m.\u001b[39mchat_memory\u001b[39m.\u001b[39madd_user_message(input_str)\n\u001b[0;32m     37\u001b[0m     \u001b[39mself\u001b[39m\u001b[39m.\u001b[39mchat_memory\u001b[39m.\u001b[39madd_ai_message(output_str)\n",
      "File \u001b[1;32mc:\\Users\\silvh\\.conda\\envs\\datajam\\Lib\\site-packages\\langchain\\memory\\chat_memory.py:27\u001b[0m, in \u001b[0;36mBaseChatMemory._get_input_output\u001b[1;34m(self, inputs, outputs)\u001b[0m\n\u001b[0;32m     25\u001b[0m \u001b[39mif\u001b[39;00m \u001b[39mself\u001b[39m\u001b[39m.\u001b[39moutput_key \u001b[39mis\u001b[39;00m \u001b[39mNone\u001b[39;00m:\n\u001b[0;32m     26\u001b[0m     \u001b[39mif\u001b[39;00m \u001b[39mlen\u001b[39m(outputs) \u001b[39m!=\u001b[39m \u001b[39m1\u001b[39m:\n\u001b[1;32m---> 27\u001b[0m         \u001b[39mraise\u001b[39;00m \u001b[39mValueError\u001b[39;00m(\u001b[39mf\u001b[39m\u001b[39m\"\u001b[39m\u001b[39mOne output key expected, got \u001b[39m\u001b[39m{\u001b[39;00moutputs\u001b[39m.\u001b[39mkeys()\u001b[39m}\u001b[39;00m\u001b[39m\"\u001b[39m)\n\u001b[0;32m     28\u001b[0m     output_key \u001b[39m=\u001b[39m \u001b[39mlist\u001b[39m(outputs\u001b[39m.\u001b[39mkeys())[\u001b[39m0\u001b[39m]\n\u001b[0;32m     29\u001b[0m \u001b[39melse\u001b[39;00m:\n",
      "\u001b[1;31mValueError\u001b[0m: One output key expected, got dict_keys(['output', 'intermediate_steps'])"
     ]
    }
   ],
   "source": [
    "from langchain.agents.openai_functions_agent.base import OpenAIFunctionsAgent\n",
    "from langchain.schema.messages import SystemMessage\n",
    "from langchain.prompts import MessagesPlaceholder\n",
    "from langchain.agents import AgentExecutor\n",
    "\n",
    "def create_chatbot(tools=tools_list, vector_store=vector_dict['CoV'], verbose=True):\n",
    "\n",
    "    llm = ChatOpenAI(\n",
    "        temperature = 0,\n",
    "        openai_organization=os.environ['openai_organization'],\n",
    "        openai_api_key=os.environ['openai_api_key'],\n",
    "        )\n",
    "\n",
    "    agent_executor = create_conversational_retrieval_agent(llm, tools, verbose)\n",
    "    memory = ConversationBufferMemory(memory_key=\"chat_history\", return_messages=True)\n",
    "    system_message = SystemMessage(\n",
    "        content=(\"\"\"\n",
    "            You are a helpful assistant who provides concise answers to residents in Metro Vancouver, Canada.\n",
    "            You ask enough follow up questions as needed to provide the most relevant answer.\n",
    "            Where relevant, you retrieve the relevant information from your documents to answer the resident's question.\n",
    "            \"Respond to the resident's query, which are delimited by triple backticks: ```{question}```\n",
    "            \"\"\"\n",
    "        ),\n",
    "        input_variables=['question']\n",
    "    )\n",
    "    instruction_prompt = PromptTemplate.from_template(instructions)\n",
    "    prompt = OpenAIFunctionsAgent.create_prompt(\n",
    "        system_message=system_message,\n",
    "        extra_prompt_messages=[\n",
    "            MessagesPlaceholder(variable_name='chat_history')\n",
    "            ]\n",
    "    )\n",
    "\n",
    "    agent = OpenAIFunctionsAgent(llm=llm, tools=tools, prompt=prompt)\n",
    "    agent_executor = AgentExecutor(\n",
    "        agent=agent, tools=tools, memory=memory, verbose=verbose, return_intermediate_steps=True\n",
    "        )\n",
    "    return agent_executor\n",
    "\n",
    "def chat_with_chatbot(user_input, agent_executor, verbose=True):\n",
    "    result = agent_executor({\"input\": user_input})\n",
    "    \n",
    "    return result\n",
    "\n",
    "conversation_id = 3\n",
    "answer_id = 1\n",
    "answer_dict[conversation_id] = dict()\n",
    "input_id = 1\n",
    "\n",
    "query = \"Where do I recycle coffee cups in Vancouver?\"\n",
    "conversation_dict[conversation_id] = create_chatbot()\n",
    "answer_dict[conversation_id][input_id] = chat_with_chatbot(query, conversation_dict[conversation_id])\n",
    "answer_dict[conversation_id][input_id]"
   ]
  },
  {
   "cell_type": "markdown",
   "metadata": {},
   "source": [
    "## 3.4"
   ]
  },
  {
   "cell_type": "code",
   "execution_count": 117,
   "metadata": {},
   "outputs": [
    {
     "name": "stdout",
     "output_type": "stream",
     "text": [
      "\n",
      "\n",
      "\u001b[1m> Entering new AgentExecutor chain...\u001b[0m\n",
      "\u001b[32;1m\u001b[1;3m\n",
      "Invoking: `search_CoV` with `recycle coffee cups Vancouver`\n",
      "\n",
      "\n",
      "\u001b[0m\u001b[36;1m\u001b[1;3m[Document(page_content='City of Vancouver\\n\\nhttps://vancouver.ca/home\\n\\n\\n\\nproperty\\n\\n\\n\\ndevelopment/single\\n\\n\\n\\nfamily\\n\\n\\n\\nhomes\\n\\n\\n\\nand\\n\\n\\n\\nduplexes.aspx\\n\\nSingle family homes and duplexes We collect residential garbage, food scraps, and yard waste for single family homes and duplexes.\\n\\nYour household waste collection schedule is based on your location.\\n\\nRecycling: service is provided by GFL Environmental (formerly Smithrite Disposal Ltd) on behalf of Recycle BC External website, opens in new tab Phone 604-282-7966 or email srrecycle@gflenv.com about your recycling service, including:\\n\\nCollection questions or issues Replacing blue bins and recycling bags', metadata={'source': '..\\\\data\\\\Vancouver single family homes and duplexes.txt'}), Document(page_content='City of Vancouver\\n\\nhttps://vancouver.ca/home\\n\\n\\n\\nproperty\\n\\n\\n\\ndevelopment/apartments\\n\\n\\n\\ncondos\\n\\n\\n\\nand\\n\\n\\n\\ntownhomes.aspx\\n\\nApartments, condos, and townhomes\\n\\nWe do not provide waste collection services to most multi-unit buildings.\\n\\nHowever, we do provide information and resources to building owners and managers to manage waste at apartments, condos, and townhomes.\\n\\nWaste Management Canada collects your recycling on behalf of Recycle BC External website, opens in new tab Phone Waste Management Canada at 604-282-7961 for questions and issues about your recycling service.', metadata={'source': '..\\\\data\\\\Vancouver apartments condos townhomes.txt'})]\u001b[0m\u001b[32;1m\u001b[1;3mYou can recycle coffee cups in Vancouver through the recycling services provided by GFL Environmental (formerly Smithrite Disposal Ltd) on behalf of Recycle BC. You can contact them at 604-282-7966 or email srrecycle@gflenv.com for any questions or issues regarding your recycling service, including the recycling of coffee cups.\n",
      "\n",
      "Please note that this information is specific to single-family homes and duplexes. If you live in an apartment, condo, or townhome, Waste Management Canada collects recycling on behalf of Recycle BC. You can reach Waste Management Canada at 604-282-7961 for any questions or issues regarding your recycling service.\n",
      "\n",
      "Let me know if there's anything else I can help with!\u001b[0m\n",
      "\n",
      "\u001b[1m> Finished chain.\u001b[0m\n"
     ]
    },
    {
     "data": {
      "text/plain": [
       "{'input': 'Where do I recycle coffee cups in Vancouver?',\n",
       " 'chat_history': [HumanMessage(content='Where do I recycle coffee cups in Vancouver?', additional_kwargs={}, example=False),\n",
       "  AIMessage(content='', additional_kwargs={'function_call': {'name': 'search_CoV', 'arguments': '{\\n  \"__arg1\": \"recycle coffee cups Vancouver\"\\n}'}}, example=False),\n",
       "  FunctionMessage(content=\"[Document(page_content='City of Vancouver\\\\n\\\\nhttps://vancouver.ca/home\\\\n\\\\n\\\\n\\\\nproperty\\\\n\\\\n\\\\n\\\\ndevelopment/single\\\\n\\\\n\\\\n\\\\nfamily\\\\n\\\\n\\\\n\\\\nhomes\\\\n\\\\n\\\\n\\\\nand\\\\n\\\\n\\\\n\\\\nduplexes.aspx\\\\n\\\\nSingle family homes and duplexes We collect residential garbage, food scraps, and yard waste for single family homes and duplexes.\\\\n\\\\nYour household waste collection schedule is based on your location.\\\\n\\\\nRecycling: service is provided by GFL Environmental (formerly Smithrite Disposal Ltd) on behalf of Recycle BC External website, opens in new tab Phone 604-282-7966 or email srrecycle@gflenv.com about your recycling service, including:\\\\n\\\\nCollection questions or issues Replacing blue bins and recycling bags', metadata={'source': '..\\\\\\\\data\\\\\\\\Vancouver single family homes and duplexes.txt'}), Document(page_content='City of Vancouver\\\\n\\\\nhttps://vancouver.ca/home\\\\n\\\\n\\\\n\\\\nproperty\\\\n\\\\n\\\\n\\\\ndevelopment/apartments\\\\n\\\\n\\\\n\\\\ncondos\\\\n\\\\n\\\\n\\\\nand\\\\n\\\\n\\\\n\\\\ntownhomes.aspx\\\\n\\\\nApartments, condos, and townhomes\\\\n\\\\nWe do not provide waste collection services to most multi-unit buildings.\\\\n\\\\nHowever, we do provide information and resources to building owners and managers to manage waste at apartments, condos, and townhomes.\\\\n\\\\nWaste Management Canada collects your recycling on behalf of Recycle BC External website, opens in new tab Phone Waste Management Canada at 604-282-7961 for questions and issues about your recycling service.', metadata={'source': '..\\\\\\\\data\\\\\\\\Vancouver apartments condos townhomes.txt'})]\", additional_kwargs={}, name='search_CoV'),\n",
       "  AIMessage(content=\"You can recycle coffee cups in Vancouver through the recycling services provided by GFL Environmental (formerly Smithrite Disposal Ltd) on behalf of Recycle BC. You can contact them at 604-282-7966 or email srrecycle@gflenv.com for any questions or issues regarding your recycling service, including the recycling of coffee cups.\\n\\nPlease note that this information is specific to single-family homes and duplexes. If you live in an apartment, condo, or townhome, Waste Management Canada collects recycling on behalf of Recycle BC. You can reach Waste Management Canada at 604-282-7961 for any questions or issues regarding your recycling service.\\n\\nLet me know if there's anything else I can help with!\", additional_kwargs={}, example=False)],\n",
       " 'output': \"You can recycle coffee cups in Vancouver through the recycling services provided by GFL Environmental (formerly Smithrite Disposal Ltd) on behalf of Recycle BC. You can contact them at 604-282-7966 or email srrecycle@gflenv.com for any questions or issues regarding your recycling service, including the recycling of coffee cups.\\n\\nPlease note that this information is specific to single-family homes and duplexes. If you live in an apartment, condo, or townhome, Waste Management Canada collects recycling on behalf of Recycle BC. You can reach Waste Management Canada at 604-282-7961 for any questions or issues regarding your recycling service.\\n\\nLet me know if there's anything else I can help with!\",\n",
       " 'intermediate_steps': [(AgentActionMessageLog(tool='search_CoV', tool_input='recycle coffee cups Vancouver', log='\\nInvoking: `search_CoV` with `recycle coffee cups Vancouver`\\n\\n\\n', message_log=[AIMessage(content='', additional_kwargs={'function_call': {'name': 'search_CoV', 'arguments': '{\\n  \"__arg1\": \"recycle coffee cups Vancouver\"\\n}'}}, example=False)]),\n",
       "   [Document(page_content='City of Vancouver\\n\\nhttps://vancouver.ca/home\\n\\n\\n\\nproperty\\n\\n\\n\\ndevelopment/single\\n\\n\\n\\nfamily\\n\\n\\n\\nhomes\\n\\n\\n\\nand\\n\\n\\n\\nduplexes.aspx\\n\\nSingle family homes and duplexes We collect residential garbage, food scraps, and yard waste for single family homes and duplexes.\\n\\nYour household waste collection schedule is based on your location.\\n\\nRecycling: service is provided by GFL Environmental (formerly Smithrite Disposal Ltd) on behalf of Recycle BC External website, opens in new tab Phone 604-282-7966 or email srrecycle@gflenv.com about your recycling service, including:\\n\\nCollection questions or issues Replacing blue bins and recycling bags', metadata={'source': '..\\\\data\\\\Vancouver single family homes and duplexes.txt'}),\n",
       "    Document(page_content='City of Vancouver\\n\\nhttps://vancouver.ca/home\\n\\n\\n\\nproperty\\n\\n\\n\\ndevelopment/apartments\\n\\n\\n\\ncondos\\n\\n\\n\\nand\\n\\n\\n\\ntownhomes.aspx\\n\\nApartments, condos, and townhomes\\n\\nWe do not provide waste collection services to most multi-unit buildings.\\n\\nHowever, we do provide information and resources to building owners and managers to manage waste at apartments, condos, and townhomes.\\n\\nWaste Management Canada collects your recycling on behalf of Recycle BC External website, opens in new tab Phone Waste Management Canada at 604-282-7961 for questions and issues about your recycling service.', metadata={'source': '..\\\\data\\\\Vancouver apartments condos townhomes.txt'})])]}"
      ]
     },
     "execution_count": 117,
     "metadata": {},
     "output_type": "execute_result"
    }
   ],
   "source": [
    "from langchain.agents.openai_functions_agent.base import OpenAIFunctionsAgent\n",
    "from langchain.schema.messages import SystemMessage\n",
    "from langchain.prompts import MessagesPlaceholder\n",
    "from langchain.agents import AgentExecutor\n",
    "from langchain.agents.openai_functions_agent.agent_token_buffer_memory import AgentTokenBufferMemory\n",
    "\n",
    "def create_chatbot(tools=tools_list, vector_store=vector_dict['CoV'], verbose=True):\n",
    "\n",
    "    llm = ChatOpenAI(\n",
    "        temperature = 0,\n",
    "        openai_organization=os.environ['openai_organization'],\n",
    "        openai_api_key=os.environ['openai_api_key'],\n",
    "        )\n",
    "\n",
    "    agent_executor = create_conversational_retrieval_agent(llm, tools, verbose)\n",
    "    memory = AgentTokenBufferMemory(memory_key='chat_history', llm=llm)\n",
    "    system_message = SystemMessage(\n",
    "        content=(\"\"\"\n",
    "            You are a helpful assistant who provides concise answers to residents in Metro Vancouver, Canada.\n",
    "            You ask enough follow up questions as needed to provide the most relevant answer.\n",
    "            Where relevant, you retrieve the relevant information from your documents to answer the resident's question.\n",
    "            \"Respond to the resident's query, which are delimited by triple backticks: ```{question}```\n",
    "            \"\"\"\n",
    "        ),\n",
    "        input_variables=['question']\n",
    "    )\n",
    "    instruction_prompt = PromptTemplate.from_template(instructions)\n",
    "    prompt = OpenAIFunctionsAgent.create_prompt(\n",
    "        system_message=system_message,\n",
    "        extra_prompt_messages=[\n",
    "            MessagesPlaceholder(variable_name='chat_history')\n",
    "            ]\n",
    "    )\n",
    "\n",
    "    agent = OpenAIFunctionsAgent(llm=llm, tools=tools, prompt=prompt)\n",
    "    agent_executor = AgentExecutor(\n",
    "        agent=agent, tools=tools, memory=memory, verbose=verbose, return_intermediate_steps=True\n",
    "        )\n",
    "    return agent_executor\n",
    "\n",
    "def chat_with_chatbot(user_input, agent_executor, verbose=True):\n",
    "    result = agent_executor({\"input\": user_input})\n",
    "    \n",
    "    return result\n",
    "\n",
    "conversation_id = 3.4\n",
    "answer_id = 1\n",
    "answer_dict[conversation_id] = dict()\n",
    "input_id = 1\n",
    "\n",
    "query = \"Where do I recycle coffee cups in Vancouver?\"\n",
    "conversation_dict[conversation_id] = create_chatbot()\n",
    "answer_dict[conversation_id][input_id] = chat_with_chatbot(query, conversation_dict[conversation_id])\n",
    "answer_dict[conversation_id][input_id]"
   ]
  },
  {
   "cell_type": "code",
   "execution_count": 120,
   "metadata": {},
   "outputs": [
    {
     "data": {
      "text/plain": [
       "[HumanMessage(content='Where do I recycle coffee cups in Vancouver?', additional_kwargs={}, example=False),\n",
       " AIMessage(content='', additional_kwargs={'function_call': {'name': 'search_CoV', 'arguments': '{\\n  \"__arg1\": \"recycle coffee cups Vancouver\"\\n}'}}, example=False),\n",
       " FunctionMessage(content=\"[Document(page_content='City of Vancouver\\\\n\\\\nhttps://vancouver.ca/home\\\\n\\\\n\\\\n\\\\nproperty\\\\n\\\\n\\\\n\\\\ndevelopment/single\\\\n\\\\n\\\\n\\\\nfamily\\\\n\\\\n\\\\n\\\\nhomes\\\\n\\\\n\\\\n\\\\nand\\\\n\\\\n\\\\n\\\\nduplexes.aspx\\\\n\\\\nSingle family homes and duplexes We collect residential garbage, food scraps, and yard waste for single family homes and duplexes.\\\\n\\\\nYour household waste collection schedule is based on your location.\\\\n\\\\nRecycling: service is provided by GFL Environmental (formerly Smithrite Disposal Ltd) on behalf of Recycle BC External website, opens in new tab Phone 604-282-7966 or email srrecycle@gflenv.com about your recycling service, including:\\\\n\\\\nCollection questions or issues Replacing blue bins and recycling bags', metadata={'source': '..\\\\\\\\data\\\\\\\\Vancouver single family homes and duplexes.txt'}), Document(page_content='City of Vancouver\\\\n\\\\nhttps://vancouver.ca/home\\\\n\\\\n\\\\n\\\\nproperty\\\\n\\\\n\\\\n\\\\ndevelopment/apartments\\\\n\\\\n\\\\n\\\\ncondos\\\\n\\\\n\\\\n\\\\nand\\\\n\\\\n\\\\n\\\\ntownhomes.aspx\\\\n\\\\nApartments, condos, and townhomes\\\\n\\\\nWe do not provide waste collection services to most multi-unit buildings.\\\\n\\\\nHowever, we do provide information and resources to building owners and managers to manage waste at apartments, condos, and townhomes.\\\\n\\\\nWaste Management Canada collects your recycling on behalf of Recycle BC External website, opens in new tab Phone Waste Management Canada at 604-282-7961 for questions and issues about your recycling service.', metadata={'source': '..\\\\\\\\data\\\\\\\\Vancouver apartments condos townhomes.txt'})]\", additional_kwargs={}, name='search_CoV'),\n",
       " AIMessage(content=\"You can recycle coffee cups in Vancouver through the recycling services provided by GFL Environmental (formerly Smithrite Disposal Ltd) on behalf of Recycle BC. You can contact them at 604-282-7966 or email srrecycle@gflenv.com for any questions or issues regarding your recycling service, including the recycling of coffee cups.\\n\\nPlease note that this information is specific to single-family homes and duplexes. If you live in an apartment, condo, or townhome, Waste Management Canada collects recycling on behalf of Recycle BC. You can reach Waste Management Canada at 604-282-7961 for any questions or issues regarding your recycling service.\\n\\nLet me know if there's anything else I can help with!\", additional_kwargs={}, example=False)]"
      ]
     },
     "execution_count": 120,
     "metadata": {},
     "output_type": "execute_result"
    }
   ],
   "source": [
    "answer_dict[conversation_id][input_id]['chat_history']"
   ]
  },
  {
   "cell_type": "code",
   "execution_count": 121,
   "metadata": {},
   "outputs": [
    {
     "data": {
      "text/plain": [
       "\"You can recycle coffee cups in Vancouver through the recycling services provided by GFL Environmental (formerly Smithrite Disposal Ltd) on behalf of Recycle BC. You can contact them at 604-282-7966 or email srrecycle@gflenv.com for any questions or issues regarding your recycling service, including the recycling of coffee cups.\\n\\nPlease note that this information is specific to single-family homes and duplexes. If you live in an apartment, condo, or townhome, Waste Management Canada collects recycling on behalf of Recycle BC. You can reach Waste Management Canada at 604-282-7961 for any questions or issues regarding your recycling service.\\n\\nLet me know if there's anything else I can help with!\""
      ]
     },
     "execution_count": 121,
     "metadata": {},
     "output_type": "execute_result"
    }
   ],
   "source": [
    "answer_dict[conversation_id][input_id]['output']"
   ]
  },
  {
   "cell_type": "code",
   "execution_count": 122,
   "metadata": {},
   "outputs": [
    {
     "data": {
      "text/plain": [
       "[Document(page_content='City of Vancouver\\n\\nhttps://vancouver.ca/home\\n\\n\\n\\nproperty\\n\\n\\n\\ndevelopment/apartments\\n\\n\\n\\ncondos\\n\\n\\n\\nand\\n\\n\\n\\ntownhomes.aspx\\n\\nApartments, condos, and townhomes\\n\\nWe do not provide waste collection services to most multi-unit buildings.\\n\\nHowever, we do provide information and resources to building owners and managers to manage waste at apartments, condos, and townhomes.\\n\\nWaste Management Canada collects your recycling on behalf of Recycle BC External website, opens in new tab Phone Waste Management Canada at 604-282-7961 for questions and issues about your recycling service.', metadata={'source': '..\\\\data\\\\Vancouver apartments condos townhomes.txt'}),\n",
       " Document(page_content='City of Vancouver\\n\\nhttps://vancouver.ca/home\\n\\n\\n\\nproperty\\n\\n\\n\\ndevelopment/single\\n\\n\\n\\nfamily\\n\\n\\n\\nhomes\\n\\n\\n\\nand\\n\\n\\n\\nduplexes.aspx\\n\\nSingle family homes and duplexes We collect residential garbage, food scraps, and yard waste for single family homes and duplexes.\\n\\nYour household waste collection schedule is based on your location.\\n\\nRecycling: service is provided by GFL Environmental (formerly Smithrite Disposal Ltd) on behalf of Recycle BC External website, opens in new tab Phone 604-282-7966 or email srrecycle@gflenv.com about your recycling service, including:\\n\\nCollection questions or issues Replacing blue bins and recycling bags', metadata={'source': '..\\\\data\\\\Vancouver single family homes and duplexes.txt'})]"
      ]
     },
     "execution_count": 122,
     "metadata": {},
     "output_type": "execute_result"
    }
   ],
   "source": [
    "documents"
   ]
  },
  {
   "cell_type": "code",
   "execution_count": null,
   "metadata": {},
   "outputs": [],
   "source": [
    "query = \"Where do I recycle coffee cups in Vancouver?\"\n",
    "conversation_dict[conversation_id] = create_chatbot()\n",
    "answer_dict[conversation_id][input_id] = chat_with_chatbot(query, conversation_dict[conversation_id])\n",
    "answer_dict[conversation_id][input_id]"
   ]
  },
  {
   "cell_type": "markdown",
   "metadata": {},
   "source": [
    "## 3.5"
   ]
  },
  {
   "cell_type": "code",
   "execution_count": 123,
   "metadata": {},
   "outputs": [
    {
     "name": "stdout",
     "output_type": "stream",
     "text": [
      "\n",
      "\n",
      "\u001b[1m> Entering new AgentExecutor chain...\u001b[0m\n",
      "\u001b[32;1m\u001b[1;3m\n",
      "Invoking: `search_CoV` with `coffee cups`\n",
      "\n",
      "\n",
      "\u001b[0m\u001b[36;1m\u001b[1;3m[Document(page_content='City of Vancouver\\n\\nhttps://vancouver.ca/home\\n\\n\\n\\nproperty\\n\\n\\n\\ndevelopment/single\\n\\n\\n\\nfamily\\n\\n\\n\\nhomes\\n\\n\\n\\nand\\n\\n\\n\\nduplexes.aspx\\n\\nSingle family homes and duplexes We collect residential garbage, food scraps, and yard waste for single family homes and duplexes.\\n\\nYour household waste collection schedule is based on your location.\\n\\nRecycling: service is provided by GFL Environmental (formerly Smithrite Disposal Ltd) on behalf of Recycle BC External website, opens in new tab Phone 604-282-7966 or email srrecycle@gflenv.com about your recycling service, including:\\n\\nCollection questions or issues Replacing blue bins and recycling bags', metadata={'source': '..\\\\data\\\\Vancouver single family homes and duplexes.txt'}), Document(page_content='City of Vancouver\\n\\nhttps://vancouver.ca/home\\n\\n\\n\\nproperty\\n\\n\\n\\ndevelopment/apartments\\n\\n\\n\\ncondos\\n\\n\\n\\nand\\n\\n\\n\\ntownhomes.aspx\\n\\nApartments, condos, and townhomes\\n\\nWe do not provide waste collection services to most multi-unit buildings.\\n\\nHowever, we do provide information and resources to building owners and managers to manage waste at apartments, condos, and townhomes.\\n\\nWaste Management Canada collects your recycling on behalf of Recycle BC External website, opens in new tab Phone Waste Management Canada at 604-282-7961 for questions and issues about your recycling service.', metadata={'source': '..\\\\data\\\\Vancouver apartments condos townhomes.txt'})]\u001b[0m\u001b[32;1m\u001b[1;3mTo recycle coffee cups in Vancouver, you can follow these guidelines:\n",
      "\n",
      "1. For single-family homes and duplexes: The City of Vancouver provides waste collection services for residential garbage, food scraps, and yard waste. Recycling services are provided by GFL Environmental (formerly Smithrite Disposal Ltd) on behalf of Recycle BC. You can contact GFL Environmental at 604-282-7966 or email srrecycle@gflenv.com for any questions or issues regarding your recycling service, including coffee cup recycling.\n",
      "\n",
      "2. For apartments, condos, and townhomes: The City of Vancouver does not provide waste collection services to most multi-unit buildings. However, Waste Management Canada collects recycling on behalf of Recycle BC for apartments, condos, and townhomes. You can contact Waste Management Canada at 604-282-7961 for any questions or issues regarding your recycling service, including coffee cup recycling.\n",
      "\n",
      "Please note that it's important to check with your specific waste management service provider for any specific instructions or requirements for recycling coffee cups.\u001b[0m\n",
      "\n",
      "\u001b[1m> Finished chain.\u001b[0m\n"
     ]
    },
    {
     "data": {
      "text/plain": [
       "{'input': 'Where do I recycle coffee cups in Vancouver?',\n",
       " 'chat_history': [HumanMessage(content='Where do I recycle coffee cups in Vancouver?', additional_kwargs={}, example=False),\n",
       "  AIMessage(content='', additional_kwargs={'function_call': {'name': 'search_CoV', 'arguments': '{\\n  \"__arg1\": \"coffee cups\"\\n}'}}, example=False),\n",
       "  FunctionMessage(content=\"[Document(page_content='City of Vancouver\\\\n\\\\nhttps://vancouver.ca/home\\\\n\\\\n\\\\n\\\\nproperty\\\\n\\\\n\\\\n\\\\ndevelopment/single\\\\n\\\\n\\\\n\\\\nfamily\\\\n\\\\n\\\\n\\\\nhomes\\\\n\\\\n\\\\n\\\\nand\\\\n\\\\n\\\\n\\\\nduplexes.aspx\\\\n\\\\nSingle family homes and duplexes We collect residential garbage, food scraps, and yard waste for single family homes and duplexes.\\\\n\\\\nYour household waste collection schedule is based on your location.\\\\n\\\\nRecycling: service is provided by GFL Environmental (formerly Smithrite Disposal Ltd) on behalf of Recycle BC External website, opens in new tab Phone 604-282-7966 or email srrecycle@gflenv.com about your recycling service, including:\\\\n\\\\nCollection questions or issues Replacing blue bins and recycling bags', metadata={'source': '..\\\\\\\\data\\\\\\\\Vancouver single family homes and duplexes.txt'}), Document(page_content='City of Vancouver\\\\n\\\\nhttps://vancouver.ca/home\\\\n\\\\n\\\\n\\\\nproperty\\\\n\\\\n\\\\n\\\\ndevelopment/apartments\\\\n\\\\n\\\\n\\\\ncondos\\\\n\\\\n\\\\n\\\\nand\\\\n\\\\n\\\\n\\\\ntownhomes.aspx\\\\n\\\\nApartments, condos, and townhomes\\\\n\\\\nWe do not provide waste collection services to most multi-unit buildings.\\\\n\\\\nHowever, we do provide information and resources to building owners and managers to manage waste at apartments, condos, and townhomes.\\\\n\\\\nWaste Management Canada collects your recycling on behalf of Recycle BC External website, opens in new tab Phone Waste Management Canada at 604-282-7961 for questions and issues about your recycling service.', metadata={'source': '..\\\\\\\\data\\\\\\\\Vancouver apartments condos townhomes.txt'})]\", additional_kwargs={}, name='search_CoV'),\n",
       "  AIMessage(content=\"To recycle coffee cups in Vancouver, you can follow these guidelines:\\n\\n1. For single-family homes and duplexes: The City of Vancouver provides waste collection services for residential garbage, food scraps, and yard waste. Recycling services are provided by GFL Environmental (formerly Smithrite Disposal Ltd) on behalf of Recycle BC. You can contact GFL Environmental at 604-282-7966 or email srrecycle@gflenv.com for any questions or issues regarding your recycling service, including coffee cup recycling.\\n\\n2. For apartments, condos, and townhomes: The City of Vancouver does not provide waste collection services to most multi-unit buildings. However, Waste Management Canada collects recycling on behalf of Recycle BC for apartments, condos, and townhomes. You can contact Waste Management Canada at 604-282-7961 for any questions or issues regarding your recycling service, including coffee cup recycling.\\n\\nPlease note that it's important to check with your specific waste management service provider for any specific instructions or requirements for recycling coffee cups.\", additional_kwargs={}, example=False)],\n",
       " 'output': \"To recycle coffee cups in Vancouver, you can follow these guidelines:\\n\\n1. For single-family homes and duplexes: The City of Vancouver provides waste collection services for residential garbage, food scraps, and yard waste. Recycling services are provided by GFL Environmental (formerly Smithrite Disposal Ltd) on behalf of Recycle BC. You can contact GFL Environmental at 604-282-7966 or email srrecycle@gflenv.com for any questions or issues regarding your recycling service, including coffee cup recycling.\\n\\n2. For apartments, condos, and townhomes: The City of Vancouver does not provide waste collection services to most multi-unit buildings. However, Waste Management Canada collects recycling on behalf of Recycle BC for apartments, condos, and townhomes. You can contact Waste Management Canada at 604-282-7961 for any questions or issues regarding your recycling service, including coffee cup recycling.\\n\\nPlease note that it's important to check with your specific waste management service provider for any specific instructions or requirements for recycling coffee cups.\",\n",
       " 'intermediate_steps': [(AgentActionMessageLog(tool='search_CoV', tool_input='coffee cups', log='\\nInvoking: `search_CoV` with `coffee cups`\\n\\n\\n', message_log=[AIMessage(content='', additional_kwargs={'function_call': {'name': 'search_CoV', 'arguments': '{\\n  \"__arg1\": \"coffee cups\"\\n}'}}, example=False)]),\n",
       "   [Document(page_content='City of Vancouver\\n\\nhttps://vancouver.ca/home\\n\\n\\n\\nproperty\\n\\n\\n\\ndevelopment/single\\n\\n\\n\\nfamily\\n\\n\\n\\nhomes\\n\\n\\n\\nand\\n\\n\\n\\nduplexes.aspx\\n\\nSingle family homes and duplexes We collect residential garbage, food scraps, and yard waste for single family homes and duplexes.\\n\\nYour household waste collection schedule is based on your location.\\n\\nRecycling: service is provided by GFL Environmental (formerly Smithrite Disposal Ltd) on behalf of Recycle BC External website, opens in new tab Phone 604-282-7966 or email srrecycle@gflenv.com about your recycling service, including:\\n\\nCollection questions or issues Replacing blue bins and recycling bags', metadata={'source': '..\\\\data\\\\Vancouver single family homes and duplexes.txt'}),\n",
       "    Document(page_content='City of Vancouver\\n\\nhttps://vancouver.ca/home\\n\\n\\n\\nproperty\\n\\n\\n\\ndevelopment/apartments\\n\\n\\n\\ncondos\\n\\n\\n\\nand\\n\\n\\n\\ntownhomes.aspx\\n\\nApartments, condos, and townhomes\\n\\nWe do not provide waste collection services to most multi-unit buildings.\\n\\nHowever, we do provide information and resources to building owners and managers to manage waste at apartments, condos, and townhomes.\\n\\nWaste Management Canada collects your recycling on behalf of Recycle BC External website, opens in new tab Phone Waste Management Canada at 604-282-7961 for questions and issues about your recycling service.', metadata={'source': '..\\\\data\\\\Vancouver apartments condos townhomes.txt'})])]}"
      ]
     },
     "execution_count": 123,
     "metadata": {},
     "output_type": "execute_result"
    }
   ],
   "source": [
    "from langchain.agents.openai_functions_agent.base import OpenAIFunctionsAgent\n",
    "from langchain.schema.messages import SystemMessage\n",
    "from langchain.prompts import MessagesPlaceholder\n",
    "from langchain.agents import AgentExecutor\n",
    "from langchain.agents.openai_functions_agent.agent_token_buffer_memory import AgentTokenBufferMemory\n",
    "\n",
    "def create_chatbot(tools, verbose=True):\n",
    "\n",
    "    llm = ChatOpenAI(\n",
    "        temperature = 0,\n",
    "        openai_organization=os.environ['openai_organization'],\n",
    "        openai_api_key=os.environ['openai_api_key'],\n",
    "        )\n",
    "\n",
    "    agent_executor = create_conversational_retrieval_agent(llm, tools, verbose)\n",
    "    memory = AgentTokenBufferMemory(memory_key='chat_history', llm=llm)\n",
    "    system_message = SystemMessage(\n",
    "        content=(\"\"\"\n",
    "            You are a helpful assistant who provides concise answers to residents in Metro Vancouver, Canada.\n",
    "            You ask enough follow up questions as needed to provide the most relevant answer.\n",
    "            Where relevant, you retrieve the relevant information from your documents to answer the resident's question.\n",
    "            \"Respond to the resident's query, which are delimited by triple backticks: ```{question}```\n",
    "            \"\"\"\n",
    "        ),\n",
    "        input_variables=['question']\n",
    "    )\n",
    "    instruction_prompt = PromptTemplate.from_template(instructions)\n",
    "    prompt = OpenAIFunctionsAgent.create_prompt(\n",
    "        system_message=system_message,\n",
    "        extra_prompt_messages=[\n",
    "            MessagesPlaceholder(variable_name='chat_history')\n",
    "            ]\n",
    "    )\n",
    "\n",
    "    agent = OpenAIFunctionsAgent(llm=llm, tools=tools, prompt=prompt)\n",
    "    agent_executor = AgentExecutor(\n",
    "        agent=agent, tools=tools, memory=memory, verbose=verbose, return_intermediate_steps=True\n",
    "        )\n",
    "    return agent_executor\n",
    "\n",
    "def chat_with_chatbot(user_input, agent_executor, verbose=True):\n",
    "    result = agent_executor({\"input\": user_input})\n",
    "    \n",
    "    return result\n",
    "\n",
    "conversation_id = 3.4\n",
    "answer_dict[conversation_id] = dict()\n",
    "input_id = 1\n",
    "\n",
    "query = \"Where do I recycle coffee cups in Vancouver?\"\n",
    "conversation_dict[conversation_id] = create_chatbot(tools_list_dict[2])\n",
    "answer_dict[conversation_id][input_id] = chat_with_chatbot(query, conversation_dict[conversation_id])\n",
    "answer_dict[conversation_id][input_id]"
   ]
  },
  {
   "cell_type": "code",
   "execution_count": 124,
   "metadata": {},
   "outputs": [
    {
     "data": {
      "text/plain": [
       "[HumanMessage(content='Where do I recycle coffee cups in Vancouver?', additional_kwargs={}, example=False),\n",
       " AIMessage(content='', additional_kwargs={'function_call': {'name': 'search_CoV', 'arguments': '{\\n  \"__arg1\": \"coffee cups\"\\n}'}}, example=False),\n",
       " FunctionMessage(content=\"[Document(page_content='City of Vancouver\\\\n\\\\nhttps://vancouver.ca/home\\\\n\\\\n\\\\n\\\\nproperty\\\\n\\\\n\\\\n\\\\ndevelopment/single\\\\n\\\\n\\\\n\\\\nfamily\\\\n\\\\n\\\\n\\\\nhomes\\\\n\\\\n\\\\n\\\\nand\\\\n\\\\n\\\\n\\\\nduplexes.aspx\\\\n\\\\nSingle family homes and duplexes We collect residential garbage, food scraps, and yard waste for single family homes and duplexes.\\\\n\\\\nYour household waste collection schedule is based on your location.\\\\n\\\\nRecycling: service is provided by GFL Environmental (formerly Smithrite Disposal Ltd) on behalf of Recycle BC External website, opens in new tab Phone 604-282-7966 or email srrecycle@gflenv.com about your recycling service, including:\\\\n\\\\nCollection questions or issues Replacing blue bins and recycling bags', metadata={'source': '..\\\\\\\\data\\\\\\\\Vancouver single family homes and duplexes.txt'}), Document(page_content='City of Vancouver\\\\n\\\\nhttps://vancouver.ca/home\\\\n\\\\n\\\\n\\\\nproperty\\\\n\\\\n\\\\n\\\\ndevelopment/apartments\\\\n\\\\n\\\\n\\\\ncondos\\\\n\\\\n\\\\n\\\\nand\\\\n\\\\n\\\\n\\\\ntownhomes.aspx\\\\n\\\\nApartments, condos, and townhomes\\\\n\\\\nWe do not provide waste collection services to most multi-unit buildings.\\\\n\\\\nHowever, we do provide information and resources to building owners and managers to manage waste at apartments, condos, and townhomes.\\\\n\\\\nWaste Management Canada collects your recycling on behalf of Recycle BC External website, opens in new tab Phone Waste Management Canada at 604-282-7961 for questions and issues about your recycling service.', metadata={'source': '..\\\\\\\\data\\\\\\\\Vancouver apartments condos townhomes.txt'})]\", additional_kwargs={}, name='search_CoV'),\n",
       " AIMessage(content=\"To recycle coffee cups in Vancouver, you can follow these guidelines:\\n\\n1. For single-family homes and duplexes: The City of Vancouver provides waste collection services for residential garbage, food scraps, and yard waste. Recycling services are provided by GFL Environmental (formerly Smithrite Disposal Ltd) on behalf of Recycle BC. You can contact GFL Environmental at 604-282-7966 or email srrecycle@gflenv.com for any questions or issues regarding your recycling service, including coffee cup recycling.\\n\\n2. For apartments, condos, and townhomes: The City of Vancouver does not provide waste collection services to most multi-unit buildings. However, Waste Management Canada collects recycling on behalf of Recycle BC for apartments, condos, and townhomes. You can contact Waste Management Canada at 604-282-7961 for any questions or issues regarding your recycling service, including coffee cup recycling.\\n\\nPlease note that it's important to check with your specific waste management service provider for any specific instructions or requirements for recycling coffee cups.\", additional_kwargs={}, example=False)]"
      ]
     },
     "execution_count": 124,
     "metadata": {},
     "output_type": "execute_result"
    }
   ],
   "source": [
    "answer_dict[conversation_id][input_id]['chat_history']"
   ]
  },
  {
   "cell_type": "code",
   "execution_count": 125,
   "metadata": {},
   "outputs": [
    {
     "data": {
      "text/plain": [
       "\"To recycle coffee cups in Vancouver, you can follow these guidelines:\\n\\n1. For single-family homes and duplexes: The City of Vancouver provides waste collection services for residential garbage, food scraps, and yard waste. Recycling services are provided by GFL Environmental (formerly Smithrite Disposal Ltd) on behalf of Recycle BC. You can contact GFL Environmental at 604-282-7966 or email srrecycle@gflenv.com for any questions or issues regarding your recycling service, including coffee cup recycling.\\n\\n2. For apartments, condos, and townhomes: The City of Vancouver does not provide waste collection services to most multi-unit buildings. However, Waste Management Canada collects recycling on behalf of Recycle BC for apartments, condos, and townhomes. You can contact Waste Management Canada at 604-282-7961 for any questions or issues regarding your recycling service, including coffee cup recycling.\\n\\nPlease note that it's important to check with your specific waste management service provider for any specific instructions or requirements for recycling coffee cups.\""
      ]
     },
     "execution_count": 125,
     "metadata": {},
     "output_type": "execute_result"
    }
   ],
   "source": [
    "answer_dict[conversation_id][input_id]['output']"
   ]
  },
  {
   "cell_type": "code",
   "execution_count": 126,
   "metadata": {},
   "outputs": [
    {
     "data": {
      "text/plain": [
       "[Tool(name='search_CoV', description='Searches and returns documents regarding waste and recycling in the City of Vancouver.', args_schema=None, return_direct=False, verbose=False, callbacks=None, callback_manager=None, tags=None, metadata=None, handle_tool_error=False, func=<bound method BaseRetriever.get_relevant_documents of VectorStoreRetriever(tags=['FAISS'], metadata=None, vectorstore=<langchain.vectorstores.faiss.FAISS object at 0x00000226CA1DC5D0>, search_type='similarity', search_kwargs={})>, coroutine=<bound method BaseRetriever.aget_relevant_documents of VectorStoreRetriever(tags=['FAISS'], metadata=None, vectorstore=<langchain.vectorstores.faiss.FAISS object at 0x00000226CA1DC5D0>, search_type='similarity', search_kwargs={})>),\n",
       " Tool(name='search_recycle', description='\\nFrom the Recycle BC website, this document indicates whether or not an item is accepted for recycling and where to recycle it.\\n', args_schema=None, return_direct=False, verbose=False, callbacks=None, callback_manager=None, tags=None, metadata=None, handle_tool_error=False, func=<bound method BaseRetriever.get_relevant_documents of VectorStoreRetriever(tags=['FAISS'], metadata=None, vectorstore=<langchain.vectorstores.faiss.FAISS object at 0x00000226FB2BB5D0>, search_type='similarity', search_kwargs={})>, coroutine=<bound method BaseRetriever.aget_relevant_documents of VectorStoreRetriever(tags=['FAISS'], metadata=None, vectorstore=<langchain.vectorstores.faiss.FAISS object at 0x00000226FB2BB5D0>, search_type='similarity', search_kwargs={})>)]"
      ]
     },
     "execution_count": 126,
     "metadata": {},
     "output_type": "execute_result"
    }
   ],
   "source": [
    "tools_list_dict[2]"
   ]
  },
  {
   "cell_type": "markdown",
   "metadata": {},
   "source": [
    "### specify which document to check"
   ]
  },
  {
   "cell_type": "code",
   "execution_count": 127,
   "metadata": {},
   "outputs": [
    {
     "name": "stdout",
     "output_type": "stream",
     "text": [
      "\n",
      "\n",
      "\u001b[1m> Entering new AgentExecutor chain...\u001b[0m\n",
      "\u001b[32;1m\u001b[1;3m\n",
      "Invoking: `search_recycle` with `coffee cups`\n",
      "\n",
      "\n",
      "\u001b[0m\u001b[33;1m\u001b[1;3m[Document(page_content='Conclusion: Accepted\\nLocation: Curbside collection, Multi-family collection, Recycle BC depots\\nCategory: Cartons and Paper Cups\\nItem: Paper cups for hot and cold beverages', metadata={'source': '..\\\\data\\\\recyclebc.csv', 'row': 71}), Document(page_content='Conclusion: Not Accepted\\nLocation: \\nCategory: Plastic Containers\\nItem: Plastic or foil lids from coffee and tea pods', metadata={'source': '..\\\\data\\\\recyclebc.csv', 'row': 70}), Document(page_content='Conclusion: Accepted\\nLocation: Curbside collection, Multi-family collection, Recycle BC depots\\nCategory: Plastic Containers\\nItem: Empty single-use coffee and tea pods; remove lids and do not include lids with recycling', metadata={'source': '..\\\\data\\\\recyclebc.csv', 'row': 42}), Document(page_content='Conclusion: Accepted\\nLocation: Curbside collection, Multi-family collection, Recycle BC depots\\nCategory: Plastic Containers\\nItem: Plastic cold drink cups with lids for take-out beverages', metadata={'source': '..\\\\data\\\\recyclebc.csv', 'row': 38})]\u001b[0m\u001b[32;1m\u001b[1;3mAccording to Recycle BC, coffee cups for hot and cold beverages can be recycled in Vancouver. You can recycle them through curbside collection, multi-family collection, or at Recycle BC depots.\u001b[0m\n",
      "\n",
      "\u001b[1m> Finished chain.\u001b[0m\n"
     ]
    },
    {
     "data": {
      "text/plain": [
       "'According to Recycle BC, coffee cups for hot and cold beverages can be recycled in Vancouver. You can recycle them through curbside collection, multi-family collection, or at Recycle BC depots.'"
      ]
     },
     "execution_count": 127,
     "metadata": {},
     "output_type": "execute_result"
    }
   ],
   "source": [
    "input_id = 2\n",
    "query = \"According to Recycle BC, where do I recycle coffee cups in Vancouver?\"\n",
    "conversation_dict[conversation_id] = create_chatbot(tools_list_dict[2])\n",
    "answer_dict[conversation_id][input_id] = chat_with_chatbot(query, conversation_dict[conversation_id])\n",
    "answer_dict[conversation_id][input_id]['output']"
   ]
  },
  {
   "cell_type": "code",
   "execution_count": 128,
   "metadata": {},
   "outputs": [
    {
     "name": "stdout",
     "output_type": "stream",
     "text": [
      "\n",
      "\n",
      "\u001b[1m> Entering new AgentExecutor chain...\u001b[0m\n",
      "\u001b[32;1m\u001b[1;3m\n",
      "Invoking: `search_recycle` with `pop cans`\n",
      "\n",
      "\n",
      "\u001b[0m\u001b[33;1m\u001b[1;3m[Document(page_content='Conclusion: Accepted\\nLocation: Curbside collection, Multi-family collection, Recycle BC depots\\nCategory: Plastic Containers\\nItem: Plastic bottles with screw caps, spray pump, or pull-up tops for food, dish soap, mouthwash, shampoos, conditioners and other personal care products, pills and vitamins, laundry products, etc.', metadata={'source': '..\\\\data\\\\recyclebc.csv', 'row': 32}), Document(page_content='Conclusion: Accepted\\nLocation: Curbside collection, Multi-family collection, Recycle BC depots\\nCategory: Plastic Containers\\nItem: Plastic jars with wide mouths and screw-top lids for peanut butter, jam, nuts, condiments, vitamins and supplements, personal care products, etc.', metadata={'source': '..\\\\data\\\\recyclebc.csv', 'row': 33}), Document(page_content='Conclusion: Accepted\\nLocation: Curbside collection, Multi-family collection, Recycle BC depots\\nCategory: Plastic Containers\\nItem: Plastic jugs with screw tops used for cooking oil, laundry detergent and fabric softener, cleaning solutions, cleaning products, body care products, windshield washer fluid, etc.', metadata={'source': '..\\\\data\\\\recyclebc.csv', 'row': 31}), Document(page_content='Conclusion: Accepted\\nLocation: Curbside collection, Multi-family collection, Recycle BC depots\\nCategory: Plastic Containers\\nItem: Plastic cold drink cups with lids for take-out beverages', metadata={'source': '..\\\\data\\\\recyclebc.csv', 'row': 38})]\u001b[0m\u001b[32;1m\u001b[1;3mPop cans are not specifically mentioned in the recycling guidelines, but aluminum cans in general are accepted for recycling. You can recycle aluminum cans, including pop cans, through curbside collection, multi-family collection, and Recycle BC depots.\u001b[0m\n",
      "\n",
      "\u001b[1m> Finished chain.\u001b[0m\n"
     ]
    },
    {
     "data": {
      "text/plain": [
       "'Pop cans are not specifically mentioned in the recycling guidelines, but aluminum cans in general are accepted for recycling. You can recycle aluminum cans, including pop cans, through curbside collection, multi-family collection, and Recycle BC depots.'"
      ]
     },
     "execution_count": 128,
     "metadata": {},
     "output_type": "execute_result"
    }
   ],
   "source": [
    "input_id = 2.1\n",
    "query = \"How about pop cans?\"\n",
    "conversation_dict[conversation_id] = create_chatbot(tools_list_dict[2])\n",
    "answer_dict[conversation_id][input_id] = chat_with_chatbot(query, conversation_dict[conversation_id])\n",
    "answer_dict[conversation_id][input_id]['output']"
   ]
  },
  {
   "cell_type": "code",
   "execution_count": 131,
   "metadata": {},
   "outputs": [
    {
     "data": {
      "text/plain": [
       "[HumanMessage(content='How about pop cans?', additional_kwargs={}, example=False),\n",
       " AIMessage(content='', additional_kwargs={'function_call': {'name': 'search_recycle', 'arguments': '{\\n\"__arg1\": \"pop cans\"\\n}'}}, example=False),\n",
       " FunctionMessage(content=\"[Document(page_content='Conclusion: Accepted\\\\nLocation: Curbside collection, Multi-family collection, Recycle BC depots\\\\nCategory: Plastic Containers\\\\nItem: Plastic bottles with screw caps, spray pump, or pull-up tops for food, dish soap, mouthwash, shampoos, conditioners and other personal care products, pills and vitamins, laundry products, etc.', metadata={'source': '..\\\\\\\\data\\\\\\\\recyclebc.csv', 'row': 32}), Document(page_content='Conclusion: Accepted\\\\nLocation: Curbside collection, Multi-family collection, Recycle BC depots\\\\nCategory: Plastic Containers\\\\nItem: Plastic jars with wide mouths and screw-top lids for peanut butter, jam, nuts, condiments, vitamins and supplements, personal care products, etc.', metadata={'source': '..\\\\\\\\data\\\\\\\\recyclebc.csv', 'row': 33}), Document(page_content='Conclusion: Accepted\\\\nLocation: Curbside collection, Multi-family collection, Recycle BC depots\\\\nCategory: Plastic Containers\\\\nItem: Plastic jugs with screw tops used for cooking oil, laundry detergent and fabric softener, cleaning solutions, cleaning products, body care products, windshield washer fluid, etc.', metadata={'source': '..\\\\\\\\data\\\\\\\\recyclebc.csv', 'row': 31}), Document(page_content='Conclusion: Accepted\\\\nLocation: Curbside collection, Multi-family collection, Recycle BC depots\\\\nCategory: Plastic Containers\\\\nItem: Plastic cold drink cups with lids for take-out beverages', metadata={'source': '..\\\\\\\\data\\\\\\\\recyclebc.csv', 'row': 38})]\", additional_kwargs={}, name='search_recycle'),\n",
       " AIMessage(content='Pop cans are not specifically mentioned in the recycling guidelines, but aluminum cans in general are accepted for recycling. You can recycle aluminum cans, including pop cans, through curbside collection, multi-family collection, and Recycle BC depots.', additional_kwargs={}, example=False)]"
      ]
     },
     "execution_count": 131,
     "metadata": {},
     "output_type": "execute_result"
    }
   ],
   "source": [
    "answer_dict[conversation_id][input_id]['chat_history']"
   ]
  },
  {
   "cell_type": "code",
   "execution_count": 132,
   "metadata": {},
   "outputs": [
    {
     "data": {
      "text/plain": [
       "{'input': 'How about pop cans?',\n",
       " 'chat_history': [HumanMessage(content='How about pop cans?', additional_kwargs={}, example=False),\n",
       "  AIMessage(content='', additional_kwargs={'function_call': {'name': 'search_recycle', 'arguments': '{\\n\"__arg1\": \"pop cans\"\\n}'}}, example=False),\n",
       "  FunctionMessage(content=\"[Document(page_content='Conclusion: Accepted\\\\nLocation: Curbside collection, Multi-family collection, Recycle BC depots\\\\nCategory: Plastic Containers\\\\nItem: Plastic bottles with screw caps, spray pump, or pull-up tops for food, dish soap, mouthwash, shampoos, conditioners and other personal care products, pills and vitamins, laundry products, etc.', metadata={'source': '..\\\\\\\\data\\\\\\\\recyclebc.csv', 'row': 32}), Document(page_content='Conclusion: Accepted\\\\nLocation: Curbside collection, Multi-family collection, Recycle BC depots\\\\nCategory: Plastic Containers\\\\nItem: Plastic jars with wide mouths and screw-top lids for peanut butter, jam, nuts, condiments, vitamins and supplements, personal care products, etc.', metadata={'source': '..\\\\\\\\data\\\\\\\\recyclebc.csv', 'row': 33}), Document(page_content='Conclusion: Accepted\\\\nLocation: Curbside collection, Multi-family collection, Recycle BC depots\\\\nCategory: Plastic Containers\\\\nItem: Plastic jugs with screw tops used for cooking oil, laundry detergent and fabric softener, cleaning solutions, cleaning products, body care products, windshield washer fluid, etc.', metadata={'source': '..\\\\\\\\data\\\\\\\\recyclebc.csv', 'row': 31}), Document(page_content='Conclusion: Accepted\\\\nLocation: Curbside collection, Multi-family collection, Recycle BC depots\\\\nCategory: Plastic Containers\\\\nItem: Plastic cold drink cups with lids for take-out beverages', metadata={'source': '..\\\\\\\\data\\\\\\\\recyclebc.csv', 'row': 38})]\", additional_kwargs={}, name='search_recycle'),\n",
       "  AIMessage(content='Pop cans are not specifically mentioned in the recycling guidelines, but aluminum cans in general are accepted for recycling. You can recycle aluminum cans, including pop cans, through curbside collection, multi-family collection, and Recycle BC depots.', additional_kwargs={}, example=False)],\n",
       " 'output': 'Pop cans are not specifically mentioned in the recycling guidelines, but aluminum cans in general are accepted for recycling. You can recycle aluminum cans, including pop cans, through curbside collection, multi-family collection, and Recycle BC depots.',\n",
       " 'intermediate_steps': [(AgentActionMessageLog(tool='search_recycle', tool_input='pop cans', log='\\nInvoking: `search_recycle` with `pop cans`\\n\\n\\n', message_log=[AIMessage(content='', additional_kwargs={'function_call': {'name': 'search_recycle', 'arguments': '{\\n\"__arg1\": \"pop cans\"\\n}'}}, example=False)]),\n",
       "   [Document(page_content='Conclusion: Accepted\\nLocation: Curbside collection, Multi-family collection, Recycle BC depots\\nCategory: Plastic Containers\\nItem: Plastic bottles with screw caps, spray pump, or pull-up tops for food, dish soap, mouthwash, shampoos, conditioners and other personal care products, pills and vitamins, laundry products, etc.', metadata={'source': '..\\\\data\\\\recyclebc.csv', 'row': 32}),\n",
       "    Document(page_content='Conclusion: Accepted\\nLocation: Curbside collection, Multi-family collection, Recycle BC depots\\nCategory: Plastic Containers\\nItem: Plastic jars with wide mouths and screw-top lids for peanut butter, jam, nuts, condiments, vitamins and supplements, personal care products, etc.', metadata={'source': '..\\\\data\\\\recyclebc.csv', 'row': 33}),\n",
       "    Document(page_content='Conclusion: Accepted\\nLocation: Curbside collection, Multi-family collection, Recycle BC depots\\nCategory: Plastic Containers\\nItem: Plastic jugs with screw tops used for cooking oil, laundry detergent and fabric softener, cleaning solutions, cleaning products, body care products, windshield washer fluid, etc.', metadata={'source': '..\\\\data\\\\recyclebc.csv', 'row': 31}),\n",
       "    Document(page_content='Conclusion: Accepted\\nLocation: Curbside collection, Multi-family collection, Recycle BC depots\\nCategory: Plastic Containers\\nItem: Plastic cold drink cups with lids for take-out beverages', metadata={'source': '..\\\\data\\\\recyclebc.csv', 'row': 38})])]}"
      ]
     },
     "execution_count": 132,
     "metadata": {},
     "output_type": "execute_result"
    }
   ],
   "source": [
    "answer_dict[conversation_id][input_id]"
   ]
  },
  {
   "cell_type": "code",
   "execution_count": 137,
   "metadata": {},
   "outputs": [],
   "source": [
    "from pprint import pprint"
   ]
  },
  {
   "cell_type": "code",
   "execution_count": 140,
   "metadata": {},
   "outputs": [
    {
     "data": {
      "text/plain": [
       "[HumanMessage(content='How about pop cans?', additional_kwargs={}, example=False), AIMessage(content='', additional_kwargs={'function_call': {'name': 'search_recycle', 'arguments': '{\\n\"__arg1\": \"pop cans\"\\n}'}}, example=False), FunctionMessage(content=\"[Document(page_content='Conclusion: Accepted\\\\nLocation: Curbside collection, Multi-family collection, Recycle BC depots\\\\nCategory: Plastic Containers\\\\nItem: Plastic bottles with screw caps, spray pump, or pull-up tops for food, dish soap, mouthwash, shampoos, conditioners and other personal care products, pills and vitamins, laundry products, etc.', metadata={'source': '..\\\\\\\\data\\\\\\\\recyclebc.csv', 'row': 32}), Document(page_content='Conclusion: Accepted\\\\nLocation: Curbside collection, Multi-family collection, Recycle BC depots\\\\nCategory: Plastic Containers\\\\nItem: Plastic jars with wide mouths and screw-top lids for peanut butter, jam, nuts, condiments, vitamins and supplements, personal care products, etc.', metadata={'source': '..\\\\\\\\data\\\\\\\\recyclebc.csv', 'row': 33}), Document(page_content='Conclusion: Accepted\\\\nLocation: Curbside collection, Multi-family collection, Recycle BC depots\\\\nCategory: Plastic Containers\\\\nItem: Plastic jugs with screw tops used for cooking oil, laundry detergent and fabric softener, cleaning solutions, cleaning products, body care products, windshield washer fluid, etc.', metadata={'source': '..\\\\\\\\data\\\\\\\\recyclebc.csv', 'row': 31}), Document(page_content='Conclusion: Accepted\\\\nLocation: Curbside collection, Multi-family collection, Recycle BC depots\\\\nCategory: Plastic Containers\\\\nItem: Plastic cold drink cups with lids for take-out beverages', metadata={'source': '..\\\\\\\\data\\\\\\\\recyclebc.csv', 'row': 38})]\", additional_kwargs={}, name='search_recycle'), AIMessage(content='Pop cans are not specifically mentioned in the recycling guidelines, but aluminum cans in general are accepted for recycling. You can recycle aluminum cans, including pop cans, through curbside collection, multi-family collection, and Recycle BC depots.', additional_kwargs={}, example=False)]"
      ]
     },
     "execution_count": 140,
     "metadata": {},
     "output_type": "execute_result"
    }
   ],
   "source": [
    "conversation_dict[conversation_id].memory.chat_memory.messages"
   ]
  },
  {
   "cell_type": "code",
   "execution_count": 141,
   "metadata": {},
   "outputs": [
    {
     "name": "stdout",
     "output_type": "stream",
     "text": [
      "\n",
      "\n",
      "\u001b[1m> Entering new AgentExecutor chain...\u001b[0m\n",
      "\u001b[32;1m\u001b[1;3m\n",
      "Invoking: `search_CoV` with `pop cans`\n",
      "\n",
      "\n",
      "\u001b[0m\u001b[36;1m\u001b[1;3m[Document(page_content='City of Vancouver\\n\\nhttps://vancouver.ca/home\\n\\n\\n\\nproperty\\n\\n\\n\\ndevelopment/apartments\\n\\n\\n\\ncondos\\n\\n\\n\\nand\\n\\n\\n\\ntownhomes.aspx\\n\\nApartments, condos, and townhomes\\n\\nWe do not provide waste collection services to most multi-unit buildings.\\n\\nHowever, we do provide information and resources to building owners and managers to manage waste at apartments, condos, and townhomes.\\n\\nWaste Management Canada collects your recycling on behalf of Recycle BC External website, opens in new tab Phone Waste Management Canada at 604-282-7961 for questions and issues about your recycling service.', metadata={'source': '..\\\\data\\\\Vancouver apartments condos townhomes.txt'}), Document(page_content='City of Vancouver\\n\\nhttps://vancouver.ca/home\\n\\n\\n\\nproperty\\n\\n\\n\\ndevelopment/single\\n\\n\\n\\nfamily\\n\\n\\n\\nhomes\\n\\n\\n\\nand\\n\\n\\n\\nduplexes.aspx\\n\\nSingle family homes and duplexes We collect residential garbage, food scraps, and yard waste for single family homes and duplexes.\\n\\nYour household waste collection schedule is based on your location.\\n\\nRecycling: service is provided by GFL Environmental (formerly Smithrite Disposal Ltd) on behalf of Recycle BC External website, opens in new tab Phone 604-282-7966 or email srrecycle@gflenv.com about your recycling service, including:\\n\\nCollection questions or issues Replacing blue bins and recycling bags', metadata={'source': '..\\\\data\\\\Vancouver single family homes and duplexes.txt'})]\u001b[0m\u001b[32;1m\u001b[1;3mPop cans can be recycled in the City of Vancouver. For single-family homes and duplexes, recycling services are provided by GFL Environmental on behalf of Recycle BC. You can contact GFL Environmental at 604-282-7966 or email srrecycle@gflenv.com for any questions or issues regarding your recycling service, including the recycling of pop cans. For apartments, condos, and townhomes, waste collection services are not provided by the City of Vancouver. However, Waste Management Canada collects recycling on behalf of Recycle BC. You can contact Waste Management Canada at 604-282-7961 for any questions or issues about your recycling service.\u001b[0m\n",
      "\n",
      "\u001b[1m> Finished chain.\u001b[0m\n"
     ]
    },
    {
     "data": {
      "text/plain": [
       "'Pop cans can be recycled in the City of Vancouver. For single-family homes and duplexes, recycling services are provided by GFL Environmental on behalf of Recycle BC. You can contact GFL Environmental at 604-282-7966 or email srrecycle@gflenv.com for any questions or issues regarding your recycling service, including the recycling of pop cans. For apartments, condos, and townhomes, waste collection services are not provided by the City of Vancouver. However, Waste Management Canada collects recycling on behalf of Recycle BC. You can contact Waste Management Canada at 604-282-7961 for any questions or issues about your recycling service.'"
      ]
     },
     "execution_count": 141,
     "metadata": {},
     "output_type": "execute_result"
    }
   ],
   "source": [
    "\n",
    "\n",
    "def invoke_chatbot(user_input, agent_executor, verbose=True):\n",
    "    result = agent_executor({\"input\": user_input})\n",
    "    \n",
    "    return result\n",
    "\n",
    "\n",
    "answer_dict[conversation_id][input_id] = invoke_chatbot(query, conversation_dict[conversation_id])\n",
    "answer_dict[conversation_id][input_id]['output']"
   ]
  },
  {
   "cell_type": "code",
   "execution_count": 146,
   "metadata": {},
   "outputs": [
    {
     "name": "stdout",
     "output_type": "stream",
     "text": [
      "dict_keys(['input', 'chat_history', 'output', 'intermediate_steps'])\n"
     ]
    },
    {
     "data": {
      "text/plain": [
       "[HumanMessage(content='How about pop cans?', additional_kwargs={}, example=False), AIMessage(content='', additional_kwargs={'function_call': {'name': 'search_recycle', 'arguments': '{\\n\"__arg1\": \"pop cans\"\\n}'}}, example=False), FunctionMessage(content=\"[Document(page_content='Conclusion: Accepted\\\\nLocation: Curbside collection, Multi-family collection, Recycle BC depots\\\\nCategory: Plastic Containers\\\\nItem: Plastic bottles with screw caps, spray pump, or pull-up tops for food, dish soap, mouthwash, shampoos, conditioners and other personal care products, pills and vitamins, laundry products, etc.', metadata={'source': '..\\\\\\\\data\\\\\\\\recyclebc.csv', 'row': 32}), Document(page_content='Conclusion: Accepted\\\\nLocation: Curbside collection, Multi-family collection, Recycle BC depots\\\\nCategory: Plastic Containers\\\\nItem: Plastic jars with wide mouths and screw-top lids for peanut butter, jam, nuts, condiments, vitamins and supplements, personal care products, etc.', metadata={'source': '..\\\\\\\\data\\\\\\\\recyclebc.csv', 'row': 33}), Document(page_content='Conclusion: Accepted\\\\nLocation: Curbside collection, Multi-family collection, Recycle BC depots\\\\nCategory: Plastic Containers\\\\nItem: Plastic jugs with screw tops used for cooking oil, laundry detergent and fabric softener, cleaning solutions, cleaning products, body care products, windshield washer fluid, etc.', metadata={'source': '..\\\\\\\\data\\\\\\\\recyclebc.csv', 'row': 31}), Document(page_content='Conclusion: Accepted\\\\nLocation: Curbside collection, Multi-family collection, Recycle BC depots\\\\nCategory: Plastic Containers\\\\nItem: Plastic cold drink cups with lids for take-out beverages', metadata={'source': '..\\\\\\\\data\\\\\\\\recyclebc.csv', 'row': 38})]\", additional_kwargs={}, name='search_recycle'), AIMessage(content='Pop cans are not specifically mentioned in the recycling guidelines, but aluminum cans in general are accepted for recycling. You can recycle aluminum cans, including pop cans, through curbside collection, multi-family collection, and Recycle BC depots.', additional_kwargs={}, example=False), HumanMessage(content='How about pop cans?', additional_kwargs={}, example=False), AIMessage(content='', additional_kwargs={'function_call': {'name': 'search_CoV', 'arguments': '{\\n\"__arg1\": \"pop cans\"\\n}'}}, example=False), FunctionMessage(content=\"[Document(page_content='City of Vancouver\\\\n\\\\nhttps://vancouver.ca/home\\\\n\\\\n\\\\n\\\\nproperty\\\\n\\\\n\\\\n\\\\ndevelopment/apartments\\\\n\\\\n\\\\n\\\\ncondos\\\\n\\\\n\\\\n\\\\nand\\\\n\\\\n\\\\n\\\\ntownhomes.aspx\\\\n\\\\nApartments, condos, and townhomes\\\\n\\\\nWe do not provide waste collection services to most multi-unit buildings.\\\\n\\\\nHowever, we do provide information and resources to building owners and managers to manage waste at apartments, condos, and townhomes.\\\\n\\\\nWaste Management Canada collects your recycling on behalf of Recycle BC External website, opens in new tab Phone Waste Management Canada at 604-282-7961 for questions and issues about your recycling service.', metadata={'source': '..\\\\\\\\data\\\\\\\\Vancouver apartments condos townhomes.txt'}), Document(page_content='City of Vancouver\\\\n\\\\nhttps://vancouver.ca/home\\\\n\\\\n\\\\n\\\\nproperty\\\\n\\\\n\\\\n\\\\ndevelopment/single\\\\n\\\\n\\\\n\\\\nfamily\\\\n\\\\n\\\\n\\\\nhomes\\\\n\\\\n\\\\n\\\\nand\\\\n\\\\n\\\\n\\\\nduplexes.aspx\\\\n\\\\nSingle family homes and duplexes We collect residential garbage, food scraps, and yard waste for single family homes and duplexes.\\\\n\\\\nYour household waste collection schedule is based on your location.\\\\n\\\\nRecycling: service is provided by GFL Environmental (formerly Smithrite Disposal Ltd) on behalf of Recycle BC External website, opens in new tab Phone 604-282-7966 or email srrecycle@gflenv.com about your recycling service, including:\\\\n\\\\nCollection questions or issues Replacing blue bins and recycling bags', metadata={'source': '..\\\\\\\\data\\\\\\\\Vancouver single family homes and duplexes.txt'})]\", additional_kwargs={}, name='search_CoV'), AIMessage(content='Pop cans can be recycled in the City of Vancouver. For single-family homes and duplexes, recycling services are provided by GFL Environmental on behalf of Recycle BC. You can contact GFL Environmental at 604-282-7966 or email srrecycle@gflenv.com for any questions or issues regarding your recycling service, including the recycling of pop cans. For apartments, condos, and townhomes, waste collection services are not provided by the City of Vancouver. However, Waste Management Canada collects recycling on behalf of Recycle BC. You can contact Waste Management Canada at 604-282-7961 for any questions or issues about your recycling service.', additional_kwargs={}, example=False)]"
      ]
     },
     "execution_count": 146,
     "metadata": {},
     "output_type": "execute_result"
    }
   ],
   "source": [
    "print(answer_dict[conversation_id][input_id].keys())\n",
    "answer_dict[conversation_id][input_id]['chat_history']"
   ]
  },
  {
   "cell_type": "markdown",
   "metadata": {},
   "source": [
    "# iteration 4 get the memory"
   ]
  },
  {
   "cell_type": "code",
   "execution_count": 147,
   "metadata": {},
   "outputs": [
    {
     "name": "stdout",
     "output_type": "stream",
     "text": [
      "\n",
      "\n",
      "\u001b[1m> Entering new AgentExecutor chain...\u001b[0m\n",
      "\u001b[32;1m\u001b[1;3m\n",
      "Invoking: `search_CoV` with `coffee cups`\n",
      "\n",
      "\n",
      "\u001b[0m\u001b[36;1m\u001b[1;3m[Document(page_content='City of Vancouver\\n\\nhttps://vancouver.ca/home\\n\\n\\n\\nproperty\\n\\n\\n\\ndevelopment/single\\n\\n\\n\\nfamily\\n\\n\\n\\nhomes\\n\\n\\n\\nand\\n\\n\\n\\nduplexes.aspx\\n\\nSingle family homes and duplexes We collect residential garbage, food scraps, and yard waste for single family homes and duplexes.\\n\\nYour household waste collection schedule is based on your location.\\n\\nRecycling: service is provided by GFL Environmental (formerly Smithrite Disposal Ltd) on behalf of Recycle BC External website, opens in new tab Phone 604-282-7966 or email srrecycle@gflenv.com about your recycling service, including:\\n\\nCollection questions or issues Replacing blue bins and recycling bags', metadata={'source': '..\\\\data\\\\Vancouver single family homes and duplexes.txt'}), Document(page_content='City of Vancouver\\n\\nhttps://vancouver.ca/home\\n\\n\\n\\nproperty\\n\\n\\n\\ndevelopment/apartments\\n\\n\\n\\ncondos\\n\\n\\n\\nand\\n\\n\\n\\ntownhomes.aspx\\n\\nApartments, condos, and townhomes\\n\\nWe do not provide waste collection services to most multi-unit buildings.\\n\\nHowever, we do provide information and resources to building owners and managers to manage waste at apartments, condos, and townhomes.\\n\\nWaste Management Canada collects your recycling on behalf of Recycle BC External website, opens in new tab Phone Waste Management Canada at 604-282-7961 for questions and issues about your recycling service.', metadata={'source': '..\\\\data\\\\Vancouver apartments condos townhomes.txt'})]\u001b[0m\u001b[32;1m\u001b[1;3mTo recycle coffee cups in Vancouver, you can follow these guidelines:\n",
      "\n",
      "1. For single-family homes and duplexes: Recycling services for these types of residences are provided by GFL Environmental (formerly Smithrite Disposal Ltd) on behalf of Recycle BC. You can contact GFL Environmental at 604-282-7966 or email srrecycle@gflenv.com for any questions or issues regarding your recycling service, including coffee cup recycling.\n",
      "\n",
      "2. For apartments, condos, and townhomes: Waste Management Canada collects recycling for these types of buildings on behalf of Recycle BC. You can contact Waste Management Canada at 604-282-7961 for any questions or issues regarding your recycling service, including coffee cup recycling.\n",
      "\n",
      "Please note that it's important to check with your specific waste management provider for any specific instructions or requirements for recycling coffee cups.\u001b[0m\n",
      "\n",
      "\u001b[1m> Finished chain.\u001b[0m\n"
     ]
    },
    {
     "data": {
      "text/plain": [
       "{'input': 'Where do I recycle coffee cups in Vancouver?', 'chat_history': [HumanMessage(content='Where do I recycle coffee cups in Vancouver?', additional_kwargs={}, example=False), AIMessage(content='', additional_kwargs={'function_call': {'name': 'search_CoV', 'arguments': '{\\n  \"__arg1\": \"coffee cups\"\\n}'}}, example=False), FunctionMessage(content=\"[Document(page_content='City of Vancouver\\\\n\\\\nhttps://vancouver.ca/home\\\\n\\\\n\\\\n\\\\nproperty\\\\n\\\\n\\\\n\\\\ndevelopment/single\\\\n\\\\n\\\\n\\\\nfamily\\\\n\\\\n\\\\n\\\\nhomes\\\\n\\\\n\\\\n\\\\nand\\\\n\\\\n\\\\n\\\\nduplexes.aspx\\\\n\\\\nSingle family homes and duplexes We collect residential garbage, food scraps, and yard waste for single family homes and duplexes.\\\\n\\\\nYour household waste collection schedule is based on your location.\\\\n\\\\nRecycling: service is provided by GFL Environmental (formerly Smithrite Disposal Ltd) on behalf of Recycle BC External website, opens in new tab Phone 604-282-7966 or email srrecycle@gflenv.com about your recycling service, including:\\\\n\\\\nCollection questions or issues Replacing blue bins and recycling bags', metadata={'source': '..\\\\\\\\data\\\\\\\\Vancouver single family homes and duplexes.txt'}), Document(page_content='City of Vancouver\\\\n\\\\nhttps://vancouver.ca/home\\\\n\\\\n\\\\n\\\\nproperty\\\\n\\\\n\\\\n\\\\ndevelopment/apartments\\\\n\\\\n\\\\n\\\\ncondos\\\\n\\\\n\\\\n\\\\nand\\\\n\\\\n\\\\n\\\\ntownhomes.aspx\\\\n\\\\nApartments, condos, and townhomes\\\\n\\\\nWe do not provide waste collection services to most multi-unit buildings.\\\\n\\\\nHowever, we do provide information and resources to building owners and managers to manage waste at apartments, condos, and townhomes.\\\\n\\\\nWaste Management Canada collects your recycling on behalf of Recycle BC External website, opens in new tab Phone Waste Management Canada at 604-282-7961 for questions and issues about your recycling service.', metadata={'source': '..\\\\\\\\data\\\\\\\\Vancouver apartments condos townhomes.txt'})]\", additional_kwargs={}, name='search_CoV'), AIMessage(content=\"To recycle coffee cups in Vancouver, you can follow these guidelines:\\n\\n1. For single-family homes and duplexes: Recycling services for these types of residences are provided by GFL Environmental (formerly Smithrite Disposal Ltd) on behalf of Recycle BC. You can contact GFL Environmental at 604-282-7966 or email srrecycle@gflenv.com for any questions or issues regarding your recycling service, including coffee cup recycling.\\n\\n2. For apartments, condos, and townhomes: Waste Management Canada collects recycling for these types of buildings on behalf of Recycle BC. You can contact Waste Management Canada at 604-282-7961 for any questions or issues regarding your recycling service, including coffee cup recycling.\\n\\nPlease note that it's important to check with your specific waste management provider for any specific instructions or requirements for recycling coffee cups.\", additional_kwargs={}, example=False)], 'output': \"To recycle coffee cups in Vancouver, you can follow these guidelines:\\n\\n1. For single-family homes and duplexes: Recycling services for these types of residences are provided by GFL Environmental (formerly Smithrite Disposal Ltd) on behalf of Recycle BC. You can contact GFL Environmental at 604-282-7966 or email srrecycle@gflenv.com for any questions or issues regarding your recycling service, including coffee cup recycling.\\n\\n2. For apartments, condos, and townhomes: Waste Management Canada collects recycling for these types of buildings on behalf of Recycle BC. You can contact Waste Management Canada at 604-282-7961 for any questions or issues regarding your recycling service, including coffee cup recycling.\\n\\nPlease note that it's important to check with your specific waste management provider for any specific instructions or requirements for recycling coffee cups.\", 'intermediate_steps': [(AgentActionMessageLog(tool='search_CoV', tool_input='coffee cups', log='\\nInvoking: `search_CoV` with `coffee cups`\\n\\n\\n', message_log=[AIMessage(content='', additional_kwargs={'function_call': {'name': 'search_CoV', 'arguments': '{\\n  \"__arg1\": \"coffee cups\"\\n}'}}, example=False)]), [Document(page_content='City of Vancouver\\n\\nhttps://vancouver.ca/home\\n\\n\\n\\nproperty\\n\\n\\n\\ndevelopment/single\\n\\n\\n\\nfamily\\n\\n\\n\\nhomes\\n\\n\\n\\nand\\n\\n\\n\\nduplexes.aspx\\n\\nSingle family homes and duplexes We collect residential garbage, food scraps, and yard waste for single family homes and duplexes.\\n\\nYour household waste collection schedule is based on your location.\\n\\nRecycling: service is provided by GFL Environmental (formerly Smithrite Disposal Ltd) on behalf of Recycle BC External website, opens in new tab Phone 604-282-7966 or email srrecycle@gflenv.com about your recycling service, including:\\n\\nCollection questions or issues Replacing blue bins and recycling bags', metadata={'source': '..\\\\data\\\\Vancouver single family homes and duplexes.txt'}), Document(page_content='City of Vancouver\\n\\nhttps://vancouver.ca/home\\n\\n\\n\\nproperty\\n\\n\\n\\ndevelopment/apartments\\n\\n\\n\\ncondos\\n\\n\\n\\nand\\n\\n\\n\\ntownhomes.aspx\\n\\nApartments, condos, and townhomes\\n\\nWe do not provide waste collection services to most multi-unit buildings.\\n\\nHowever, we do provide information and resources to building owners and managers to manage waste at apartments, condos, and townhomes.\\n\\nWaste Management Canada collects your recycling on behalf of Recycle BC External website, opens in new tab Phone Waste Management Canada at 604-282-7961 for questions and issues about your recycling service.', metadata={'source': '..\\\\data\\\\Vancouver apartments condos townhomes.txt'})])]}"
      ]
     },
     "execution_count": 147,
     "metadata": {},
     "output_type": "execute_result"
    }
   ],
   "source": [
    "from langchain.agents.openai_functions_agent.base import OpenAIFunctionsAgent\n",
    "from langchain.schema.messages import SystemMessage\n",
    "from langchain.prompts import MessagesPlaceholder\n",
    "from langchain.agents import AgentExecutor\n",
    "from langchain.agents.openai_functions_agent.agent_token_buffer_memory import AgentTokenBufferMemory\n",
    "\n",
    "def create_chatbot(tools, verbose=True):\n",
    "\n",
    "    llm = ChatOpenAI(\n",
    "        temperature = 0,\n",
    "        openai_organization=os.environ['openai_organization'],\n",
    "        openai_api_key=os.environ['openai_api_key'],\n",
    "        )\n",
    "\n",
    "    agent_executor = create_conversational_retrieval_agent(llm, tools, verbose)\n",
    "    memory = AgentTokenBufferMemory(memory_key='chat_history', llm=llm)\n",
    "    system_message = SystemMessage(\n",
    "        content=(\"\"\"\n",
    "            You are a helpful assistant who provides concise answers to residents in Metro Vancouver, Canada.\n",
    "            You ask enough follow up questions as needed to provide the most relevant answer.\n",
    "            Where relevant, you retrieve the relevant information from your documents to answer the resident's question.\n",
    "            Recycle BC is the main resource for recycling information for residents of British Columbia. \n",
    "            Other documents provide additional information not found through Recycle BC.\n",
    "            Respond to the resident's query, which are delimited by triple backticks: ```{question}```\n",
    "            \"\"\"\n",
    "        ),\n",
    "        input_variables=['question']\n",
    "    )\n",
    "    instruction_prompt = PromptTemplate.from_template(instructions)\n",
    "    prompt = OpenAIFunctionsAgent.create_prompt(\n",
    "        system_message=system_message,\n",
    "        extra_prompt_messages=[\n",
    "            MessagesPlaceholder(variable_name='chat_history')\n",
    "            ]\n",
    "    )\n",
    "\n",
    "    agent = OpenAIFunctionsAgent(llm=llm, tools=tools, prompt=prompt)\n",
    "    agent_executor = AgentExecutor(\n",
    "        agent=agent, tools=tools, memory=memory, verbose=verbose, return_intermediate_steps=True\n",
    "        )\n",
    "    agent_info = {\n",
    "        'agent': agent,\n",
    "        'agent_executor': agent_executor,\n",
    "        'memory': memory,\n",
    "    }\n",
    "    return agent_info\n",
    "\n",
    "def chat_with_chatbot(user_input, agent_info, verbose=True):\n",
    "    result = agent_info['agent_executor']({\"input\": user_input})\n",
    "    \n",
    "    return result\n",
    "\n",
    "conversation_id = 4\n",
    "answer_dict[conversation_id] = dict()\n",
    "input_id = 1\n",
    "\n",
    "query = \"Where do I recycle coffee cups in Vancouver?\"\n",
    "conversation_dict[conversation_id] = create_chatbot(tools_list_dict[2])\n",
    "answer_dict[conversation_id][input_id] = chat_with_chatbot(query, conversation_dict[conversation_id])\n",
    "answer_dict[conversation_id][input_id]"
   ]
  },
  {
   "cell_type": "code",
   "execution_count": 149,
   "metadata": {},
   "outputs": [
    {
     "data": {
      "text/plain": [
       "\"To recycle coffee cups in Vancouver, you can follow these guidelines:\\n\\n1. For single-family homes and duplexes: Recycling services for these types of residences are provided by GFL Environmental (formerly Smithrite Disposal Ltd) on behalf of Recycle BC. You can contact GFL Environmental at 604-282-7966 or email srrecycle@gflenv.com for any questions or issues regarding your recycling service, including coffee cup recycling.\\n\\n2. For apartments, condos, and townhomes: Waste Management Canada collects recycling for these types of buildings on behalf of Recycle BC. You can contact Waste Management Canada at 604-282-7961 for any questions or issues regarding your recycling service, including coffee cup recycling.\\n\\nPlease note that it's important to check with your specific waste management provider for any specific instructions or requirements for recycling coffee cups.\""
      ]
     },
     "execution_count": 149,
     "metadata": {},
     "output_type": "execute_result"
    }
   ],
   "source": [
    "answer_dict[conversation_id][input_id]['output']"
   ]
  },
  {
   "cell_type": "code",
   "execution_count": 150,
   "metadata": {},
   "outputs": [
    {
     "data": {
      "text/plain": [
       "[HumanMessage(content='Where do I recycle coffee cups in Vancouver?', additional_kwargs={}, example=False), AIMessage(content='', additional_kwargs={'function_call': {'name': 'search_CoV', 'arguments': '{\\n  \"__arg1\": \"coffee cups\"\\n}'}}, example=False), FunctionMessage(content=\"[Document(page_content='City of Vancouver\\\\n\\\\nhttps://vancouver.ca/home\\\\n\\\\n\\\\n\\\\nproperty\\\\n\\\\n\\\\n\\\\ndevelopment/single\\\\n\\\\n\\\\n\\\\nfamily\\\\n\\\\n\\\\n\\\\nhomes\\\\n\\\\n\\\\n\\\\nand\\\\n\\\\n\\\\n\\\\nduplexes.aspx\\\\n\\\\nSingle family homes and duplexes We collect residential garbage, food scraps, and yard waste for single family homes and duplexes.\\\\n\\\\nYour household waste collection schedule is based on your location.\\\\n\\\\nRecycling: service is provided by GFL Environmental (formerly Smithrite Disposal Ltd) on behalf of Recycle BC External website, opens in new tab Phone 604-282-7966 or email srrecycle@gflenv.com about your recycling service, including:\\\\n\\\\nCollection questions or issues Replacing blue bins and recycling bags', metadata={'source': '..\\\\\\\\data\\\\\\\\Vancouver single family homes and duplexes.txt'}), Document(page_content='City of Vancouver\\\\n\\\\nhttps://vancouver.ca/home\\\\n\\\\n\\\\n\\\\nproperty\\\\n\\\\n\\\\n\\\\ndevelopment/apartments\\\\n\\\\n\\\\n\\\\ncondos\\\\n\\\\n\\\\n\\\\nand\\\\n\\\\n\\\\n\\\\ntownhomes.aspx\\\\n\\\\nApartments, condos, and townhomes\\\\n\\\\nWe do not provide waste collection services to most multi-unit buildings.\\\\n\\\\nHowever, we do provide information and resources to building owners and managers to manage waste at apartments, condos, and townhomes.\\\\n\\\\nWaste Management Canada collects your recycling on behalf of Recycle BC External website, opens in new tab Phone Waste Management Canada at 604-282-7961 for questions and issues about your recycling service.', metadata={'source': '..\\\\\\\\data\\\\\\\\Vancouver apartments condos townhomes.txt'})]\", additional_kwargs={}, name='search_CoV'), AIMessage(content=\"To recycle coffee cups in Vancouver, you can follow these guidelines:\\n\\n1. For single-family homes and duplexes: Recycling services for these types of residences are provided by GFL Environmental (formerly Smithrite Disposal Ltd) on behalf of Recycle BC. You can contact GFL Environmental at 604-282-7966 or email srrecycle@gflenv.com for any questions or issues regarding your recycling service, including coffee cup recycling.\\n\\n2. For apartments, condos, and townhomes: Waste Management Canada collects recycling for these types of buildings on behalf of Recycle BC. You can contact Waste Management Canada at 604-282-7961 for any questions or issues regarding your recycling service, including coffee cup recycling.\\n\\nPlease note that it's important to check with your specific waste management provider for any specific instructions or requirements for recycling coffee cups.\", additional_kwargs={}, example=False)]"
      ]
     },
     "execution_count": 150,
     "metadata": {},
     "output_type": "execute_result"
    }
   ],
   "source": [
    "conversation_dict[conversation_id]['memory'].chat_memory.messages"
   ]
  },
  {
   "cell_type": "code",
   "execution_count": 151,
   "metadata": {},
   "outputs": [
    {
     "name": "stdout",
     "output_type": "stream",
     "text": [
      "\n",
      "\n",
      "\u001b[1m> Entering new AgentExecutor chain...\u001b[0m\n",
      "\u001b[32;1m\u001b[1;3mI'm sorry, could you please clarify what \"that\" refers to?\u001b[0m\n",
      "\n",
      "\u001b[1m> Finished chain.\u001b[0m\n"
     ]
    },
    {
     "data": {
      "text/plain": [
       "{'input': 'What does Recycle BC say about that?', 'chat_history': [HumanMessage(content='What does Recycle BC say about that?', additional_kwargs={}, example=False), AIMessage(content='I\\'m sorry, could you please clarify what \"that\" refers to?', additional_kwargs={}, example=False)], 'output': 'I\\'m sorry, could you please clarify what \"that\" refers to?', 'intermediate_steps': []}"
      ]
     },
     "execution_count": 151,
     "metadata": {},
     "output_type": "execute_result"
    }
   ],
   "source": [
    "conversation_id = 4\n",
    "answer_dict[conversation_id] = dict()\n",
    "input_id = 1.1\n",
    "\n",
    "query = \"What does Recycle BC say about that?\"\n",
    "conversation_dict[conversation_id] = create_chatbot(tools_list_dict[2])\n",
    "answer_dict[conversation_id][input_id] = chat_with_chatbot(query, conversation_dict[conversation_id])\n",
    "answer_dict[conversation_id][input_id]"
   ]
  },
  {
   "cell_type": "code",
   "execution_count": 152,
   "metadata": {},
   "outputs": [
    {
     "data": {
      "text/plain": [
       "'I\\'m sorry, could you please clarify what \"that\" refers to?'"
      ]
     },
     "execution_count": 152,
     "metadata": {},
     "output_type": "execute_result"
    }
   ],
   "source": [
    "answer_dict[conversation_id][input_id]['output']"
   ]
  },
  {
   "cell_type": "code",
   "execution_count": 153,
   "metadata": {},
   "outputs": [
    {
     "name": "stdout",
     "output_type": "stream",
     "text": [
      "\n",
      "\n",
      "\u001b[1m> Entering new AgentExecutor chain...\u001b[0m\n",
      "\u001b[32;1m\u001b[1;3mAre you asking about coffee cups and their recycling options?\u001b[0m\n",
      "\n",
      "\u001b[1m> Finished chain.\u001b[0m\n"
     ]
    },
    {
     "data": {
      "text/plain": [
       "{'input': 'About coffee ups', 'chat_history': [HumanMessage(content='About coffee ups', additional_kwargs={}, example=False), AIMessage(content='Are you asking about coffee cups and their recycling options?', additional_kwargs={}, example=False)], 'output': 'Are you asking about coffee cups and their recycling options?', 'intermediate_steps': []}"
      ]
     },
     "execution_count": 153,
     "metadata": {},
     "output_type": "execute_result"
    }
   ],
   "source": [
    "conversation_id = 4\n",
    "answer_dict[conversation_id] = dict()\n",
    "input_id = 1.2\n",
    "\n",
    "query = \"About coffee ups\"\n",
    "conversation_dict[conversation_id] = create_chatbot(tools_list_dict[2])\n",
    "answer_dict[conversation_id][input_id] = chat_with_chatbot(query, conversation_dict[conversation_id])\n",
    "answer_dict[conversation_id][input_id]"
   ]
  },
  {
   "cell_type": "code",
   "execution_count": 154,
   "metadata": {},
   "outputs": [
    {
     "data": {
      "text/plain": [
       "'Are you asking about coffee cups and their recycling options?'"
      ]
     },
     "execution_count": 154,
     "metadata": {},
     "output_type": "execute_result"
    }
   ],
   "source": [
    "answer_dict[conversation_id][input_id]['output']"
   ]
  },
  {
   "cell_type": "markdown",
   "metadata": {},
   "source": [
    "## 4.1 Previous iterations did not save chat history\n",
    "Memory was only for intermediate steps."
   ]
  },
  {
   "cell_type": "code",
   "execution_count": 157,
   "metadata": {},
   "outputs": [
    {
     "name": "stdout",
     "output_type": "stream",
     "text": [
      "\n",
      "\n",
      "\u001b[1m> Entering new AgentExecutor chain...\u001b[0m\n",
      "\u001b[32;1m\u001b[1;3m\n",
      "Invoking: `search_CoV` with `coffee cups`\n",
      "\n",
      "\n",
      "\u001b[0m\u001b[36;1m\u001b[1;3m[Document(page_content='City of Vancouver\\n\\nhttps://vancouver.ca/home\\n\\n\\n\\nproperty\\n\\n\\n\\ndevelopment/single\\n\\n\\n\\nfamily\\n\\n\\n\\nhomes\\n\\n\\n\\nand\\n\\n\\n\\nduplexes.aspx\\n\\nSingle family homes and duplexes We collect residential garbage, food scraps, and yard waste for single family homes and duplexes.\\n\\nYour household waste collection schedule is based on your location.\\n\\nRecycling: service is provided by GFL Environmental (formerly Smithrite Disposal Ltd) on behalf of Recycle BC External website, opens in new tab Phone 604-282-7966 or email srrecycle@gflenv.com about your recycling service, including:\\n\\nCollection questions or issues Replacing blue bins and recycling bags', metadata={'source': '..\\\\data\\\\Vancouver single family homes and duplexes.txt'}), Document(page_content='City of Vancouver\\n\\nhttps://vancouver.ca/home\\n\\n\\n\\nproperty\\n\\n\\n\\ndevelopment/apartments\\n\\n\\n\\ncondos\\n\\n\\n\\nand\\n\\n\\n\\ntownhomes.aspx\\n\\nApartments, condos, and townhomes\\n\\nWe do not provide waste collection services to most multi-unit buildings.\\n\\nHowever, we do provide information and resources to building owners and managers to manage waste at apartments, condos, and townhomes.\\n\\nWaste Management Canada collects your recycling on behalf of Recycle BC External website, opens in new tab Phone Waste Management Canada at 604-282-7961 for questions and issues about your recycling service.', metadata={'source': '..\\\\data\\\\Vancouver apartments condos townhomes.txt'})]\u001b[0m\u001b[32;1m\u001b[1;3mTo recycle coffee cups in Vancouver, you can follow these guidelines based on the type of residence:\n",
      "\n",
      "1. Single family homes and duplexes: Recycling services for these types of residences are provided by GFL Environmental (formerly Smithrite Disposal Ltd) on behalf of Recycle BC. You can contact GFL Environmental at 604-282-7966 or email srrecycle@gflenv.com for any questions or issues regarding your recycling service, including coffee cup recycling.\n",
      "\n",
      "2. Apartments, condos, and townhomes: Waste Management Canada collects recycling for most multi-unit buildings on behalf of Recycle BC. You can contact Waste Management Canada at 604-282-7961 for any questions or issues regarding your recycling service, including coffee cup recycling.\n",
      "\n",
      "Please note that it's always a good idea to rinse out the coffee cups before recycling them to ensure they are clean.\u001b[0m\n",
      "\n",
      "\u001b[1m> Finished chain.\u001b[0m\n"
     ]
    },
    {
     "data": {
      "text/plain": [
       "{'input': 'Where do I recycle coffee cups in Vancouver?', 'chat_history': [HumanMessage(content='Where do I recycle coffee cups in Vancouver?', additional_kwargs={}, example=False), AIMessage(content='', additional_kwargs={'function_call': {'name': 'search_CoV', 'arguments': '{\\n  \"__arg1\": \"coffee cups\"\\n}'}}, example=False), FunctionMessage(content=\"[Document(page_content='City of Vancouver\\\\n\\\\nhttps://vancouver.ca/home\\\\n\\\\n\\\\n\\\\nproperty\\\\n\\\\n\\\\n\\\\ndevelopment/single\\\\n\\\\n\\\\n\\\\nfamily\\\\n\\\\n\\\\n\\\\nhomes\\\\n\\\\n\\\\n\\\\nand\\\\n\\\\n\\\\n\\\\nduplexes.aspx\\\\n\\\\nSingle family homes and duplexes We collect residential garbage, food scraps, and yard waste for single family homes and duplexes.\\\\n\\\\nYour household waste collection schedule is based on your location.\\\\n\\\\nRecycling: service is provided by GFL Environmental (formerly Smithrite Disposal Ltd) on behalf of Recycle BC External website, opens in new tab Phone 604-282-7966 or email srrecycle@gflenv.com about your recycling service, including:\\\\n\\\\nCollection questions or issues Replacing blue bins and recycling bags', metadata={'source': '..\\\\\\\\data\\\\\\\\Vancouver single family homes and duplexes.txt'}), Document(page_content='City of Vancouver\\\\n\\\\nhttps://vancouver.ca/home\\\\n\\\\n\\\\n\\\\nproperty\\\\n\\\\n\\\\n\\\\ndevelopment/apartments\\\\n\\\\n\\\\n\\\\ncondos\\\\n\\\\n\\\\n\\\\nand\\\\n\\\\n\\\\n\\\\ntownhomes.aspx\\\\n\\\\nApartments, condos, and townhomes\\\\n\\\\nWe do not provide waste collection services to most multi-unit buildings.\\\\n\\\\nHowever, we do provide information and resources to building owners and managers to manage waste at apartments, condos, and townhomes.\\\\n\\\\nWaste Management Canada collects your recycling on behalf of Recycle BC External website, opens in new tab Phone Waste Management Canada at 604-282-7961 for questions and issues about your recycling service.', metadata={'source': '..\\\\\\\\data\\\\\\\\Vancouver apartments condos townhomes.txt'})]\", additional_kwargs={}, name='search_CoV'), AIMessage(content=\"To recycle coffee cups in Vancouver, you can follow these guidelines based on the type of residence:\\n\\n1. Single family homes and duplexes: Recycling services for these types of residences are provided by GFL Environmental (formerly Smithrite Disposal Ltd) on behalf of Recycle BC. You can contact GFL Environmental at 604-282-7966 or email srrecycle@gflenv.com for any questions or issues regarding your recycling service, including coffee cup recycling.\\n\\n2. Apartments, condos, and townhomes: Waste Management Canada collects recycling for most multi-unit buildings on behalf of Recycle BC. You can contact Waste Management Canada at 604-282-7961 for any questions or issues regarding your recycling service, including coffee cup recycling.\\n\\nPlease note that it's always a good idea to rinse out the coffee cups before recycling them to ensure they are clean.\", additional_kwargs={}, example=False)], 'output': \"To recycle coffee cups in Vancouver, you can follow these guidelines based on the type of residence:\\n\\n1. Single family homes and duplexes: Recycling services for these types of residences are provided by GFL Environmental (formerly Smithrite Disposal Ltd) on behalf of Recycle BC. You can contact GFL Environmental at 604-282-7966 or email srrecycle@gflenv.com for any questions or issues regarding your recycling service, including coffee cup recycling.\\n\\n2. Apartments, condos, and townhomes: Waste Management Canada collects recycling for most multi-unit buildings on behalf of Recycle BC. You can contact Waste Management Canada at 604-282-7961 for any questions or issues regarding your recycling service, including coffee cup recycling.\\n\\nPlease note that it's always a good idea to rinse out the coffee cups before recycling them to ensure they are clean.\", 'intermediate_steps': [(AgentActionMessageLog(tool='search_CoV', tool_input='coffee cups', log='\\nInvoking: `search_CoV` with `coffee cups`\\n\\n\\n', message_log=[AIMessage(content='', additional_kwargs={'function_call': {'name': 'search_CoV', 'arguments': '{\\n  \"__arg1\": \"coffee cups\"\\n}'}}, example=False)]), [Document(page_content='City of Vancouver\\n\\nhttps://vancouver.ca/home\\n\\n\\n\\nproperty\\n\\n\\n\\ndevelopment/single\\n\\n\\n\\nfamily\\n\\n\\n\\nhomes\\n\\n\\n\\nand\\n\\n\\n\\nduplexes.aspx\\n\\nSingle family homes and duplexes We collect residential garbage, food scraps, and yard waste for single family homes and duplexes.\\n\\nYour household waste collection schedule is based on your location.\\n\\nRecycling: service is provided by GFL Environmental (formerly Smithrite Disposal Ltd) on behalf of Recycle BC External website, opens in new tab Phone 604-282-7966 or email srrecycle@gflenv.com about your recycling service, including:\\n\\nCollection questions or issues Replacing blue bins and recycling bags', metadata={'source': '..\\\\data\\\\Vancouver single family homes and duplexes.txt'}), Document(page_content='City of Vancouver\\n\\nhttps://vancouver.ca/home\\n\\n\\n\\nproperty\\n\\n\\n\\ndevelopment/apartments\\n\\n\\n\\ncondos\\n\\n\\n\\nand\\n\\n\\n\\ntownhomes.aspx\\n\\nApartments, condos, and townhomes\\n\\nWe do not provide waste collection services to most multi-unit buildings.\\n\\nHowever, we do provide information and resources to building owners and managers to manage waste at apartments, condos, and townhomes.\\n\\nWaste Management Canada collects your recycling on behalf of Recycle BC External website, opens in new tab Phone Waste Management Canada at 604-282-7961 for questions and issues about your recycling service.', metadata={'source': '..\\\\data\\\\Vancouver apartments condos townhomes.txt'})])]}"
      ]
     },
     "execution_count": 157,
     "metadata": {},
     "output_type": "execute_result"
    }
   ],
   "source": [
    "from langchain.agents.openai_functions_agent.base import OpenAIFunctionsAgent\n",
    "from langchain.schema.messages import SystemMessage\n",
    "from langchain.prompts import MessagesPlaceholder\n",
    "from langchain.agents import AgentExecutor\n",
    "from langchain.agents.openai_functions_agent.agent_token_buffer_memory import AgentTokenBufferMemory\n",
    "\n",
    "def create_chatbot(tools, verbose=True):\n",
    "\n",
    "    llm = ChatOpenAI(\n",
    "        temperature = 0,\n",
    "        openai_organization=os.environ['openai_organization'],\n",
    "        openai_api_key=os.environ['openai_api_key'],\n",
    "        )\n",
    "\n",
    "    agent_executor = create_conversational_retrieval_agent(llm, tools, verbose)\n",
    "    memory = AgentTokenBufferMemory(memory_key='chat_history', llm=llm)\n",
    "    system_message = SystemMessage(\n",
    "        content=(\"\"\"\n",
    "            You are a helpful assistant who provides concise answers to residents in Metro Vancouver, Canada.\n",
    "            You ask enough follow up questions as needed to provide the most relevant answer.\n",
    "            Where relevant, you retrieve the relevant information from your documents to answer the resident's question.\n",
    "            Recycle BC is the main resource for recycling information. \n",
    "            Respond to the resident's query, which are delimited by triple backticks: ```{question}```\n",
    "            \"\"\"\n",
    "        ),\n",
    "        input_variables=['question']\n",
    "    )\n",
    "    instruction_prompt = PromptTemplate.from_template(instructions)\n",
    "    prompt = OpenAIFunctionsAgent.create_prompt(\n",
    "        system_message=system_message,\n",
    "        extra_prompt_messages=[\n",
    "            MessagesPlaceholder(variable_name='chat_history')\n",
    "            ]\n",
    "    )\n",
    "\n",
    "    agent = OpenAIFunctionsAgent(llm=llm, tools=tools, prompt=prompt)\n",
    "    agent_executor = AgentExecutor(\n",
    "        agent=agent, tools=tools, memory=memory, verbose=verbose, return_intermediate_steps=True\n",
    "        )\n",
    "    agent_info = {\n",
    "        'agent': agent,\n",
    "        'agent_executor': agent_executor,\n",
    "        'memory': memory,\n",
    "        'chat_history': []\n",
    "    }\n",
    "    return agent_info\n",
    "\n",
    "def chat_with_chatbot(user_input, agent_info):\n",
    "\n",
    "    result = agent_info['agent_executor']({\n",
    "        \"input\": user_input,\n",
    "        \"chat_history\": agent_info['chat_history']\n",
    "        })\n",
    "    agent_info['chat_history'].append(result['chat_history'])\n",
    "    \n",
    "    return result\n",
    "\n",
    "conversation_id = 4.1\n",
    "answer_dict[conversation_id] = dict()\n",
    "input_id = 1\n",
    "\n",
    "query = \"Where do I recycle coffee cups in Vancouver?\"\n",
    "conversation_dict[conversation_id] = create_chatbot(tools_list_dict[2])\n",
    "answer_dict[conversation_id][input_id] = chat_with_chatbot(query, conversation_dict[conversation_id])\n",
    "answer_dict[conversation_id][input_id]"
   ]
  },
  {
   "cell_type": "code",
   "execution_count": 158,
   "metadata": {},
   "outputs": [
    {
     "data": {
      "text/plain": [
       "\"To recycle coffee cups in Vancouver, you can follow these guidelines based on the type of residence:\\n\\n1. Single family homes and duplexes: Recycling services for these types of residences are provided by GFL Environmental (formerly Smithrite Disposal Ltd) on behalf of Recycle BC. You can contact GFL Environmental at 604-282-7966 or email srrecycle@gflenv.com for any questions or issues regarding your recycling service, including coffee cup recycling.\\n\\n2. Apartments, condos, and townhomes: Waste Management Canada collects recycling for most multi-unit buildings on behalf of Recycle BC. You can contact Waste Management Canada at 604-282-7961 for any questions or issues regarding your recycling service, including coffee cup recycling.\\n\\nPlease note that it's always a good idea to rinse out the coffee cups before recycling them to ensure they are clean.\""
      ]
     },
     "execution_count": 158,
     "metadata": {},
     "output_type": "execute_result"
    }
   ],
   "source": [
    "answer_dict[conversation_id][input_id]['output']"
   ]
  },
  {
   "cell_type": "markdown",
   "metadata": {},
   "source": [
    "## 4.2"
   ]
  },
  {
   "cell_type": "code",
   "execution_count": 159,
   "metadata": {},
   "outputs": [
    {
     "name": "stdout",
     "output_type": "stream",
     "text": [
      "\n",
      "\n",
      "\u001b[1m> Entering new AgentExecutor chain...\u001b[0m\n",
      "\u001b[32;1m\u001b[1;3m\n",
      "Invoking: `search_recycle` with `coffee cups`\n",
      "\n",
      "\n",
      "\u001b[0m\u001b[33;1m\u001b[1;3m[Document(page_content='Conclusion: Accepted\\nLocation: Curbside collection, Multi-family collection, Recycle BC depots\\nCategory: Cartons and Paper Cups\\nItem: Paper cups for hot and cold beverages', metadata={'source': '..\\\\data\\\\recyclebc.csv', 'row': 71}), Document(page_content='Conclusion: Not Accepted\\nLocation: \\nCategory: Plastic Containers\\nItem: Plastic or foil lids from coffee and tea pods', metadata={'source': '..\\\\data\\\\recyclebc.csv', 'row': 70}), Document(page_content='Conclusion: Accepted\\nLocation: Curbside collection, Multi-family collection, Recycle BC depots\\nCategory: Plastic Containers\\nItem: Empty single-use coffee and tea pods; remove lids and do not include lids with recycling', metadata={'source': '..\\\\data\\\\recyclebc.csv', 'row': 42}), Document(page_content='Conclusion: Accepted\\nLocation: Curbside collection, Multi-family collection, Recycle BC depots\\nCategory: Plastic Containers\\nItem: Plastic cold drink cups with lids for take-out beverages', metadata={'source': '..\\\\data\\\\recyclebc.csv', 'row': 38})]\u001b[0m\u001b[32;1m\u001b[1;3mAccording to Recycle BC, coffee cups for hot and cold beverages can be recycled in Vancouver. You can recycle them through curbside collection, multi-family collection, or at Recycle BC depots.\u001b[0m\n",
      "\n",
      "\u001b[1m> Finished chain.\u001b[0m\n"
     ]
    },
    {
     "data": {
      "text/plain": [
       "'According to Recycle BC, coffee cups for hot and cold beverages can be recycled in Vancouver. You can recycle them through curbside collection, multi-family collection, or at Recycle BC depots.'"
      ]
     },
     "execution_count": 159,
     "metadata": {},
     "output_type": "execute_result"
    }
   ],
   "source": [
    "from langchain.agents.openai_functions_agent.base import OpenAIFunctionsAgent\n",
    "from langchain.schema.messages import SystemMessage\n",
    "from langchain.prompts import MessagesPlaceholder\n",
    "from langchain.agents import AgentExecutor\n",
    "from langchain.agents.openai_functions_agent.agent_token_buffer_memory import AgentTokenBufferMemory\n",
    "\n",
    "def create_chatbot(tools, verbose=True):\n",
    "\n",
    "    llm = ChatOpenAI(\n",
    "        temperature = 0,\n",
    "        openai_organization=os.environ['openai_organization'],\n",
    "        openai_api_key=os.environ['openai_api_key'],\n",
    "        )\n",
    "\n",
    "    agent_executor = create_conversational_retrieval_agent(llm, tools, verbose)\n",
    "    memory = AgentTokenBufferMemory(memory_key='chat_history', llm=llm)\n",
    "    system_message = SystemMessage(\n",
    "        content=(\"\"\"\n",
    "            You are a helpful assistant who provides concise answers to residents in Metro Vancouver, Canada.\n",
    "            You ask enough follow up questions as needed to provide the most relevant answer. \n",
    "            Where relevant, you retrieve the relevant information from your documents to answer the resident's question.\n",
    "            Recycle BC is the main resource for recycling information. \n",
    "            Respond to the resident's query, which are delimited by triple backticks: ```{question}```\n",
    "            \"\"\"\n",
    "        ),\n",
    "        input_variables=['question']\n",
    "    )\n",
    "    instruction_prompt = PromptTemplate.from_template(instructions)\n",
    "    prompt = OpenAIFunctionsAgent.create_prompt(\n",
    "        system_message=system_message,\n",
    "        extra_prompt_messages=[\n",
    "            MessagesPlaceholder(variable_name='chat_history')\n",
    "            ]\n",
    "    )\n",
    "\n",
    "    agent = OpenAIFunctionsAgent(llm=llm, tools=tools, prompt=prompt)\n",
    "    agent_executor = AgentExecutor(\n",
    "        agent=agent, tools=tools, memory=memory, verbose=verbose, return_intermediate_steps=True\n",
    "        )\n",
    "    agent_info = {\n",
    "        'agent': agent,\n",
    "        'agent_executor': agent_executor,\n",
    "        'memory': memory,\n",
    "        'chat_history': []\n",
    "    }\n",
    "    return agent_info\n",
    "\n",
    "def chat_with_chatbot(user_input, agent_info):\n",
    "\n",
    "    result = agent_info['agent_executor']({\n",
    "        \"input\": user_input,\n",
    "        \"chat_history\": agent_info['chat_history']\n",
    "        })\n",
    "    agent_info['chat_history'].append(result['output'])\n",
    "    \n",
    "    return result\n",
    "\n",
    "conversation_id = 4.2\n",
    "answer_dict[conversation_id] = dict()\n",
    "input_id = 1\n",
    "\n",
    "query = \"According to Recycle BC, where do I recycle coffee cups in Vancouver?\"\n",
    "conversation_dict[conversation_id] = create_chatbot(tools_list_dict[2])\n",
    "answer_dict[conversation_id][input_id] = chat_with_chatbot(query, conversation_dict[conversation_id])\n",
    "answer_dict[conversation_id][input_id]['output']"
   ]
  },
  {
   "cell_type": "code",
   "execution_count": 171,
   "metadata": {},
   "outputs": [
    {
     "data": {
      "text/plain": [
       "['According to Recycle BC, coffee cups for hot and cold beverages can be recycled in Vancouver. You can recycle them through curbside collection, multi-family collection, or at Recycle BC depots.']"
      ]
     },
     "execution_count": 171,
     "metadata": {},
     "output_type": "execute_result"
    }
   ],
   "source": [
    "conversation_dict[4.2]['chat_history']"
   ]
  },
  {
   "cell_type": "code",
   "execution_count": 160,
   "metadata": {},
   "outputs": [
    {
     "name": "stdout",
     "output_type": "stream",
     "text": [
      "\n",
      "\n",
      "\u001b[1m> Entering new AgentExecutor chain...\u001b[0m\n",
      "\u001b[32;1m\u001b[1;3mIf you live in an apartment building, you may have access to recycling facilities within your building. Many apartment buildings in Metro Vancouver provide recycling bins for residents to use. These bins are usually located in a designated area such as a recycling room or a garbage disposal area.\n",
      "\n",
      "To find out more about recycling in your specific apartment building, you can check with your building management or strata council. They should be able to provide you with information on what items can be recycled and where the recycling bins are located.\n",
      "\n",
      "If you have any specific questions about recycling in apartment buildings or need information on how to recycle certain items, feel free to ask!\u001b[0m\n",
      "\n",
      "\u001b[1m> Finished chain.\u001b[0m\n"
     ]
    },
    {
     "data": {
      "text/plain": [
       "'If you live in an apartment building, you may have access to recycling facilities within your building. Many apartment buildings in Metro Vancouver provide recycling bins for residents to use. These bins are usually located in a designated area such as a recycling room or a garbage disposal area.\\n\\nTo find out more about recycling in your specific apartment building, you can check with your building management or strata council. They should be able to provide you with information on what items can be recycled and where the recycling bins are located.\\n\\nIf you have any specific questions about recycling in apartment buildings or need information on how to recycle certain items, feel free to ask!'"
      ]
     },
     "execution_count": 160,
     "metadata": {},
     "output_type": "execute_result"
    }
   ],
   "source": [
    "conversation_id = 4.21\n",
    "answer_dict[conversation_id] = dict()\n",
    "input_id = 1.1\n",
    "\n",
    "query = \"What if I live in an apartment building\"\n",
    "conversation_dict[conversation_id] = create_chatbot(tools_list_dict[2])\n",
    "answer_dict[conversation_id][input_id] = chat_with_chatbot(query, conversation_dict[conversation_id])\n",
    "answer_dict[conversation_id][input_id]['output']"
   ]
  },
  {
   "cell_type": "code",
   "execution_count": 167,
   "metadata": {},
   "outputs": [
    {
     "name": "stdout",
     "output_type": "stream",
     "text": [
      "1\n"
     ]
    },
    {
     "data": {
      "text/plain": [
       "['If you live in an apartment building, you may have access to recycling facilities within your building. Many apartment buildings in Metro Vancouver provide recycling bins for residents to use. These bins are usually located in a designated area such as a recycling room or a garbage disposal area.\\n\\nTo find out more about recycling in your specific apartment building, you can check with your building management or strata council. They should be able to provide you with information on what items can be recycled and where the recycling bins are located.\\n\\nIf you have any specific questions about recycling in apartment buildings or need information on how to recycle certain items, feel free to ask!']"
      ]
     },
     "execution_count": 167,
     "metadata": {},
     "output_type": "execute_result"
    }
   ],
   "source": [
    "print(len(conversation_dict[conversation_id]['chat_history']))\n",
    "conversation_dict[conversation_id]['chat_history']"
   ]
  },
  {
   "cell_type": "code",
   "execution_count": 172,
   "metadata": {},
   "outputs": [
    {
     "data": {
      "text/plain": [
       "['If you live in an apartment building, you may have access to recycling facilities within your building. Many apartment buildings in Metro Vancouver provide recycling bins for residents to use. These bins are usually located in a designated area such as a recycling room or a garbage disposal area.\\n\\nTo find out more about recycling in your specific apartment building, you can check with your building management or strata council. They should be able to provide you with information on what items can be recycled and where the recycling bins are located.\\n\\nIf you have any specific questions about recycling in apartment buildings or need information on how to recycle certain items, feel free to ask!']"
      ]
     },
     "execution_count": 172,
     "metadata": {},
     "output_type": "execute_result"
    }
   ],
   "source": [
    "conversation_dict[4.21]['chat_history']"
   ]
  },
  {
   "cell_type": "code",
   "execution_count": 175,
   "metadata": {},
   "outputs": [
    {
     "data": {
      "text/plain": [
       "dict_keys(['input', 'chat_history', 'output', 'intermediate_steps'])"
      ]
     },
     "execution_count": 175,
     "metadata": {},
     "output_type": "execute_result"
    }
   ],
   "source": [
    "answer_dict[conversation_id][input_id].keys()"
   ]
  },
  {
   "cell_type": "markdown",
   "metadata": {},
   "source": [
    "## 4.23"
   ]
  },
  {
   "cell_type": "code",
   "execution_count": 177,
   "metadata": {},
   "outputs": [
    {
     "name": "stdout",
     "output_type": "stream",
     "text": [
      "\n",
      "\n",
      "\u001b[1m> Entering new AgentExecutor chain...\u001b[0m\n",
      "\u001b[32;1m\u001b[1;3m\n",
      "Invoking: `search_recycle` with `coffee cups`\n",
      "\n",
      "\n",
      "\u001b[0m\u001b[33;1m\u001b[1;3m[Document(page_content='Conclusion: Accepted\\nLocation: Curbside collection, Multi-family collection, Recycle BC depots\\nCategory: Cartons and Paper Cups\\nItem: Paper cups for hot and cold beverages', metadata={'source': '..\\\\data\\\\recyclebc.csv', 'row': 71}), Document(page_content='Conclusion: Not Accepted\\nLocation: \\nCategory: Plastic Containers\\nItem: Plastic or foil lids from coffee and tea pods', metadata={'source': '..\\\\data\\\\recyclebc.csv', 'row': 70}), Document(page_content='Conclusion: Accepted\\nLocation: Curbside collection, Multi-family collection, Recycle BC depots\\nCategory: Plastic Containers\\nItem: Empty single-use coffee and tea pods; remove lids and do not include lids with recycling', metadata={'source': '..\\\\data\\\\recyclebc.csv', 'row': 42}), Document(page_content='Conclusion: Accepted\\nLocation: Curbside collection, Multi-family collection, Recycle BC depots\\nCategory: Plastic Containers\\nItem: Plastic cold drink cups with lids for take-out beverages', metadata={'source': '..\\\\data\\\\recyclebc.csv', 'row': 38})]\u001b[0m\u001b[32;1m\u001b[1;3mAccording to Recycle BC, coffee cups for hot and cold beverages can be recycled in Vancouver. You can recycle them through curbside collection, multi-family collection, or at Recycle BC depots.\u001b[0m\n",
      "\n",
      "\u001b[1m> Finished chain.\u001b[0m\n"
     ]
    },
    {
     "data": {
      "text/plain": [
       "'According to Recycle BC, coffee cups for hot and cold beverages can be recycled in Vancouver. You can recycle them through curbside collection, multi-family collection, or at Recycle BC depots.'"
      ]
     },
     "execution_count": 177,
     "metadata": {},
     "output_type": "execute_result"
    }
   ],
   "source": [
    "from langchain.agents.openai_functions_agent.base import OpenAIFunctionsAgent\n",
    "from langchain.schema.messages import SystemMessage\n",
    "from langchain.prompts import MessagesPlaceholder\n",
    "from langchain.agents import AgentExecutor\n",
    "from langchain.agents.openai_functions_agent.agent_token_buffer_memory import AgentTokenBufferMemory\n",
    "\n",
    "def create_chatbot(tools, verbose=True):\n",
    "\n",
    "    llm = ChatOpenAI(\n",
    "        temperature = 0,\n",
    "        openai_organization=os.environ['openai_organization'],\n",
    "        openai_api_key=os.environ['openai_api_key'],\n",
    "        )\n",
    "\n",
    "    memory = AgentTokenBufferMemory(memory_key='chat_history', llm=llm)\n",
    "    system_message = SystemMessage(\n",
    "        content=(\"\"\"\n",
    "            You are a helpful assistant who provides concise answers to residents in Metro Vancouver, Canada.\n",
    "            You ask enough follow up questions as needed to provide the most relevant answer. \n",
    "            Where relevant, you retrieve the relevant information from your documents to answer the resident's question.\n",
    "            Recycle BC is the main resource for recycling information. \n",
    "            Respond to the resident's query, which are delimited by triple backticks: ```{question}```\n",
    "            \"\"\"\n",
    "        ),\n",
    "        input_variables=['question']\n",
    "    )\n",
    "    instruction_prompt = PromptTemplate.from_template(instructions)\n",
    "    prompt = OpenAIFunctionsAgent.create_prompt(\n",
    "        system_message=system_message,\n",
    "        extra_prompt_messages=[\n",
    "            MessagesPlaceholder(variable_name='chat_history')\n",
    "            ]\n",
    "    )\n",
    "\n",
    "    agent = OpenAIFunctionsAgent(llm=llm, tools=tools, prompt=prompt)\n",
    "    agent_executor = AgentExecutor(\n",
    "        agent=agent, tools=tools, memory=memory, verbose=verbose, return_intermediate_steps=True\n",
    "        )\n",
    "    agent_info = {\n",
    "        'agent': agent,\n",
    "        'agent_executor': agent_executor,\n",
    "        'memory': memory,\n",
    "        'chat_history': []\n",
    "    }\n",
    "    return agent_info\n",
    "\n",
    "def chat_with_chatbot(user_input, agent_info):\n",
    "\n",
    "    result = agent_info['agent_executor']({\n",
    "        \"input\": user_input,\n",
    "        \"chat_history\": agent_info['chat_history']\n",
    "        })\n",
    "    agent_info['chat_history'].append(result['chat_history'])\n",
    "    \n",
    "    return result\n",
    "\n",
    "conversation_id = 4.23\n",
    "answer_dict[conversation_id] = dict()\n",
    "input_id = 1\n",
    "\n",
    "query = \"According to Recycle BC, where do I recycle coffee cups in Vancouver?\"\n",
    "conversation_dict[conversation_id] = create_chatbot(tools_list_dict[2])\n",
    "answer_dict[conversation_id] = chat_with_chatbot(query, conversation_dict[conversation_id])\n",
    "answer_dict[conversation_id]['output']"
   ]
  },
  {
   "cell_type": "code",
   "execution_count": 179,
   "metadata": {},
   "outputs": [
    {
     "name": "stdout",
     "output_type": "stream",
     "text": [
      "\n",
      "\n",
      "\u001b[1m> Entering new AgentExecutor chain...\u001b[0m\n",
      "\u001b[32;1m\u001b[1;3mThat's great! How can I assist you today regarding living in an apartment?\u001b[0m\n",
      "\n",
      "\u001b[1m> Finished chain.\u001b[0m\n"
     ]
    },
    {
     "data": {
      "text/plain": [
       "\"That's great! How can I assist you today regarding living in an apartment?\""
      ]
     },
     "execution_count": 179,
     "metadata": {},
     "output_type": "execute_result"
    }
   ],
   "source": [
    "conversation_id = 4.23\n",
    "answer_dict[conversation_id] = dict()\n",
    "input_id = 1\n",
    "\n",
    "query = \"I live in an apartment.\"\n",
    "conversation_dict[conversation_id] = create_chatbot(tools_list_dict[2])\n",
    "answer_dict[conversation_id] = chat_with_chatbot(query, conversation_dict[conversation_id])\n",
    "answer_dict[conversation_id]['output']"
   ]
  },
  {
   "cell_type": "code",
   "execution_count": 180,
   "metadata": {},
   "outputs": [
    {
     "name": "stdout",
     "output_type": "stream",
     "text": [
      "\n",
      "\n",
      "\u001b[1m> Entering new AgentExecutor chain...\u001b[0m\n",
      "\u001b[32;1m\u001b[1;3m\n",
      "Invoking: `search_recycle` with `coffee cups`\n",
      "\n",
      "\n",
      "\u001b[0m\u001b[33;1m\u001b[1;3m[Document(page_content='Conclusion: Accepted\\nLocation: Curbside collection, Multi-family collection, Recycle BC depots\\nCategory: Cartons and Paper Cups\\nItem: Paper cups for hot and cold beverages', metadata={'source': '..\\\\data\\\\recyclebc.csv', 'row': 71}), Document(page_content='Conclusion: Not Accepted\\nLocation: \\nCategory: Plastic Containers\\nItem: Plastic or foil lids from coffee and tea pods', metadata={'source': '..\\\\data\\\\recyclebc.csv', 'row': 70}), Document(page_content='Conclusion: Accepted\\nLocation: Curbside collection, Multi-family collection, Recycle BC depots\\nCategory: Plastic Containers\\nItem: Empty single-use coffee and tea pods; remove lids and do not include lids with recycling', metadata={'source': '..\\\\data\\\\recyclebc.csv', 'row': 42}), Document(page_content='Conclusion: Accepted\\nLocation: Curbside collection, Multi-family collection, Recycle BC depots\\nCategory: Plastic Containers\\nItem: Plastic cold drink cups with lids for take-out beverages', metadata={'source': '..\\\\data\\\\recyclebc.csv', 'row': 38})]\u001b[0m\u001b[32;1m\u001b[1;3mYou have a few options for recycling coffee cups. \n",
      "\n",
      "Paper cups for hot and cold beverages can be recycled. You can dispose of them in curbside collection, multi-family collection, or Recycle BC depots. \n",
      "\n",
      "However, plastic or foil lids from coffee and tea pods are not accepted for recycling. \n",
      "\n",
      "If you have empty single-use coffee and tea pods, you can recycle them by removing the lids and not including the lids with recycling. \n",
      "\n",
      "Plastic cold drink cups with lids for take-out beverages can also be recycled in curbside collection, multi-family collection, or Recycle BC depots.\u001b[0m\n",
      "\n",
      "\u001b[1m> Finished chain.\u001b[0m\n"
     ]
    },
    {
     "data": {
      "text/plain": [
       "'You have a few options for recycling coffee cups. \\n\\nPaper cups for hot and cold beverages can be recycled. You can dispose of them in curbside collection, multi-family collection, or Recycle BC depots. \\n\\nHowever, plastic or foil lids from coffee and tea pods are not accepted for recycling. \\n\\nIf you have empty single-use coffee and tea pods, you can recycle them by removing the lids and not including the lids with recycling. \\n\\nPlastic cold drink cups with lids for take-out beverages can also be recycled in curbside collection, multi-family collection, or Recycle BC depots.'"
      ]
     },
     "execution_count": 180,
     "metadata": {},
     "output_type": "execute_result"
    }
   ],
   "source": [
    "conversation_id = 4.23\n",
    "answer_dict[conversation_id] = dict()\n",
    "input_id = 1\n",
    "\n",
    "query = \"What are my options for recycling coffee cups?\"\n",
    "conversation_dict[conversation_id] = create_chatbot(tools_list_dict[2])\n",
    "answer_dict[conversation_id] = chat_with_chatbot(query, conversation_dict[conversation_id])\n",
    "answer_dict[conversation_id]['output']"
   ]
  },
  {
   "cell_type": "code",
   "execution_count": 182,
   "metadata": {},
   "outputs": [
    {
     "name": "stdout",
     "output_type": "stream",
     "text": [
      "1\n"
     ]
    },
    {
     "data": {
      "text/plain": [
       "[[HumanMessage(content='What are my options for recycling coffee cups?', additional_kwargs={}, example=False), AIMessage(content='', additional_kwargs={'function_call': {'name': 'search_recycle', 'arguments': '{\\n  \"__arg1\": \"coffee cups\"\\n}'}}, example=False), FunctionMessage(content=\"[Document(page_content='Conclusion: Accepted\\\\nLocation: Curbside collection, Multi-family collection, Recycle BC depots\\\\nCategory: Cartons and Paper Cups\\\\nItem: Paper cups for hot and cold beverages', metadata={'source': '..\\\\\\\\data\\\\\\\\recyclebc.csv', 'row': 71}), Document(page_content='Conclusion: Not Accepted\\\\nLocation: \\\\nCategory: Plastic Containers\\\\nItem: Plastic or foil lids from coffee and tea pods', metadata={'source': '..\\\\\\\\data\\\\\\\\recyclebc.csv', 'row': 70}), Document(page_content='Conclusion: Accepted\\\\nLocation: Curbside collection, Multi-family collection, Recycle BC depots\\\\nCategory: Plastic Containers\\\\nItem: Empty single-use coffee and tea pods; remove lids and do not include lids with recycling', metadata={'source': '..\\\\\\\\data\\\\\\\\recyclebc.csv', 'row': 42}), Document(page_content='Conclusion: Accepted\\\\nLocation: Curbside collection, Multi-family collection, Recycle BC depots\\\\nCategory: Plastic Containers\\\\nItem: Plastic cold drink cups with lids for take-out beverages', metadata={'source': '..\\\\\\\\data\\\\\\\\recyclebc.csv', 'row': 38})]\", additional_kwargs={}, name='search_recycle'), AIMessage(content='You have a few options for recycling coffee cups. \\n\\nPaper cups for hot and cold beverages can be recycled. You can dispose of them in curbside collection, multi-family collection, or Recycle BC depots. \\n\\nHowever, plastic or foil lids from coffee and tea pods are not accepted for recycling. \\n\\nIf you have empty single-use coffee and tea pods, you can recycle them by removing the lids and not including the lids with recycling. \\n\\nPlastic cold drink cups with lids for take-out beverages can also be recycled in curbside collection, multi-family collection, or Recycle BC depots.', additional_kwargs={}, example=False)]]"
      ]
     },
     "execution_count": 182,
     "metadata": {},
     "output_type": "execute_result"
    }
   ],
   "source": [
    "print(len(conversation_dict[conversation_id]['chat_history']))\n",
    "conversation_dict[conversation_id]['chat_history']"
   ]
  },
  {
   "cell_type": "code",
   "execution_count": 183,
   "metadata": {},
   "outputs": [
    {
     "data": {
      "text/plain": [
       "[HumanMessage(content='What are my options for recycling coffee cups?', additional_kwargs={}, example=False), AIMessage(content='', additional_kwargs={'function_call': {'name': 'search_recycle', 'arguments': '{\\n  \"__arg1\": \"coffee cups\"\\n}'}}, example=False), FunctionMessage(content=\"[Document(page_content='Conclusion: Accepted\\\\nLocation: Curbside collection, Multi-family collection, Recycle BC depots\\\\nCategory: Cartons and Paper Cups\\\\nItem: Paper cups for hot and cold beverages', metadata={'source': '..\\\\\\\\data\\\\\\\\recyclebc.csv', 'row': 71}), Document(page_content='Conclusion: Not Accepted\\\\nLocation: \\\\nCategory: Plastic Containers\\\\nItem: Plastic or foil lids from coffee and tea pods', metadata={'source': '..\\\\\\\\data\\\\\\\\recyclebc.csv', 'row': 70}), Document(page_content='Conclusion: Accepted\\\\nLocation: Curbside collection, Multi-family collection, Recycle BC depots\\\\nCategory: Plastic Containers\\\\nItem: Empty single-use coffee and tea pods; remove lids and do not include lids with recycling', metadata={'source': '..\\\\\\\\data\\\\\\\\recyclebc.csv', 'row': 42}), Document(page_content='Conclusion: Accepted\\\\nLocation: Curbside collection, Multi-family collection, Recycle BC depots\\\\nCategory: Plastic Containers\\\\nItem: Plastic cold drink cups with lids for take-out beverages', metadata={'source': '..\\\\\\\\data\\\\\\\\recyclebc.csv', 'row': 38})]\", additional_kwargs={}, name='search_recycle'), AIMessage(content='You have a few options for recycling coffee cups. \\n\\nPaper cups for hot and cold beverages can be recycled. You can dispose of them in curbside collection, multi-family collection, or Recycle BC depots. \\n\\nHowever, plastic or foil lids from coffee and tea pods are not accepted for recycling. \\n\\nIf you have empty single-use coffee and tea pods, you can recycle them by removing the lids and not including the lids with recycling. \\n\\nPlastic cold drink cups with lids for take-out beverages can also be recycled in curbside collection, multi-family collection, or Recycle BC depots.', additional_kwargs={}, example=False)]"
      ]
     },
     "execution_count": 183,
     "metadata": {},
     "output_type": "execute_result"
    }
   ],
   "source": [
    "conversation_dict[conversation_id]['memory'].chat_memory.messages"
   ]
  },
  {
   "cell_type": "markdown",
   "metadata": {},
   "source": [
    "## 4.24"
   ]
  },
  {
   "cell_type": "code",
   "execution_count": 184,
   "metadata": {},
   "outputs": [
    {
     "name": "stdout",
     "output_type": "stream",
     "text": [
      "\n",
      "\n",
      "\u001b[1m> Entering new AgentExecutor chain...\u001b[0m\n",
      "\u001b[32;1m\u001b[1;3m\n",
      "Invoking: `search_recycle` with `coffee cups`\n",
      "\n",
      "\n",
      "\u001b[0m\u001b[33;1m\u001b[1;3m[Document(page_content='Conclusion: Accepted\\nLocation: Curbside collection, Multi-family collection, Recycle BC depots\\nCategory: Cartons and Paper Cups\\nItem: Paper cups for hot and cold beverages', metadata={'source': '..\\\\data\\\\recyclebc.csv', 'row': 71}), Document(page_content='Conclusion: Not Accepted\\nLocation: \\nCategory: Plastic Containers\\nItem: Plastic or foil lids from coffee and tea pods', metadata={'source': '..\\\\data\\\\recyclebc.csv', 'row': 70}), Document(page_content='Conclusion: Accepted\\nLocation: Curbside collection, Multi-family collection, Recycle BC depots\\nCategory: Plastic Containers\\nItem: Empty single-use coffee and tea pods; remove lids and do not include lids with recycling', metadata={'source': '..\\\\data\\\\recyclebc.csv', 'row': 42}), Document(page_content='Conclusion: Accepted\\nLocation: Curbside collection, Multi-family collection, Recycle BC depots\\nCategory: Plastic Containers\\nItem: Plastic cold drink cups with lids for take-out beverages', metadata={'source': '..\\\\data\\\\recyclebc.csv', 'row': 38})]\u001b[0m\u001b[32;1m\u001b[1;3mYou have a few options for recycling coffee cups. \n",
      "\n",
      "Paper cups for hot and cold beverages can be recycled. You can dispose of them in curbside collection, multi-family collection, or Recycle BC depots. \n",
      "\n",
      "However, plastic or foil lids from coffee and tea pods are not accepted for recycling. \n",
      "\n",
      "If you have empty single-use coffee and tea pods, you can recycle them by removing the lids and not including the lids with recycling. \n",
      "\n",
      "Plastic cold drink cups with lids for take-out beverages can also be recycled in curbside collection, multi-family collection, or Recycle BC depots.\u001b[0m\n",
      "\n",
      "\u001b[1m> Finished chain.\u001b[0m\n",
      "\n",
      "\n",
      "\u001b[1m> Entering new AgentExecutor chain...\u001b[0m\n",
      "\u001b[32;1m\u001b[1;3mIf you live in an apartment, you can still recycle coffee cups. Many apartment buildings in Metro Vancouver have multi-family collection programs in place. This means that you can dispose of your coffee cups in the designated recycling bins or containers provided by your building. \n",
      "\n",
      "If your apartment building does not have a multi-family collection program, you can take your coffee cups to the nearest Recycle BC depot. Recycle BC depots are located throughout Metro Vancouver and accept a wide range of recyclable materials, including coffee cups. You can find the nearest depot by visiting the Recycle BC website or contacting your local municipality for more information.\u001b[0m\n",
      "\n",
      "\u001b[1m> Finished chain.\u001b[0m\n"
     ]
    },
    {
     "data": {
      "text/plain": [
       "[[HumanMessage(content='What are my options for recycling coffee cups?', additional_kwargs={}, example=False), AIMessage(content='', additional_kwargs={'function_call': {'name': 'search_recycle', 'arguments': '{\\n  \"__arg1\": \"coffee cups\"\\n}'}}, example=False), FunctionMessage(content=\"[Document(page_content='Conclusion: Accepted\\\\nLocation: Curbside collection, Multi-family collection, Recycle BC depots\\\\nCategory: Cartons and Paper Cups\\\\nItem: Paper cups for hot and cold beverages', metadata={'source': '..\\\\\\\\data\\\\\\\\recyclebc.csv', 'row': 71}), Document(page_content='Conclusion: Not Accepted\\\\nLocation: \\\\nCategory: Plastic Containers\\\\nItem: Plastic or foil lids from coffee and tea pods', metadata={'source': '..\\\\\\\\data\\\\\\\\recyclebc.csv', 'row': 70}), Document(page_content='Conclusion: Accepted\\\\nLocation: Curbside collection, Multi-family collection, Recycle BC depots\\\\nCategory: Plastic Containers\\\\nItem: Empty single-use coffee and tea pods; remove lids and do not include lids with recycling', metadata={'source': '..\\\\\\\\data\\\\\\\\recyclebc.csv', 'row': 42}), Document(page_content='Conclusion: Accepted\\\\nLocation: Curbside collection, Multi-family collection, Recycle BC depots\\\\nCategory: Plastic Containers\\\\nItem: Plastic cold drink cups with lids for take-out beverages', metadata={'source': '..\\\\\\\\data\\\\\\\\recyclebc.csv', 'row': 38})]\", additional_kwargs={}, name='search_recycle'), AIMessage(content='You have a few options for recycling coffee cups. \\n\\nPaper cups for hot and cold beverages can be recycled. You can dispose of them in curbside collection, multi-family collection, or Recycle BC depots. \\n\\nHowever, plastic or foil lids from coffee and tea pods are not accepted for recycling. \\n\\nIf you have empty single-use coffee and tea pods, you can recycle them by removing the lids and not including the lids with recycling. \\n\\nPlastic cold drink cups with lids for take-out beverages can also be recycled in curbside collection, multi-family collection, or Recycle BC depots.', additional_kwargs={}, example=False), HumanMessage(content='I live in an apartment.', additional_kwargs={}, example=False), AIMessage(content='If you live in an apartment, you can still recycle coffee cups. Many apartment buildings in Metro Vancouver have multi-family collection programs in place. This means that you can dispose of your coffee cups in the designated recycling bins or containers provided by your building. \\n\\nIf your apartment building does not have a multi-family collection program, you can take your coffee cups to the nearest Recycle BC depot. Recycle BC depots are located throughout Metro Vancouver and accept a wide range of recyclable materials, including coffee cups. You can find the nearest depot by visiting the Recycle BC website or contacting your local municipality for more information.', additional_kwargs={}, example=False)], [HumanMessage(content='What are my options for recycling coffee cups?', additional_kwargs={}, example=False), AIMessage(content='', additional_kwargs={'function_call': {'name': 'search_recycle', 'arguments': '{\\n  \"__arg1\": \"coffee cups\"\\n}'}}, example=False), FunctionMessage(content=\"[Document(page_content='Conclusion: Accepted\\\\nLocation: Curbside collection, Multi-family collection, Recycle BC depots\\\\nCategory: Cartons and Paper Cups\\\\nItem: Paper cups for hot and cold beverages', metadata={'source': '..\\\\\\\\data\\\\\\\\recyclebc.csv', 'row': 71}), Document(page_content='Conclusion: Not Accepted\\\\nLocation: \\\\nCategory: Plastic Containers\\\\nItem: Plastic or foil lids from coffee and tea pods', metadata={'source': '..\\\\\\\\data\\\\\\\\recyclebc.csv', 'row': 70}), Document(page_content='Conclusion: Accepted\\\\nLocation: Curbside collection, Multi-family collection, Recycle BC depots\\\\nCategory: Plastic Containers\\\\nItem: Empty single-use coffee and tea pods; remove lids and do not include lids with recycling', metadata={'source': '..\\\\\\\\data\\\\\\\\recyclebc.csv', 'row': 42}), Document(page_content='Conclusion: Accepted\\\\nLocation: Curbside collection, Multi-family collection, Recycle BC depots\\\\nCategory: Plastic Containers\\\\nItem: Plastic cold drink cups with lids for take-out beverages', metadata={'source': '..\\\\\\\\data\\\\\\\\recyclebc.csv', 'row': 38})]\", additional_kwargs={}, name='search_recycle'), AIMessage(content='You have a few options for recycling coffee cups. \\n\\nPaper cups for hot and cold beverages can be recycled. You can dispose of them in curbside collection, multi-family collection, or Recycle BC depots. \\n\\nHowever, plastic or foil lids from coffee and tea pods are not accepted for recycling. \\n\\nIf you have empty single-use coffee and tea pods, you can recycle them by removing the lids and not including the lids with recycling. \\n\\nPlastic cold drink cups with lids for take-out beverages can also be recycled in curbside collection, multi-family collection, or Recycle BC depots.', additional_kwargs={}, example=False), HumanMessage(content='I live in an apartment.', additional_kwargs={}, example=False), AIMessage(content='If you live in an apartment, you can still recycle coffee cups. Many apartment buildings in Metro Vancouver have multi-family collection programs in place. This means that you can dispose of your coffee cups in the designated recycling bins or containers provided by your building. \\n\\nIf your apartment building does not have a multi-family collection program, you can take your coffee cups to the nearest Recycle BC depot. Recycle BC depots are located throughout Metro Vancouver and accept a wide range of recyclable materials, including coffee cups. You can find the nearest depot by visiting the Recycle BC website or contacting your local municipality for more information.', additional_kwargs={}, example=False)]]"
      ]
     },
     "execution_count": 184,
     "metadata": {},
     "output_type": "execute_result"
    }
   ],
   "source": [
    "conversation_id = 4.24\n",
    "answer_dict[conversation_id] = dict()\n",
    "input_id = 1\n",
    "\n",
    "query1 = \"What are my options for recycling coffee cups?\"\n",
    "query2 = \"I live in an apartment.\"\n",
    "conversation_dict[conversation_id] = create_chatbot(tools_list_dict[2])\n",
    "answer_dict[conversation_id] = chat_with_chatbot(query1, conversation_dict[conversation_id])\n",
    "answer_dict[conversation_id] = chat_with_chatbot(query2, conversation_dict[conversation_id])\n",
    "conversation_dict[conversation_id]['chat_history']"
   ]
  },
  {
   "cell_type": "code",
   "execution_count": 188,
   "metadata": {},
   "outputs": [
    {
     "name": "stdout",
     "output_type": "stream",
     "text": [
      "2\n",
      "[HumanMessage(content='What are my options for recycling coffee cups?', additional_kwargs={}, example=False), AIMessage(content='', additional_kwargs={'function_call': {'name': 'search_recycle', 'arguments': '{\\n  \"__arg1\": \"coffee cups\"\\n}'}}, example=False), FunctionMessage(content=\"[Document(page_content='Conclusion: Accepted\\\\nLocation: Curbside collection, Multi-family collection, Recycle BC depots\\\\nCategory: Cartons and Paper Cups\\\\nItem: Paper cups for hot and cold beverages', metadata={'source': '..\\\\\\\\data\\\\\\\\recyclebc.csv', 'row': 71}), Document(page_content='Conclusion: Not Accepted\\\\nLocation: \\\\nCategory: Plastic Containers\\\\nItem: Plastic or foil lids from coffee and tea pods', metadata={'source': '..\\\\\\\\data\\\\\\\\recyclebc.csv', 'row': 70}), Document(page_content='Conclusion: Accepted\\\\nLocation: Curbside collection, Multi-family collection, Recycle BC depots\\\\nCategory: Plastic Containers\\\\nItem: Empty single-use coffee and tea pods; remove lids and do not include lids with recycling', metadata={'source': '..\\\\\\\\data\\\\\\\\recyclebc.csv', 'row': 42}), Document(page_content='Conclusion: Accepted\\\\nLocation: Curbside collection, Multi-family collection, Recycle BC depots\\\\nCategory: Plastic Containers\\\\nItem: Plastic cold drink cups with lids for take-out beverages', metadata={'source': '..\\\\\\\\data\\\\\\\\recyclebc.csv', 'row': 38})]\", additional_kwargs={}, name='search_recycle'), AIMessage(content='You have a few options for recycling coffee cups. \\n\\nPaper cups for hot and cold beverages can be recycled. You can dispose of them in curbside collection, multi-family collection, or Recycle BC depots. \\n\\nHowever, plastic or foil lids from coffee and tea pods are not accepted for recycling. \\n\\nIf you have empty single-use coffee and tea pods, you can recycle them by removing the lids and not including the lids with recycling. \\n\\nPlastic cold drink cups with lids for take-out beverages can also be recycled in curbside collection, multi-family collection, or Recycle BC depots.', additional_kwargs={}, example=False), HumanMessage(content='I live in an apartment.', additional_kwargs={}, example=False), AIMessage(content='If you live in an apartment, you can still recycle coffee cups. Many apartment buildings in Metro Vancouver have multi-family collection programs in place. This means that you can dispose of your coffee cups in the designated recycling bins or containers provided by your building. \\n\\nIf your apartment building does not have a multi-family collection program, you can take your coffee cups to the nearest Recycle BC depot. Recycle BC depots are located throughout Metro Vancouver and accept a wide range of recyclable materials, including coffee cups. You can find the nearest depot by visiting the Recycle BC website or contacting your local municipality for more information.', additional_kwargs={}, example=False)]\n",
      "[HumanMessage(content='What are my options for recycling coffee cups?', additional_kwargs={}, example=False), AIMessage(content='', additional_kwargs={'function_call': {'name': 'search_recycle', 'arguments': '{\\n  \"__arg1\": \"coffee cups\"\\n}'}}, example=False), FunctionMessage(content=\"[Document(page_content='Conclusion: Accepted\\\\nLocation: Curbside collection, Multi-family collection, Recycle BC depots\\\\nCategory: Cartons and Paper Cups\\\\nItem: Paper cups for hot and cold beverages', metadata={'source': '..\\\\\\\\data\\\\\\\\recyclebc.csv', 'row': 71}), Document(page_content='Conclusion: Not Accepted\\\\nLocation: \\\\nCategory: Plastic Containers\\\\nItem: Plastic or foil lids from coffee and tea pods', metadata={'source': '..\\\\\\\\data\\\\\\\\recyclebc.csv', 'row': 70}), Document(page_content='Conclusion: Accepted\\\\nLocation: Curbside collection, Multi-family collection, Recycle BC depots\\\\nCategory: Plastic Containers\\\\nItem: Empty single-use coffee and tea pods; remove lids and do not include lids with recycling', metadata={'source': '..\\\\\\\\data\\\\\\\\recyclebc.csv', 'row': 42}), Document(page_content='Conclusion: Accepted\\\\nLocation: Curbside collection, Multi-family collection, Recycle BC depots\\\\nCategory: Plastic Containers\\\\nItem: Plastic cold drink cups with lids for take-out beverages', metadata={'source': '..\\\\\\\\data\\\\\\\\recyclebc.csv', 'row': 38})]\", additional_kwargs={}, name='search_recycle'), AIMessage(content='You have a few options for recycling coffee cups. \\n\\nPaper cups for hot and cold beverages can be recycled. You can dispose of them in curbside collection, multi-family collection, or Recycle BC depots. \\n\\nHowever, plastic or foil lids from coffee and tea pods are not accepted for recycling. \\n\\nIf you have empty single-use coffee and tea pods, you can recycle them by removing the lids and not including the lids with recycling. \\n\\nPlastic cold drink cups with lids for take-out beverages can also be recycled in curbside collection, multi-family collection, or Recycle BC depots.', additional_kwargs={}, example=False), HumanMessage(content='I live in an apartment.', additional_kwargs={}, example=False), AIMessage(content='If you live in an apartment, you can still recycle coffee cups. Many apartment buildings in Metro Vancouver have multi-family collection programs in place. This means that you can dispose of your coffee cups in the designated recycling bins or containers provided by your building. \\n\\nIf your apartment building does not have a multi-family collection program, you can take your coffee cups to the nearest Recycle BC depot. Recycle BC depots are located throughout Metro Vancouver and accept a wide range of recyclable materials, including coffee cups. You can find the nearest depot by visiting the Recycle BC website or contacting your local municipality for more information.', additional_kwargs={}, example=False)]\n"
     ]
    }
   ],
   "source": [
    "print(len(conversation_dict[conversation_id]['chat_history']))\n",
    "print(conversation_dict[conversation_id]['chat_history'][0])\n",
    "print(conversation_dict[conversation_id]['chat_history'][1])"
   ]
  },
  {
   "cell_type": "code",
   "execution_count": 189,
   "metadata": {},
   "outputs": [
    {
     "data": {
      "text/plain": [
       "HumanMessage(content='What are my options for recycling coffee cups?', additional_kwargs={}, example=False)"
      ]
     },
     "execution_count": 189,
     "metadata": {},
     "output_type": "execute_result"
    }
   ],
   "source": [
    "conversation_dict[conversation_id]['chat_history'][0][0]"
   ]
  },
  {
   "cell_type": "code",
   "execution_count": 193,
   "metadata": {},
   "outputs": [
    {
     "name": "stdout",
     "output_type": "stream",
     "text": [
      "6\n"
     ]
    },
    {
     "data": {
      "text/plain": [
       "AIMessage(content='If you live in an apartment, you can still recycle coffee cups. Many apartment buildings in Metro Vancouver have multi-family collection programs in place. This means that you can dispose of your coffee cups in the designated recycling bins or containers provided by your building. \\n\\nIf your apartment building does not have a multi-family collection program, you can take your coffee cups to the nearest Recycle BC depot. Recycle BC depots are located throughout Metro Vancouver and accept a wide range of recyclable materials, including coffee cups. You can find the nearest depot by visiting the Recycle BC website or contacting your local municipality for more information.', additional_kwargs={}, example=False)"
      ]
     },
     "execution_count": 193,
     "metadata": {},
     "output_type": "execute_result"
    }
   ],
   "source": [
    "print(len(conversation_dict[conversation_id]['chat_history'][0]))\n",
    "conversation_dict[conversation_id]['chat_history'][0][-1]"
   ]
  },
  {
   "cell_type": "code",
   "execution_count": 196,
   "metadata": {},
   "outputs": [
    {
     "data": {
      "text/plain": [
       "6"
      ]
     },
     "execution_count": 196,
     "metadata": {},
     "output_type": "execute_result"
    }
   ],
   "source": [
    "len(conversation_dict[conversation_id]['memory'].chat_memory.messages)"
   ]
  },
  {
   "cell_type": "markdown",
   "metadata": {},
   "source": [
    "## 4.3"
   ]
  },
  {
   "cell_type": "code",
   "execution_count": 197,
   "metadata": {},
   "outputs": [
    {
     "name": "stdout",
     "output_type": "stream",
     "text": [
      "\n",
      "\n",
      "\u001b[1m> Entering new AgentExecutor chain...\u001b[0m\n",
      "\u001b[32;1m\u001b[1;3m\n",
      "Invoking: `search_recycle` with `coffee cups`\n",
      "\n",
      "\n",
      "\u001b[0m\u001b[33;1m\u001b[1;3m[Document(page_content='Conclusion: Accepted\\nLocation: Curbside collection, Multi-family collection, Recycle BC depots\\nCategory: Cartons and Paper Cups\\nItem: Paper cups for hot and cold beverages', metadata={'source': '..\\\\data\\\\recyclebc.csv', 'row': 71}), Document(page_content='Conclusion: Not Accepted\\nLocation: \\nCategory: Plastic Containers\\nItem: Plastic or foil lids from coffee and tea pods', metadata={'source': '..\\\\data\\\\recyclebc.csv', 'row': 70}), Document(page_content='Conclusion: Accepted\\nLocation: Curbside collection, Multi-family collection, Recycle BC depots\\nCategory: Plastic Containers\\nItem: Empty single-use coffee and tea pods; remove lids and do not include lids with recycling', metadata={'source': '..\\\\data\\\\recyclebc.csv', 'row': 42}), Document(page_content='Conclusion: Accepted\\nLocation: Curbside collection, Multi-family collection, Recycle BC depots\\nCategory: Plastic Containers\\nItem: Plastic cold drink cups with lids for take-out beverages', metadata={'source': '..\\\\data\\\\recyclebc.csv', 'row': 38})]\u001b[0m\u001b[32;1m\u001b[1;3mYou have a few options for recycling coffee cups. \n",
      "\n",
      "Paper cups for hot and cold beverages can be recycled through curbside collection, multi-family collection, and Recycle BC depots. \n",
      "\n",
      "Plastic cold drink cups with lids for take-out beverages can also be recycled through the same channels. \n",
      "\n",
      "However, plastic or foil lids from coffee and tea pods are not accepted for recycling. \n",
      "\n",
      "If you have empty single-use coffee and tea pods, you can recycle them by removing the lids and not including the lids with recycling.\u001b[0m\n",
      "\n",
      "\u001b[1m> Finished chain.\u001b[0m\n",
      "\n",
      "\n",
      "\u001b[1m> Entering new AgentExecutor chain...\u001b[0m\n",
      "\u001b[32;1m\u001b[1;3mIf you live in an apartment, you can still recycle coffee cups. \n",
      "\n",
      "You can check if your apartment building has a separate recycling collection for paper cups and plastic containers. If they do, you can dispose of your coffee cups in the designated recycling bins. \n",
      "\n",
      "If your apartment building does not have a separate recycling collection, you can take your coffee cups to the nearest Recycle BC depot. Recycle BC depots accept paper cups for hot and cold beverages as well as plastic cold drink cups with lids for take-out beverages.\u001b[0m\n",
      "\n",
      "\u001b[1m> Finished chain.\u001b[0m\n"
     ]
    },
    {
     "data": {
      "text/plain": [
       "[[HumanMessage(content='What are my options for recycling coffee cups?', additional_kwargs={}, example=False), AIMessage(content='', additional_kwargs={'function_call': {'name': 'search_recycle', 'arguments': '{\\n  \"__arg1\": \"coffee cups\"\\n}'}}, example=False), FunctionMessage(content=\"[Document(page_content='Conclusion: Accepted\\\\nLocation: Curbside collection, Multi-family collection, Recycle BC depots\\\\nCategory: Cartons and Paper Cups\\\\nItem: Paper cups for hot and cold beverages', metadata={'source': '..\\\\\\\\data\\\\\\\\recyclebc.csv', 'row': 71}), Document(page_content='Conclusion: Not Accepted\\\\nLocation: \\\\nCategory: Plastic Containers\\\\nItem: Plastic or foil lids from coffee and tea pods', metadata={'source': '..\\\\\\\\data\\\\\\\\recyclebc.csv', 'row': 70}), Document(page_content='Conclusion: Accepted\\\\nLocation: Curbside collection, Multi-family collection, Recycle BC depots\\\\nCategory: Plastic Containers\\\\nItem: Empty single-use coffee and tea pods; remove lids and do not include lids with recycling', metadata={'source': '..\\\\\\\\data\\\\\\\\recyclebc.csv', 'row': 42}), Document(page_content='Conclusion: Accepted\\\\nLocation: Curbside collection, Multi-family collection, Recycle BC depots\\\\nCategory: Plastic Containers\\\\nItem: Plastic cold drink cups with lids for take-out beverages', metadata={'source': '..\\\\\\\\data\\\\\\\\recyclebc.csv', 'row': 38})]\", additional_kwargs={}, name='search_recycle'), AIMessage(content='You have a few options for recycling coffee cups. \\n\\nPaper cups for hot and cold beverages can be recycled through curbside collection, multi-family collection, and Recycle BC depots. \\n\\nPlastic cold drink cups with lids for take-out beverages can also be recycled through the same channels. \\n\\nHowever, plastic or foil lids from coffee and tea pods are not accepted for recycling. \\n\\nIf you have empty single-use coffee and tea pods, you can recycle them by removing the lids and not including the lids with recycling.', additional_kwargs={}, example=False), HumanMessage(content='I live in an apartment.', additional_kwargs={}, example=False), AIMessage(content='If you live in an apartment, you can still recycle coffee cups. \\n\\nYou can check if your apartment building has a separate recycling collection for paper cups and plastic containers. If they do, you can dispose of your coffee cups in the designated recycling bins. \\n\\nIf your apartment building does not have a separate recycling collection, you can take your coffee cups to the nearest Recycle BC depot. Recycle BC depots accept paper cups for hot and cold beverages as well as plastic cold drink cups with lids for take-out beverages.', additional_kwargs={}, example=False)], [HumanMessage(content='What are my options for recycling coffee cups?', additional_kwargs={}, example=False), AIMessage(content='', additional_kwargs={'function_call': {'name': 'search_recycle', 'arguments': '{\\n  \"__arg1\": \"coffee cups\"\\n}'}}, example=False), FunctionMessage(content=\"[Document(page_content='Conclusion: Accepted\\\\nLocation: Curbside collection, Multi-family collection, Recycle BC depots\\\\nCategory: Cartons and Paper Cups\\\\nItem: Paper cups for hot and cold beverages', metadata={'source': '..\\\\\\\\data\\\\\\\\recyclebc.csv', 'row': 71}), Document(page_content='Conclusion: Not Accepted\\\\nLocation: \\\\nCategory: Plastic Containers\\\\nItem: Plastic or foil lids from coffee and tea pods', metadata={'source': '..\\\\\\\\data\\\\\\\\recyclebc.csv', 'row': 70}), Document(page_content='Conclusion: Accepted\\\\nLocation: Curbside collection, Multi-family collection, Recycle BC depots\\\\nCategory: Plastic Containers\\\\nItem: Empty single-use coffee and tea pods; remove lids and do not include lids with recycling', metadata={'source': '..\\\\\\\\data\\\\\\\\recyclebc.csv', 'row': 42}), Document(page_content='Conclusion: Accepted\\\\nLocation: Curbside collection, Multi-family collection, Recycle BC depots\\\\nCategory: Plastic Containers\\\\nItem: Plastic cold drink cups with lids for take-out beverages', metadata={'source': '..\\\\\\\\data\\\\\\\\recyclebc.csv', 'row': 38})]\", additional_kwargs={}, name='search_recycle'), AIMessage(content='You have a few options for recycling coffee cups. \\n\\nPaper cups for hot and cold beverages can be recycled through curbside collection, multi-family collection, and Recycle BC depots. \\n\\nPlastic cold drink cups with lids for take-out beverages can also be recycled through the same channels. \\n\\nHowever, plastic or foil lids from coffee and tea pods are not accepted for recycling. \\n\\nIf you have empty single-use coffee and tea pods, you can recycle them by removing the lids and not including the lids with recycling.', additional_kwargs={}, example=False), HumanMessage(content='I live in an apartment.', additional_kwargs={}, example=False), AIMessage(content='If you live in an apartment, you can still recycle coffee cups. \\n\\nYou can check if your apartment building has a separate recycling collection for paper cups and plastic containers. If they do, you can dispose of your coffee cups in the designated recycling bins. \\n\\nIf your apartment building does not have a separate recycling collection, you can take your coffee cups to the nearest Recycle BC depot. Recycle BC depots accept paper cups for hot and cold beverages as well as plastic cold drink cups with lids for take-out beverages.', additional_kwargs={}, example=False)]]"
      ]
     },
     "execution_count": 197,
     "metadata": {},
     "output_type": "execute_result"
    }
   ],
   "source": [
    "from langchain.agents.openai_functions_agent.base import OpenAIFunctionsAgent\n",
    "from langchain.schema.messages import SystemMessage\n",
    "from langchain.prompts import MessagesPlaceholder\n",
    "from langchain.agents import AgentExecutor\n",
    "from langchain.agents.openai_functions_agent.agent_token_buffer_memory import AgentTokenBufferMemory\n",
    "\n",
    "def create_chatbot(tools, verbose=True):\n",
    "\n",
    "    llm = ChatOpenAI(\n",
    "        temperature = 0,\n",
    "        openai_organization=os.environ['openai_organization'],\n",
    "        openai_api_key=os.environ['openai_api_key'],\n",
    "        )\n",
    "\n",
    "    memory = AgentTokenBufferMemory(memory_key='chat_history', llm=llm)\n",
    "    system_message = SystemMessage(\n",
    "        content=(\"\"\"\n",
    "            You are a helpful assistant who provides concise answers to residents in Metro Vancouver, Canada.\n",
    "            You ask enough follow up questions as needed to provide the most relevant answer. \n",
    "            Where relevant, you retrieve the relevant information from your documents to answer the resident's question.\n",
    "            Recycle BC is the main resource for recycling information. \n",
    "            Respond to the resident's query, which are delimited by triple backticks: ```{question}```\n",
    "            \"\"\"\n",
    "        ),\n",
    "        input_variables=['question']\n",
    "    )\n",
    "    instruction_prompt = PromptTemplate.from_template(instructions)\n",
    "    prompt = OpenAIFunctionsAgent.create_prompt(\n",
    "        system_message=system_message,\n",
    "        extra_prompt_messages=[\n",
    "            MessagesPlaceholder(variable_name='chat_history')\n",
    "            ]\n",
    "    )\n",
    "\n",
    "    agent = OpenAIFunctionsAgent(llm=llm, tools=tools, prompt=prompt)\n",
    "    agent_executor = AgentExecutor(\n",
    "        agent=agent, tools=tools, memory=memory, verbose=verbose, return_intermediate_steps=True\n",
    "        )\n",
    "    agent_info = {\n",
    "        'agent': agent,\n",
    "        'agent_executor': agent_executor,\n",
    "        'memory': memory,\n",
    "        'chat_history': []\n",
    "    }\n",
    "    return agent_info\n",
    "\n",
    "def chat_with_chatbot(user_input, agent_info):\n",
    "\n",
    "    result = agent_info['agent_executor']({\n",
    "        \"input\": user_input,\n",
    "        \"chat_history\": agent_info['chat_history']\n",
    "        })\n",
    "    agent_info['chat_history'].append(result['chat_history'])\n",
    "    \n",
    "    return result, agent_info\n",
    "\n",
    "conversation_id = 4.3\n",
    "answer_dict[conversation_id] = dict()\n",
    "input_id = 1\n",
    "\n",
    "query1 = \"What are my options for recycling coffee cups?\"\n",
    "query2 = \"I live in an apartment.\"\n",
    "conversation_dict[conversation_id] = create_chatbot(tools_list_dict[2])\n",
    "answer_dict[conversation_id], conversation_dict[conversation_id] = chat_with_chatbot(query1, conversation_dict[conversation_id])\n",
    "answer_dict[conversation_id], conversation_dict[conversation_id] = chat_with_chatbot(query2, conversation_dict[conversation_id])\n",
    "conversation_dict[conversation_id]['chat_history']"
   ]
  },
  {
   "cell_type": "code",
   "execution_count": 200,
   "metadata": {},
   "outputs": [
    {
     "name": "stdout",
     "output_type": "stream",
     "text": [
      "2\n",
      "6 [HumanMessage(content='What are my options for recycling coffee cups?', additional_kwargs={}, example=False), AIMessage(content='', additional_kwargs={'function_call': {'name': 'search_recycle', 'arguments': '{\\n  \"__arg1\": \"coffee cups\"\\n}'}}, example=False), FunctionMessage(content=\"[Document(page_content='Conclusion: Accepted\\\\nLocation: Curbside collection, Multi-family collection, Recycle BC depots\\\\nCategory: Cartons and Paper Cups\\\\nItem: Paper cups for hot and cold beverages', metadata={'source': '..\\\\\\\\data\\\\\\\\recyclebc.csv', 'row': 71}), Document(page_content='Conclusion: Not Accepted\\\\nLocation: \\\\nCategory: Plastic Containers\\\\nItem: Plastic or foil lids from coffee and tea pods', metadata={'source': '..\\\\\\\\data\\\\\\\\recyclebc.csv', 'row': 70}), Document(page_content='Conclusion: Accepted\\\\nLocation: Curbside collection, Multi-family collection, Recycle BC depots\\\\nCategory: Plastic Containers\\\\nItem: Empty single-use coffee and tea pods; remove lids and do not include lids with recycling', metadata={'source': '..\\\\\\\\data\\\\\\\\recyclebc.csv', 'row': 42}), Document(page_content='Conclusion: Accepted\\\\nLocation: Curbside collection, Multi-family collection, Recycle BC depots\\\\nCategory: Plastic Containers\\\\nItem: Plastic cold drink cups with lids for take-out beverages', metadata={'source': '..\\\\\\\\data\\\\\\\\recyclebc.csv', 'row': 38})]\", additional_kwargs={}, name='search_recycle'), AIMessage(content='You have a few options for recycling coffee cups. \\n\\nPaper cups for hot and cold beverages can be recycled through curbside collection, multi-family collection, and Recycle BC depots. \\n\\nPlastic cold drink cups with lids for take-out beverages can also be recycled through the same channels. \\n\\nHowever, plastic or foil lids from coffee and tea pods are not accepted for recycling. \\n\\nIf you have empty single-use coffee and tea pods, you can recycle them by removing the lids and not including the lids with recycling.', additional_kwargs={}, example=False), HumanMessage(content='I live in an apartment.', additional_kwargs={}, example=False), AIMessage(content='If you live in an apartment, you can still recycle coffee cups. \\n\\nYou can check if your apartment building has a separate recycling collection for paper cups and plastic containers. If they do, you can dispose of your coffee cups in the designated recycling bins. \\n\\nIf your apartment building does not have a separate recycling collection, you can take your coffee cups to the nearest Recycle BC depot. Recycle BC depots accept paper cups for hot and cold beverages as well as plastic cold drink cups with lids for take-out beverages.', additional_kwargs={}, example=False)]\n",
      "6 [HumanMessage(content='What are my options for recycling coffee cups?', additional_kwargs={}, example=False), AIMessage(content='', additional_kwargs={'function_call': {'name': 'search_recycle', 'arguments': '{\\n  \"__arg1\": \"coffee cups\"\\n}'}}, example=False), FunctionMessage(content=\"[Document(page_content='Conclusion: Accepted\\\\nLocation: Curbside collection, Multi-family collection, Recycle BC depots\\\\nCategory: Cartons and Paper Cups\\\\nItem: Paper cups for hot and cold beverages', metadata={'source': '..\\\\\\\\data\\\\\\\\recyclebc.csv', 'row': 71}), Document(page_content='Conclusion: Not Accepted\\\\nLocation: \\\\nCategory: Plastic Containers\\\\nItem: Plastic or foil lids from coffee and tea pods', metadata={'source': '..\\\\\\\\data\\\\\\\\recyclebc.csv', 'row': 70}), Document(page_content='Conclusion: Accepted\\\\nLocation: Curbside collection, Multi-family collection, Recycle BC depots\\\\nCategory: Plastic Containers\\\\nItem: Empty single-use coffee and tea pods; remove lids and do not include lids with recycling', metadata={'source': '..\\\\\\\\data\\\\\\\\recyclebc.csv', 'row': 42}), Document(page_content='Conclusion: Accepted\\\\nLocation: Curbside collection, Multi-family collection, Recycle BC depots\\\\nCategory: Plastic Containers\\\\nItem: Plastic cold drink cups with lids for take-out beverages', metadata={'source': '..\\\\\\\\data\\\\\\\\recyclebc.csv', 'row': 38})]\", additional_kwargs={}, name='search_recycle'), AIMessage(content='You have a few options for recycling coffee cups. \\n\\nPaper cups for hot and cold beverages can be recycled through curbside collection, multi-family collection, and Recycle BC depots. \\n\\nPlastic cold drink cups with lids for take-out beverages can also be recycled through the same channels. \\n\\nHowever, plastic or foil lids from coffee and tea pods are not accepted for recycling. \\n\\nIf you have empty single-use coffee and tea pods, you can recycle them by removing the lids and not including the lids with recycling.', additional_kwargs={}, example=False), HumanMessage(content='I live in an apartment.', additional_kwargs={}, example=False), AIMessage(content='If you live in an apartment, you can still recycle coffee cups. \\n\\nYou can check if your apartment building has a separate recycling collection for paper cups and plastic containers. If they do, you can dispose of your coffee cups in the designated recycling bins. \\n\\nIf your apartment building does not have a separate recycling collection, you can take your coffee cups to the nearest Recycle BC depot. Recycle BC depots accept paper cups for hot and cold beverages as well as plastic cold drink cups with lids for take-out beverages.', additional_kwargs={}, example=False)]\n"
     ]
    }
   ],
   "source": [
    "print(len(conversation_dict[conversation_id]['chat_history']))\n",
    "for question in conversation_dict[conversation_id]['chat_history']:\n",
    "    print(len(question), question)"
   ]
  },
  {
   "cell_type": "code",
   "execution_count": 201,
   "metadata": {},
   "outputs": [
    {
     "data": {
      "text/plain": [
       "{'input': 'I live in an apartment.', 'chat_history': [HumanMessage(content='What are my options for recycling coffee cups?', additional_kwargs={}, example=False), AIMessage(content='', additional_kwargs={'function_call': {'name': 'search_recycle', 'arguments': '{\\n  \"__arg1\": \"coffee cups\"\\n}'}}, example=False), FunctionMessage(content=\"[Document(page_content='Conclusion: Accepted\\\\nLocation: Curbside collection, Multi-family collection, Recycle BC depots\\\\nCategory: Cartons and Paper Cups\\\\nItem: Paper cups for hot and cold beverages', metadata={'source': '..\\\\\\\\data\\\\\\\\recyclebc.csv', 'row': 71}), Document(page_content='Conclusion: Not Accepted\\\\nLocation: \\\\nCategory: Plastic Containers\\\\nItem: Plastic or foil lids from coffee and tea pods', metadata={'source': '..\\\\\\\\data\\\\\\\\recyclebc.csv', 'row': 70}), Document(page_content='Conclusion: Accepted\\\\nLocation: Curbside collection, Multi-family collection, Recycle BC depots\\\\nCategory: Plastic Containers\\\\nItem: Empty single-use coffee and tea pods; remove lids and do not include lids with recycling', metadata={'source': '..\\\\\\\\data\\\\\\\\recyclebc.csv', 'row': 42}), Document(page_content='Conclusion: Accepted\\\\nLocation: Curbside collection, Multi-family collection, Recycle BC depots\\\\nCategory: Plastic Containers\\\\nItem: Plastic cold drink cups with lids for take-out beverages', metadata={'source': '..\\\\\\\\data\\\\\\\\recyclebc.csv', 'row': 38})]\", additional_kwargs={}, name='search_recycle'), AIMessage(content='You have a few options for recycling coffee cups. \\n\\nPaper cups for hot and cold beverages can be recycled through curbside collection, multi-family collection, and Recycle BC depots. \\n\\nPlastic cold drink cups with lids for take-out beverages can also be recycled through the same channels. \\n\\nHowever, plastic or foil lids from coffee and tea pods are not accepted for recycling. \\n\\nIf you have empty single-use coffee and tea pods, you can recycle them by removing the lids and not including the lids with recycling.', additional_kwargs={}, example=False), HumanMessage(content='I live in an apartment.', additional_kwargs={}, example=False), AIMessage(content='If you live in an apartment, you can still recycle coffee cups. \\n\\nYou can check if your apartment building has a separate recycling collection for paper cups and plastic containers. If they do, you can dispose of your coffee cups in the designated recycling bins. \\n\\nIf your apartment building does not have a separate recycling collection, you can take your coffee cups to the nearest Recycle BC depot. Recycle BC depots accept paper cups for hot and cold beverages as well as plastic cold drink cups with lids for take-out beverages.', additional_kwargs={}, example=False)], 'output': 'If you live in an apartment, you can still recycle coffee cups. \\n\\nYou can check if your apartment building has a separate recycling collection for paper cups and plastic containers. If they do, you can dispose of your coffee cups in the designated recycling bins. \\n\\nIf your apartment building does not have a separate recycling collection, you can take your coffee cups to the nearest Recycle BC depot. Recycle BC depots accept paper cups for hot and cold beverages as well as plastic cold drink cups with lids for take-out beverages.', 'intermediate_steps': []}"
      ]
     },
     "execution_count": 201,
     "metadata": {},
     "output_type": "execute_result"
    }
   ],
   "source": [
    "answer_dict[conversation_id]"
   ]
  },
  {
   "cell_type": "markdown",
   "metadata": {},
   "source": [
    "## ** 4.4 Can see chat history here"
   ]
  },
  {
   "cell_type": "code",
   "execution_count": 202,
   "metadata": {},
   "outputs": [
    {
     "name": "stdout",
     "output_type": "stream",
     "text": [
      "Chat history length: 0\n",
      "\n",
      "\n",
      "\u001b[1m> Entering new AgentExecutor chain...\u001b[0m\n",
      "\u001b[32;1m\u001b[1;3m\n",
      "Invoking: `search_recycle` with `coffee cups`\n",
      "\n",
      "\n",
      "\u001b[0m\u001b[33;1m\u001b[1;3m[Document(page_content='Conclusion: Accepted\\nLocation: Curbside collection, Multi-family collection, Recycle BC depots\\nCategory: Cartons and Paper Cups\\nItem: Paper cups for hot and cold beverages', metadata={'source': '..\\\\data\\\\recyclebc.csv', 'row': 71}), Document(page_content='Conclusion: Not Accepted\\nLocation: \\nCategory: Plastic Containers\\nItem: Plastic or foil lids from coffee and tea pods', metadata={'source': '..\\\\data\\\\recyclebc.csv', 'row': 70}), Document(page_content='Conclusion: Accepted\\nLocation: Curbside collection, Multi-family collection, Recycle BC depots\\nCategory: Plastic Containers\\nItem: Empty single-use coffee and tea pods; remove lids and do not include lids with recycling', metadata={'source': '..\\\\data\\\\recyclebc.csv', 'row': 42}), Document(page_content='Conclusion: Accepted\\nLocation: Curbside collection, Multi-family collection, Recycle BC depots\\nCategory: Plastic Containers\\nItem: Plastic cold drink cups with lids for take-out beverages', metadata={'source': '..\\\\data\\\\recyclebc.csv', 'row': 38})]\u001b[0m\u001b[32;1m\u001b[1;3mYou have a few options for recycling coffee cups. \n",
      "\n",
      "Paper cups for hot and cold beverages can be recycled. You can dispose of them in curbside collection, multi-family collection, or Recycle BC depots. \n",
      "\n",
      "However, plastic or foil lids from coffee and tea pods are not accepted for recycling. \n",
      "\n",
      "If you have empty single-use coffee and tea pods, you can recycle them by removing the lids and not including the lids with recycling. \n",
      "\n",
      "Plastic cold drink cups with lids for take-out beverages can also be recycled in curbside collection, multi-family collection, or Recycle BC depots.\u001b[0m\n",
      "\n",
      "\u001b[1m> Finished chain.\u001b[0m\n",
      "Chat history length: 1\n",
      "\n",
      "\n",
      "\u001b[1m> Entering new AgentExecutor chain...\u001b[0m\n",
      "\u001b[32;1m\u001b[1;3mIf you live in an apartment, you can still recycle coffee cups. You can use the multi-family collection system provided by Recycle BC. They have designated recycling bins for paper cups for hot and cold beverages. You can check with your building management or the recycling guidelines in your apartment complex to find out where the recycling bins are located and how to properly dispose of the coffee cups.\u001b[0m\n",
      "\n",
      "\u001b[1m> Finished chain.\u001b[0m\n",
      "6 [HumanMessage(content='What are my options for recycling coffee cups?', additional_kwargs={}, example=False), AIMessage(content='', additional_kwargs={'function_call': {'name': 'search_recycle', 'arguments': '{\\n  \"__arg1\": \"coffee cups\"\\n}'}}, example=False), FunctionMessage(content=\"[Document(page_content='Conclusion: Accepted\\\\nLocation: Curbside collection, Multi-family collection, Recycle BC depots\\\\nCategory: Cartons and Paper Cups\\\\nItem: Paper cups for hot and cold beverages', metadata={'source': '..\\\\\\\\data\\\\\\\\recyclebc.csv', 'row': 71}), Document(page_content='Conclusion: Not Accepted\\\\nLocation: \\\\nCategory: Plastic Containers\\\\nItem: Plastic or foil lids from coffee and tea pods', metadata={'source': '..\\\\\\\\data\\\\\\\\recyclebc.csv', 'row': 70}), Document(page_content='Conclusion: Accepted\\\\nLocation: Curbside collection, Multi-family collection, Recycle BC depots\\\\nCategory: Plastic Containers\\\\nItem: Empty single-use coffee and tea pods; remove lids and do not include lids with recycling', metadata={'source': '..\\\\\\\\data\\\\\\\\recyclebc.csv', 'row': 42}), Document(page_content='Conclusion: Accepted\\\\nLocation: Curbside collection, Multi-family collection, Recycle BC depots\\\\nCategory: Plastic Containers\\\\nItem: Plastic cold drink cups with lids for take-out beverages', metadata={'source': '..\\\\\\\\data\\\\\\\\recyclebc.csv', 'row': 38})]\", additional_kwargs={}, name='search_recycle'), AIMessage(content='You have a few options for recycling coffee cups. \\n\\nPaper cups for hot and cold beverages can be recycled. You can dispose of them in curbside collection, multi-family collection, or Recycle BC depots. \\n\\nHowever, plastic or foil lids from coffee and tea pods are not accepted for recycling. \\n\\nIf you have empty single-use coffee and tea pods, you can recycle them by removing the lids and not including the lids with recycling. \\n\\nPlastic cold drink cups with lids for take-out beverages can also be recycled in curbside collection, multi-family collection, or Recycle BC depots.', additional_kwargs={}, example=False), HumanMessage(content='I live in an apartment.', additional_kwargs={}, example=False), AIMessage(content='If you live in an apartment, you can still recycle coffee cups. You can use the multi-family collection system provided by Recycle BC. They have designated recycling bins for paper cups for hot and cold beverages. You can check with your building management or the recycling guidelines in your apartment complex to find out where the recycling bins are located and how to properly dispose of the coffee cups.', additional_kwargs={}, example=False)]\n",
      "6 [HumanMessage(content='What are my options for recycling coffee cups?', additional_kwargs={}, example=False), AIMessage(content='', additional_kwargs={'function_call': {'name': 'search_recycle', 'arguments': '{\\n  \"__arg1\": \"coffee cups\"\\n}'}}, example=False), FunctionMessage(content=\"[Document(page_content='Conclusion: Accepted\\\\nLocation: Curbside collection, Multi-family collection, Recycle BC depots\\\\nCategory: Cartons and Paper Cups\\\\nItem: Paper cups for hot and cold beverages', metadata={'source': '..\\\\\\\\data\\\\\\\\recyclebc.csv', 'row': 71}), Document(page_content='Conclusion: Not Accepted\\\\nLocation: \\\\nCategory: Plastic Containers\\\\nItem: Plastic or foil lids from coffee and tea pods', metadata={'source': '..\\\\\\\\data\\\\\\\\recyclebc.csv', 'row': 70}), Document(page_content='Conclusion: Accepted\\\\nLocation: Curbside collection, Multi-family collection, Recycle BC depots\\\\nCategory: Plastic Containers\\\\nItem: Empty single-use coffee and tea pods; remove lids and do not include lids with recycling', metadata={'source': '..\\\\\\\\data\\\\\\\\recyclebc.csv', 'row': 42}), Document(page_content='Conclusion: Accepted\\\\nLocation: Curbside collection, Multi-family collection, Recycle BC depots\\\\nCategory: Plastic Containers\\\\nItem: Plastic cold drink cups with lids for take-out beverages', metadata={'source': '..\\\\\\\\data\\\\\\\\recyclebc.csv', 'row': 38})]\", additional_kwargs={}, name='search_recycle'), AIMessage(content='You have a few options for recycling coffee cups. \\n\\nPaper cups for hot and cold beverages can be recycled. You can dispose of them in curbside collection, multi-family collection, or Recycle BC depots. \\n\\nHowever, plastic or foil lids from coffee and tea pods are not accepted for recycling. \\n\\nIf you have empty single-use coffee and tea pods, you can recycle them by removing the lids and not including the lids with recycling. \\n\\nPlastic cold drink cups with lids for take-out beverages can also be recycled in curbside collection, multi-family collection, or Recycle BC depots.', additional_kwargs={}, example=False), HumanMessage(content='I live in an apartment.', additional_kwargs={}, example=False), AIMessage(content='If you live in an apartment, you can still recycle coffee cups. You can use the multi-family collection system provided by Recycle BC. They have designated recycling bins for paper cups for hot and cold beverages. You can check with your building management or the recycling guidelines in your apartment complex to find out where the recycling bins are located and how to properly dispose of the coffee cups.', additional_kwargs={}, example=False)]\n"
     ]
    }
   ],
   "source": [
    "from langchain.agents.openai_functions_agent.base import OpenAIFunctionsAgent\n",
    "from langchain.schema.messages import SystemMessage\n",
    "from langchain.prompts import MessagesPlaceholder\n",
    "from langchain.agents import AgentExecutor\n",
    "from langchain.agents.openai_functions_agent.agent_token_buffer_memory import AgentTokenBufferMemory\n",
    "\n",
    "def create_chatbot(tools, verbose=True):\n",
    "\n",
    "    llm = ChatOpenAI(\n",
    "        temperature = 0,\n",
    "        openai_organization=os.environ['openai_organization'],\n",
    "        openai_api_key=os.environ['openai_api_key'],\n",
    "        )\n",
    "\n",
    "    memory = AgentTokenBufferMemory(memory_key='chat_history', llm=llm)\n",
    "    system_message = SystemMessage(\n",
    "        content=(\"\"\"\n",
    "            You are a helpful assistant who provides concise answers to residents in Metro Vancouver, Canada.\n",
    "            You ask enough follow up questions as needed to provide the most relevant answer. \n",
    "            Where relevant, you retrieve the relevant information from your documents to answer the resident's question.\n",
    "            Recycle BC is the main resource for recycling information. \n",
    "            Respond to the resident's query, which are delimited by triple backticks: ```{question}```\n",
    "            \"\"\"\n",
    "        ),\n",
    "        input_variables=['question']\n",
    "    )\n",
    "    instruction_prompt = PromptTemplate.from_template(instructions)\n",
    "    prompt = OpenAIFunctionsAgent.create_prompt(\n",
    "        system_message=system_message,\n",
    "        extra_prompt_messages=[\n",
    "            MessagesPlaceholder(variable_name='chat_history')\n",
    "            ]\n",
    "    )\n",
    "\n",
    "    agent = OpenAIFunctionsAgent(llm=llm, tools=tools, prompt=prompt)\n",
    "    agent_executor = AgentExecutor(\n",
    "        agent=agent, tools=tools, memory=memory, verbose=verbose, return_intermediate_steps=True\n",
    "        )\n",
    "    agent_info = {\n",
    "        'agent': agent,\n",
    "        'agent_executor': agent_executor,\n",
    "        'memory': memory,\n",
    "        'chat_history': []\n",
    "    }\n",
    "    return agent_info\n",
    "\n",
    "def chat_with_chatbot(user_input, agent_info):\n",
    "\n",
    "    print(f'Chat history length: {len(agent_info[\"chat_history\"])}')\n",
    "\n",
    "    result = agent_info['agent_executor']({\n",
    "        \"input\": user_input,\n",
    "        \"chat_history\": agent_info['chat_history']\n",
    "        })\n",
    "    agent_info['chat_history'].append(result['chat_history'])\n",
    "    \n",
    "    return result, agent_info\n",
    "\n",
    "conversation_id = 4.3\n",
    "answer_dict[conversation_id] = dict()\n",
    "input_id = 1\n",
    "\n",
    "query1 = \"What are my options for recycling coffee cups?\"\n",
    "query2 = \"I live in an apartment.\"\n",
    "query3 = \"Thank you so much!\"\n",
    "conversation_dict[conversation_id] = create_chatbot(tools_list_dict[2])\n",
    "answer_dict[conversation_id], conversation_dict[conversation_id] = chat_with_chatbot(query1, conversation_dict[conversation_id])\n",
    "answer_dict[conversation_id], conversation_dict[conversation_id] = chat_with_chatbot(query2, conversation_dict[conversation_id])\n",
    "for message in conversation_dict[conversation_id]['chat_history']:\n",
    "    print(len(message), message)"
   ]
  },
  {
   "cell_type": "code",
   "execution_count": 203,
   "metadata": {},
   "outputs": [
    {
     "name": "stdout",
     "output_type": "stream",
     "text": [
      "Chat history length: 2\n",
      "\n",
      "\n",
      "\u001b[1m> Entering new AgentExecutor chain...\u001b[0m\n",
      "\u001b[32;1m\u001b[1;3mYou're welcome! I'm glad I could help. If you have any more questions, feel free to ask. Happy recycling!\u001b[0m\n",
      "\n",
      "\u001b[1m> Finished chain.\u001b[0m\n",
      "8 [HumanMessage(content='What are my options for recycling coffee cups?', additional_kwargs={}, example=False), AIMessage(content='', additional_kwargs={'function_call': {'name': 'search_recycle', 'arguments': '{\\n  \"__arg1\": \"coffee cups\"\\n}'}}, example=False), FunctionMessage(content=\"[Document(page_content='Conclusion: Accepted\\\\nLocation: Curbside collection, Multi-family collection, Recycle BC depots\\\\nCategory: Cartons and Paper Cups\\\\nItem: Paper cups for hot and cold beverages', metadata={'source': '..\\\\\\\\data\\\\\\\\recyclebc.csv', 'row': 71}), Document(page_content='Conclusion: Not Accepted\\\\nLocation: \\\\nCategory: Plastic Containers\\\\nItem: Plastic or foil lids from coffee and tea pods', metadata={'source': '..\\\\\\\\data\\\\\\\\recyclebc.csv', 'row': 70}), Document(page_content='Conclusion: Accepted\\\\nLocation: Curbside collection, Multi-family collection, Recycle BC depots\\\\nCategory: Plastic Containers\\\\nItem: Empty single-use coffee and tea pods; remove lids and do not include lids with recycling', metadata={'source': '..\\\\\\\\data\\\\\\\\recyclebc.csv', 'row': 42}), Document(page_content='Conclusion: Accepted\\\\nLocation: Curbside collection, Multi-family collection, Recycle BC depots\\\\nCategory: Plastic Containers\\\\nItem: Plastic cold drink cups with lids for take-out beverages', metadata={'source': '..\\\\\\\\data\\\\\\\\recyclebc.csv', 'row': 38})]\", additional_kwargs={}, name='search_recycle'), AIMessage(content='You have a few options for recycling coffee cups. \\n\\nPaper cups for hot and cold beverages can be recycled. You can dispose of them in curbside collection, multi-family collection, or Recycle BC depots. \\n\\nHowever, plastic or foil lids from coffee and tea pods are not accepted for recycling. \\n\\nIf you have empty single-use coffee and tea pods, you can recycle them by removing the lids and not including the lids with recycling. \\n\\nPlastic cold drink cups with lids for take-out beverages can also be recycled in curbside collection, multi-family collection, or Recycle BC depots.', additional_kwargs={}, example=False), HumanMessage(content='I live in an apartment.', additional_kwargs={}, example=False), AIMessage(content='If you live in an apartment, you can still recycle coffee cups. You can use the multi-family collection system provided by Recycle BC. They have designated recycling bins for paper cups for hot and cold beverages. You can check with your building management or the recycling guidelines in your apartment complex to find out where the recycling bins are located and how to properly dispose of the coffee cups.', additional_kwargs={}, example=False), HumanMessage(content='Thank you so much!', additional_kwargs={}, example=False), AIMessage(content=\"You're welcome! I'm glad I could help. If you have any more questions, feel free to ask. Happy recycling!\", additional_kwargs={}, example=False)]\n",
      "8 [HumanMessage(content='What are my options for recycling coffee cups?', additional_kwargs={}, example=False), AIMessage(content='', additional_kwargs={'function_call': {'name': 'search_recycle', 'arguments': '{\\n  \"__arg1\": \"coffee cups\"\\n}'}}, example=False), FunctionMessage(content=\"[Document(page_content='Conclusion: Accepted\\\\nLocation: Curbside collection, Multi-family collection, Recycle BC depots\\\\nCategory: Cartons and Paper Cups\\\\nItem: Paper cups for hot and cold beverages', metadata={'source': '..\\\\\\\\data\\\\\\\\recyclebc.csv', 'row': 71}), Document(page_content='Conclusion: Not Accepted\\\\nLocation: \\\\nCategory: Plastic Containers\\\\nItem: Plastic or foil lids from coffee and tea pods', metadata={'source': '..\\\\\\\\data\\\\\\\\recyclebc.csv', 'row': 70}), Document(page_content='Conclusion: Accepted\\\\nLocation: Curbside collection, Multi-family collection, Recycle BC depots\\\\nCategory: Plastic Containers\\\\nItem: Empty single-use coffee and tea pods; remove lids and do not include lids with recycling', metadata={'source': '..\\\\\\\\data\\\\\\\\recyclebc.csv', 'row': 42}), Document(page_content='Conclusion: Accepted\\\\nLocation: Curbside collection, Multi-family collection, Recycle BC depots\\\\nCategory: Plastic Containers\\\\nItem: Plastic cold drink cups with lids for take-out beverages', metadata={'source': '..\\\\\\\\data\\\\\\\\recyclebc.csv', 'row': 38})]\", additional_kwargs={}, name='search_recycle'), AIMessage(content='You have a few options for recycling coffee cups. \\n\\nPaper cups for hot and cold beverages can be recycled. You can dispose of them in curbside collection, multi-family collection, or Recycle BC depots. \\n\\nHowever, plastic or foil lids from coffee and tea pods are not accepted for recycling. \\n\\nIf you have empty single-use coffee and tea pods, you can recycle them by removing the lids and not including the lids with recycling. \\n\\nPlastic cold drink cups with lids for take-out beverages can also be recycled in curbside collection, multi-family collection, or Recycle BC depots.', additional_kwargs={}, example=False), HumanMessage(content='I live in an apartment.', additional_kwargs={}, example=False), AIMessage(content='If you live in an apartment, you can still recycle coffee cups. You can use the multi-family collection system provided by Recycle BC. They have designated recycling bins for paper cups for hot and cold beverages. You can check with your building management or the recycling guidelines in your apartment complex to find out where the recycling bins are located and how to properly dispose of the coffee cups.', additional_kwargs={}, example=False), HumanMessage(content='Thank you so much!', additional_kwargs={}, example=False), AIMessage(content=\"You're welcome! I'm glad I could help. If you have any more questions, feel free to ask. Happy recycling!\", additional_kwargs={}, example=False)]\n",
      "8 [HumanMessage(content='What are my options for recycling coffee cups?', additional_kwargs={}, example=False), AIMessage(content='', additional_kwargs={'function_call': {'name': 'search_recycle', 'arguments': '{\\n  \"__arg1\": \"coffee cups\"\\n}'}}, example=False), FunctionMessage(content=\"[Document(page_content='Conclusion: Accepted\\\\nLocation: Curbside collection, Multi-family collection, Recycle BC depots\\\\nCategory: Cartons and Paper Cups\\\\nItem: Paper cups for hot and cold beverages', metadata={'source': '..\\\\\\\\data\\\\\\\\recyclebc.csv', 'row': 71}), Document(page_content='Conclusion: Not Accepted\\\\nLocation: \\\\nCategory: Plastic Containers\\\\nItem: Plastic or foil lids from coffee and tea pods', metadata={'source': '..\\\\\\\\data\\\\\\\\recyclebc.csv', 'row': 70}), Document(page_content='Conclusion: Accepted\\\\nLocation: Curbside collection, Multi-family collection, Recycle BC depots\\\\nCategory: Plastic Containers\\\\nItem: Empty single-use coffee and tea pods; remove lids and do not include lids with recycling', metadata={'source': '..\\\\\\\\data\\\\\\\\recyclebc.csv', 'row': 42}), Document(page_content='Conclusion: Accepted\\\\nLocation: Curbside collection, Multi-family collection, Recycle BC depots\\\\nCategory: Plastic Containers\\\\nItem: Plastic cold drink cups with lids for take-out beverages', metadata={'source': '..\\\\\\\\data\\\\\\\\recyclebc.csv', 'row': 38})]\", additional_kwargs={}, name='search_recycle'), AIMessage(content='You have a few options for recycling coffee cups. \\n\\nPaper cups for hot and cold beverages can be recycled. You can dispose of them in curbside collection, multi-family collection, or Recycle BC depots. \\n\\nHowever, plastic or foil lids from coffee and tea pods are not accepted for recycling. \\n\\nIf you have empty single-use coffee and tea pods, you can recycle them by removing the lids and not including the lids with recycling. \\n\\nPlastic cold drink cups with lids for take-out beverages can also be recycled in curbside collection, multi-family collection, or Recycle BC depots.', additional_kwargs={}, example=False), HumanMessage(content='I live in an apartment.', additional_kwargs={}, example=False), AIMessage(content='If you live in an apartment, you can still recycle coffee cups. You can use the multi-family collection system provided by Recycle BC. They have designated recycling bins for paper cups for hot and cold beverages. You can check with your building management or the recycling guidelines in your apartment complex to find out where the recycling bins are located and how to properly dispose of the coffee cups.', additional_kwargs={}, example=False), HumanMessage(content='Thank you so much!', additional_kwargs={}, example=False), AIMessage(content=\"You're welcome! I'm glad I could help. If you have any more questions, feel free to ask. Happy recycling!\", additional_kwargs={}, example=False)]\n"
     ]
    }
   ],
   "source": [
    "answer_dict[conversation_id], conversation_dict[conversation_id] = chat_with_chatbot(query3, conversation_dict[conversation_id])\n",
    "for message in conversation_dict[conversation_id]['chat_history']:\n",
    "    print(len(message), message)"
   ]
  },
  {
   "cell_type": "code",
   "execution_count": 212,
   "metadata": {},
   "outputs": [
    {
     "name": "stdout",
     "output_type": "stream",
     "text": [
      "8\n",
      "content='What are my options for recycling coffee cups?' additional_kwargs={} example=False\n",
      "content='' additional_kwargs={'function_call': {'name': 'search_recycle', 'arguments': '{\\n  \"__arg1\": \"coffee cups\"\\n}'}} example=False\n",
      "content=\"[Document(page_content='Conclusion: Accepted\\\\nLocation: Curbside collection, Multi-family collection, Recycle BC depots\\\\nCategory: Cartons and Paper Cups\\\\nItem: Paper cups for hot and cold beverages', metadata={'source': '..\\\\\\\\data\\\\\\\\recyclebc.csv', 'row': 71}), Document(page_content='Conclusion: Not Accepted\\\\nLocation: \\\\nCategory: Plastic Containers\\\\nItem: Plastic or foil lids from coffee and tea pods', metadata={'source': '..\\\\\\\\data\\\\\\\\recyclebc.csv', 'row': 70}), Document(page_content='Conclusion: Accepted\\\\nLocation: Curbside collection, Multi-family collection, Recycle BC depots\\\\nCategory: Plastic Containers\\\\nItem: Empty single-use coffee and tea pods; remove lids and do not include lids with recycling', metadata={'source': '..\\\\\\\\data\\\\\\\\recyclebc.csv', 'row': 42}), Document(page_content='Conclusion: Accepted\\\\nLocation: Curbside collection, Multi-family collection, Recycle BC depots\\\\nCategory: Plastic Containers\\\\nItem: Plastic cold drink cups with lids for take-out beverages', metadata={'source': '..\\\\\\\\data\\\\\\\\recyclebc.csv', 'row': 38})]\" additional_kwargs={} name='search_recycle'\n",
      "content='You have a few options for recycling coffee cups. \\n\\nPaper cups for hot and cold beverages can be recycled. You can dispose of them in curbside collection, multi-family collection, or Recycle BC depots. \\n\\nHowever, plastic or foil lids from coffee and tea pods are not accepted for recycling. \\n\\nIf you have empty single-use coffee and tea pods, you can recycle them by removing the lids and not including the lids with recycling. \\n\\nPlastic cold drink cups with lids for take-out beverages can also be recycled in curbside collection, multi-family collection, or Recycle BC depots.' additional_kwargs={} example=False\n",
      "content='I live in an apartment.' additional_kwargs={} example=False\n",
      "content='If you live in an apartment, you can still recycle coffee cups. You can use the multi-family collection system provided by Recycle BC. They have designated recycling bins for paper cups for hot and cold beverages. You can check with your building management or the recycling guidelines in your apartment complex to find out where the recycling bins are located and how to properly dispose of the coffee cups.' additional_kwargs={} example=False\n",
      "content='Thank you so much!' additional_kwargs={} example=False\n",
      "content=\"You're welcome! I'm glad I could help. If you have any more questions, feel free to ask. Happy recycling!\" additional_kwargs={} example=False\n"
     ]
    }
   ],
   "source": [
    "print(len(answer_dict[conversation_id]['chat_history']))\n",
    "for message in answer_dict[conversation_id]['chat_history']:\n",
    "    print(message)"
   ]
  },
  {
   "cell_type": "code",
   "execution_count": 214,
   "metadata": {},
   "outputs": [
    {
     "name": "stdout",
     "output_type": "stream",
     "text": [
      "content='What are my options for recycling coffee cups?' additional_kwargs={} example=False\n",
      "content='' additional_kwargs={'function_call': {'name': 'search_recycle', 'arguments': '{\\n  \"__arg1\": \"coffee cups\"\\n}'}} example=False\n",
      "content=\"[Document(page_content='Conclusion: Accepted\\\\nLocation: Curbside collection, Multi-family collection, Recycle BC depots\\\\nCategory: Cartons and Paper Cups\\\\nItem: Paper cups for hot and cold beverages', metadata={'source': '..\\\\\\\\data\\\\\\\\recyclebc.csv', 'row': 71}), Document(page_content='Conclusion: Not Accepted\\\\nLocation: \\\\nCategory: Plastic Containers\\\\nItem: Plastic or foil lids from coffee and tea pods', metadata={'source': '..\\\\\\\\data\\\\\\\\recyclebc.csv', 'row': 70}), Document(page_content='Conclusion: Accepted\\\\nLocation: Curbside collection, Multi-family collection, Recycle BC depots\\\\nCategory: Plastic Containers\\\\nItem: Empty single-use coffee and tea pods; remove lids and do not include lids with recycling', metadata={'source': '..\\\\\\\\data\\\\\\\\recyclebc.csv', 'row': 42}), Document(page_content='Conclusion: Accepted\\\\nLocation: Curbside collection, Multi-family collection, Recycle BC depots\\\\nCategory: Plastic Containers\\\\nItem: Plastic cold drink cups with lids for take-out beverages', metadata={'source': '..\\\\\\\\data\\\\\\\\recyclebc.csv', 'row': 38})]\" additional_kwargs={} name='search_recycle'\n",
      "content='You have a few options for recycling coffee cups. \\n\\nPaper cups for hot and cold beverages can be recycled. You can dispose of them in curbside collection, multi-family collection, or Recycle BC depots. \\n\\nHowever, plastic or foil lids from coffee and tea pods are not accepted for recycling. \\n\\nIf you have empty single-use coffee and tea pods, you can recycle them by removing the lids and not including the lids with recycling. \\n\\nPlastic cold drink cups with lids for take-out beverages can also be recycled in curbside collection, multi-family collection, or Recycle BC depots.' additional_kwargs={} example=False\n",
      "content='I live in an apartment.' additional_kwargs={} example=False\n",
      "content='If you live in an apartment, you can still recycle coffee cups. You can use the multi-family collection system provided by Recycle BC. They have designated recycling bins for paper cups for hot and cold beverages. You can check with your building management or the recycling guidelines in your apartment complex to find out where the recycling bins are located and how to properly dispose of the coffee cups.' additional_kwargs={} example=False\n",
      "content='Thank you so much!' additional_kwargs={} example=False\n",
      "content=\"You're welcome! I'm glad I could help. If you have any more questions, feel free to ask. Happy recycling!\" additional_kwargs={} example=False\n"
     ]
    }
   ],
   "source": [
    "for message in conversation_dict[conversation_id]['chat_history'][-1]:\n",
    "    print(message)"
   ]
  },
  {
   "cell_type": "markdown",
   "metadata": {},
   "source": [
    "## 4.5 Can see chat history here"
   ]
  },
  {
   "cell_type": "code",
   "execution_count": 215,
   "metadata": {},
   "outputs": [
    {
     "name": "stdout",
     "output_type": "stream",
     "text": [
      "Chat history length: 0\n",
      "\n",
      "\n",
      "\u001b[1m> Entering new AgentExecutor chain...\u001b[0m\n",
      "\u001b[32;1m\u001b[1;3m\n",
      "Invoking: `search_recycle` with `coffee cups`\n",
      "\n",
      "\n",
      "\u001b[0m\u001b[33;1m\u001b[1;3m[Document(page_content='Conclusion: Accepted\\nLocation: Curbside collection, Multi-family collection, Recycle BC depots\\nCategory: Cartons and Paper Cups\\nItem: Paper cups for hot and cold beverages', metadata={'source': '..\\\\data\\\\recyclebc.csv', 'row': 71}), Document(page_content='Conclusion: Not Accepted\\nLocation: \\nCategory: Plastic Containers\\nItem: Plastic or foil lids from coffee and tea pods', metadata={'source': '..\\\\data\\\\recyclebc.csv', 'row': 70}), Document(page_content='Conclusion: Accepted\\nLocation: Curbside collection, Multi-family collection, Recycle BC depots\\nCategory: Plastic Containers\\nItem: Empty single-use coffee and tea pods; remove lids and do not include lids with recycling', metadata={'source': '..\\\\data\\\\recyclebc.csv', 'row': 42}), Document(page_content='Conclusion: Accepted\\nLocation: Curbside collection, Multi-family collection, Recycle BC depots\\nCategory: Plastic Containers\\nItem: Plastic cold drink cups with lids for take-out beverages', metadata={'source': '..\\\\data\\\\recyclebc.csv', 'row': 38})]\u001b[0m\u001b[32;1m\u001b[1;3mYou have a few options for recycling coffee cups. \n",
      "\n",
      "Paper cups for hot and cold beverages can be recycled through curbside collection, multi-family collection, and Recycle BC depots. \n",
      "\n",
      "Plastic cold drink cups with lids for take-out beverages can also be recycled through the same channels. \n",
      "\n",
      "However, plastic or foil lids from coffee and tea pods are not accepted for recycling. \n",
      "\n",
      "If you have empty single-use coffee and tea pods, you can recycle them by removing the lids and not including the lids with recycling.\u001b[0m\n",
      "\n",
      "\u001b[1m> Finished chain.\u001b[0m\n",
      "Chat history length: 1\n",
      "\n",
      "\n",
      "\u001b[1m> Entering new AgentExecutor chain...\u001b[0m\n",
      "\u001b[32;1m\u001b[1;3mIf you live in an apartment, you can still recycle coffee cups. \n",
      "\n",
      "You can check if your apartment building has a separate recycling collection for paper cups and plastic containers. If they do, you can dispose of your coffee cups in the designated recycling bins. \n",
      "\n",
      "If your apartment building does not have a separate recycling collection, you can take your coffee cups to the nearest Recycle BC depot. Recycle BC depots accept paper cups for hot and cold beverages as well as plastic cold drink cups with lids for take-out beverages. \n",
      "\n",
      "Remember to rinse out the cups before recycling them and remove any plastic or foil lids before recycling.\u001b[0m\n",
      "\n",
      "\u001b[1m> Finished chain.\u001b[0m\n",
      "Chat history length: 2\n",
      "\n",
      "\n",
      "\u001b[1m> Entering new AgentExecutor chain...\u001b[0m\n",
      "\u001b[32;1m\u001b[1;3mYou're welcome! I'm glad I could help. If you have any more questions, feel free to ask. Happy recycling!\u001b[0m\n",
      "\n",
      "\u001b[1m> Finished chain.\u001b[0m\n",
      "content='What are my options for recycling coffee cups?' additional_kwargs={} example=False\n",
      "content='' additional_kwargs={'function_call': {'name': 'search_recycle', 'arguments': '{\\n  \"__arg1\": \"coffee cups\"\\n}'}} example=False\n",
      "content=\"[Document(page_content='Conclusion: Accepted\\\\nLocation: Curbside collection, Multi-family collection, Recycle BC depots\\\\nCategory: Cartons and Paper Cups\\\\nItem: Paper cups for hot and cold beverages', metadata={'source': '..\\\\\\\\data\\\\\\\\recyclebc.csv', 'row': 71}), Document(page_content='Conclusion: Not Accepted\\\\nLocation: \\\\nCategory: Plastic Containers\\\\nItem: Plastic or foil lids from coffee and tea pods', metadata={'source': '..\\\\\\\\data\\\\\\\\recyclebc.csv', 'row': 70}), Document(page_content='Conclusion: Accepted\\\\nLocation: Curbside collection, Multi-family collection, Recycle BC depots\\\\nCategory: Plastic Containers\\\\nItem: Empty single-use coffee and tea pods; remove lids and do not include lids with recycling', metadata={'source': '..\\\\\\\\data\\\\\\\\recyclebc.csv', 'row': 42}), Document(page_content='Conclusion: Accepted\\\\nLocation: Curbside collection, Multi-family collection, Recycle BC depots\\\\nCategory: Plastic Containers\\\\nItem: Plastic cold drink cups with lids for take-out beverages', metadata={'source': '..\\\\\\\\data\\\\\\\\recyclebc.csv', 'row': 38})]\" additional_kwargs={} name='search_recycle'\n",
      "content='You have a few options for recycling coffee cups. \\n\\nPaper cups for hot and cold beverages can be recycled through curbside collection, multi-family collection, and Recycle BC depots. \\n\\nPlastic cold drink cups with lids for take-out beverages can also be recycled through the same channels. \\n\\nHowever, plastic or foil lids from coffee and tea pods are not accepted for recycling. \\n\\nIf you have empty single-use coffee and tea pods, you can recycle them by removing the lids and not including the lids with recycling.' additional_kwargs={} example=False\n",
      "content='I live in an apartment.' additional_kwargs={} example=False\n",
      "content='If you live in an apartment, you can still recycle coffee cups. \\n\\nYou can check if your apartment building has a separate recycling collection for paper cups and plastic containers. If they do, you can dispose of your coffee cups in the designated recycling bins. \\n\\nIf your apartment building does not have a separate recycling collection, you can take your coffee cups to the nearest Recycle BC depot. Recycle BC depots accept paper cups for hot and cold beverages as well as plastic cold drink cups with lids for take-out beverages. \\n\\nRemember to rinse out the cups before recycling them and remove any plastic or foil lids before recycling.' additional_kwargs={} example=False\n",
      "content='Thank you so much!' additional_kwargs={} example=False\n",
      "content=\"You're welcome! I'm glad I could help. If you have any more questions, feel free to ask. Happy recycling!\" additional_kwargs={} example=False\n"
     ]
    }
   ],
   "source": [
    "from langchain.agents.openai_functions_agent.base import OpenAIFunctionsAgent\n",
    "from langchain.schema.messages import SystemMessage\n",
    "from langchain.prompts import MessagesPlaceholder\n",
    "from langchain.agents import AgentExecutor\n",
    "from langchain.agents.openai_functions_agent.agent_token_buffer_memory import AgentTokenBufferMemory\n",
    "\n",
    "def create_chatbot(tools, verbose=True):\n",
    "\n",
    "    llm = ChatOpenAI(\n",
    "        temperature = 0,\n",
    "        openai_organization=os.environ['openai_organization'],\n",
    "        openai_api_key=os.environ['openai_api_key'],\n",
    "        )\n",
    "\n",
    "    memory = AgentTokenBufferMemory(memory_key='chat_history', llm=llm)\n",
    "    system_message = SystemMessage(\n",
    "        content=(\"\"\"\n",
    "            You are a helpful assistant who provides concise answers to residents in Metro Vancouver, Canada.\n",
    "            You ask enough follow up questions as needed to provide the most relevant answer. \n",
    "            Where relevant, you retrieve the relevant information from your documents to answer the resident's question.\n",
    "            Recycle BC is the main resource for recycling information. \n",
    "            Respond to the resident's query, which are delimited by triple backticks: ```{question}```\n",
    "            \"\"\"\n",
    "        ),\n",
    "        input_variables=['question']\n",
    "    )\n",
    "    instruction_prompt = PromptTemplate.from_template(instructions)\n",
    "    prompt = OpenAIFunctionsAgent.create_prompt(\n",
    "        system_message=system_message,\n",
    "        extra_prompt_messages=[\n",
    "            MessagesPlaceholder(variable_name='chat_history')\n",
    "            ]\n",
    "    )\n",
    "\n",
    "    agent = OpenAIFunctionsAgent(llm=llm, tools=tools, prompt=prompt)\n",
    "    agent_executor = AgentExecutor(\n",
    "        agent=agent, tools=tools, memory=memory, verbose=verbose, return_intermediate_steps=True\n",
    "        )\n",
    "    agent_info = {\n",
    "        'agent': agent,\n",
    "        'agent_executor': agent_executor,\n",
    "        'memory': memory,\n",
    "        'chat_history': []\n",
    "    }\n",
    "    return agent_info\n",
    "\n",
    "def chat_with_chatbot(user_input, agent_info):\n",
    "\n",
    "    print(f'Chat history length: {len(agent_info[\"chat_history\"])}')\n",
    "\n",
    "    result = agent_info['agent_executor']({\n",
    "        \"input\": user_input,\n",
    "        \"chat_history\": agent_info['chat_history']\n",
    "        })\n",
    "    agent_info['chat_history'].append(result['chat_history'])\n",
    "    \n",
    "    return result\n",
    "\n",
    "conversation_id = 4.3\n",
    "answer_dict[conversation_id] = dict()\n",
    "input_id = 1\n",
    "\n",
    "query1 = \"What are my options for recycling coffee cups?\"\n",
    "query2 = \"I live in an apartment.\"\n",
    "query3 = \"Thank you so much!\"\n",
    "conversation_dict[conversation_id] = create_chatbot(tools_list_dict[2])\n",
    "answer_dict[conversation_id] = chat_with_chatbot(query1, conversation_dict[conversation_id])\n",
    "answer_dict[conversation_id] = chat_with_chatbot(query2, conversation_dict[conversation_id])\n",
    "answer_dict[conversation_id] = chat_with_chatbot(query3, conversation_dict[conversation_id])\n",
    "for message in conversation_dict[conversation_id]['chat_history'][-1]:\n",
    "    print(message)"
   ]
  },
  {
   "cell_type": "code",
   "execution_count": null,
   "metadata": {},
   "outputs": [],
   "source": []
  },
  {
   "attachments": {},
   "cell_type": "markdown",
   "metadata": {},
   "source": [
    "# *End of Page*"
   ]
  }
 ],
 "metadata": {
  "kernelspec": {
   "display_name": "Python 3.9.13 64-bit",
   "language": "python",
   "name": "python3"
  },
  "language_info": {
   "codemirror_mode": {
    "name": "ipython",
    "version": 3
   },
   "file_extension": ".py",
   "mimetype": "text/x-python",
   "name": "python",
   "nbconvert_exporter": "python",
   "pygments_lexer": "ipython3",
   "version": "3.11.5"
  },
  "orig_nbformat": 4,
  "vscode": {
   "interpreter": {
    "hash": "11938c6bc6919ae2720b4d5011047913343b08a43b18698fd82dedb0d4417594"
   }
  }
 },
 "nbformat": 4,
 "nbformat_minor": 2
}
